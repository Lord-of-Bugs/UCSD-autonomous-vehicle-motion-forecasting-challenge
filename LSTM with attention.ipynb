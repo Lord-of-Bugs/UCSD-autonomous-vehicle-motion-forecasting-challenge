{
 "cells": [
  {
   "cell_type": "markdown",
   "id": "b703767b",
   "metadata": {},
   "source": [
    "## Install the package dependencies before running this notebook"
   ]
  },
  {
   "cell_type": "code",
   "execution_count": 1,
   "id": "530fb747",
   "metadata": {},
   "outputs": [
    {
     "data": {
      "text/plain": [
       "'\\n    number of trajectories in each city\\n    # austin --  train: 43041 test: 6325 \\n    # miami -- train: 55029 test:7971\\n    # pittsburgh -- train: 43544 test: 6361\\n    # dearborn -- train: 24465 test: 3671\\n    # washington-dc -- train: 25744 test: 3829\\n    # palo-alto -- train:  11993 test:1686\\n\\n    trajectories sampled at 10HZ rate, input 5 seconds, output 6 seconds\\n    \\n'"
      ]
     },
     "execution_count": 1,
     "metadata": {},
     "output_type": "execute_result"
    }
   ],
   "source": [
    "import torch\n",
    "from torch.utils.data import Dataset, DataLoader\n",
    "import os, os.path \n",
    "import numpy \n",
    "import pickle\n",
    "import pandas as pd\n",
    "from glob import glob\n",
    "import matplotlib.pyplot as plt\n",
    "import torch.nn.functional as F\n",
    "import torch.nn as nn\n",
    "import torch.optim as optim\n",
    "%matplotlib inline\n",
    "\n",
    "\n",
    "\"\"\"\n",
    "    number of trajectories in each city\n",
    "    # austin --  train: 43041 test: 6325 \n",
    "    # miami -- train: 55029 test:7971\n",
    "    # pittsburgh -- train: 43544 test: 6361\n",
    "    # dearborn -- train: 24465 test: 3671\n",
    "    # washington-dc -- train: 25744 test: 3829\n",
    "    # palo-alto -- train:  11993 test:1686\n",
    "\n",
    "    trajectories sampled at 10HZ rate, input 5 seconds, output 6 seconds\n",
    "    \n",
    "\"\"\""
   ]
  },
  {
   "cell_type": "markdown",
   "id": "e693331a",
   "metadata": {},
   "source": [
    "## Create a Torch.Dataset class for the training dataset"
   ]
  },
  {
   "cell_type": "code",
   "execution_count": 2,
   "id": "a5977e7e",
   "metadata": {},
   "outputs": [],
   "source": [
    "from glob import glob\n",
    "import pickle\n",
    "import numpy as np\n",
    "\n",
    "ROOT_PATH = \"./data/\"\n",
    "\n",
    "cities = [\"austin\", \"miami\", \"pittsburgh\", \"dearborn\", \"washington-dc\", \"palo-alto\"]\n",
    "splits = [\"train\", \"test\"]\n",
    "\n",
    "def get_city_trajectories(city=\"palo-alto\", split=\"train\", standardized=False):\n",
    "\n",
    "    \n",
    "    outputs = None\n",
    "    global_mean = 0\n",
    "    global_std = 0\n",
    "    \n",
    "    if split==\"train\":\n",
    "        f_in = ROOT_PATH + split + \"/\" + city + \"_inputs\"\n",
    "        inputs = pickle.load(open(f_in, \"rb\"))\n",
    "        n = len(inputs)\n",
    "        if standardized:\n",
    "            inputs = np.asarray(inputs)\n",
    "            global_mean = np.mean(inputs, axis = (0,1), keepdims = True)\n",
    "            global_std = np.std(np.sqrt(inputs[:, :, 0]**2 + inputs[:, :, 0]**2))\n",
    "        inputs = np.asarray(inputs)[:int(n * 0.7)]\n",
    "        \n",
    "        f_out = ROOT_PATH + split + \"/\" + city + \"_outputs\"\n",
    "        outputs = pickle.load(open(f_out, \"rb\"))\n",
    "        outputs = np.asarray(outputs)[:int(n * 0.7)]\n",
    "        \n",
    "    elif split == 'val':\n",
    "        f_in = ROOT_PATH + 'train' + \"/\" + city + \"_inputs\"\n",
    "        inputs = pickle.load(open(f_in, \"rb\"))\n",
    "        n = len(inputs)\n",
    "        if standardized:\n",
    "            inputs = np.asarray(inputs)\n",
    "            global_mean = np.mean(inputs, axis = (0,1), keepdims = True)\n",
    "            global_std = np.std(np.sqrt(inputs[:, :, 0]**2 + inputs[:, :, 0]**2))\n",
    "        inputs = np.asarray(inputs)[int(n * 0.7):]\n",
    "        \n",
    "        f_out = ROOT_PATH + 'train' + \"/\" + city + \"_outputs\"\n",
    "        outputs = pickle.load(open(f_out, \"rb\"))\n",
    "        outputs = np.asarray(outputs)[int(n * 0.7):]\n",
    "    \n",
    "    else:\n",
    "        f_in = ROOT_PATH + split + \"/\" + city + \"_inputs\"\n",
    "        inputs = pickle.load(open(f_in, \"rb\"))\n",
    "        n = len(inputs)\n",
    "        if standardized:\n",
    "            inputs = np.asarray(inputs)\n",
    "            global_mean = np.mean(inputs, axis = (0,1), keepdims = True)\n",
    "            global_std = np.std(np.sqrt(inputs[:, :, 0]**2 + inputs[:, :, 0]**2))\n",
    "        else:\n",
    "            inputs = np.asarray(inputs)\n",
    "\n",
    "    if standardized:\n",
    "        standard_inputs = (inputs - global_mean)/global_std\n",
    "        standard_targets = (outputs - global_mean)/global_std\n",
    "        return standard_inputs, standard_targets\n",
    "    return inputs, outputs\n",
    "\n",
    "class ArgoverseDataset(Dataset):\n",
    "    \"\"\"Dataset class for Argoverse\"\"\"\n",
    "    def __init__(self, city: str, split:str, standardized:bool, transform=None):\n",
    "        super(ArgoverseDataset, self).__init__()\n",
    "        self.transform = transform\n",
    "        self.standardized = standardized\n",
    "\n",
    "        self.inputs, self.outputs = get_city_trajectories(city=city, split=split, standardized=self.standardized)\n",
    "\n",
    "    def __len__(self):\n",
    "        return len(self.inputs)\n",
    "\n",
    "    def __getitem__(self, idx):\n",
    "\n",
    "        data = (self.inputs[idx], self.outputs[idx])\n",
    "            \n",
    "        if self.transform:\n",
    "            data = self.transform(data)\n",
    "\n",
    "        return data"
   ]
  },
  {
   "cell_type": "code",
   "execution_count": 3,
   "id": "3b14fb85-ac97-4bec-a307-6255b705825c",
   "metadata": {},
   "outputs": [],
   "source": [
    "# intialize a dataset\n",
    "def get_data_loader(city = 'austin', batch_size = 20, standardized=False):\n",
    "    train_dataset  = ArgoverseDataset(city = city, split = 'train', standardized=standardized)\n",
    "    val_dataset = ArgoverseDataset(city = city, split = 'val', standardized=standardized)\n",
    "\n",
    "    train_loader = DataLoader(train_dataset,batch_size=batch_size)\n",
    "    val_loader = DataLoader(val_dataset,batch_size=batch_size)\n",
    "    return train_dataset, val_dataset, train_loader, val_loader"
   ]
  },
  {
   "cell_type": "code",
   "execution_count": 4,
   "id": "b43d7b9d-c7f5-4ee3-ac7a-762c2e486113",
   "metadata": {},
   "outputs": [],
   "source": [
    "train_dataset, val_dataset, train_loader, val_loader = get_data_loader(city = 'austin', batch_size = 50, standardized=True)"
   ]
  },
  {
   "cell_type": "code",
   "execution_count": 5,
   "id": "f01aed22",
   "metadata": {},
   "outputs": [
    {
     "data": {
      "text/plain": [
       "12913"
      ]
     },
     "execution_count": 5,
     "metadata": {},
     "output_type": "execute_result"
    }
   ],
   "source": [
    "len(val_dataset)"
   ]
  },
  {
   "cell_type": "code",
   "execution_count": 6,
   "id": "075abd9d-1282-4d60-8918-d8bf80ce0b6b",
   "metadata": {},
   "outputs": [
    {
     "data": {
      "text/plain": [
       "30128"
      ]
     },
     "execution_count": 6,
     "metadata": {},
     "output_type": "execute_result"
    }
   ],
   "source": [
    "len(train_dataset)"
   ]
  },
  {
   "cell_type": "markdown",
   "id": "ac92ceab",
   "metadata": {},
   "source": [
    "## Create a DataLoader class for training"
   ]
  },
  {
   "cell_type": "code",
   "execution_count": 7,
   "id": "d40e8dbf",
   "metadata": {},
   "outputs": [],
   "source": [
    "class Encoder(nn.Module):\n",
    "    def __init__(self, input_dim, hidden_dim, num_layers, dropout_rate):\n",
    "        \n",
    "        super(Encoder, self).__init__()\n",
    "\n",
    "        self.lstm = nn.LSTM(input_size = input_dim, \n",
    "                            hidden_size = hidden_dim, \n",
    "                            num_layers= num_layers, \n",
    "                            dropout = dropout_rate,\n",
    "                            batch_first = True)\n",
    "#         self.lstm = nn.Sequential(OrderedDict([\n",
    "#             ('LSTM1', nn.LSTM(input_size = input_dim, hidden_size = hidden_dim, num_layers = 1, batch_first=True)),\n",
    "#             ('LSTM2', nn.LSTM(input_size = input_dim, hidden_size = hidden_dim, num_layers = 1, batch_first=True))]))\n",
    "        \n",
    "        \n",
    "    def forward(self, source):\n",
    "        \n",
    "        # hidden = (h, c)\n",
    "        # h, c: num_layers x bz x  hid_dim\n",
    "        # outputs: bz x input_length x hid_dim\n",
    "        outputs, hidden = self.lstm(source)\n",
    "        \n",
    "        return outputs, hidden\n",
    "    \n",
    "class AttnDecoder(nn.Module):\n",
    "    def __init__(self, output_dim, hidden_dim, num_layers, dropout_rate):\n",
    "\n",
    "        super(AttnDecoder, self).__init__()\n",
    "\n",
    "        # Learn the attention scores\n",
    "        self.attn = nn.Linear(hidden_dim + output_dim, 50)\n",
    "        \n",
    "        # Learn the final input to the decoder \n",
    "        self.attn_combine = nn.Linear(hidden_dim + output_dim, hidden_dim)\n",
    "        \n",
    "        # Decoder LSTM\n",
    "        self.lstm = nn.LSTM(input_size = hidden_dim, \n",
    "                            hidden_size = hidden_dim, \n",
    "                            num_layers= num_layers, \n",
    "                            dropout = dropout_rate, \n",
    "                            batch_first = True)\n",
    "        \n",
    "        self.output_layer = nn.Linear(hidden_dim, output_dim)\n",
    "      \n",
    "    def forward(self, x, hidden, encoder_outputs):\n",
    "        \n",
    "        h = hidden[0]\n",
    "        h = h.transpose(0,1).reshape(h.shape[1], -1)\n",
    "        \n",
    "        # Compute Attention Scores\n",
    "        attn_weights = F.softmax(self.attn(torch.cat([x, h], 1)), dim =1)\n",
    "        \n",
    "        # Calculate weighted sum of encoder hidden states     \n",
    "        attn_applied = torch.einsum(\"bl,blh->bh\", attn_weights, encoder_outputs)\n",
    "        \n",
    "        x = torch.cat((x, attn_applied), dim = 1)\n",
    "        x = self.attn_combine(x).unsqueeze(1)\n",
    "        x = F.relu(x)\n",
    "        \n",
    "        output, decoder_hidden= self.lstm(x, hidden)  \n",
    "        prediction = self.output_layer(output.float())\n",
    "        \n",
    "        return prediction.squeeze(1), decoder_hidden\n",
    "    \n",
    "class Seq2Seq(nn.Module):\n",
    "    def __init__(self, input_dim = 2, output_dim = 2, hidden_dim = 128, num_layers = 1, dropout_rate = 0, cuda = True):\n",
    "        \n",
    "        super(Seq2Seq, self).__init__()\n",
    "        self.encoder = Encoder(input_dim, hidden_dim, num_layers, dropout_rate)\n",
    "        self.decoder = AttnDecoder(output_dim, hidden_dim, num_layers, dropout_rate)\n",
    "        self.gpu = cuda\n",
    "\n",
    "    def forward(self, source, target_length):\n",
    "        if self.gpu:\n",
    "            device = torch.device(\"cuda\" if torch.cuda.is_available() else \"cpu\")\n",
    "            self.to(device)\n",
    "        \n",
    "        batch_size = source.size(0) \n",
    "        input_length = source.size(1) \n",
    "        \n",
    "        encoder_outputs, concat_hidden = self.encoder(source.cuda())\n",
    "        \n",
    "        # the last encoder hidden state is used as initial hidden state of the decoder\n",
    "        decoder_hidden = concat_hidden\n",
    "        # the first input to the decoder is last input position\n",
    "        decoder_output = source[:,-1]\n",
    "    \n",
    "        \n",
    "        outputs = torch.zeros(batch_size, target_length, 2)\n",
    "        for t in range(target_length):    \n",
    "            decoder_output, decoder_hidden = self.decoder(decoder_output, decoder_hidden, encoder_outputs)\n",
    "            outputs[:,t] = decoder_output   \n",
    "        return outputs"
   ]
  },
  {
   "cell_type": "code",
   "execution_count": 8,
   "id": "3b6c7dda",
   "metadata": {},
   "outputs": [],
   "source": [
    "# model, optimizer, loss\n",
    "model_encdoc = Seq2Seq()\n",
    "opt = optim.Adam(model_encdoc.parameters(), lr=1e-3)\n",
    "loss_func = nn.MSELoss()"
   ]
  },
  {
   "cell_type": "code",
   "execution_count": 9,
   "id": "7bf9f9ee-95a2-48c4-93a0-8de88b81949c",
   "metadata": {},
   "outputs": [],
   "source": [
    "def train_epochs(model, train_loader, loss_func, opt, cuda, epochs = 10):\n",
    "\n",
    "    if cuda:\n",
    "        model.cuda()\n",
    "\n",
    "    train_losses = []\n",
    "    for epoch in range(epochs):\n",
    "\n",
    "        total_loss = 0\n",
    "        for i_batch, sample_batch in enumerate(train_loader):\n",
    "            inp, out = sample_batch\n",
    "            if cuda:\n",
    "                inp, out = inp.cuda(), out.cuda()\n",
    "            out = out.float()\n",
    "            preds = model(inp.float(), target_length=60)\n",
    "            if cuda:\n",
    "                preds.cuda()\n",
    "            #loss = loss_func(preds, out) # MSE\n",
    "            loss = torch.sqrt(loss_func(preds.cuda(), out.cuda())) # RMSE\n",
    "\n",
    "            opt.zero_grad()\n",
    "            loss.backward()\n",
    "            opt.step()\n",
    "\n",
    "            total_loss += loss.item()\n",
    "\n",
    "        print('epoch {} trian loss: {}'.format(epoch, total_loss / len(train_dataset)))\n",
    "        train_losses.append(total_loss / len(train_dataset))\n",
    "    return train_losses"
   ]
  },
  {
   "cell_type": "code",
   "execution_count": 10,
   "id": "48fe1276",
   "metadata": {},
   "outputs": [],
   "source": [
    "def val_loss(model, val_loader, loss_func, opt, cuda=False):\n",
    "    val_loss = 0\n",
    "    if cuda:\n",
    "        model.cuda()\n",
    "    for i_batch, sample_batch in enumerate(val_loader):\n",
    "        inp, out = sample_batch\n",
    "        if cuda:\n",
    "            inp, out = inp.cuda(), out.cuda()\n",
    "        out = out.float()\n",
    "        preds = model(inp.float(), target_length=60)\n",
    "        #loss = loss_func(preds, out) # MSE\n",
    "        loss = torch.sqrt(loss_func(preds.cuda(), out.cuda())) # RMSE\n",
    "\n",
    "        val_loss += loss.item()\n",
    "    print('val loss: {}'.format(val_loss / len(val_dataset)))"
   ]
  },
  {
   "cell_type": "code",
   "execution_count": 11,
   "id": "dcebc7ad-3284-4d38-85e6-104c655fe42b",
   "metadata": {},
   "outputs": [],
   "source": [
    "def train_city(city, batch_size, standardized, epochs, cuda=False):\n",
    "    # data loader\n",
    "    train_dataset, val_dataset, train_loader, val_loader = get_data_loader(city = city, batch_size = batch_size, standardized=standardized)\n",
    "    \n",
    "    # model, optimizer, loss\n",
    "    model_encdoc = Seq2Seq(hidden_dim=500)\n",
    "    opt = optim.Adam(model_encdoc.parameters(), lr=1e-3)\n",
    "    loss_func = nn.MSELoss()\n",
    "    \n",
    "    # train\n",
    "    train_losses = train_epochs(model_encdoc, train_loader, loss_func, opt, epochs = epochs, cuda = cuda)\n",
    "    \n",
    "    # evaluate\n",
    "    # val_loss(model_encdoc, val_loader, loss_func, opt)\n",
    "    return model_encdoc, train_losses"
   ]
  },
  {
   "cell_type": "code",
   "execution_count": 12,
   "id": "f4220c59-f939-499f-881b-87d4847a2838",
   "metadata": {},
   "outputs": [
    {
     "name": "stdout",
     "output_type": "stream",
     "text": [
      "epoch 0 trian loss: 0.0011371042740403166\n",
      "epoch 1 trian loss: 0.0005258906136088339\n",
      "epoch 2 trian loss: 0.0004227658676167043\n",
      "epoch 3 trian loss: 0.00037743640558836675\n",
      "epoch 4 trian loss: 0.0003776994759001261\n",
      "epoch 5 trian loss: 0.0003522649211465296\n",
      "epoch 6 trian loss: 0.00034795131547815715\n",
      "epoch 7 trian loss: 0.00034256908395666425\n",
      "epoch 8 trian loss: 0.00032994186806636433\n",
      "epoch 9 trian loss: 0.0003213340728331023\n",
      "epoch 10 trian loss: 0.00031632523813947196\n",
      "epoch 11 trian loss: 0.00031009440040621417\n",
      "epoch 12 trian loss: 0.00030547305095824105\n",
      "epoch 13 trian loss: 0.0003016412353234101\n",
      "epoch 14 trian loss: 0.0002991665289843622\n",
      "epoch 15 trian loss: 0.0002974701389797483\n",
      "epoch 16 trian loss: 0.0003862808819808782\n",
      "epoch 17 trian loss: 0.0003054683415164288\n",
      "epoch 18 trian loss: 0.0002975924785307792\n",
      "epoch 19 trian loss: 0.0002943068022868906\n",
      "epoch 20 trian loss: 0.0002922858557932423\n",
      "epoch 21 trian loss: 0.0002905012154630205\n",
      "epoch 22 trian loss: 0.0002881120448025459\n",
      "epoch 23 trian loss: 0.00028631837996646794\n",
      "epoch 24 trian loss: 0.0002850745058696632\n",
      "epoch 25 trian loss: 0.00028441166426082336\n",
      "epoch 26 trian loss: 0.000553848894083733\n",
      "epoch 27 trian loss: 0.00031668267605269347\n",
      "epoch 28 trian loss: 0.0002951254119858664\n",
      "epoch 29 trian loss: 0.0002874774470778436\n",
      "epoch 30 trian loss: 0.00028618165474598686\n",
      "epoch 31 trian loss: 0.0002855723869674743\n",
      "epoch 32 trian loss: 0.0002831733666001302\n",
      "epoch 33 trian loss: 0.00028163341999343786\n",
      "epoch 34 trian loss: 0.00028189943036394897\n",
      "epoch 35 trian loss: 0.0002808017794755537\n",
      "epoch 36 trian loss: 0.00027929968472651295\n",
      "epoch 37 trian loss: 0.00027822765027851943\n",
      "epoch 38 trian loss: 0.0002775982872865386\n",
      "epoch 39 trian loss: 0.0002765043338674674\n"
     ]
    }
   ],
   "source": [
    "model_austin, train_losses = train_city('austin', batch_size = 50, standardized = True, epochs = 40, cuda=True)"
   ]
  },
  {
   "cell_type": "code",
   "execution_count": 13,
   "id": "d4763521-3177-4a75-b53b-290d52866670",
   "metadata": {},
   "outputs": [
    {
     "data": {
      "text/plain": [
       "Text(0, 0.5, 'RMSE')"
      ]
     },
     "execution_count": 13,
     "metadata": {},
     "output_type": "execute_result"
    },
    {
     "data": {
      "image/png": "[encoded data removed]",
      "text/plain": [
       "<Figure size 432x288 with 1 Axes>"
      ]
     },
     "metadata": {
      "needs_background": "light"
     },
     "output_type": "display_data"
    }
   ],
   "source": [
    "plt.plot(train_losses)\n",
    "plt.xlabel('Training Step')\n",
    "plt.ylabel('RMSE')"
   ]
  },
  {
   "cell_type": "code",
   "execution_count": 14,
   "id": "17b973ca-c5ee-47e5-bbbb-ac361a3c63ee",
   "metadata": {},
   "outputs": [
    {
     "name": "stdout",
     "output_type": "stream",
     "text": [
      "val loss: 0.0002650262327505738\n"
     ]
    }
   ],
   "source": [
    "val_loss(model_austin, val_loader, loss_func, opt, cuda=True)"
   ]
  },
  {
   "cell_type": "code",
   "execution_count": 15,
   "id": "6ff6b57a-9089-4614-a20a-930462febdf2",
   "metadata": {},
   "outputs": [
    {
     "name": "stdout",
     "output_type": "stream",
     "text": [
      "epoch 0 trian loss: 0.0009566348197101355\n",
      "epoch 1 trian loss: 0.000417605040139166\n",
      "epoch 2 trian loss: 0.0003397930534969495\n",
      "epoch 3 trian loss: 0.0003090965460733161\n",
      "epoch 4 trian loss: 0.0002820392321205173\n",
      "epoch 5 trian loss: 0.0002601571511448793\n",
      "epoch 6 trian loss: 0.00023666282731382374\n",
      "epoch 7 trian loss: 0.0002336256780136877\n",
      "epoch 8 trian loss: 0.00021257734674128465\n",
      "epoch 9 trian loss: 0.00020246497226868615\n",
      "epoch 10 trian loss: 0.0002043761328695885\n",
      "epoch 11 trian loss: 0.00018615310685115603\n",
      "epoch 12 trian loss: 0.00017917149230235404\n",
      "epoch 13 trian loss: 0.0001708934648284927\n",
      "epoch 14 trian loss: 0.00016592170733293747\n",
      "epoch 15 trian loss: 0.00016066754087264168\n",
      "epoch 16 trian loss: 0.0001590360570081351\n",
      "epoch 17 trian loss: 0.00014968007636717478\n",
      "epoch 18 trian loss: 0.0001435809113258749\n",
      "epoch 19 trian loss: 0.00014934868074846475\n",
      "epoch 20 trian loss: 0.0001433797699467423\n",
      "epoch 21 trian loss: 0.00013808587822620224\n",
      "epoch 22 trian loss: 0.00012374585009695873\n",
      "epoch 23 trian loss: 0.00011768328823842627\n",
      "epoch 24 trian loss: 0.0001858306268500995\n",
      "epoch 25 trian loss: 0.0001220826491005882\n",
      "epoch 26 trian loss: 0.00010924298405792936\n",
      "epoch 27 trian loss: 0.00011038411943072802\n",
      "epoch 28 trian loss: 0.00010520876603511637\n",
      "epoch 29 trian loss: 0.00010274802166753436\n",
      "epoch 30 trian loss: 0.0001018970343976742\n",
      "epoch 31 trian loss: 9.688003918627625e-05\n",
      "epoch 32 trian loss: 8.520582309285792e-05\n",
      "epoch 33 trian loss: 7.157203912795203e-05\n",
      "epoch 34 trian loss: 5.754152583835629e-05\n",
      "epoch 35 trian loss: 5.65666779327373e-05\n",
      "epoch 36 trian loss: 7.07263315757833e-05\n",
      "epoch 37 trian loss: 5.52943627049504e-05\n",
      "epoch 38 trian loss: 5.4450560383341885e-05\n",
      "epoch 39 trian loss: 5.481931125144615e-05\n"
     ]
    }
   ],
   "source": [
    "model_miami, train_losses = train_city('miami', batch_size = 50, epochs = 40, standardized=True, cuda=True)"
   ]
  },
  {
   "cell_type": "code",
   "execution_count": 16,
   "id": "f4abbaf8",
   "metadata": {},
   "outputs": [],
   "source": [
    "train_dataset, val_dataset, train_loader, val_loader = get_data_loader(city = 'miami', batch_size = 50, standardized=True)"
   ]
  },
  {
   "cell_type": "code",
   "execution_count": 17,
   "id": "cb78075a",
   "metadata": {},
   "outputs": [
    {
     "name": "stdout",
     "output_type": "stream",
     "text": [
      "val loss: 4.4566999905493304e-05\n"
     ]
    }
   ],
   "source": [
    "val_loss(model_miami, val_loader, loss_func, opt, cuda=True)"
   ]
  },
  {
   "cell_type": "code",
   "execution_count": 18,
   "id": "efe0c8aa-5599-4aaa-8458-1afae20f0a7a",
   "metadata": {},
   "outputs": [
    {
     "name": "stdout",
     "output_type": "stream",
     "text": [
      "epoch 0 trian loss: 0.0006072052085708328\n",
      "epoch 1 trian loss: 0.0002860939664029258\n",
      "epoch 2 trian loss: 0.00023058048681078453\n",
      "epoch 3 trian loss: 0.00020284697008227323\n",
      "epoch 4 trian loss: 0.00019026605621742343\n",
      "epoch 5 trian loss: 0.00018135533801803166\n",
      "epoch 6 trian loss: 0.00017929468875719953\n",
      "epoch 7 trian loss: 0.00017049597881624122\n",
      "epoch 8 trian loss: 0.0001633501121327513\n",
      "epoch 9 trian loss: 0.00016074961511687078\n",
      "epoch 10 trian loss: 0.00015977836323530643\n",
      "epoch 11 trian loss: 0.0001545041195225253\n",
      "epoch 12 trian loss: 0.0001516230286873668\n",
      "epoch 13 trian loss: 0.00015198683701281513\n",
      "epoch 14 trian loss: 0.00014757660538178646\n",
      "epoch 15 trian loss: 0.00014675265964582903\n",
      "epoch 16 trian loss: 0.00014556000970965513\n",
      "epoch 17 trian loss: 0.0001439745466129106\n",
      "epoch 18 trian loss: 0.00014254314928177284\n",
      "epoch 19 trian loss: 0.00014148805125327327\n",
      "epoch 20 trian loss: 0.0001403372907534296\n",
      "epoch 21 trian loss: 0.00013952998299130383\n",
      "epoch 22 trian loss: 0.00013870599290147144\n",
      "epoch 23 trian loss: 0.00013798289720272705\n",
      "epoch 24 trian loss: 0.00013922680590518384\n",
      "epoch 25 trian loss: 0.00013656034690414016\n",
      "epoch 26 trian loss: 0.0001396259520109066\n",
      "epoch 27 trian loss: 0.00013543451022354815\n",
      "epoch 28 trian loss: 0.00013502094728305456\n",
      "epoch 29 trian loss: 0.00013487632130103442\n",
      "epoch 30 trian loss: 0.00013456634358964233\n",
      "epoch 31 trian loss: 0.00013439621814301283\n",
      "epoch 32 trian loss: 0.00013422063507839867\n",
      "epoch 33 trian loss: 0.00013375661889795186\n",
      "epoch 34 trian loss: 0.0001333667516615532\n",
      "epoch 35 trian loss: 0.0001329145854003418\n",
      "epoch 36 trian loss: 0.00013248091882727228\n",
      "epoch 37 trian loss: 0.00013173276198029843\n",
      "epoch 38 trian loss: 0.00013065029082912663\n",
      "epoch 39 trian loss: 0.00013052035267692086\n"
     ]
    }
   ],
   "source": [
    "model_pittsburgh, train_losses = train_city('pittsburgh', batch_size = 50, epochs = 40, standardized=True, cuda=True)"
   ]
  },
  {
   "cell_type": "code",
   "execution_count": 19,
   "id": "b692f1ac",
   "metadata": {},
   "outputs": [
    {
     "name": "stdout",
     "output_type": "stream",
     "text": [
      "val loss: 0.00017357968541480422\n"
     ]
    }
   ],
   "source": [
    "train_dataset, val_dataset, train_loader, val_loader = get_data_loader(city = 'pittsburgh', batch_size = 50, standardized=True)\n",
    "val_loss(model_pittsburgh, val_loader, loss_func, opt, cuda=True)"
   ]
  },
  {
   "cell_type": "code",
   "execution_count": 20,
   "id": "ec3827fe-5a0a-4d7d-a6a9-9308c87fcd24",
   "metadata": {},
   "outputs": [
    {
     "name": "stdout",
     "output_type": "stream",
     "text": [
      "epoch 0 trian loss: 0.0006806269621114757\n",
      "epoch 1 trian loss: 0.00018470314697404037\n",
      "epoch 2 trian loss: 0.00014137982983897463\n",
      "epoch 3 trian loss: 0.0001424878605750201\n",
      "epoch 4 trian loss: 0.0001270695739967157\n",
      "epoch 5 trian loss: 0.00011375711780417896\n",
      "epoch 6 trian loss: 0.00012205217344982163\n",
      "epoch 7 trian loss: 0.00010049619334273216\n",
      "epoch 8 trian loss: 0.00010311482289348903\n",
      "epoch 9 trian loss: 9.923219889172614e-05\n",
      "epoch 10 trian loss: 9.026309390359233e-05\n",
      "epoch 11 trian loss: 9.309850762087334e-05\n",
      "epoch 12 trian loss: 8.775378345802739e-05\n",
      "epoch 13 trian loss: 8.298970673054828e-05\n",
      "epoch 14 trian loss: 8.606463155875428e-05\n",
      "epoch 15 trian loss: 7.915935659991318e-05\n",
      "epoch 16 trian loss: 8.379063271707183e-05\n",
      "epoch 17 trian loss: 7.814596091785769e-05\n",
      "epoch 18 trian loss: 8.043473425414168e-05\n",
      "epoch 19 trian loss: 7.45579167978051e-05\n",
      "epoch 20 trian loss: 7.628359209460125e-05\n",
      "epoch 21 trian loss: 7.65871629668913e-05\n",
      "epoch 22 trian loss: 7.395459396466417e-05\n",
      "epoch 23 trian loss: 7.53621343740817e-05\n",
      "epoch 24 trian loss: 7.16209995072687e-05\n",
      "epoch 25 trian loss: 6.87760197963282e-05\n",
      "epoch 26 trian loss: 6.886356091004578e-05\n",
      "epoch 27 trian loss: 7.248561119836733e-05\n",
      "epoch 28 trian loss: 6.679482505964776e-05\n",
      "epoch 29 trian loss: 6.762376731002503e-05\n",
      "epoch 30 trian loss: 6.764502801719731e-05\n",
      "epoch 31 trian loss: 6.954874721138183e-05\n",
      "epoch 32 trian loss: 6.496287580442632e-05\n",
      "epoch 33 trian loss: 6.6167965095632e-05\n",
      "epoch 34 trian loss: 6.512708954630405e-05\n",
      "epoch 35 trian loss: 6.465473272801033e-05\n",
      "epoch 36 trian loss: 6.399862824210755e-05\n",
      "epoch 37 trian loss: 6.37019733718677e-05\n",
      "epoch 38 trian loss: 6.288419198978135e-05\n",
      "epoch 39 trian loss: 6.349649415669224e-05\n"
     ]
    }
   ],
   "source": [
    "model_dearborn, train_losses = train_city('dearborn', batch_size = 50, epochs = 40, standardized=True, cuda=True)"
   ]
  },
  {
   "cell_type": "code",
   "execution_count": 21,
   "id": "4a8b83ff",
   "metadata": {},
   "outputs": [
    {
     "name": "stdout",
     "output_type": "stream",
     "text": [
      "val loss: 0.00010181897749987302\n"
     ]
    }
   ],
   "source": [
    "train_dataset, val_dataset, train_loader, val_loader = get_data_loader(city = 'dearborn', batch_size = 50, standardized=True)\n",
    "val_loss(model_dearborn, val_loader, loss_func, opt, cuda=True)"
   ]
  },
  {
   "cell_type": "code",
   "execution_count": 22,
   "id": "22d80510-d4e0-407a-9bd1-d19b3280df9c",
   "metadata": {},
   "outputs": [
    {
     "name": "stdout",
     "output_type": "stream",
     "text": [
      "epoch 0 trian loss: 0.0012942364559556446\n",
      "epoch 1 trian loss: 0.0004325529447328435\n",
      "epoch 2 trian loss: 0.00035802489366844624\n",
      "epoch 3 trian loss: 0.00032617079210977483\n",
      "epoch 4 trian loss: 0.00029146402524988146\n",
      "epoch 5 trian loss: 0.0002751441581623398\n",
      "epoch 6 trian loss: 0.0002667858763767855\n",
      "epoch 7 trian loss: 0.0002574098400064628\n",
      "epoch 8 trian loss: 0.00025218938840349225\n",
      "epoch 9 trian loss: 0.00024311961935166894\n",
      "epoch 10 trian loss: 0.00024364330075735593\n",
      "epoch 11 trian loss: 0.00024203794319046674\n",
      "epoch 12 trian loss: 0.00023825732072013138\n",
      "epoch 13 trian loss: 0.00024056319908721604\n",
      "epoch 14 trian loss: 0.000236691374250137\n",
      "epoch 15 trian loss: 0.00023136790379555555\n",
      "epoch 16 trian loss: 0.00022839038530840492\n",
      "epoch 17 trian loss: 0.0002282000734695118\n",
      "epoch 18 trian loss: 0.0002258814467239554\n",
      "epoch 19 trian loss: 0.00022257525106742434\n",
      "epoch 20 trian loss: 0.0002199232217984913\n",
      "epoch 21 trian loss: 0.00021815254131372827\n",
      "epoch 22 trian loss: 0.0002168218157369725\n",
      "epoch 23 trian loss: 0.00021534713632325185\n",
      "epoch 24 trian loss: 0.00021438001403517097\n",
      "epoch 25 trian loss: 0.00021363510354591983\n",
      "epoch 26 trian loss: 0.00021261273297297693\n",
      "epoch 27 trian loss: 0.000211016666035365\n",
      "epoch 28 trian loss: 0.00020978060381038346\n",
      "epoch 29 trian loss: 0.0002210862516921802\n",
      "epoch 30 trian loss: 0.00020804064965596164\n",
      "epoch 31 trian loss: 0.0002077062687952153\n",
      "epoch 32 trian loss: 0.00020723717659711837\n",
      "epoch 33 trian loss: 0.0002064151360660139\n",
      "epoch 34 trian loss: 0.00020570459189641214\n",
      "epoch 35 trian loss: 0.00020505804497830189\n",
      "epoch 36 trian loss: 0.00020453457053016573\n",
      "epoch 37 trian loss: 0.0002039332242723364\n",
      "epoch 38 trian loss: 0.00020317389130809882\n",
      "epoch 39 trian loss: 0.00020244278881127818\n"
     ]
    }
   ],
   "source": [
    "model_washington_dc, train_losses = train_city('washington-dc', batch_size = 50, epochs = 40, standardized=True, cuda=True)"
   ]
  },
  {
   "cell_type": "code",
   "execution_count": 23,
   "id": "40af5c46",
   "metadata": {},
   "outputs": [
    {
     "name": "stdout",
     "output_type": "stream",
     "text": [
      "val loss: 0.00024978608661777366\n"
     ]
    }
   ],
   "source": [
    "train_dataset, val_dataset, train_loader, val_loader = get_data_loader(city = 'washington-dc', batch_size = 50, standardized=True)\n",
    "val_loss(model_washington_dc, val_loader, loss_func, opt, cuda=True)"
   ]
  },
  {
   "cell_type": "code",
   "execution_count": 24,
   "id": "b9241cf9-e013-449a-8a5d-7bf79e60ed43",
   "metadata": {},
   "outputs": [
    {
     "name": "stdout",
     "output_type": "stream",
     "text": [
      "epoch 0 trian loss: 0.001348578028141063\n",
      "epoch 1 trian loss: 0.0005232707951858755\n",
      "epoch 2 trian loss: 0.0004649779369659747\n",
      "epoch 3 trian loss: 0.00039472600515439826\n",
      "epoch 4 trian loss: 0.00036243116813861704\n",
      "epoch 5 trian loss: 0.00032403662885548536\n",
      "epoch 6 trian loss: 0.00032460109395833974\n",
      "epoch 7 trian loss: 0.0002996893874581461\n",
      "epoch 8 trian loss: 0.0003067456742957416\n",
      "epoch 9 trian loss: 0.00030573669957466315\n",
      "epoch 10 trian loss: 0.0002951329867546752\n",
      "epoch 11 trian loss: 0.0002946966511717316\n",
      "epoch 12 trian loss: 0.000289457500472946\n",
      "epoch 13 trian loss: 0.0002808932081633945\n",
      "epoch 14 trian loss: 0.0002806339097663049\n",
      "epoch 15 trian loss: 0.00027095975052486776\n",
      "epoch 16 trian loss: 0.0002726101532545391\n",
      "epoch 17 trian loss: 0.0002687228280228132\n",
      "epoch 18 trian loss: 0.0002658880103821892\n",
      "epoch 19 trian loss: 0.00026347752036185693\n",
      "epoch 20 trian loss: 0.00026121636476371846\n",
      "epoch 21 trian loss: 0.0002594375002976263\n",
      "epoch 22 trian loss: 0.00025797990583850856\n",
      "epoch 23 trian loss: 0.00025656098597057653\n",
      "epoch 24 trian loss: 0.00025546380497523473\n",
      "epoch 25 trian loss: 0.00025409675522662954\n",
      "epoch 26 trian loss: 0.0002525774709318044\n",
      "epoch 27 trian loss: 0.00025132406961904646\n",
      "epoch 28 trian loss: 0.0002501957592958549\n",
      "epoch 29 trian loss: 0.0002484387236458149\n",
      "epoch 30 trian loss: 0.00024694835076668814\n",
      "epoch 31 trian loss: 0.00024559388979111736\n",
      "epoch 32 trian loss: 0.0002447293894561824\n",
      "epoch 33 trian loss: 0.00024451914994866813\n",
      "epoch 34 trian loss: 0.0002446282568173721\n",
      "epoch 35 trian loss: 0.00024397565510855796\n",
      "epoch 36 trian loss: 0.000242827082575856\n",
      "epoch 37 trian loss: 0.00024168098037369906\n",
      "epoch 38 trian loss: 0.00024084233834959163\n",
      "epoch 39 trian loss: 0.00023982015238882567\n"
     ]
    }
   ],
   "source": [
    "model_palo_alto, train_losses = train_city('palo-alto', batch_size = 50, epochs = 40, standardized=True, cuda=True)"
   ]
  },
  {
   "cell_type": "code",
   "execution_count": 25,
   "id": "cc084496",
   "metadata": {},
   "outputs": [
    {
     "name": "stdout",
     "output_type": "stream",
     "text": [
      "val loss: 0.0004910958274420332\n"
     ]
    }
   ],
   "source": [
    "train_dataset, val_dataset, train_loader, val_loader = get_data_loader(city = 'palo-alto', batch_size = 50, standardized=True)\n",
    "val_loss(model_palo_alto, val_loader, loss_func, opt, cuda=True)"
   ]
  },
  {
   "cell_type": "markdown",
   "id": "5562e425-6a2c-4489-af90-058619948e08",
   "metadata": {},
   "source": [
    "## Make Prediction"
   ]
  },
  {
   "cell_type": "code",
   "execution_count": 26,
   "id": "93ed9e61-c999-481e-b16e-0c9205e5d61f",
   "metadata": {},
   "outputs": [],
   "source": [
    "cities = [\"austin\", \"miami\", \"pittsburgh\", \"dearborn\", \"washington-dc\", \"palo-alto\"]\n",
    "models = [model_austin, model_miami, model_pittsburgh, model_dearborn, model_washington_dc, model_palo_alto]"
   ]
  },
  {
   "cell_type": "code",
   "execution_count": 27,
   "id": "148fa5fd-dd7b-47a2-b580-c3192d712c6f",
   "metadata": {},
   "outputs": [],
   "source": [
    "def predict_test(city, model):\n",
    "    test_dataset = get_city_trajectories(city = city, split = 'test', standardized=False)[0]\n",
    "    global_mean = np.mean(test_dataset, axis = (0,1), keepdims = True)\n",
    "    global_std = np.std(np.sqrt(test_dataset[:, :, 0]**2 + test_dataset[:, :, 0]**2))\n",
    "    test_dataset = (test_dataset - global_mean)/global_std\n",
    "    test_dataset = torch.from_numpy(test_dataset).float()\n",
    "    pred = model(test_dataset.cuda(), target_length=60)\n",
    "    pred = pred.detach().numpy()\n",
    "    pred = global_std * pred + global_mean\n",
    "    pred = pred.reshape(-1, 120)\n",
    "    return pd.DataFrame(pred)"
   ]
  },
  {
   "cell_type": "code",
   "execution_count": 28,
   "id": "d7eb81e3-2e8e-4ff3-b23e-f559134edfd4",
   "metadata": {},
   "outputs": [],
   "source": [
    "columns =['ID'] + ['v'+str(i) for i in range(120)]"
   ]
  },
  {
   "cell_type": "code",
   "execution_count": 29,
   "id": "945eb530-a029-4202-af4c-544c4cb7c980",
   "metadata": {},
   "outputs": [],
   "source": [
    "def predict_all(cities, models):\n",
    "    out = predict_test(cities[0], models[0]).reset_index()\n",
    "    out.columns = columns\n",
    "\n",
    "    out['ID'] = out['ID'].astype(str) + '_' + cities[0]\n",
    "    \n",
    "    for city, model in zip(cities[1:], models[1:]):\n",
    "        temp = predict_test(city, model).reset_index()\n",
    "        temp.columns = columns\n",
    "        temp['ID'] = temp['ID'].astype(str) + '_' + city\n",
    "        out = pd.concat([out, temp])\n",
    "    return out        "
   ]
  },
  {
   "cell_type": "code",
   "execution_count": 50,
   "id": "220d0018-7cd1-4f9d-9206-be16d1fcbcaa",
   "metadata": {},
   "outputs": [
    {
     "ename": "RuntimeError",
     "evalue": "CUDA out of memory. Tried to allocate 130.00 MiB (GPU 0; 10.92 GiB total capacity; 9.61 GiB already allocated; 51.38 MiB free; 10.02 GiB reserved in total by PyTorch)",
     "output_type": "error",
     "traceback": [
      "\u001b[0;31m---------------------------------------------------------------------------\u001b[0m",
      "\u001b[0;31mRuntimeError\u001b[0m                              Traceback (most recent call last)",
      "\u001b[0;32m/tmp/ipykernel_108/1149484636.py\u001b[0m in \u001b[0;36m<module>\u001b[0;34m\u001b[0m\n\u001b[0;32m----> 1\u001b[0;31m \u001b[0mtest_output\u001b[0m \u001b[0;34m=\u001b[0m \u001b[0mpredict_all\u001b[0m\u001b[0;34m(\u001b[0m\u001b[0mcities\u001b[0m\u001b[0;34m,\u001b[0m \u001b[0mmodels\u001b[0m\u001b[0;34m)\u001b[0m\u001b[0;34m\u001b[0m\u001b[0;34m\u001b[0m\u001b[0m\n\u001b[0m",
      "\u001b[0;32m/tmp/ipykernel_108/540238173.py\u001b[0m in \u001b[0;36mpredict_all\u001b[0;34m(cities, models)\u001b[0m\n\u001b[1;32m      1\u001b[0m \u001b[0;32mdef\u001b[0m \u001b[0mpredict_all\u001b[0m\u001b[0;34m(\u001b[0m\u001b[0mcities\u001b[0m\u001b[0;34m,\u001b[0m \u001b[0mmodels\u001b[0m\u001b[0;34m)\u001b[0m\u001b[0;34m:\u001b[0m\u001b[0;34m\u001b[0m\u001b[0;34m\u001b[0m\u001b[0m\n\u001b[0;32m----> 2\u001b[0;31m     \u001b[0mout\u001b[0m \u001b[0;34m=\u001b[0m \u001b[0mpredict_test\u001b[0m\u001b[0;34m(\u001b[0m\u001b[0mcities\u001b[0m\u001b[0;34m[\u001b[0m\u001b[0;36m0\u001b[0m\u001b[0;34m]\u001b[0m\u001b[0;34m,\u001b[0m \u001b[0mmodels\u001b[0m\u001b[0;34m[\u001b[0m\u001b[0;36m0\u001b[0m\u001b[0;34m]\u001b[0m\u001b[0;34m)\u001b[0m\u001b[0;34m.\u001b[0m\u001b[0mreset_index\u001b[0m\u001b[0;34m(\u001b[0m\u001b[0;34m)\u001b[0m\u001b[0;34m\u001b[0m\u001b[0;34m\u001b[0m\u001b[0m\n\u001b[0m\u001b[1;32m      3\u001b[0m     \u001b[0mout\u001b[0m\u001b[0;34m.\u001b[0m\u001b[0mcolumns\u001b[0m \u001b[0;34m=\u001b[0m \u001b[0mcolumns\u001b[0m\u001b[0;34m\u001b[0m\u001b[0;34m\u001b[0m\u001b[0m\n\u001b[1;32m      4\u001b[0m \u001b[0;34m\u001b[0m\u001b[0m\n\u001b[1;32m      5\u001b[0m     \u001b[0mout\u001b[0m\u001b[0;34m[\u001b[0m\u001b[0;34m'ID'\u001b[0m\u001b[0;34m]\u001b[0m \u001b[0;34m=\u001b[0m \u001b[0mout\u001b[0m\u001b[0;34m[\u001b[0m\u001b[0;34m'ID'\u001b[0m\u001b[0;34m]\u001b[0m\u001b[0;34m.\u001b[0m\u001b[0mastype\u001b[0m\u001b[0;34m(\u001b[0m\u001b[0mstr\u001b[0m\u001b[0;34m)\u001b[0m \u001b[0;34m+\u001b[0m \u001b[0;34m'_'\u001b[0m \u001b[0;34m+\u001b[0m \u001b[0mcities\u001b[0m\u001b[0;34m[\u001b[0m\u001b[0;36m0\u001b[0m\u001b[0;34m]\u001b[0m\u001b[0;34m\u001b[0m\u001b[0;34m\u001b[0m\u001b[0m\n",
      "\u001b[0;32m/tmp/ipykernel_108/616745009.py\u001b[0m in \u001b[0;36mpredict_test\u001b[0;34m(city, model)\u001b[0m\n\u001b[1;32m      5\u001b[0m     \u001b[0mtest_dataset\u001b[0m \u001b[0;34m=\u001b[0m \u001b[0;34m(\u001b[0m\u001b[0mtest_dataset\u001b[0m \u001b[0;34m-\u001b[0m \u001b[0mglobal_mean\u001b[0m\u001b[0;34m)\u001b[0m\u001b[0;34m/\u001b[0m\u001b[0mglobal_std\u001b[0m\u001b[0;34m\u001b[0m\u001b[0;34m\u001b[0m\u001b[0m\n\u001b[1;32m      6\u001b[0m     \u001b[0mtest_dataset\u001b[0m \u001b[0;34m=\u001b[0m \u001b[0mtorch\u001b[0m\u001b[0;34m.\u001b[0m\u001b[0mfrom_numpy\u001b[0m\u001b[0;34m(\u001b[0m\u001b[0mtest_dataset\u001b[0m\u001b[0;34m)\u001b[0m\u001b[0;34m.\u001b[0m\u001b[0mfloat\u001b[0m\u001b[0;34m(\u001b[0m\u001b[0;34m)\u001b[0m\u001b[0;34m\u001b[0m\u001b[0;34m\u001b[0m\u001b[0m\n\u001b[0;32m----> 7\u001b[0;31m     \u001b[0mpred\u001b[0m \u001b[0;34m=\u001b[0m \u001b[0mmodel\u001b[0m\u001b[0;34m(\u001b[0m\u001b[0mtest_dataset\u001b[0m\u001b[0;34m.\u001b[0m\u001b[0mcuda\u001b[0m\u001b[0;34m(\u001b[0m\u001b[0;34m)\u001b[0m\u001b[0;34m,\u001b[0m \u001b[0mtarget_length\u001b[0m\u001b[0;34m=\u001b[0m\u001b[0;36m60\u001b[0m\u001b[0;34m)\u001b[0m\u001b[0;34m\u001b[0m\u001b[0;34m\u001b[0m\u001b[0m\n\u001b[0m\u001b[1;32m      8\u001b[0m     \u001b[0mpred\u001b[0m \u001b[0;34m=\u001b[0m \u001b[0mpred\u001b[0m\u001b[0;34m.\u001b[0m\u001b[0mdetach\u001b[0m\u001b[0;34m(\u001b[0m\u001b[0;34m)\u001b[0m\u001b[0;34m.\u001b[0m\u001b[0mnumpy\u001b[0m\u001b[0;34m(\u001b[0m\u001b[0;34m)\u001b[0m\u001b[0;34m\u001b[0m\u001b[0;34m\u001b[0m\u001b[0m\n\u001b[1;32m      9\u001b[0m     \u001b[0mpred\u001b[0m \u001b[0;34m=\u001b[0m \u001b[0mglobal_std\u001b[0m \u001b[0;34m*\u001b[0m \u001b[0mpred\u001b[0m \u001b[0;34m+\u001b[0m \u001b[0mglobal_mean\u001b[0m\u001b[0;34m\u001b[0m\u001b[0;34m\u001b[0m\u001b[0m\n",
      "\u001b[0;32m/opt/conda/lib/python3.9/site-packages/torch/nn/modules/module.py\u001b[0m in \u001b[0;36m_call_impl\u001b[0;34m(self, *input, **kwargs)\u001b[0m\n\u001b[1;32m   1049\u001b[0m         if not (self._backward_hooks or self._forward_hooks or self._forward_pre_hooks or _global_backward_hooks\n\u001b[1;32m   1050\u001b[0m                 or _global_forward_hooks or _global_forward_pre_hooks):\n\u001b[0;32m-> 1051\u001b[0;31m             \u001b[0;32mreturn\u001b[0m \u001b[0mforward_call\u001b[0m\u001b[0;34m(\u001b[0m\u001b[0;34m*\u001b[0m\u001b[0minput\u001b[0m\u001b[0;34m,\u001b[0m \u001b[0;34m**\u001b[0m\u001b[0mkwargs\u001b[0m\u001b[0;34m)\u001b[0m\u001b[0;34m\u001b[0m\u001b[0;34m\u001b[0m\u001b[0m\n\u001b[0m\u001b[1;32m   1052\u001b[0m         \u001b[0;31m# Do not call functions when jit is used\u001b[0m\u001b[0;34m\u001b[0m\u001b[0;34m\u001b[0m\u001b[0;34m\u001b[0m\u001b[0m\n\u001b[1;32m   1053\u001b[0m         \u001b[0mfull_backward_hooks\u001b[0m\u001b[0;34m,\u001b[0m \u001b[0mnon_full_backward_hooks\u001b[0m \u001b[0;34m=\u001b[0m \u001b[0;34m[\u001b[0m\u001b[0;34m]\u001b[0m\u001b[0;34m,\u001b[0m \u001b[0;34m[\u001b[0m\u001b[0;34m]\u001b[0m\u001b[0;34m\u001b[0m\u001b[0;34m\u001b[0m\u001b[0m\n",
      "\u001b[0;32m/tmp/ipykernel_108/419350228.py\u001b[0m in \u001b[0;36mforward\u001b[0;34m(self, source, target_length)\u001b[0m\n\u001b[1;32m     89\u001b[0m         \u001b[0moutputs\u001b[0m \u001b[0;34m=\u001b[0m \u001b[0mtorch\u001b[0m\u001b[0;34m.\u001b[0m\u001b[0mzeros\u001b[0m\u001b[0;34m(\u001b[0m\u001b[0mbatch_size\u001b[0m\u001b[0;34m,\u001b[0m \u001b[0mtarget_length\u001b[0m\u001b[0;34m,\u001b[0m \u001b[0;36m2\u001b[0m\u001b[0;34m)\u001b[0m\u001b[0;34m\u001b[0m\u001b[0;34m\u001b[0m\u001b[0m\n\u001b[1;32m     90\u001b[0m         \u001b[0;32mfor\u001b[0m \u001b[0mt\u001b[0m \u001b[0;32min\u001b[0m \u001b[0mrange\u001b[0m\u001b[0;34m(\u001b[0m\u001b[0mtarget_length\u001b[0m\u001b[0;34m)\u001b[0m\u001b[0;34m:\u001b[0m\u001b[0;34m\u001b[0m\u001b[0;34m\u001b[0m\u001b[0m\n\u001b[0;32m---> 91\u001b[0;31m             \u001b[0mdecoder_output\u001b[0m\u001b[0;34m,\u001b[0m \u001b[0mdecoder_hidden\u001b[0m \u001b[0;34m=\u001b[0m \u001b[0mself\u001b[0m\u001b[0;34m.\u001b[0m\u001b[0mdecoder\u001b[0m\u001b[0;34m(\u001b[0m\u001b[0mdecoder_output\u001b[0m\u001b[0;34m,\u001b[0m \u001b[0mdecoder_hidden\u001b[0m\u001b[0;34m,\u001b[0m \u001b[0mencoder_outputs\u001b[0m\u001b[0;34m)\u001b[0m\u001b[0;34m\u001b[0m\u001b[0;34m\u001b[0m\u001b[0m\n\u001b[0m\u001b[1;32m     92\u001b[0m             \u001b[0moutputs\u001b[0m\u001b[0;34m[\u001b[0m\u001b[0;34m:\u001b[0m\u001b[0;34m,\u001b[0m\u001b[0mt\u001b[0m\u001b[0;34m]\u001b[0m \u001b[0;34m=\u001b[0m \u001b[0mdecoder_output\u001b[0m\u001b[0;34m\u001b[0m\u001b[0;34m\u001b[0m\u001b[0m\n\u001b[1;32m     93\u001b[0m         \u001b[0;32mreturn\u001b[0m \u001b[0moutputs\u001b[0m\u001b[0;34m\u001b[0m\u001b[0;34m\u001b[0m\u001b[0m\n",
      "\u001b[0;32m/opt/conda/lib/python3.9/site-packages/torch/nn/modules/module.py\u001b[0m in \u001b[0;36m_call_impl\u001b[0;34m(self, *input, **kwargs)\u001b[0m\n\u001b[1;32m   1049\u001b[0m         if not (self._backward_hooks or self._forward_hooks or self._forward_pre_hooks or _global_backward_hooks\n\u001b[1;32m   1050\u001b[0m                 or _global_forward_hooks or _global_forward_pre_hooks):\n\u001b[0;32m-> 1051\u001b[0;31m             \u001b[0;32mreturn\u001b[0m \u001b[0mforward_call\u001b[0m\u001b[0;34m(\u001b[0m\u001b[0;34m*\u001b[0m\u001b[0minput\u001b[0m\u001b[0;34m,\u001b[0m \u001b[0;34m**\u001b[0m\u001b[0mkwargs\u001b[0m\u001b[0;34m)\u001b[0m\u001b[0;34m\u001b[0m\u001b[0;34m\u001b[0m\u001b[0m\n\u001b[0m\u001b[1;32m   1052\u001b[0m         \u001b[0;31m# Do not call functions when jit is used\u001b[0m\u001b[0;34m\u001b[0m\u001b[0;34m\u001b[0m\u001b[0;34m\u001b[0m\u001b[0m\n\u001b[1;32m   1053\u001b[0m         \u001b[0mfull_backward_hooks\u001b[0m\u001b[0;34m,\u001b[0m \u001b[0mnon_full_backward_hooks\u001b[0m \u001b[0;34m=\u001b[0m \u001b[0;34m[\u001b[0m\u001b[0;34m]\u001b[0m\u001b[0;34m,\u001b[0m \u001b[0;34m[\u001b[0m\u001b[0;34m]\u001b[0m\u001b[0;34m\u001b[0m\u001b[0;34m\u001b[0m\u001b[0m\n",
      "\u001b[0;32m/tmp/ipykernel_108/419350228.py\u001b[0m in \u001b[0;36mforward\u001b[0;34m(self, x, hidden, encoder_outputs)\u001b[0m\n\u001b[1;32m     58\u001b[0m         \u001b[0mx\u001b[0m \u001b[0;34m=\u001b[0m \u001b[0mF\u001b[0m\u001b[0;34m.\u001b[0m\u001b[0mrelu\u001b[0m\u001b[0;34m(\u001b[0m\u001b[0mx\u001b[0m\u001b[0;34m)\u001b[0m\u001b[0;34m\u001b[0m\u001b[0;34m\u001b[0m\u001b[0m\n\u001b[1;32m     59\u001b[0m \u001b[0;34m\u001b[0m\u001b[0m\n\u001b[0;32m---> 60\u001b[0;31m         \u001b[0moutput\u001b[0m\u001b[0;34m,\u001b[0m \u001b[0mdecoder_hidden\u001b[0m\u001b[0;34m=\u001b[0m \u001b[0mself\u001b[0m\u001b[0;34m.\u001b[0m\u001b[0mlstm\u001b[0m\u001b[0;34m(\u001b[0m\u001b[0mx\u001b[0m\u001b[0;34m,\u001b[0m \u001b[0mhidden\u001b[0m\u001b[0;34m)\u001b[0m\u001b[0;34m\u001b[0m\u001b[0;34m\u001b[0m\u001b[0m\n\u001b[0m\u001b[1;32m     61\u001b[0m         \u001b[0mprediction\u001b[0m \u001b[0;34m=\u001b[0m \u001b[0mself\u001b[0m\u001b[0;34m.\u001b[0m\u001b[0moutput_layer\u001b[0m\u001b[0;34m(\u001b[0m\u001b[0moutput\u001b[0m\u001b[0;34m.\u001b[0m\u001b[0mfloat\u001b[0m\u001b[0;34m(\u001b[0m\u001b[0;34m)\u001b[0m\u001b[0;34m)\u001b[0m\u001b[0;34m\u001b[0m\u001b[0;34m\u001b[0m\u001b[0m\n\u001b[1;32m     62\u001b[0m \u001b[0;34m\u001b[0m\u001b[0m\n",
      "\u001b[0;32m/opt/conda/lib/python3.9/site-packages/torch/nn/modules/module.py\u001b[0m in \u001b[0;36m_call_impl\u001b[0;34m(self, *input, **kwargs)\u001b[0m\n\u001b[1;32m   1049\u001b[0m         if not (self._backward_hooks or self._forward_hooks or self._forward_pre_hooks or _global_backward_hooks\n\u001b[1;32m   1050\u001b[0m                 or _global_forward_hooks or _global_forward_pre_hooks):\n\u001b[0;32m-> 1051\u001b[0;31m             \u001b[0;32mreturn\u001b[0m \u001b[0mforward_call\u001b[0m\u001b[0;34m(\u001b[0m\u001b[0;34m*\u001b[0m\u001b[0minput\u001b[0m\u001b[0;34m,\u001b[0m \u001b[0;34m**\u001b[0m\u001b[0mkwargs\u001b[0m\u001b[0;34m)\u001b[0m\u001b[0;34m\u001b[0m\u001b[0;34m\u001b[0m\u001b[0m\n\u001b[0m\u001b[1;32m   1052\u001b[0m         \u001b[0;31m# Do not call functions when jit is used\u001b[0m\u001b[0;34m\u001b[0m\u001b[0;34m\u001b[0m\u001b[0;34m\u001b[0m\u001b[0m\n\u001b[1;32m   1053\u001b[0m         \u001b[0mfull_backward_hooks\u001b[0m\u001b[0;34m,\u001b[0m \u001b[0mnon_full_backward_hooks\u001b[0m \u001b[0;34m=\u001b[0m \u001b[0;34m[\u001b[0m\u001b[0;34m]\u001b[0m\u001b[0;34m,\u001b[0m \u001b[0;34m[\u001b[0m\u001b[0;34m]\u001b[0m\u001b[0;34m\u001b[0m\u001b[0;34m\u001b[0m\u001b[0m\n",
      "\u001b[0;32m/opt/conda/lib/python3.9/site-packages/torch/nn/modules/rnn.py\u001b[0m in \u001b[0;36mforward\u001b[0;34m(self, input, hx)\u001b[0m\n\u001b[1;32m    677\u001b[0m         \u001b[0mself\u001b[0m\u001b[0;34m.\u001b[0m\u001b[0mcheck_forward_args\u001b[0m\u001b[0;34m(\u001b[0m\u001b[0minput\u001b[0m\u001b[0;34m,\u001b[0m \u001b[0mhx\u001b[0m\u001b[0;34m,\u001b[0m \u001b[0mbatch_sizes\u001b[0m\u001b[0;34m)\u001b[0m\u001b[0;34m\u001b[0m\u001b[0;34m\u001b[0m\u001b[0m\n\u001b[1;32m    678\u001b[0m         \u001b[0;32mif\u001b[0m \u001b[0mbatch_sizes\u001b[0m \u001b[0;32mis\u001b[0m \u001b[0;32mNone\u001b[0m\u001b[0;34m:\u001b[0m\u001b[0;34m\u001b[0m\u001b[0;34m\u001b[0m\u001b[0m\n\u001b[0;32m--> 679\u001b[0;31m             result = _VF.lstm(input, hx, self._flat_weights, self.bias, self.num_layers,\n\u001b[0m\u001b[1;32m    680\u001b[0m                               self.dropout, self.training, self.bidirectional, self.batch_first)\n\u001b[1;32m    681\u001b[0m         \u001b[0;32melse\u001b[0m\u001b[0;34m:\u001b[0m\u001b[0;34m\u001b[0m\u001b[0;34m\u001b[0m\u001b[0m\n",
      "\u001b[0;31mRuntimeError\u001b[0m: CUDA out of memory. Tried to allocate 130.00 MiB (GPU 0; 10.92 GiB total capacity; 9.61 GiB already allocated; 51.38 MiB free; 10.02 GiB reserved in total by PyTorch)"
     ]
    }
   ],
   "source": [
    "test_output = predict_all(cities, models)"
   ]
  },
  {
   "cell_type": "code",
   "execution_count": null,
   "id": "c204a7f3-c10c-4e23-8b7a-0dc89e69947c",
   "metadata": {},
   "outputs": [],
   "source": [
    "test_output.to_csv('test_output.csv', index=False)"
   ]
  },
  {
   "cell_type": "code",
   "execution_count": null,
   "id": "a122ca27-b9ac-489f-ba37-2ffdbd16fb76",
   "metadata": {},
   "outputs": [],
   "source": [
    "test_output"
   ]
  },
  {
   "cell_type": "markdown",
   "id": "2e7e5a87",
   "metadata": {},
   "source": [
    "## Sample a batch of data and visualize "
   ]
  },
  {
   "cell_type": "code",
   "execution_count": 46,
   "id": "c4973396-03db-4aff-b9a0-c4e962a6345a",
   "metadata": {},
   "outputs": [],
   "source": [
    "train_dataset, val_dataset, train_loader, val_loader = get_data_loader(city = 'washington-dc', batch_size = 5, standardized=False)"
   ]
  },
  {
   "cell_type": "code",
   "execution_count": 47,
   "id": "293f02a9",
   "metadata": {},
   "outputs": [
    {
     "data": {
      "image/png": "[encoded data removed]",
      "text/plain": [
       "<Figure size 1080x216 with 5 Axes>"
      ]
     },
     "metadata": {},
     "output_type": "display_data"
    },
    {
     "data": {
      "image/png": "[encoded data removed]",
      "text/plain": [
       "<Figure size 1080x216 with 5 Axes>"
      ]
     },
     "metadata": {},
     "output_type": "display_data"
    }
   ],
   "source": [
    "import matplotlib.pyplot as plt\n",
    "import random\n",
    "\n",
    "\n",
    "def show_sample_batch(sample_batch):\n",
    "    \"\"\"visualize the trajectory for a batch of samples\"\"\"\n",
    "    inp, out = sample_batch\n",
    "    batch_sz = inp.size(0)\n",
    "    agent_sz = inp.size(1)\n",
    "    \n",
    "    fig, axs = plt.subplots(1,batch_sz, figsize=(15, 3), facecolor='w', edgecolor='k')\n",
    "    fig.subplots_adjust(hspace = .5, wspace=.001)\n",
    "    axs = axs.ravel()   \n",
    "    for i in range(batch_sz):\n",
    "        axs[i].xaxis.set_ticks([])\n",
    "        axs[i].yaxis.set_ticks([])\n",
    "        \n",
    "        # first two feature dimensions are (x,y) positions\n",
    "        axs[i].scatter(inp[i,:,0], inp[i,:,1])\n",
    "        axs[i].scatter(out[i,:,0], out[i,:,1])\n",
    "\n",
    "        \n",
    "for i_batch, sample_batch in enumerate(train_loader):\n",
    "    if i_batch < 5: continue\n",
    "    inp, out = sample_batch\n",
    "    inp = np.asarray(inp)\n",
    "    global_mean = np.mean(inp, axis = (0,1), keepdims = True)\n",
    "    global_std = np.std(np.sqrt(inp[:, :, 0]**2 + inp[:, :, 0]**2))\n",
    "    inp = (inp - global_mean) / global_std\n",
    "    inp = torch.from_numpy(inp)\n",
    "    inp = inp.float()\n",
    "    pred = model_austin(inp.cuda(), target_length=60).detach()\n",
    "    show_sample_batch(sample_batch)\n",
    "    show_sample_batch([inp, pred])\n",
    "    #print(sample_batch)\n",
    "    break"
   ]
  },
  {
   "cell_type": "code",
   "execution_count": 48,
   "id": "33f2c725",
   "metadata": {},
   "outputs": [],
   "source": [
    "train_dataset, val_dataset, train_loader, val_loader = get_data_loader(city = 'palo-alto', batch_size = 5, standardized=False)"
   ]
  },
  {
   "cell_type": "code",
   "execution_count": 49,
   "id": "ec5242b6",
   "metadata": {},
   "outputs": [
    {
     "data": {
      "image/png": "[encoded data removed]",
      "text/plain": [
       "<Figure size 1080x216 with 5 Axes>"
      ]
     },
     "metadata": {},
     "output_type": "display_data"
    },
    {
     "data": {
      "image/png": "[encoded data removed]",
      "text/plain": [
       "<Figure size 1080x216 with 5 Axes>"
      ]
     },
     "metadata": {},
     "output_type": "display_data"
    }
   ],
   "source": [
    "import matplotlib.pyplot as plt\n",
    "import random\n",
    "\n",
    "\n",
    "def show_sample_batch(sample_batch):\n",
    "    \"\"\"visualize the trajectory for a batch of samples\"\"\"\n",
    "    inp, out = sample_batch\n",
    "    batch_sz = inp.size(0)\n",
    "    agent_sz = inp.size(1)\n",
    "    \n",
    "    fig, axs = plt.subplots(1,batch_sz, figsize=(15, 3), facecolor='w', edgecolor='k')\n",
    "    fig.subplots_adjust(hspace = .5, wspace=.001)\n",
    "    axs = axs.ravel()   \n",
    "    for i in range(batch_sz):\n",
    "        axs[i].xaxis.set_ticks([])\n",
    "        axs[i].yaxis.set_ticks([])\n",
    "        \n",
    "        # first two feature dimensions are (x,y) positions\n",
    "        axs[i].scatter(inp[i,:,0], inp[i,:,1])\n",
    "        axs[i].scatter(out[i,:,0], out[i,:,1])\n",
    "\n",
    "        \n",
    "for i_batch, sample_batch in enumerate(train_loader):\n",
    "    if i_batch < 5: continue\n",
    "    inp, out = sample_batch\n",
    "    inp = np.asarray(inp)\n",
    "    global_mean = np.mean(inp, axis = (0,1), keepdims = True)\n",
    "    global_std = np.std(np.sqrt(inp[:, :, 0]**2 + inp[:, :, 0]**2))\n",
    "    inp = (inp - global_mean) / global_std\n",
    "    inp = torch.from_numpy(inp)\n",
    "    inp = inp.float()\n",
    "    pred = model_austin(inp.cuda(), target_length=60).detach()\n",
    "    show_sample_batch(sample_batch)\n",
    "    show_sample_batch([inp, pred])\n",
    "    #print(sample_batch)\n",
    "    break"
   ]
  },
  {
   "cell_type": "code",
   "execution_count": null,
   "id": "78e3a677",
   "metadata": {},
   "outputs": [],
   "source": []
  }
 ],
 "metadata": {
  "interpreter": {
   "hash": "dced8fb45b0ff99d8d3988377242cc50fbcc39f0e70c1ca7bcd7ba6512e6ce47"
  },
  "kernelspec": {
   "display_name": "Python 3 (ipykernel)",
   "language": "python",
   "name": "python3"
  },
  "language_info": {
   "codemirror_mode": {
    "name": "ipython",
    "version": 3
   },
   "file_extension": ".py",
   "mimetype": "text/x-python",
   "name": "python",
   "nbconvert_exporter": "python",
   "pygments_lexer": "ipython3",
   "version": "3.9.5"
  }
 },
 "nbformat": 4,
 "nbformat_minor": 5
}
