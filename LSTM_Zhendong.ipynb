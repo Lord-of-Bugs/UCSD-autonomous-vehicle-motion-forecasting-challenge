{
 "cells": [
  {
   "cell_type": "code",
   "execution_count": 175,
   "id": "9fd086c6-2098-4680-a24c-8ad82aeaa86a",
   "metadata": {},
   "outputs": [
    {
     "data": {
      "text/plain": [
       "'\\n    number of trajectories in each city\\n    # austin --  train: 43041 test: 6325 \\n    # miami -- train: 55029 test:7971\\n    # pittsburgh -- train: 43544 test: 6361\\n    # dearborn -- train: 24465 test: 3671\\n    # washington-dc -- train: 25744 test: 3829\\n    # palo-alto -- train:  11993 test:1686\\n\\n    trajectories sampled at 10HZ rate, input 5 seconds, output 6 seconds\\n    \\n'"
      ]
     },
     "execution_count": 175,
     "metadata": {},
     "output_type": "execute_result"
    }
   ],
   "source": [
    "import torch\n",
    "from torch.utils.data import Dataset, DataLoader\n",
    "import os, os.path \n",
    "import numpy \n",
    "import pickle\n",
    "import pandas as pd\n",
    "from glob import glob\n",
    "import matplotlib.pyplot as plt\n",
    "import random\n",
    "from torch import nn, optim\n",
    "import torch.nn.functional as F\n",
    "\n",
    "\"\"\"\n",
    "    number of trajectories in each city\n",
    "    # austin --  train: 43041 test: 6325 \n",
    "    # miami -- train: 55029 test:7971\n",
    "    # pittsburgh -- train: 43544 test: 6361\n",
    "    # dearborn -- train: 24465 test: 3671\n",
    "    # washington-dc -- train: 25744 test: 3829\n",
    "    # palo-alto -- train:  11993 test:1686\n",
    "\n",
    "    trajectories sampled at 10HZ rate, input 5 seconds, output 6 seconds\n",
    "    \n",
    "\"\"\""
   ]
  },
  {
   "cell_type": "markdown",
   "id": "aa990e7f-ab9f-4250-b2bf-ffebe59eddef",
   "metadata": {},
   "source": [
    "# Load Data"
   ]
  },
  {
   "cell_type": "code",
   "execution_count": 350,
   "id": "bc32a670-d10f-4cd5-b9f8-860bffe99cbe",
   "metadata": {},
   "outputs": [],
   "source": [
    "from glob import glob\n",
    "import pickle\n",
    "import numpy as np\n",
    "\n",
    "ROOT_PATH = \"./\"\n",
    "\n",
    "cities = [\"austin\", \"miami\", \"pittsburgh\", \"dearborn\", \"washington-dc\", \"palo-alto\"]\n",
    "splits = [\"train\", \"test\"]\n",
    "\n",
    "def get_city_trajectories(city=\"palo-alto\", split=\"train\", normalized=False):\n",
    "\n",
    "    \n",
    "    outputs = None\n",
    "    \n",
    "    if split==\"train\":\n",
    "        f_in = ROOT_PATH + split + \"/\" + city + \"_inputs\"\n",
    "        inputs = pickle.load(open(f_in, \"rb\"))\n",
    "        n = len(inputs)\n",
    "        inputs = np.asarray(inputs)[:int(n * 0.8)]\n",
    "        \n",
    "        f_out = ROOT_PATH + split + \"/\" + city + \"_outputs\"\n",
    "        outputs = pickle.load(open(f_out, \"rb\"))\n",
    "        outputs = np.asarray(outputs)[:int(n * 0.8)]\n",
    "        \n",
    "    elif split == 'val':\n",
    "        f_in = ROOT_PATH + 'train' + \"/\" + city + \"_inputs\"\n",
    "        inputs = pickle.load(open(f_in, \"rb\"))\n",
    "        n = len(inputs)\n",
    "        inputs = np.asarray(inputs)[int(n * 0.8):]\n",
    "        \n",
    "        f_out = ROOT_PATH + 'train' + \"/\" + city + \"_outputs\"\n",
    "        outputs = pickle.load(open(f_out, \"rb\"))\n",
    "        outputs = np.asarray(outputs)[int(n * 0.8):]\n",
    "    \n",
    "    else:\n",
    "        f_in = ROOT_PATH + split + \"/\" + city + \"_inputs\"\n",
    "        inputs = pickle.load(open(f_in, \"rb\"))\n",
    "        n = len(inputs)\n",
    "        inputs = np.asarray(inputs)\n",
    "        \n",
    "    global_mean = np.mean(inputs, axis = (0,1), keepdims = True)\n",
    "    global_std = np.std(np.sqrt(inputs[:, :, 0]**2 + inputs[:, :, 0]**2))\n",
    "    standard_inputs = (inputs - global_mean)/global_std\n",
    "    \n",
    "    standard_targets = None\n",
    "    if split==\"train\" or split == 'val':\n",
    "        standard_targets = (outputs - global_mean)/global_std\n",
    "    \n",
    "    return standard_inputs, standard_targets, global_mean, global_std\n",
    "\n",
    "class ArgoverseDataset(Dataset):\n",
    "    \"\"\"Dataset class for Argoverse\"\"\"\n",
    "    def __init__(self, city: str, split:str, transform=None):\n",
    "        super(ArgoverseDataset, self).__init__()\n",
    "        self.transform = transform\n",
    "\n",
    "        self.inputs, self.outputs, self.global_mean, self.global_std = get_city_trajectories(city=city, split=split, normalized=False)\n",
    "\n",
    "    def __len__(self):\n",
    "        return len(self.inputs)\n",
    "\n",
    "    def __getitem__(self, idx):\n",
    "\n",
    "        data = (self.inputs[idx], self.outputs[idx], self.global_mean, self.global_std)\n",
    "            \n",
    "        if self.transform:\n",
    "            data = self.transform(data)\n",
    "\n",
    "        return data"
   ]
  },
  {
   "cell_type": "code",
   "execution_count": 351,
   "id": "cc39a129-3832-4ef4-b710-3018ca467104",
   "metadata": {},
   "outputs": [],
   "source": [
    "# intialize a dataset\n",
    "def get_data_loader(city = 'austin', batch_size = 20):\n",
    "    train_dataset  = ArgoverseDataset(city = city, split = 'train')\n",
    "    val_dataset = ArgoverseDataset(city = city, split = 'val')\n",
    "\n",
    "    train_loader = DataLoader(train_dataset,batch_size=batch_size)\n",
    "    val_loader = DataLoader(val_dataset,batch_size=batch_size)\n",
    "    return train_dataset, val_dataset, train_loader, val_loader"
   ]
  },
  {
   "cell_type": "code",
   "execution_count": 352,
   "id": "7747bde3-22dd-4f31-9bb2-2e811680204b",
   "metadata": {},
   "outputs": [
    {
     "data": {
      "text/plain": [
       "8609"
      ]
     },
     "execution_count": 352,
     "metadata": {},
     "output_type": "execute_result"
    }
   ],
   "source": [
    "train_dataset, val_dataset, train_loader, val_loader = get_data_loader(city = 'austin', batch_size = 64)\n",
    "len(val_dataset)"
   ]
  },
  {
   "cell_type": "code",
   "execution_count": 353,
   "id": "74b1ebdc-3841-4f47-93cc-4e07b0a427e6",
   "metadata": {},
   "outputs": [
    {
     "data": {
      "text/plain": [
       "34432"
      ]
     },
     "execution_count": 353,
     "metadata": {},
     "output_type": "execute_result"
    }
   ],
   "source": [
    "len(train_dataset)"
   ]
  },
  {
   "cell_type": "code",
   "execution_count": 354,
   "id": "4f9cd057",
   "metadata": {},
   "outputs": [
    {
     "data": {
      "text/plain": [
       "device(type='cuda')"
      ]
     },
     "execution_count": 354,
     "metadata": {},
     "output_type": "execute_result"
    }
   ],
   "source": [
    "device = torch.device('cuda' if torch.cuda.is_available() else 'cpu')\n",
    "device"
   ]
  },
  {
   "cell_type": "markdown",
   "id": "a20d16ff-1822-43fc-b83c-04b52f40893a",
   "metadata": {},
   "source": [
    "# Model"
   ]
  },
  {
   "cell_type": "code",
   "execution_count": 203,
   "id": "bc4df4ee",
   "metadata": {},
   "outputs": [],
   "source": [
    "class Encoder(nn.Module):\n",
    "    def __init__(self, input_dim, hidden_dim, num_layers, dropout_rate):\n",
    "        \n",
    "        super(Encoder, self).__init__()\n",
    "\n",
    "        self.lstm = nn.LSTM(input_size = input_dim, \n",
    "                            hidden_size = hidden_dim, \n",
    "                            num_layers= num_layers, \n",
    "                            dropout = dropout_rate, \n",
    "                            batch_first = True)\n",
    "        \n",
    "        \n",
    "    def forward(self, source):\n",
    "        \n",
    "        # hidden = (h, c)\n",
    "        # h, c: num_layers x bz x  hid_dim\n",
    "        # outputs: bz x input_length x hid_dim\n",
    "        outputs, hidden = self.lstm(source)\n",
    "        \n",
    "        return outputs, hidden\n",
    "    \n",
    "class AttnDecoder(nn.Module):\n",
    "    def __init__(self, output_dim, hidden_dim, num_layers, dropout_rate):\n",
    "\n",
    "        super(AttnDecoder, self).__init__()\n",
    "\n",
    "        # Learn the attention scores\n",
    "        self.attn = nn.Linear(hidden_dim + output_dim, 50)\n",
    "        \n",
    "        # Learn the final input to the decoder \n",
    "        self.attn_combine = nn.Linear(hidden_dim + output_dim, hidden_dim)\n",
    "        \n",
    "        # Decoder LSTM\n",
    "        self.lstm = nn.LSTM(input_size = hidden_dim, \n",
    "                            hidden_size = hidden_dim, \n",
    "                            num_layers= num_layers, \n",
    "                            dropout = dropout_rate, \n",
    "                            batch_first = True)\n",
    "        \n",
    "        self.output_layer = nn.Linear(hidden_dim, output_dim)\n",
    "      \n",
    "    def forward(self, x, hidden, encoder_outputs):\n",
    "        \n",
    "        h = hidden[0]\n",
    "        h = h.transpose(0,1).reshape(h.shape[1], -1)\n",
    "        \n",
    "        # Compute Attention Scores\n",
    "        attn_weights = F.softmax(self.attn(torch.cat([x, h], 1)), dim =1)\n",
    "        \n",
    "        # Calculate weighted sum of encoder hidden states     \n",
    "        attn_applied = torch.einsum(\"bl,blh->bh\", attn_weights, encoder_outputs)\n",
    "        \n",
    "        x = torch.cat((x, attn_applied), dim = 1)\n",
    "        x = self.attn_combine(x).unsqueeze(1)\n",
    "        x = F.relu(x)\n",
    "        \n",
    "        output, decoder_hidden= self.lstm(x, hidden)  \n",
    "        prediction = self.output_layer(output.float())\n",
    "        \n",
    "        return prediction.squeeze(1), decoder_hidden\n",
    "    \n",
    "class Seq2Seq(nn.Module):\n",
    "    def __init__(self, input_dim = 2, output_dim = 2, hidden_dim = 128, num_layers = 1, dropout_rate = 0):\n",
    "        \n",
    "        super(Seq2Seq, self).__init__()\n",
    "        self.encoder = Encoder(input_dim, hidden_dim, num_layers, dropout_rate)\n",
    "        self.decoder = AttnDecoder(output_dim, hidden_dim, num_layers, dropout_rate)\n",
    "\n",
    "    def forward(self, source, target_length = 60):\n",
    "\n",
    "        batch_size = source.size(0) \n",
    "        input_length = source.size(1) \n",
    "        \n",
    "        encoder_outputs, concat_hidden = self.encoder(source)\n",
    "        \n",
    "        # the last encoder hidden state is used as initial hidden state of the decoder\n",
    "        decoder_hidden = concat_hidden\n",
    "        # the first input to the decoder is last input position\n",
    "        decoder_output = source[:,-1]\n",
    "    \n",
    "        \n",
    "        outputs = torch.zeros(batch_size, target_length, 2)\n",
    "        for t in range(target_length):    \n",
    "            decoder_output, decoder_hidden = self.decoder(decoder_output, decoder_hidden, encoder_outputs)\n",
    "            outputs[:,t] = decoder_output   \n",
    "        return outputs"
   ]
  },
  {
   "cell_type": "code",
   "execution_count": 204,
   "id": "e22ebce9-3cd2-41ba-9de2-9c3094179d61",
   "metadata": {},
   "outputs": [],
   "source": [
    "class LSTM(nn. Module):\n",
    "    def __init__(self, batch_size = 64, hidden_size = 128, num_layers = 1):\n",
    "        super().__init__()\n",
    "        self.batch_size = batch_size\n",
    "        self.hidden_size = hidden_size\n",
    "        self.num_layers = num_layers\n",
    "        \n",
    "        self.lstm = nn.LSTM(input_size = 2, hidden_size = self.hidden_size, num_layers = self.num_layers, batch_first = True)\n",
    "        self.FC = nn.Linear(self.hidden_size, 2)\n",
    "        \n",
    "\n",
    "    def forward(self, x, hidden):\n",
    "        \n",
    "        x = x.float()\n",
    "        out, hidden = self.lstm(x, hidden)\n",
    "        \n",
    "        out = self.FC(out)\n",
    "        \n",
    "        return out, hidden\n",
    "    \n",
    "    def init_hidden(self,batch_size):\n",
    "        \n",
    "        weights = next(self.parameters()).data\n",
    "        \n",
    "        hidden = (weights.new(self.num_layers, batch_size, self.hidden_size).zero_().float(), # (num_layers, batch_size)\n",
    "                  weights.new(self.num_layers, batch_size, self.hidden_size).zero_().float())\n",
    "        \n",
    "        return hidden"
   ]
  },
  {
   "cell_type": "code",
   "execution_count": 321,
   "id": "1c2ce311-ea0b-4e3e-a6d9-608b25b096f2",
   "metadata": {},
   "outputs": [],
   "source": [
    "def train_epochs(model, train_dataset, train_loader, loss_func, opt, batch_size, epochs = 10):\n",
    "    train_losses = []\n",
    "    for epoch in range(epochs):\n",
    "\n",
    "        total_loss = 0\n",
    "        for i_batch, sample_batch in enumerate(train_loader):\n",
    "            inp, out, global_mean, global_std = sample_batch\n",
    "            \n",
    "            inp = inp.float().cuda() \n",
    "            out = out.float()\n",
    "            out = (out*global_std[0] + global_mean[0]).cuda()\n",
    "                \n",
    "            # prediction\n",
    "            preds = model(inp)\n",
    "            preds = (preds*global_std[0] + global_mean[0]).cuda()\n",
    "            loss = loss_func(preds, out)\n",
    "\n",
    "            opt.zero_grad()\n",
    "            loss.backward()\n",
    "            opt.step()\n",
    "\n",
    "            total_loss += loss.item()\n",
    "\n",
    "        print('epoch {} trian loss: {}'.format(epoch, total_loss / len(train_dataset)))\n",
    "        train_losses.append(total_loss / (len(train_dataset)))\n",
    "    return train_losses"
   ]
  },
  {
   "cell_type": "code",
   "execution_count": 331,
   "id": "0d868104-278b-475c-b28a-1176b46a239e",
   "metadata": {},
   "outputs": [],
   "source": [
    "def val_loss(model, city, batch_size):\n",
    "    train_dataset, val_dataset, train_loader, val_loader = get_data_loader(city = city, batch_size = batch_size)\n",
    "    \n",
    "    # model, optimizer, loss\n",
    "    model = model\n",
    "    opt = optim.Adam(model.parameters(), lr=1e-3)\n",
    "    loss_func = nn.MSELoss()\n",
    "    \n",
    "    val_loss = 0\n",
    "    for i_batch, sample_batch in enumerate(val_loader):\n",
    "        inp, out, global_mean, global_std = sample_batch\n",
    "            \n",
    "        inp = inp.float().cuda() \n",
    "        out = out.float()\n",
    "        out = (out*global_std[0] + global_mean[0]).cuda()\n",
    "                \n",
    "        # prediction\n",
    "        preds = model(inp)\n",
    "        preds = (preds*global_std[0] + global_mean[0]).cuda()\n",
    "        loss = loss_func(preds, out)\n",
    "\n",
    "        val_loss += loss.item()\n",
    "    print('val loss: {}'.format(val_loss / len(val_dataset)))"
   ]
  },
  {
   "cell_type": "code",
   "execution_count": 322,
   "id": "1a8d1e9d-3dde-411c-a35f-2f3760c6527a",
   "metadata": {},
   "outputs": [],
   "source": [
    "def train_city(city, batch_size, epochs, model):\n",
    "    # data loader\n",
    "    train_dataset, val_dataset, train_loader, val_loader = get_data_loader(city = city, batch_size = batch_size)\n",
    "    \n",
    "    # model, optimizer, loss\n",
    "    model_encdoc = model.to(device)\n",
    "    opt = optim.Adam(model_encdoc.parameters(), lr=1e-3)\n",
    "    loss_func = nn.MSELoss()\n",
    "    \n",
    "    # train\n",
    "    train_losses = train_epochs(model_encdoc, train_dataset, train_loader, loss_func, opt, batch_size, epochs = epochs)\n",
    "    \n",
    "    # evaluate\n",
    "    # val_loss(model_encdoc, val_loader, loss_func, opt)\n",
    "    return model_encdoc, train_losses"
   ]
  },
  {
   "cell_type": "markdown",
   "id": "e2eaa45b-3002-4f32-82a8-b0d1ed88d8be",
   "metadata": {},
   "source": [
    "# Training"
   ]
  },
  {
   "cell_type": "code",
   "execution_count": 355,
   "id": "4ee33333-73a8-4e13-aa28-14fae7b6c6c1",
   "metadata": {},
   "outputs": [
    {
     "name": "stdout",
     "output_type": "stream",
     "text": [
      "epoch 0 trian loss: 771.9465253388217\n",
      "epoch 1 trian loss: 27.5260844552529\n",
      "epoch 2 trian loss: 23.79507868586611\n",
      "epoch 3 trian loss: 18.695780237365557\n",
      "epoch 4 trian loss: 15.434553683977514\n",
      "epoch 5 trian loss: 13.267568638114913\n",
      "epoch 6 trian loss: 12.128549525856313\n",
      "epoch 7 trian loss: 11.602623783947436\n",
      "epoch 8 trian loss: 11.321472505358656\n",
      "epoch 9 trian loss: 11.12040730137348\n",
      "epoch 10 trian loss: 10.87834632547121\n",
      "epoch 11 trian loss: 10.463098245112878\n",
      "epoch 12 trian loss: 10.244024978755249\n",
      "epoch 13 trian loss: 10.173022949982407\n",
      "epoch 14 trian loss: 9.971663438448777\n",
      "epoch 15 trian loss: 9.736035853787591\n",
      "epoch 16 trian loss: 9.52809660507221\n",
      "epoch 17 trian loss: 9.403060357403923\n",
      "epoch 18 trian loss: 9.220080607323125\n",
      "epoch 19 trian loss: 9.09224075365078\n",
      "val loss: 3.733585090924973\n"
     ]
    },
    {
     "data": {
      "text/plain": [
       "Text(0, 0.5, 'MSE')"
      ]
     },
     "execution_count": 355,
     "metadata": {},
     "output_type": "execute_result"
    },
    {
     "data": {
      "image/png": "[encoded data removed]",
      "text/plain": [
       "<Figure size 432x288 with 1 Axes>"
      ]
     },
     "metadata": {
      "needs_background": "light"
     },
     "output_type": "display_data"
    }
   ],
   "source": [
    "model = Seq2Seq().to(device)\n",
    "model_austin, train_losses = train_city('austin', batch_size = 64, epochs = 20, model = model)\n",
    "val_loss(model_austin, 'austin', batch_size = 128)\n",
    "plt.plot(train_losses)\n",
    "plt.xlabel('Training Step')\n",
    "plt.ylabel('MSE')"
   ]
  },
  {
   "cell_type": "code",
   "execution_count": 356,
   "id": "771bef46-2f75-411e-a818-5beb83c307ba",
   "metadata": {},
   "outputs": [
    {
     "name": "stdout",
     "output_type": "stream",
     "text": [
      "epoch 0 trian loss: 2955.1536338510737\n",
      "epoch 1 trian loss: 58.15157526889891\n",
      "epoch 2 trian loss: 40.686662289336674\n",
      "epoch 3 trian loss: 32.94496725812987\n",
      "epoch 4 trian loss: 48.4261972884625\n",
      "epoch 5 trian loss: 35.08503272346669\n",
      "epoch 6 trian loss: 31.942897894671326\n",
      "epoch 7 trian loss: 27.35823584779075\n",
      "epoch 8 trian loss: 24.35159852512478\n",
      "epoch 9 trian loss: 22.72248107495414\n",
      "epoch 10 trian loss: 18.728010170116242\n",
      "epoch 11 trian loss: 16.832238540368184\n",
      "epoch 12 trian loss: 18.39212256905502\n",
      "epoch 13 trian loss: 15.947201880055019\n",
      "epoch 14 trian loss: 15.882045148632802\n",
      "epoch 15 trian loss: 15.356186335249463\n",
      "epoch 16 trian loss: 13.483183938118833\n",
      "epoch 17 trian loss: 13.955696188708293\n",
      "epoch 18 trian loss: 13.035355266727016\n",
      "epoch 19 trian loss: 13.089638954778831\n",
      "val loss: 4.258082879030652\n"
     ]
    },
    {
     "data": {
      "text/plain": [
       "Text(0, 0.5, 'MSE')"
      ]
     },
     "execution_count": 356,
     "metadata": {},
     "output_type": "execute_result"
    },
    {
     "data": {
      "image/png": "[encoded data removed]",
      "text/plain": [
       "<Figure size 432x288 with 1 Axes>"
      ]
     },
     "metadata": {
      "needs_background": "light"
     },
     "output_type": "display_data"
    }
   ],
   "source": [
    "# miami\n",
    "model = Seq2Seq().to(device)\n",
    "model_miami, train_losses = train_city('miami', batch_size = 64, epochs = 20, model = model)\n",
    "val_loss(model_miami, 'miami', batch_size = 128)\n",
    "plt.plot(train_losses)\n",
    "plt.xlabel('Training Step')\n",
    "plt.ylabel('MSE')"
   ]
  },
  {
   "cell_type": "code",
   "execution_count": 357,
   "id": "b9010a1a-1cbd-4a7c-95c0-6232b4b06ee2",
   "metadata": {},
   "outputs": [
    {
     "name": "stdout",
     "output_type": "stream",
     "text": [
      "epoch 0 trian loss: 982.8941620039109\n",
      "epoch 1 trian loss: 21.13256803953033\n",
      "epoch 2 trian loss: 20.47325517305716\n",
      "epoch 3 trian loss: 17.802934559038253\n",
      "epoch 4 trian loss: 16.061498548638582\n",
      "epoch 5 trian loss: 14.211337002419837\n",
      "epoch 6 trian loss: 11.570227556410975\n",
      "epoch 7 trian loss: 10.417493629136949\n",
      "epoch 8 trian loss: 9.678095133265368\n",
      "epoch 9 trian loss: 9.143920770011206\n",
      "epoch 10 trian loss: 8.966337667641561\n",
      "epoch 11 trian loss: 9.131320285126904\n",
      "epoch 12 trian loss: 8.411261314860225\n",
      "epoch 13 trian loss: 8.140540188906263\n",
      "epoch 14 trian loss: 8.120197902335418\n",
      "epoch 15 trian loss: 7.998143035359373\n",
      "epoch 16 trian loss: 8.378346774519738\n",
      "epoch 17 trian loss: 7.763634519974557\n",
      "epoch 18 trian loss: 7.545778917885619\n",
      "epoch 19 trian loss: 7.376370640109489\n",
      "val loss: 3.287742579029682\n"
     ]
    },
    {
     "data": {
      "text/plain": [
       "Text(0, 0.5, 'MSE')"
      ]
     },
     "execution_count": 357,
     "metadata": {},
     "output_type": "execute_result"
    },
    {
     "data": {
      "image/png": "[encoded data removed]",
      "text/plain": [
       "<Figure size 432x288 with 1 Axes>"
      ]
     },
     "metadata": {
      "needs_background": "light"
     },
     "output_type": "display_data"
    }
   ],
   "source": [
    "# pittsburgh\n",
    "model = Seq2Seq().to(device)\n",
    "model_pittsburgh, train_losses = train_city('pittsburgh', batch_size = 64, epochs = 20, model = model)\n",
    "val_loss(model_pittsburgh, 'pittsburgh', batch_size = 128)\n",
    "plt.plot(train_losses)\n",
    "plt.xlabel('Training Step')\n",
    "plt.ylabel('MSE')"
   ]
  },
  {
   "cell_type": "code",
   "execution_count": 358,
   "id": "3e20594b-5b05-4a1e-bd23-1943ac7ceda9",
   "metadata": {},
   "outputs": [
    {
     "name": "stdout",
     "output_type": "stream",
     "text": [
      "epoch 0 trian loss: 9156.50946071197\n",
      "epoch 1 trian loss: 136.02241723146187\n",
      "epoch 2 trian loss: 66.41456202103535\n",
      "epoch 3 trian loss: 60.37098456834794\n",
      "epoch 4 trian loss: 58.85029633580573\n",
      "epoch 5 trian loss: 53.813064913438936\n",
      "epoch 6 trian loss: 53.86217995498196\n",
      "epoch 7 trian loss: 52.634431285363064\n",
      "epoch 8 trian loss: 53.97426525768244\n",
      "epoch 9 trian loss: 49.96446409500567\n",
      "epoch 10 trian loss: 49.39338606068769\n",
      "epoch 11 trian loss: 47.7968379540383\n",
      "epoch 12 trian loss: 46.58322900213832\n",
      "epoch 13 trian loss: 45.39816327207082\n",
      "epoch 14 trian loss: 44.312754509758285\n",
      "epoch 15 trian loss: 42.476770193191705\n",
      "epoch 16 trian loss: 40.71073150581863\n",
      "epoch 17 trian loss: 38.42659312747595\n",
      "epoch 18 trian loss: 35.07825334696101\n",
      "epoch 19 trian loss: 34.534306564913365\n",
      "val loss: 21.06448599715925\n"
     ]
    },
    {
     "data": {
      "text/plain": [
       "Text(0, 0.5, 'MSE')"
      ]
     },
     "execution_count": 358,
     "metadata": {},
     "output_type": "execute_result"
    },
    {
     "data": {
      "image/png": "[encoded data removed]",
      "text/plain": [
       "<Figure size 432x288 with 1 Axes>"
      ]
     },
     "metadata": {
      "needs_background": "light"
     },
     "output_type": "display_data"
    }
   ],
   "source": [
    "# dearborn\n",
    "model = Seq2Seq().to(device)\n",
    "model_dearborn, train_losses = train_city('dearborn', batch_size = 64, epochs = 20, model = model)\n",
    "val_loss(model_dearborn, 'dearborn', batch_size = 128)\n",
    "plt.plot(train_losses)\n",
    "plt.xlabel('Training Step')\n",
    "plt.ylabel('MSE')"
   ]
  },
  {
   "cell_type": "code",
   "execution_count": 359,
   "id": "699c833f-e158-4ea7-bf55-f3b9f8491daf",
   "metadata": {},
   "outputs": [
    {
     "name": "stdout",
     "output_type": "stream",
     "text": [
      "epoch 0 trian loss: 1515.771793895395\n",
      "epoch 1 trian loss: 28.03637901656461\n",
      "epoch 2 trian loss: 25.450198033104474\n",
      "epoch 3 trian loss: 23.87036220123735\n",
      "epoch 4 trian loss: 21.968443054679383\n",
      "epoch 5 trian loss: 20.960524246903095\n",
      "epoch 6 trian loss: 19.39337229689794\n",
      "epoch 7 trian loss: 17.802783823708022\n",
      "epoch 8 trian loss: 16.833336725258928\n",
      "epoch 9 trian loss: 15.152955555407102\n",
      "epoch 10 trian loss: 14.864991341651479\n",
      "epoch 11 trian loss: 11.615988443354965\n",
      "epoch 12 trian loss: 11.953061329893137\n",
      "epoch 13 trian loss: 10.750030987280114\n",
      "epoch 14 trian loss: 10.681509037418643\n",
      "epoch 15 trian loss: 9.917282427792072\n",
      "epoch 16 trian loss: 10.242492919785773\n",
      "epoch 17 trian loss: 9.844125394057965\n",
      "epoch 18 trian loss: 9.82994219548778\n",
      "epoch 19 trian loss: 9.727742975299199\n",
      "val loss: 4.29700710522984\n"
     ]
    },
    {
     "data": {
      "text/plain": [
       "Text(0, 0.5, 'MSE')"
      ]
     },
     "execution_count": 359,
     "metadata": {},
     "output_type": "execute_result"
    },
    {
     "data": {
      "image/png": "[encoded data removed]",
      "text/plain": [
       "<Figure size 432x288 with 1 Axes>"
      ]
     },
     "metadata": {
      "needs_background": "light"
     },
     "output_type": "display_data"
    }
   ],
   "source": [
    "# washington_dc\n",
    "model = Seq2Seq().to(device)\n",
    "model_washington_dc, train_losses = train_city('washington-dc', batch_size = 64, epochs = 20, model = model)\n",
    "val_loss(model_washington_dc, 'washington-dc', batch_size = 128)\n",
    "plt.plot(train_losses)\n",
    "plt.xlabel('Training Step')\n",
    "plt.ylabel('MSE')"
   ]
  },
  {
   "cell_type": "code",
   "execution_count": 360,
   "id": "a750f169-ec63-4add-a36b-680209e58b2b",
   "metadata": {},
   "outputs": [
    {
     "name": "stdout",
     "output_type": "stream",
     "text": [
      "epoch 0 trian loss: 2160.0657149576186\n",
      "epoch 1 trian loss: 49.726977294445305\n",
      "epoch 2 trian loss: 36.5888130684446\n",
      "epoch 3 trian loss: 34.73073186214565\n",
      "epoch 4 trian loss: 32.70857544541502\n"
     ]
    },
    {
     "ename": "KeyboardInterrupt",
     "evalue": "",
     "output_type": "error",
     "traceback": [
      "\u001b[0;31m---------------------------------------------------------------------------\u001b[0m",
      "\u001b[0;31mKeyboardInterrupt\u001b[0m                         Traceback (most recent call last)",
      "\u001b[0;32m/tmp/ipykernel_90/518026146.py\u001b[0m in \u001b[0;36m<module>\u001b[0;34m\u001b[0m\n\u001b[1;32m      1\u001b[0m \u001b[0;31m# palo_alto\u001b[0m\u001b[0;34m\u001b[0m\u001b[0;34m\u001b[0m\u001b[0;34m\u001b[0m\u001b[0m\n\u001b[1;32m      2\u001b[0m \u001b[0mmodel\u001b[0m \u001b[0;34m=\u001b[0m \u001b[0mSeq2Seq\u001b[0m\u001b[0;34m(\u001b[0m\u001b[0;34m)\u001b[0m\u001b[0;34m.\u001b[0m\u001b[0mto\u001b[0m\u001b[0;34m(\u001b[0m\u001b[0mdevice\u001b[0m\u001b[0;34m)\u001b[0m\u001b[0;34m\u001b[0m\u001b[0;34m\u001b[0m\u001b[0m\n\u001b[0;32m----> 3\u001b[0;31m \u001b[0mmodel_palo_alto\u001b[0m\u001b[0;34m,\u001b[0m \u001b[0mtrain_losses\u001b[0m \u001b[0;34m=\u001b[0m \u001b[0mtrain_city\u001b[0m\u001b[0;34m(\u001b[0m\u001b[0;34m'palo-alto'\u001b[0m\u001b[0;34m,\u001b[0m \u001b[0mbatch_size\u001b[0m \u001b[0;34m=\u001b[0m \u001b[0;36m64\u001b[0m\u001b[0;34m,\u001b[0m \u001b[0mepochs\u001b[0m \u001b[0;34m=\u001b[0m \u001b[0;36m20\u001b[0m\u001b[0;34m,\u001b[0m \u001b[0mmodel\u001b[0m \u001b[0;34m=\u001b[0m \u001b[0mmodel\u001b[0m\u001b[0;34m)\u001b[0m\u001b[0;34m\u001b[0m\u001b[0;34m\u001b[0m\u001b[0m\n\u001b[0m\u001b[1;32m      4\u001b[0m \u001b[0mval_loss\u001b[0m\u001b[0;34m(\u001b[0m\u001b[0mmodel_palo_alto\u001b[0m\u001b[0;34m,\u001b[0m \u001b[0;34m'palo-alto'\u001b[0m\u001b[0;34m,\u001b[0m \u001b[0mbatch_size\u001b[0m \u001b[0;34m=\u001b[0m \u001b[0;36m128\u001b[0m\u001b[0;34m)\u001b[0m\u001b[0;34m\u001b[0m\u001b[0;34m\u001b[0m\u001b[0m\n\u001b[1;32m      5\u001b[0m \u001b[0mplt\u001b[0m\u001b[0;34m.\u001b[0m\u001b[0mplot\u001b[0m\u001b[0;34m(\u001b[0m\u001b[0mtrain_losses\u001b[0m\u001b[0;34m)\u001b[0m\u001b[0;34m\u001b[0m\u001b[0;34m\u001b[0m\u001b[0m\n",
      "\u001b[0;32m/tmp/ipykernel_90/975795801.py\u001b[0m in \u001b[0;36mtrain_city\u001b[0;34m(city, batch_size, epochs, model)\u001b[0m\n\u001b[1;32m      9\u001b[0m \u001b[0;34m\u001b[0m\u001b[0m\n\u001b[1;32m     10\u001b[0m     \u001b[0;31m# train\u001b[0m\u001b[0;34m\u001b[0m\u001b[0;34m\u001b[0m\u001b[0;34m\u001b[0m\u001b[0m\n\u001b[0;32m---> 11\u001b[0;31m     \u001b[0mtrain_losses\u001b[0m \u001b[0;34m=\u001b[0m \u001b[0mtrain_epochs\u001b[0m\u001b[0;34m(\u001b[0m\u001b[0mmodel_encdoc\u001b[0m\u001b[0;34m,\u001b[0m \u001b[0mtrain_dataset\u001b[0m\u001b[0;34m,\u001b[0m \u001b[0mtrain_loader\u001b[0m\u001b[0;34m,\u001b[0m \u001b[0mloss_func\u001b[0m\u001b[0;34m,\u001b[0m \u001b[0mopt\u001b[0m\u001b[0;34m,\u001b[0m \u001b[0mbatch_size\u001b[0m\u001b[0;34m,\u001b[0m \u001b[0mepochs\u001b[0m \u001b[0;34m=\u001b[0m \u001b[0mepochs\u001b[0m\u001b[0;34m)\u001b[0m\u001b[0;34m\u001b[0m\u001b[0;34m\u001b[0m\u001b[0m\n\u001b[0m\u001b[1;32m     12\u001b[0m \u001b[0;34m\u001b[0m\u001b[0m\n\u001b[1;32m     13\u001b[0m     \u001b[0;31m# evaluate\u001b[0m\u001b[0;34m\u001b[0m\u001b[0;34m\u001b[0m\u001b[0;34m\u001b[0m\u001b[0m\n",
      "\u001b[0;32m/tmp/ipykernel_90/1067211966.py\u001b[0m in \u001b[0;36mtrain_epochs\u001b[0;34m(model, train_dataset, train_loader, loss_func, opt, batch_size, epochs)\u001b[0m\n\u001b[1;32m     12\u001b[0m \u001b[0;34m\u001b[0m\u001b[0m\n\u001b[1;32m     13\u001b[0m             \u001b[0;31m# prediction\u001b[0m\u001b[0;34m\u001b[0m\u001b[0;34m\u001b[0m\u001b[0;34m\u001b[0m\u001b[0m\n\u001b[0;32m---> 14\u001b[0;31m             \u001b[0mpreds\u001b[0m \u001b[0;34m=\u001b[0m \u001b[0mmodel\u001b[0m\u001b[0;34m(\u001b[0m\u001b[0minp\u001b[0m\u001b[0;34m)\u001b[0m\u001b[0;34m\u001b[0m\u001b[0;34m\u001b[0m\u001b[0m\n\u001b[0m\u001b[1;32m     15\u001b[0m             \u001b[0mpreds\u001b[0m \u001b[0;34m=\u001b[0m \u001b[0;34m(\u001b[0m\u001b[0mpreds\u001b[0m\u001b[0;34m*\u001b[0m\u001b[0mglobal_std\u001b[0m\u001b[0;34m[\u001b[0m\u001b[0;36m0\u001b[0m\u001b[0;34m]\u001b[0m \u001b[0;34m+\u001b[0m \u001b[0mglobal_mean\u001b[0m\u001b[0;34m[\u001b[0m\u001b[0;36m0\u001b[0m\u001b[0;34m]\u001b[0m\u001b[0;34m)\u001b[0m\u001b[0;34m.\u001b[0m\u001b[0mcuda\u001b[0m\u001b[0;34m(\u001b[0m\u001b[0;34m)\u001b[0m\u001b[0;34m\u001b[0m\u001b[0;34m\u001b[0m\u001b[0m\n\u001b[1;32m     16\u001b[0m             \u001b[0mloss\u001b[0m \u001b[0;34m=\u001b[0m \u001b[0mloss_func\u001b[0m\u001b[0;34m(\u001b[0m\u001b[0mpreds\u001b[0m\u001b[0;34m,\u001b[0m \u001b[0mout\u001b[0m\u001b[0;34m)\u001b[0m\u001b[0;34m\u001b[0m\u001b[0;34m\u001b[0m\u001b[0m\n",
      "\u001b[0;32m/opt/conda/lib/python3.9/site-packages/torch/nn/modules/module.py\u001b[0m in \u001b[0;36m_call_impl\u001b[0;34m(self, *input, **kwargs)\u001b[0m\n\u001b[1;32m   1049\u001b[0m         if not (self._backward_hooks or self._forward_hooks or self._forward_pre_hooks or _global_backward_hooks\n\u001b[1;32m   1050\u001b[0m                 or _global_forward_hooks or _global_forward_pre_hooks):\n\u001b[0;32m-> 1051\u001b[0;31m             \u001b[0;32mreturn\u001b[0m \u001b[0mforward_call\u001b[0m\u001b[0;34m(\u001b[0m\u001b[0;34m*\u001b[0m\u001b[0minput\u001b[0m\u001b[0;34m,\u001b[0m \u001b[0;34m**\u001b[0m\u001b[0mkwargs\u001b[0m\u001b[0;34m)\u001b[0m\u001b[0;34m\u001b[0m\u001b[0;34m\u001b[0m\u001b[0m\n\u001b[0m\u001b[1;32m   1052\u001b[0m         \u001b[0;31m# Do not call functions when jit is used\u001b[0m\u001b[0;34m\u001b[0m\u001b[0;34m\u001b[0m\u001b[0;34m\u001b[0m\u001b[0m\n\u001b[1;32m   1053\u001b[0m         \u001b[0mfull_backward_hooks\u001b[0m\u001b[0;34m,\u001b[0m \u001b[0mnon_full_backward_hooks\u001b[0m \u001b[0;34m=\u001b[0m \u001b[0;34m[\u001b[0m\u001b[0;34m]\u001b[0m\u001b[0;34m,\u001b[0m \u001b[0;34m[\u001b[0m\u001b[0;34m]\u001b[0m\u001b[0;34m\u001b[0m\u001b[0;34m\u001b[0m\u001b[0m\n",
      "\u001b[0;32m/tmp/ipykernel_90/1853197020.py\u001b[0m in \u001b[0;36mforward\u001b[0;34m(self, source, target_length)\u001b[0m\n\u001b[1;32m     82\u001b[0m         \u001b[0moutputs\u001b[0m \u001b[0;34m=\u001b[0m \u001b[0mtorch\u001b[0m\u001b[0;34m.\u001b[0m\u001b[0mzeros\u001b[0m\u001b[0;34m(\u001b[0m\u001b[0mbatch_size\u001b[0m\u001b[0;34m,\u001b[0m \u001b[0mtarget_length\u001b[0m\u001b[0;34m,\u001b[0m \u001b[0;36m2\u001b[0m\u001b[0;34m)\u001b[0m\u001b[0;34m\u001b[0m\u001b[0;34m\u001b[0m\u001b[0m\n\u001b[1;32m     83\u001b[0m         \u001b[0;32mfor\u001b[0m \u001b[0mt\u001b[0m \u001b[0;32min\u001b[0m \u001b[0mrange\u001b[0m\u001b[0;34m(\u001b[0m\u001b[0mtarget_length\u001b[0m\u001b[0;34m)\u001b[0m\u001b[0;34m:\u001b[0m\u001b[0;34m\u001b[0m\u001b[0;34m\u001b[0m\u001b[0m\n\u001b[0;32m---> 84\u001b[0;31m             \u001b[0mdecoder_output\u001b[0m\u001b[0;34m,\u001b[0m \u001b[0mdecoder_hidden\u001b[0m \u001b[0;34m=\u001b[0m \u001b[0mself\u001b[0m\u001b[0;34m.\u001b[0m\u001b[0mdecoder\u001b[0m\u001b[0;34m(\u001b[0m\u001b[0mdecoder_output\u001b[0m\u001b[0;34m,\u001b[0m \u001b[0mdecoder_hidden\u001b[0m\u001b[0;34m,\u001b[0m \u001b[0mencoder_outputs\u001b[0m\u001b[0;34m)\u001b[0m\u001b[0;34m\u001b[0m\u001b[0;34m\u001b[0m\u001b[0m\n\u001b[0m\u001b[1;32m     85\u001b[0m             \u001b[0moutputs\u001b[0m\u001b[0;34m[\u001b[0m\u001b[0;34m:\u001b[0m\u001b[0;34m,\u001b[0m\u001b[0mt\u001b[0m\u001b[0;34m]\u001b[0m \u001b[0;34m=\u001b[0m \u001b[0mdecoder_output\u001b[0m\u001b[0;34m\u001b[0m\u001b[0;34m\u001b[0m\u001b[0m\n\u001b[1;32m     86\u001b[0m         \u001b[0;32mreturn\u001b[0m \u001b[0moutputs\u001b[0m\u001b[0;34m\u001b[0m\u001b[0;34m\u001b[0m\u001b[0m\n",
      "\u001b[0;32m/opt/conda/lib/python3.9/site-packages/torch/nn/modules/module.py\u001b[0m in \u001b[0;36m_call_impl\u001b[0;34m(self, *input, **kwargs)\u001b[0m\n\u001b[1;32m   1049\u001b[0m         if not (self._backward_hooks or self._forward_hooks or self._forward_pre_hooks or _global_backward_hooks\n\u001b[1;32m   1050\u001b[0m                 or _global_forward_hooks or _global_forward_pre_hooks):\n\u001b[0;32m-> 1051\u001b[0;31m             \u001b[0;32mreturn\u001b[0m \u001b[0mforward_call\u001b[0m\u001b[0;34m(\u001b[0m\u001b[0;34m*\u001b[0m\u001b[0minput\u001b[0m\u001b[0;34m,\u001b[0m \u001b[0;34m**\u001b[0m\u001b[0mkwargs\u001b[0m\u001b[0;34m)\u001b[0m\u001b[0;34m\u001b[0m\u001b[0;34m\u001b[0m\u001b[0m\n\u001b[0m\u001b[1;32m   1052\u001b[0m         \u001b[0;31m# Do not call functions when jit is used\u001b[0m\u001b[0;34m\u001b[0m\u001b[0;34m\u001b[0m\u001b[0;34m\u001b[0m\u001b[0m\n\u001b[1;32m   1053\u001b[0m         \u001b[0mfull_backward_hooks\u001b[0m\u001b[0;34m,\u001b[0m \u001b[0mnon_full_backward_hooks\u001b[0m \u001b[0;34m=\u001b[0m \u001b[0;34m[\u001b[0m\u001b[0;34m]\u001b[0m\u001b[0;34m,\u001b[0m \u001b[0;34m[\u001b[0m\u001b[0;34m]\u001b[0m\u001b[0;34m\u001b[0m\u001b[0;34m\u001b[0m\u001b[0m\n",
      "\u001b[0;32m/tmp/ipykernel_90/1853197020.py\u001b[0m in \u001b[0;36mforward\u001b[0;34m(self, x, hidden, encoder_outputs)\u001b[0m\n\u001b[1;32m     43\u001b[0m \u001b[0;34m\u001b[0m\u001b[0m\n\u001b[1;32m     44\u001b[0m         \u001b[0mh\u001b[0m \u001b[0;34m=\u001b[0m \u001b[0mhidden\u001b[0m\u001b[0;34m[\u001b[0m\u001b[0;36m0\u001b[0m\u001b[0;34m]\u001b[0m\u001b[0;34m\u001b[0m\u001b[0;34m\u001b[0m\u001b[0m\n\u001b[0;32m---> 45\u001b[0;31m         \u001b[0mh\u001b[0m \u001b[0;34m=\u001b[0m \u001b[0mh\u001b[0m\u001b[0;34m.\u001b[0m\u001b[0mtranspose\u001b[0m\u001b[0;34m(\u001b[0m\u001b[0;36m0\u001b[0m\u001b[0;34m,\u001b[0m\u001b[0;36m1\u001b[0m\u001b[0;34m)\u001b[0m\u001b[0;34m.\u001b[0m\u001b[0mreshape\u001b[0m\u001b[0;34m(\u001b[0m\u001b[0mh\u001b[0m\u001b[0;34m.\u001b[0m\u001b[0mshape\u001b[0m\u001b[0;34m[\u001b[0m\u001b[0;36m1\u001b[0m\u001b[0;34m]\u001b[0m\u001b[0;34m,\u001b[0m \u001b[0;34m-\u001b[0m\u001b[0;36m1\u001b[0m\u001b[0;34m)\u001b[0m\u001b[0;34m\u001b[0m\u001b[0;34m\u001b[0m\u001b[0m\n\u001b[0m\u001b[1;32m     46\u001b[0m \u001b[0;34m\u001b[0m\u001b[0m\n\u001b[1;32m     47\u001b[0m         \u001b[0;31m# Compute Attention Scores\u001b[0m\u001b[0;34m\u001b[0m\u001b[0;34m\u001b[0m\u001b[0;34m\u001b[0m\u001b[0m\n",
      "\u001b[0;31mKeyboardInterrupt\u001b[0m: "
     ]
    }
   ],
   "source": [
    "# palo_alto\n",
    "model = Seq2Seq().to(device)\n",
    "model_palo_alto, train_losses = train_city('palo-alto', batch_size = 64, epochs = 20, model = model)\n",
    "val_loss(model_palo_alto, 'palo-alto', batch_size = 128)\n",
    "plt.plot(train_losses)\n",
    "plt.xlabel('Training Step')\n",
    "plt.ylabel('MSE')"
   ]
  },
  {
   "cell_type": "code",
   "execution_count": 314,
   "id": "eb057840",
   "metadata": {},
   "outputs": [
    {
     "name": "stdout",
     "output_type": "stream",
     "text": [
      "tensor([1583.1328, 1583.1328, 1583.1328, 1583.1328, 1583.1328, 1583.1328,\n",
      "        1583.1328, 1583.1328, 1583.1328, 1583.1328], dtype=torch.float64)\n",
      "tensor(560652.4120, device='cuda:0', dtype=torch.float64)\n"
     ]
    }
   ],
   "source": [
    "for i_batch, sample_batch in enumerate(train_loader):\n",
    "    inp, out, global_mean, global_std = sample_batch\n",
    "            \n",
    "    inp = inp.float().cuda() \n",
    "    out = out.float()\n",
    "    print(global_std)\n",
    "    out = (out*global_std[0] + global_mean[0]).cuda()\n",
    "                \n",
    "            # prediction\n",
    "    preds = model(inp).cuda()\n",
    "    inverse_preds = (pred*global_std[0] + global_mean[0]).cuda()\n",
    "    \n",
    "    loss = loss_func(inverse_preds, out)\n",
    "    print(loss/len(inp))\n",
    "    break"
   ]
  },
  {
   "cell_type": "markdown",
   "id": "af437a3a-2ca4-448b-97d9-7ee9c0218705",
   "metadata": {},
   "source": [
    "# Make Predictions"
   ]
  },
  {
   "cell_type": "code",
   "execution_count": 340,
   "id": "b1cb0027-205a-46ca-ad37-7e5bb6a99dc1",
   "metadata": {},
   "outputs": [],
   "source": [
    "cities = [\"austin\", \"miami\", \"pittsburgh\", \"dearborn\", \"washington-dc\", \"palo-alto\"]\n",
    "models = [model_austin, model_miami, model_pittsburgh, model_dearborn, model_washington_dc, model_palo_alto]"
   ]
  },
  {
   "cell_type": "code",
   "execution_count": 341,
   "id": "ba8db468-cc50-4653-b31a-9209056c25f8",
   "metadata": {},
   "outputs": [],
   "source": [
    "def predict_test(city, model):\n",
    "    standard_inputs, standard_targets, global_mean, global_std = get_city_trajectories(city = city, split = 'test')\n",
    "    standard_inputs = torch.from_numpy(standard_inputs).float().cuda()\n",
    "    pred = model_austin(standard_inputs).detach()\n",
    "    print(pred.shape)\n",
    "    inverse_preds = (pred*global_std + global_mean)\n",
    "    inverse_preds = inverse_preds.reshape(-1, 120)\n",
    "    return pd.DataFrame(inverse_preds.numpy())"
   ]
  },
  {
   "cell_type": "code",
   "execution_count": 342,
   "id": "9461fe18-3aa0-4fe1-b170-4536b42b10e7",
   "metadata": {},
   "outputs": [],
   "source": [
    "columns =['ID'] + ['v'+str(i) for i in range(120)]"
   ]
  },
  {
   "cell_type": "code",
   "execution_count": 343,
   "id": "7ffd5f7c-90ec-4cd5-980c-81597d2731da",
   "metadata": {},
   "outputs": [],
   "source": [
    "def predict_all(cities, models):\n",
    "    out = predict_test(cities[0], models[0]).reset_index()\n",
    "    out.columns = columns\n",
    "    out['ID'] = out['ID'].astype(str) + '_' + cities[0]\n",
    "    \n",
    "    for city, model in zip(cities[1:], models[1:]):\n",
    "        temp = predict_test(city, model).reset_index()\n",
    "        temp.columns = columns\n",
    "        temp['ID'] = temp['ID'].astype(str) + '_' + city\n",
    "        out = pd.concat([out, temp])\n",
    "    \n",
    "    return out        "
   ]
  },
  {
   "cell_type": "code",
   "execution_count": 344,
   "id": "5a4b23dd-53bd-42ba-b09d-1e651be8a618",
   "metadata": {},
   "outputs": [
    {
     "name": "stdout",
     "output_type": "stream",
     "text": [
      "torch.Size([6325, 60, 2])\n",
      "torch.Size([7971, 60, 2])\n",
      "torch.Size([6361, 60, 2])\n",
      "torch.Size([3671, 60, 2])\n",
      "torch.Size([3829, 60, 2])\n",
      "torch.Size([1686, 60, 2])\n"
     ]
    }
   ],
   "source": [
    "test_output = predict_all(cities, models)"
   ]
  },
  {
   "cell_type": "code",
   "execution_count": 345,
   "id": "4756b051-2523-405f-8740-efd0a0fe6747",
   "metadata": {},
   "outputs": [
    {
     "data": {
      "text/html": [
       "<div>\n",
       "<style scoped>\n",
       "    .dataframe tbody tr th:only-of-type {\n",
       "        vertical-align: middle;\n",
       "    }\n",
       "\n",
       "    .dataframe tbody tr th {\n",
       "        vertical-align: top;\n",
       "    }\n",
       "\n",
       "    .dataframe thead th {\n",
       "        text-align: right;\n",
       "    }\n",
       "</style>\n",
       "<table border=\"1\" class=\"dataframe\">\n",
       "  <thead>\n",
       "    <tr style=\"text-align: right;\">\n",
       "      <th></th>\n",
       "      <th>ID</th>\n",
       "      <th>v0</th>\n",
       "      <th>v1</th>\n",
       "      <th>v2</th>\n",
       "      <th>v3</th>\n",
       "      <th>v4</th>\n",
       "      <th>v5</th>\n",
       "      <th>v6</th>\n",
       "      <th>v7</th>\n",
       "      <th>v8</th>\n",
       "      <th>...</th>\n",
       "      <th>v110</th>\n",
       "      <th>v111</th>\n",
       "      <th>v112</th>\n",
       "      <th>v113</th>\n",
       "      <th>v114</th>\n",
       "      <th>v115</th>\n",
       "      <th>v116</th>\n",
       "      <th>v117</th>\n",
       "      <th>v118</th>\n",
       "      <th>v119</th>\n",
       "    </tr>\n",
       "  </thead>\n",
       "  <tbody>\n",
       "    <tr>\n",
       "      <th>0</th>\n",
       "      <td>0_austin</td>\n",
       "      <td>9.587603</td>\n",
       "      <td>-582.773312</td>\n",
       "      <td>-4.676252</td>\n",
       "      <td>-572.883664</td>\n",
       "      <td>-2.126020</td>\n",
       "      <td>-576.943204</td>\n",
       "      <td>-3.786237</td>\n",
       "      <td>-575.938779</td>\n",
       "      <td>-6.341230</td>\n",
       "      <td>...</td>\n",
       "      <td>-8.490033</td>\n",
       "      <td>-572.470609</td>\n",
       "      <td>-8.490033</td>\n",
       "      <td>-572.470578</td>\n",
       "      <td>-8.490033</td>\n",
       "      <td>-572.470609</td>\n",
       "      <td>-8.489911</td>\n",
       "      <td>-572.470639</td>\n",
       "      <td>-8.490033</td>\n",
       "      <td>-572.470578</td>\n",
       "    </tr>\n",
       "    <tr>\n",
       "      <th>1</th>\n",
       "      <td>1_austin</td>\n",
       "      <td>-336.183393</td>\n",
       "      <td>10.828860</td>\n",
       "      <td>-344.138837</td>\n",
       "      <td>16.278812</td>\n",
       "      <td>-340.177778</td>\n",
       "      <td>4.852969</td>\n",
       "      <td>-339.410077</td>\n",
       "      <td>3.762393</td>\n",
       "      <td>-340.220990</td>\n",
       "      <td>...</td>\n",
       "      <td>-340.689496</td>\n",
       "      <td>4.523563</td>\n",
       "      <td>-340.689496</td>\n",
       "      <td>4.523563</td>\n",
       "      <td>-340.689496</td>\n",
       "      <td>4.523685</td>\n",
       "      <td>-340.689496</td>\n",
       "      <td>4.523685</td>\n",
       "      <td>-340.689496</td>\n",
       "      <td>4.523563</td>\n",
       "    </tr>\n",
       "    <tr>\n",
       "      <th>2</th>\n",
       "      <td>2_austin</td>\n",
       "      <td>59.663653</td>\n",
       "      <td>-264.203854</td>\n",
       "      <td>54.926776</td>\n",
       "      <td>-247.388669</td>\n",
       "      <td>59.517413</td>\n",
       "      <td>-254.893308</td>\n",
       "      <td>59.192034</td>\n",
       "      <td>-255.729672</td>\n",
       "      <td>57.812884</td>\n",
       "      <td>...</td>\n",
       "      <td>58.210467</td>\n",
       "      <td>-253.223141</td>\n",
       "      <td>58.210467</td>\n",
       "      <td>-253.223141</td>\n",
       "      <td>58.210467</td>\n",
       "      <td>-253.223141</td>\n",
       "      <td>58.210467</td>\n",
       "      <td>-253.223141</td>\n",
       "      <td>58.210467</td>\n",
       "      <td>-253.223141</td>\n",
       "    </tr>\n",
       "    <tr>\n",
       "      <th>3</th>\n",
       "      <td>3_austin</td>\n",
       "      <td>-111.575177</td>\n",
       "      <td>1777.724734</td>\n",
       "      <td>-100.332746</td>\n",
       "      <td>1781.013797</td>\n",
       "      <td>-103.763959</td>\n",
       "      <td>1775.614871</td>\n",
       "      <td>-107.080243</td>\n",
       "      <td>1774.445682</td>\n",
       "      <td>-108.572309</td>\n",
       "      <td>...</td>\n",
       "      <td>-106.525800</td>\n",
       "      <td>1772.231082</td>\n",
       "      <td>-106.525739</td>\n",
       "      <td>1772.231326</td>\n",
       "      <td>-106.525800</td>\n",
       "      <td>1772.231082</td>\n",
       "      <td>-106.525739</td>\n",
       "      <td>1772.231082</td>\n",
       "      <td>-106.525739</td>\n",
       "      <td>1772.231082</td>\n",
       "    </tr>\n",
       "    <tr>\n",
       "      <th>4</th>\n",
       "      <td>4_austin</td>\n",
       "      <td>1144.510760</td>\n",
       "      <td>-655.563535</td>\n",
       "      <td>1182.343280</td>\n",
       "      <td>-639.340039</td>\n",
       "      <td>1185.631182</td>\n",
       "      <td>-635.764478</td>\n",
       "      <td>1185.460528</td>\n",
       "      <td>-635.585416</td>\n",
       "      <td>1185.999163</td>\n",
       "      <td>...</td>\n",
       "      <td>1191.647235</td>\n",
       "      <td>-638.669492</td>\n",
       "      <td>1191.647235</td>\n",
       "      <td>-638.669492</td>\n",
       "      <td>1191.647235</td>\n",
       "      <td>-638.669492</td>\n",
       "      <td>1191.647235</td>\n",
       "      <td>-638.669507</td>\n",
       "      <td>1191.647235</td>\n",
       "      <td>-638.669492</td>\n",
       "    </tr>\n",
       "    <tr>\n",
       "      <th>...</th>\n",
       "      <td>...</td>\n",
       "      <td>...</td>\n",
       "      <td>...</td>\n",
       "      <td>...</td>\n",
       "      <td>...</td>\n",
       "      <td>...</td>\n",
       "      <td>...</td>\n",
       "      <td>...</td>\n",
       "      <td>...</td>\n",
       "      <td>...</td>\n",
       "      <td>...</td>\n",
       "      <td>...</td>\n",
       "      <td>...</td>\n",
       "      <td>...</td>\n",
       "      <td>...</td>\n",
       "      <td>...</td>\n",
       "      <td>...</td>\n",
       "      <td>...</td>\n",
       "      <td>...</td>\n",
       "      <td>...</td>\n",
       "      <td>...</td>\n",
       "    </tr>\n",
       "    <tr>\n",
       "      <th>1681</th>\n",
       "      <td>1681_palo-alto</td>\n",
       "      <td>-1404.128850</td>\n",
       "      <td>-456.584702</td>\n",
       "      <td>-1408.924871</td>\n",
       "      <td>-488.509507</td>\n",
       "      <td>-1397.219609</td>\n",
       "      <td>-474.906235</td>\n",
       "      <td>-1400.595220</td>\n",
       "      <td>-474.243759</td>\n",
       "      <td>-1408.439946</td>\n",
       "      <td>...</td>\n",
       "      <td>-1422.831792</td>\n",
       "      <td>-483.260849</td>\n",
       "      <td>-1422.831792</td>\n",
       "      <td>-483.260849</td>\n",
       "      <td>-1422.831792</td>\n",
       "      <td>-483.260849</td>\n",
       "      <td>-1422.831792</td>\n",
       "      <td>-483.260849</td>\n",
       "      <td>-1422.831792</td>\n",
       "      <td>-483.260849</td>\n",
       "    </tr>\n",
       "    <tr>\n",
       "      <th>1682</th>\n",
       "      <td>1682_palo-alto</td>\n",
       "      <td>118.595698</td>\n",
       "      <td>-36.529038</td>\n",
       "      <td>112.941462</td>\n",
       "      <td>-27.441025</td>\n",
       "      <td>118.433284</td>\n",
       "      <td>-0.421006</td>\n",
       "      <td>120.554072</td>\n",
       "      <td>-0.579087</td>\n",
       "      <td>118.409541</td>\n",
       "      <td>...</td>\n",
       "      <td>114.212703</td>\n",
       "      <td>-5.596909</td>\n",
       "      <td>114.212703</td>\n",
       "      <td>-5.596909</td>\n",
       "      <td>114.212703</td>\n",
       "      <td>-5.596909</td>\n",
       "      <td>114.212642</td>\n",
       "      <td>-5.596909</td>\n",
       "      <td>114.212703</td>\n",
       "      <td>-5.596909</td>\n",
       "    </tr>\n",
       "    <tr>\n",
       "      <th>1683</th>\n",
       "      <td>1683_palo-alto</td>\n",
       "      <td>-1434.108892</td>\n",
       "      <td>2157.523269</td>\n",
       "      <td>-1434.535588</td>\n",
       "      <td>2157.378067</td>\n",
       "      <td>-1432.972783</td>\n",
       "      <td>2152.016189</td>\n",
       "      <td>-1432.524480</td>\n",
       "      <td>2152.191971</td>\n",
       "      <td>-1432.806951</td>\n",
       "      <td>...</td>\n",
       "      <td>-1432.895574</td>\n",
       "      <td>2152.044693</td>\n",
       "      <td>-1432.895635</td>\n",
       "      <td>2152.044693</td>\n",
       "      <td>-1432.895635</td>\n",
       "      <td>2152.044693</td>\n",
       "      <td>-1432.895635</td>\n",
       "      <td>2152.044693</td>\n",
       "      <td>-1432.895635</td>\n",
       "      <td>2152.044693</td>\n",
       "    </tr>\n",
       "    <tr>\n",
       "      <th>1684</th>\n",
       "      <td>1684_palo-alto</td>\n",
       "      <td>989.571895</td>\n",
       "      <td>1305.225334</td>\n",
       "      <td>1056.675776</td>\n",
       "      <td>1328.099647</td>\n",
       "      <td>1047.561641</td>\n",
       "      <td>1323.773407</td>\n",
       "      <td>1045.085566</td>\n",
       "      <td>1320.708923</td>\n",
       "      <td>1039.849971</td>\n",
       "      <td>...</td>\n",
       "      <td>1029.502070</td>\n",
       "      <td>1328.221626</td>\n",
       "      <td>1029.501948</td>\n",
       "      <td>1328.221626</td>\n",
       "      <td>1029.502070</td>\n",
       "      <td>1328.221626</td>\n",
       "      <td>1029.502070</td>\n",
       "      <td>1328.221611</td>\n",
       "      <td>1029.502070</td>\n",
       "      <td>1328.221595</td>\n",
       "    </tr>\n",
       "    <tr>\n",
       "      <th>1685</th>\n",
       "      <td>1685_palo-alto</td>\n",
       "      <td>-66.355962</td>\n",
       "      <td>443.809158</td>\n",
       "      <td>-55.846990</td>\n",
       "      <td>416.725723</td>\n",
       "      <td>-54.636174</td>\n",
       "      <td>428.752090</td>\n",
       "      <td>-51.891789</td>\n",
       "      <td>428.067703</td>\n",
       "      <td>-51.392888</td>\n",
       "      <td>...</td>\n",
       "      <td>-51.243169</td>\n",
       "      <td>423.503433</td>\n",
       "      <td>-51.243169</td>\n",
       "      <td>423.503372</td>\n",
       "      <td>-51.243169</td>\n",
       "      <td>423.503372</td>\n",
       "      <td>-51.243169</td>\n",
       "      <td>423.503433</td>\n",
       "      <td>-51.243169</td>\n",
       "      <td>423.503372</td>\n",
       "    </tr>\n",
       "  </tbody>\n",
       "</table>\n",
       "<p>29843 rows × 121 columns</p>\n",
       "</div>"
      ],
      "text/plain": [
       "                  ID           v0           v1           v2           v3  \\\n",
       "0           0_austin     9.587603  -582.773312    -4.676252  -572.883664   \n",
       "1           1_austin  -336.183393    10.828860  -344.138837    16.278812   \n",
       "2           2_austin    59.663653  -264.203854    54.926776  -247.388669   \n",
       "3           3_austin  -111.575177  1777.724734  -100.332746  1781.013797   \n",
       "4           4_austin  1144.510760  -655.563535  1182.343280  -639.340039   \n",
       "...              ...          ...          ...          ...          ...   \n",
       "1681  1681_palo-alto -1404.128850  -456.584702 -1408.924871  -488.509507   \n",
       "1682  1682_palo-alto   118.595698   -36.529038   112.941462   -27.441025   \n",
       "1683  1683_palo-alto -1434.108892  2157.523269 -1434.535588  2157.378067   \n",
       "1684  1684_palo-alto   989.571895  1305.225334  1056.675776  1328.099647   \n",
       "1685  1685_palo-alto   -66.355962   443.809158   -55.846990   416.725723   \n",
       "\n",
       "               v4           v5           v6           v7           v8  ...  \\\n",
       "0       -2.126020  -576.943204    -3.786237  -575.938779    -6.341230  ...   \n",
       "1     -340.177778     4.852969  -339.410077     3.762393  -340.220990  ...   \n",
       "2       59.517413  -254.893308    59.192034  -255.729672    57.812884  ...   \n",
       "3     -103.763959  1775.614871  -107.080243  1774.445682  -108.572309  ...   \n",
       "4     1185.631182  -635.764478  1185.460528  -635.585416  1185.999163  ...   \n",
       "...           ...          ...          ...          ...          ...  ...   \n",
       "1681 -1397.219609  -474.906235 -1400.595220  -474.243759 -1408.439946  ...   \n",
       "1682   118.433284    -0.421006   120.554072    -0.579087   118.409541  ...   \n",
       "1683 -1432.972783  2152.016189 -1432.524480  2152.191971 -1432.806951  ...   \n",
       "1684  1047.561641  1323.773407  1045.085566  1320.708923  1039.849971  ...   \n",
       "1685   -54.636174   428.752090   -51.891789   428.067703   -51.392888  ...   \n",
       "\n",
       "             v110         v111         v112         v113         v114  \\\n",
       "0       -8.490033  -572.470609    -8.490033  -572.470578    -8.490033   \n",
       "1     -340.689496     4.523563  -340.689496     4.523563  -340.689496   \n",
       "2       58.210467  -253.223141    58.210467  -253.223141    58.210467   \n",
       "3     -106.525800  1772.231082  -106.525739  1772.231326  -106.525800   \n",
       "4     1191.647235  -638.669492  1191.647235  -638.669492  1191.647235   \n",
       "...           ...          ...          ...          ...          ...   \n",
       "1681 -1422.831792  -483.260849 -1422.831792  -483.260849 -1422.831792   \n",
       "1682   114.212703    -5.596909   114.212703    -5.596909   114.212703   \n",
       "1683 -1432.895574  2152.044693 -1432.895635  2152.044693 -1432.895635   \n",
       "1684  1029.502070  1328.221626  1029.501948  1328.221626  1029.502070   \n",
       "1685   -51.243169   423.503433   -51.243169   423.503372   -51.243169   \n",
       "\n",
       "             v115         v116         v117         v118         v119  \n",
       "0     -572.470609    -8.489911  -572.470639    -8.490033  -572.470578  \n",
       "1        4.523685  -340.689496     4.523685  -340.689496     4.523563  \n",
       "2     -253.223141    58.210467  -253.223141    58.210467  -253.223141  \n",
       "3     1772.231082  -106.525739  1772.231082  -106.525739  1772.231082  \n",
       "4     -638.669492  1191.647235  -638.669507  1191.647235  -638.669492  \n",
       "...           ...          ...          ...          ...          ...  \n",
       "1681  -483.260849 -1422.831792  -483.260849 -1422.831792  -483.260849  \n",
       "1682    -5.596909   114.212642    -5.596909   114.212703    -5.596909  \n",
       "1683  2152.044693 -1432.895635  2152.044693 -1432.895635  2152.044693  \n",
       "1684  1328.221626  1029.502070  1328.221611  1029.502070  1328.221595  \n",
       "1685   423.503372   -51.243169   423.503433   -51.243169   423.503372  \n",
       "\n",
       "[29843 rows x 121 columns]"
      ]
     },
     "execution_count": 345,
     "metadata": {},
     "output_type": "execute_result"
    }
   ],
   "source": [
    "test_output"
   ]
  },
  {
   "cell_type": "code",
   "execution_count": 346,
   "id": "13fd7baf-3157-4d67-8615-4f56baee7788",
   "metadata": {},
   "outputs": [],
   "source": [
    "test_output.to_csv('test_output.csv', index=False)"
   ]
  },
  {
   "cell_type": "markdown",
   "id": "dfb2c407-515c-43e1-b38e-02cc183a6a01",
   "metadata": {},
   "source": [
    "# Visualization"
   ]
  },
  {
   "cell_type": "code",
   "execution_count": 361,
   "id": "f89a240b-e905-4a87-a53c-5b72f9d0ed5b",
   "metadata": {},
   "outputs": [],
   "source": [
    "train_dataset, val_dataset, train_loader, val_loader = get_data_loader(city = 'austin', batch_size = 10)"
   ]
  },
  {
   "cell_type": "code",
   "execution_count": 362,
   "id": "eef3ebdb-cfd8-454e-83bd-402312b2e393",
   "metadata": {},
   "outputs": [
    {
     "name": "stdout",
     "output_type": "stream",
     "text": [
      "torch.Size([10, 60, 2])\n"
     ]
    },
    {
     "data": {
      "image/png": "[encoded data removed]",
      "text/plain": [
       "<Figure size 1080x216 with 10 Axes>"
      ]
     },
     "metadata": {},
     "output_type": "display_data"
    },
    {
     "data": {
      "image/png": "[encoded data removed]",
      "text/plain": [
       "<Figure size 1080x216 with 10 Axes>"
      ]
     },
     "metadata": {},
     "output_type": "display_data"
    }
   ],
   "source": [
    "import matplotlib.pyplot as plt\n",
    "import random\n",
    "\n",
    "\n",
    "def show_sample_batch(sample_batch):\n",
    "    \"\"\"visualize the trajectory for a batch of samples\"\"\"\n",
    "    inp, out = sample_batch\n",
    "    batch_sz = inp.size(0)\n",
    "    agent_sz = inp.size(1)\n",
    "    \n",
    "    fig, axs = plt.subplots(1,batch_sz, figsize=(15, 3), facecolor='w', edgecolor='k')\n",
    "    fig.subplots_adjust(hspace = .5, wspace=.001)\n",
    "    axs = axs.ravel()   \n",
    "    for i in range(batch_sz):\n",
    "        axs[i].xaxis.set_ticks([])\n",
    "        axs[i].yaxis.set_ticks([])\n",
    "        \n",
    "        # first two feature dimensions are (x,y) positions\n",
    "        axs[i].scatter(inp[i,:,0], inp[i,:,1])\n",
    "        axs[i].scatter(out[i,:,0], out[i,:,1])\n",
    "\n",
    "        \n",
    "for i_batch, sample_batch in enumerate(train_loader):\n",
    "    if i_batch < 6: continue\n",
    "    inp, out, global_mean, global_std = sample_batch\n",
    "    inp = inp.float().cuda()\n",
    "    out = out.float().cuda()\n",
    "    \n",
    "    pred = model_austin(inp).detach()\n",
    "    #print(global_std[0])\n",
    "    #inverse_preds = pred*global_std[0] + global_mean[0]\n",
    "    #inp = inp.cpu()*global_std[0] + global_mean[0]\n",
    "    #out = out.cpu()*global_std[0] + global_mean[0]\n",
    "    \n",
    "    show_sample_batch([inp.cpu(), out.cpu()])\n",
    "    show_sample_batch([inp.cpu(), pred.cpu()])\n",
    "    print(pred.shape)\n",
    "    break"
   ]
  },
  {
   "cell_type": "code",
   "execution_count": null,
   "id": "5f1e6037-2e37-4545-b7e7-2a1788aa986e",
   "metadata": {},
   "outputs": [],
   "source": []
  },
  {
   "cell_type": "code",
   "execution_count": null,
   "id": "ac0018fd-f805-45f2-94c5-7c4cbcb35a86",
   "metadata": {},
   "outputs": [],
   "source": []
  }
 ],
 "metadata": {
  "kernelspec": {
   "display_name": "Python 3 (ipykernel)",
   "language": "python",
   "name": "python3"
  },
  "language_info": {
   "codemirror_mode": {
    "name": "ipython",
    "version": 3
   },
   "file_extension": ".py",
   "mimetype": "text/x-python",
   "name": "python",
   "nbconvert_exporter": "python",
   "pygments_lexer": "ipython3",
   "version": "3.9.5"
  }
 },
 "nbformat": 4,
 "nbformat_minor": 5
}
