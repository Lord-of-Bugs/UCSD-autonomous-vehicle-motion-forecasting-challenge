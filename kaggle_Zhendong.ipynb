{
 "cells": [
  {
   "cell_type": "markdown",
   "id": "b703767b",
   "metadata": {},
   "source": [
    "## Install the package dependencies before running this notebook"
   ]
  },
  {
   "cell_type": "code",
   "execution_count": 1,
   "id": "530fb747",
   "metadata": {},
   "outputs": [
    {
     "data": {
      "text/plain": [
       "'\\n    number of trajectories in each city\\n    # austin --  train: 43041 test: 6325 \\n    # miami -- train: 55029 test:7971\\n    # pittsburgh -- train: 43544 test: 6361\\n    # dearborn -- train: 24465 test: 3671\\n    # washington-dc -- train: 25744 test: 3829\\n    # palo-alto -- train:  11993 test:1686\\n\\n    trajectories sampled at 10HZ rate, input 5 seconds, output 6 seconds\\n    \\n'"
      ]
     },
     "execution_count": 1,
     "metadata": {},
     "output_type": "execute_result"
    }
   ],
   "source": [
    "import torch\n",
    "from torch.utils.data import Dataset, DataLoader\n",
    "import os, os.path \n",
    "import numpy \n",
    "import pickle\n",
    "import pandas as pd\n",
    "from glob import glob\n",
    "\n",
    "\n",
    "\"\"\"\n",
    "    number of trajectories in each city\n",
    "    # austin --  train: 43041 test: 6325 \n",
    "    # miami -- train: 55029 test:7971\n",
    "    # pittsburgh -- train: 43544 test: 6361\n",
    "    # dearborn -- train: 24465 test: 3671\n",
    "    # washington-dc -- train: 25744 test: 3829\n",
    "    # palo-alto -- train:  11993 test:1686\n",
    "\n",
    "    trajectories sampled at 10HZ rate, input 5 seconds, output 6 seconds\n",
    "    \n",
    "\"\"\""
   ]
  },
  {
   "cell_type": "markdown",
   "id": "e693331a",
   "metadata": {},
   "source": [
    "## Create a Torch.Dataset class for the training dataset"
   ]
  },
  {
   "cell_type": "code",
   "execution_count": 12,
   "id": "a5977e7e",
   "metadata": {},
   "outputs": [],
   "source": [
    "from glob import glob\n",
    "import pickle\n",
    "import numpy as np\n",
    "\n",
    "ROOT_PATH = \"./\"\n",
    "\n",
    "cities = [\"austin\", \"miami\", \"pittsburgh\", \"dearborn\", \"washington-dc\", \"palo-alto\"]\n",
    "splits = [\"train\", \"test\"]\n",
    "\n",
    "def get_city_trajectories(city=\"palo-alto\", split=\"train\", normalized=False):\n",
    "\n",
    "    \n",
    "    outputs = None\n",
    "    \n",
    "    if split==\"train\":\n",
    "        f_in = ROOT_PATH + split + \"/\" + city + \"_inputs\"\n",
    "        inputs = pickle.load(open(f_in, \"rb\"))\n",
    "        n = len(inputs)\n",
    "        inputs = np.asarray(inputs)[:int(n * 0.7)]\n",
    "        \n",
    "        f_out = ROOT_PATH + split + \"/\" + city + \"_outputs\"\n",
    "        outputs = pickle.load(open(f_out, \"rb\"))\n",
    "        outputs = np.asarray(outputs)[:int(n * 0.7)]\n",
    "        \n",
    "    elif split == 'val':\n",
    "        f_in = ROOT_PATH + 'train' + \"/\" + city + \"_inputs\"\n",
    "        inputs = pickle.load(open(f_in, \"rb\"))\n",
    "        n = len(inputs)\n",
    "        inputs = np.asarray(inputs)[int(n * 0.7):]\n",
    "        \n",
    "        f_out = ROOT_PATH + 'train' + \"/\" + city + \"_outputs\"\n",
    "        outputs = pickle.load(open(f_out, \"rb\"))\n",
    "        outputs = np.asarray(outputs)[int(n * 0.7):]\n",
    "    \n",
    "    else:\n",
    "        f_in = ROOT_PATH + split + \"/\" + city + \"_inputs\"\n",
    "        inputs = pickle.load(open(f_in, \"rb\"))\n",
    "        n = len(inputs)\n",
    "        inputs = np.asarray(inputs)\n",
    "\n",
    "    return inputs, outputs\n",
    "\n",
    "class ArgoverseDataset(Dataset):\n",
    "    \"\"\"Dataset class for Argoverse\"\"\"\n",
    "    def __init__(self, city: str, split:str, transform=None):\n",
    "        super(ArgoverseDataset, self).__init__()\n",
    "        self.transform = transform\n",
    "\n",
    "        self.inputs, self.outputs = get_city_trajectories(city=city, split=split, normalized=False)\n",
    "\n",
    "    def __len__(self):\n",
    "        return len(self.inputs)\n",
    "\n",
    "    def __getitem__(self, idx):\n",
    "\n",
    "        data = (self.inputs[idx], self.outputs[idx])\n",
    "            \n",
    "        if self.transform:\n",
    "            data = self.transform(data)\n",
    "\n",
    "        return data"
   ]
  },
  {
   "cell_type": "code",
   "execution_count": 13,
   "id": "3b14fb85-ac97-4bec-a307-6255b705825c",
   "metadata": {},
   "outputs": [],
   "source": [
    "# intialize a dataset\n",
    "def get_data_loader(city = 'austin', batch_size = 20):\n",
    "    train_dataset  = ArgoverseDataset(city = city, split = 'train')\n",
    "    val_dataset = ArgoverseDataset(city = city, split = 'val')\n",
    "\n",
    "    train_loader = DataLoader(train_dataset,batch_size=batch_size)\n",
    "    val_loader = DataLoader(val_dataset,batch_size=batch_size)\n",
    "    return train_dataset, val_dataset, train_loader, val_loader"
   ]
  },
  {
   "cell_type": "code",
   "execution_count": 14,
   "id": "b43d7b9d-c7f5-4ee3-ac7a-762c2e486113",
   "metadata": {},
   "outputs": [],
   "source": [
    "train_dataset, val_dataset, train_loader, val_loader = get_data_loader(city = 'austin', batch_size = 20)"
   ]
  },
  {
   "cell_type": "code",
   "execution_count": 15,
   "id": "f01aed22",
   "metadata": {},
   "outputs": [
    {
     "data": {
      "text/plain": [
       "12913"
      ]
     },
     "execution_count": 15,
     "metadata": {},
     "output_type": "execute_result"
    }
   ],
   "source": [
    "len(val_dataset)"
   ]
  },
  {
   "cell_type": "code",
   "execution_count": 17,
   "id": "075abd9d-1282-4d60-8918-d8bf80ce0b6b",
   "metadata": {},
   "outputs": [
    {
     "data": {
      "text/plain": [
       "30128"
      ]
     },
     "execution_count": 17,
     "metadata": {},
     "output_type": "execute_result"
    }
   ],
   "source": [
    "len(train_dataset)"
   ]
  },
  {
   "cell_type": "markdown",
   "id": "ac92ceab",
   "metadata": {},
   "source": [
    "## Create a DataLoader class for training"
   ]
  },
  {
   "cell_type": "code",
   "execution_count": 18,
   "id": "7eb4131c",
   "metadata": {},
   "outputs": [],
   "source": [
    "from torch import nn, optim\n",
    "\n",
    "# model\n",
    "class EncoderDecoder(nn.Module):\n",
    "\n",
    "    def __init__(self):\n",
    "        super().__init__()\n",
    "        \n",
    "        self.encoder = nn.Sequential(\n",
    "            nn.Linear(100, 64),\n",
    "            nn.LogSigmoid(),\n",
    "            nn.Linear(64, 32),\n",
    "            nn.LogSigmoid(),\n",
    "            nn.Linear(32, 32)\n",
    "        )\n",
    "        \n",
    "        self.decoder = nn.Sequential(\n",
    "            nn.Linear(32, 64),\n",
    "            nn.LogSigmoid(),\n",
    "            nn.Linear(64, 120),\n",
    "            nn.LogSigmoid(),\n",
    "            nn.Linear(120, 120)\n",
    "        )\n",
    "        \n",
    "    def forward(self, x):\n",
    "        x = x.reshape(-1, 100).float()\n",
    "        x = self.encoder(x)\n",
    "        x = self.decoder(x)\n",
    "        x = x.reshape(-1, 60, 2)\n",
    "        return x.float()"
   ]
  },
  {
   "cell_type": "code",
   "execution_count": 19,
   "id": "3b6c7dda",
   "metadata": {},
   "outputs": [],
   "source": [
    "# model, optimizer, loss\n",
    "model_encdoc = EncoderDecoder()\n",
    "opt = optim.Adam(model_encdoc.parameters(), lr=1e-3)\n",
    "loss_func = nn.MSELoss()"
   ]
  },
  {
   "cell_type": "code",
   "execution_count": 25,
   "id": "7bf9f9ee-95a2-48c4-93a0-8de88b81949c",
   "metadata": {},
   "outputs": [],
   "source": [
    "def train_epochs(model, train_loader, loss_func, opt, epochs = 10):\n",
    "    train_losses = []\n",
    "    for epoch in range(epochs):\n",
    "\n",
    "        total_loss = 0\n",
    "        for i_batch, sample_batch in enumerate(train_loader):\n",
    "            inp, out = sample_batch\n",
    "            out = out.float()\n",
    "            preds = model(inp)\n",
    "            #loss = loss_func(preds, out) # MSE\n",
    "            loss = torch.sqrt(loss_func(preds, out)) # RMSE\n",
    "\n",
    "            opt.zero_grad()\n",
    "            loss.backward()\n",
    "            opt.step()\n",
    "\n",
    "            total_loss += loss.item()\n",
    "\n",
    "        print('epoch {} trian loss: {}'.format(epoch, total_loss / len(train_dataset)))\n",
    "        train_losses.append(total_loss / len(train_dataset))\n",
    "    return train_losses"
   ]
  },
  {
   "cell_type": "code",
   "execution_count": 26,
   "id": "48fe1276",
   "metadata": {},
   "outputs": [],
   "source": [
    "def val_loss(model, val_loader, loss_func, opt):\n",
    "    val_loss = 0\n",
    "    for i_batch, sample_batch in enumerate(val_loader):\n",
    "        inp, out = sample_batch\n",
    "        out = out.float()\n",
    "        preds = model(inp)\n",
    "        #loss = loss_func(preds, out) # MSE\n",
    "        loss = torch.sqrt(loss_func(preds, out)) # RMSE\n",
    "\n",
    "        val_loss += loss.item()\n",
    "    print('val loss: {}'.format(val_loss / len(val_dataset)))"
   ]
  },
  {
   "cell_type": "code",
   "execution_count": 29,
   "id": "dcebc7ad-3284-4d38-85e6-104c655fe42b",
   "metadata": {},
   "outputs": [],
   "source": [
    "def train_city(city, batch_size, epochs):\n",
    "    # data loader\n",
    "    train_dataset, val_dataset, train_loader, val_loader = get_data_loader(city = city, batch_size = batch_size)\n",
    "    \n",
    "    # model, optimizer, loss\n",
    "    model_encdoc = EncoderDecoder()\n",
    "    opt = optim.Adam(model_encdoc.parameters(), lr=1e-3)\n",
    "    loss_func = nn.MSELoss()\n",
    "    \n",
    "    # train\n",
    "    train_losses = train_epochs(model_encdoc, train_loader, loss_func, opt, epochs = epochs)\n",
    "    \n",
    "    # evaluate\n",
    "    # val_loss(model_encdoc, val_loader, loss_func, opt)\n",
    "    return model_encdoc, train_losses"
   ]
  },
  {
   "cell_type": "code",
   "execution_count": 30,
   "id": "f4220c59-f939-499f-881b-87d4847a2838",
   "metadata": {},
   "outputs": [
    {
     "name": "stdout",
     "output_type": "stream",
     "text": [
      "epoch 0 trian loss: 3.8712503755592755\n",
      "epoch 1 trian loss: 2.2472606344673776\n",
      "epoch 2 trian loss: 2.1052226749937772\n",
      "epoch 3 trian loss: 2.0074980241215363\n",
      "epoch 4 trian loss: 1.926057252742101\n",
      "epoch 5 trian loss: 1.7620608127313413\n",
      "epoch 6 trian loss: 1.6410960385094155\n",
      "epoch 7 trian loss: 1.5945127769093912\n",
      "epoch 8 trian loss: 1.464623523689114\n",
      "epoch 9 trian loss: 1.4166595462909481\n",
      "epoch 10 trian loss: 1.3592783154101684\n",
      "epoch 11 trian loss: 1.381533010773246\n",
      "epoch 12 trian loss: 1.310913631527334\n",
      "epoch 13 trian loss: 1.31184750288899\n",
      "epoch 14 trian loss: 1.2676308836888837\n",
      "epoch 15 trian loss: 1.2426282812861515\n",
      "epoch 16 trian loss: 1.2153757449736067\n",
      "epoch 17 trian loss: 1.2087015468771636\n",
      "epoch 18 trian loss: 1.2303059750013507\n",
      "epoch 19 trian loss: 1.1511819127133978\n",
      "epoch 20 trian loss: 1.1244135329334646\n",
      "epoch 21 trian loss: 1.1432800771261997\n",
      "epoch 22 trian loss: 1.101648683093421\n",
      "epoch 23 trian loss: 1.0846772994123997\n",
      "epoch 24 trian loss: 1.1104078340011267\n",
      "epoch 25 trian loss: 1.0840517400239162\n",
      "epoch 26 trian loss: 1.0805953029173205\n",
      "epoch 27 trian loss: 1.065019590609009\n",
      "epoch 28 trian loss: 1.0329913245637683\n",
      "epoch 29 trian loss: 1.0287783414331193\n"
     ]
    }
   ],
   "source": [
    "model_austin, train_losses = train_city('austin', batch_size = 20, epochs = 30)"
   ]
  },
  {
   "cell_type": "code",
   "execution_count": 36,
   "id": "d4763521-3177-4a75-b53b-290d52866670",
   "metadata": {},
   "outputs": [
    {
     "data": {
      "text/plain": [
       "Text(0, 0.5, 'RMSE')"
      ]
     },
     "execution_count": 36,
     "metadata": {},
     "output_type": "execute_result"
    },
    {
     "data": {
      "image/png": "[encoded data removed]",
      "text/plain": [
       "<Figure size 432x288 with 1 Axes>"
      ]
     },
     "metadata": {
      "needs_background": "light"
     },
     "output_type": "display_data"
    }
   ],
   "source": [
    "plt.plot(train_losses)\n",
    "plt.xlabel('Training Step')\n",
    "plt.ylabel('RMSE')"
   ]
  },
  {
   "cell_type": "code",
   "execution_count": 37,
   "id": "17b973ca-c5ee-47e5-bbbb-ac361a3c63ee",
   "metadata": {},
   "outputs": [
    {
     "name": "stdout",
     "output_type": "stream",
     "text": [
      "val loss: 1.3146179079280154\n"
     ]
    }
   ],
   "source": [
    "val_loss(model_austin, val_loader, loss_func, opt)"
   ]
  },
  {
   "cell_type": "code",
   "execution_count": 176,
   "id": "6ff6b57a-9089-4614-a20a-930462febdf2",
   "metadata": {},
   "outputs": [
    {
     "name": "stdout",
     "output_type": "stream",
     "text": [
      "epoch 0 trian loss: 6401.803402563971\n",
      "epoch 1 trian loss: 768.6511414222276\n",
      "epoch 2 trian loss: 319.62873915596106\n",
      "epoch 3 trian loss: 321.3759631255765\n",
      "epoch 4 trian loss: 320.65487731166417\n",
      "epoch 5 trian loss: 262.1034672198853\n",
      "epoch 6 trian loss: 220.05697251793143\n",
      "epoch 7 trian loss: 224.08320907777477\n",
      "epoch 8 trian loss: 209.19176567689001\n",
      "epoch 9 trian loss: 189.22740657291726\n",
      "epoch 10 trian loss: 180.82429336069606\n",
      "epoch 11 trian loss: 173.57667974050747\n",
      "epoch 12 trian loss: 153.4030981246641\n",
      "epoch 13 trian loss: 167.85443923676152\n",
      "epoch 14 trian loss: 134.98629042631475\n",
      "epoch 15 trian loss: 152.68894639040346\n",
      "epoch 16 trian loss: 138.38685141755053\n",
      "epoch 17 trian loss: 125.97099302568438\n",
      "epoch 18 trian loss: 122.62071852084554\n",
      "epoch 19 trian loss: 125.66676976816414\n",
      "epoch 20 trian loss: 117.48509480424154\n",
      "epoch 21 trian loss: 110.75070813494249\n",
      "epoch 22 trian loss: 116.62647214113886\n",
      "epoch 23 trian loss: 109.83087822533527\n",
      "epoch 24 trian loss: 107.35568654288208\n",
      "epoch 25 trian loss: 106.03104376616203\n",
      "epoch 26 trian loss: 104.20498083652649\n",
      "epoch 27 trian loss: 99.4991422239166\n",
      "epoch 28 trian loss: 101.31413552054313\n",
      "epoch 29 trian loss: 98.1321498521384\n"
     ]
    }
   ],
   "source": [
    "model_miami, train_losses = train_city('miami', batch_size = 18, epochs = 30)"
   ]
  },
  {
   "cell_type": "code",
   "execution_count": 177,
   "id": "efe0c8aa-5599-4aaa-8458-1afae20f0a7a",
   "metadata": {},
   "outputs": [
    {
     "name": "stdout",
     "output_type": "stream",
     "text": [
      "epoch 0 trian loss: 4910.0210082434205\n",
      "epoch 1 trian loss: 272.38400228458755\n",
      "epoch 2 trian loss: 235.36862706594098\n",
      "epoch 3 trian loss: 203.7011017085357\n",
      "epoch 4 trian loss: 176.15810602016657\n",
      "epoch 5 trian loss: 159.4210987285606\n",
      "epoch 6 trian loss: 142.57819149082653\n",
      "epoch 7 trian loss: 132.74049480109684\n",
      "epoch 8 trian loss: 120.84333300300808\n",
      "epoch 9 trian loss: 113.71307851326476\n",
      "epoch 10 trian loss: 104.2460804683552\n",
      "epoch 11 trian loss: 97.53317064906703\n",
      "epoch 12 trian loss: 90.78260533363911\n",
      "epoch 13 trian loss: 86.22737686629799\n",
      "epoch 14 trian loss: 83.67290679136812\n",
      "epoch 15 trian loss: 78.68139566207158\n",
      "epoch 16 trian loss: 76.43618753178463\n",
      "epoch 17 trian loss: 73.11150994126575\n",
      "epoch 18 trian loss: 69.01241889801703\n",
      "epoch 19 trian loss: 69.75408965441567\n",
      "epoch 20 trian loss: 68.12546889738357\n",
      "epoch 21 trian loss: 66.6433182561246\n",
      "epoch 22 trian loss: 63.865903346124924\n",
      "epoch 23 trian loss: 59.70080397132992\n",
      "epoch 24 trian loss: 59.03269318033585\n",
      "epoch 25 trian loss: 57.151096219469856\n",
      "epoch 26 trian loss: 55.0221604188383\n",
      "epoch 27 trian loss: 53.5042039860536\n",
      "epoch 28 trian loss: 52.30085317150334\n",
      "epoch 29 trian loss: 50.6191998245531\n"
     ]
    }
   ],
   "source": [
    "model_pittsburgh, train_losses = train_city('pittsburgh', batch_size = 10, epochs = 30)"
   ]
  },
  {
   "cell_type": "code",
   "execution_count": 178,
   "id": "ec3827fe-5a0a-4d7d-a6a9-9308c87fcd24",
   "metadata": {},
   "outputs": [
    {
     "name": "stdout",
     "output_type": "stream",
     "text": [
      "epoch 0 trian loss: 16644.805368652967\n",
      "epoch 1 trian loss: 49.611448007230294\n",
      "epoch 2 trian loss: 49.267435935108566\n",
      "epoch 3 trian loss: 52.96706797597422\n",
      "epoch 4 trian loss: 62.78010139156015\n",
      "epoch 5 trian loss: 65.5978205277517\n",
      "epoch 6 trian loss: 66.87703629481283\n",
      "epoch 7 trian loss: 66.22388616774467\n",
      "epoch 8 trian loss: 64.68020094632244\n",
      "epoch 9 trian loss: 63.41454177366857\n",
      "epoch 10 trian loss: 62.39289039538608\n",
      "epoch 11 trian loss: 60.941336895026325\n",
      "epoch 12 trian loss: 59.90744726100776\n",
      "epoch 13 trian loss: 58.615013934581\n",
      "epoch 14 trian loss: 59.29926443681606\n",
      "epoch 15 trian loss: 56.14922640644422\n",
      "epoch 16 trian loss: 55.309449397914655\n",
      "epoch 17 trian loss: 54.889673354410164\n",
      "epoch 18 trian loss: 54.310374173911754\n",
      "epoch 19 trian loss: 54.91671447690093\n",
      "epoch 20 trian loss: 50.956437594795155\n",
      "epoch 21 trian loss: 51.3681317092301\n",
      "epoch 22 trian loss: 49.793798652851535\n",
      "epoch 23 trian loss: 49.000627744192585\n",
      "epoch 24 trian loss: 49.54314333995765\n",
      "epoch 25 trian loss: 47.7778717513942\n",
      "epoch 26 trian loss: 46.38558652452431\n",
      "epoch 27 trian loss: 50.78431120641374\n",
      "epoch 28 trian loss: 51.99742276532115\n",
      "epoch 29 trian loss: 42.142546201405345\n"
     ]
    }
   ],
   "source": [
    "model_dearborn, train_losses = train_city('dearborn', batch_size = 35, epochs = 30)"
   ]
  },
  {
   "cell_type": "code",
   "execution_count": 179,
   "id": "22d80510-d4e0-407a-9bd1-d19b3280df9c",
   "metadata": {},
   "outputs": [
    {
     "name": "stdout",
     "output_type": "stream",
     "text": [
      "epoch 0 trian loss: 5078.021190643045\n",
      "epoch 1 trian loss: 60.68644464385157\n",
      "epoch 2 trian loss: 71.66835994875117\n",
      "epoch 3 trian loss: 67.94933518702892\n",
      "epoch 4 trian loss: 63.2911375457061\n",
      "epoch 5 trian loss: 62.17715359658092\n",
      "epoch 6 trian loss: 57.804245320209766\n",
      "epoch 7 trian loss: 56.218275429361\n",
      "epoch 8 trian loss: 55.9661314930992\n",
      "epoch 9 trian loss: 56.705059945341\n",
      "epoch 10 trian loss: 54.16928660369119\n",
      "epoch 11 trian loss: 50.70138603124124\n",
      "epoch 12 trian loss: 50.05056812611381\n",
      "epoch 13 trian loss: 48.05413368476628\n",
      "epoch 14 trian loss: 46.15345878846578\n",
      "epoch 15 trian loss: 46.03018449755983\n",
      "epoch 16 trian loss: 44.53610074426219\n",
      "epoch 17 trian loss: 42.283925581387194\n",
      "epoch 18 trian loss: 43.40038165074321\n",
      "epoch 19 trian loss: 39.57400035302005\n",
      "epoch 20 trian loss: 39.512716392821446\n",
      "epoch 21 trian loss: 37.682053590418555\n",
      "epoch 22 trian loss: 39.19015477404425\n",
      "epoch 23 trian loss: 34.75343335693796\n",
      "epoch 24 trian loss: 32.33202687773529\n",
      "epoch 25 trian loss: 31.969239406488644\n",
      "epoch 26 trian loss: 34.482605067325544\n",
      "epoch 27 trian loss: 29.260552965540285\n",
      "epoch 28 trian loss: 29.747963995537027\n",
      "epoch 29 trian loss: 28.736880220823696\n"
     ]
    }
   ],
   "source": [
    "model_washington_dc, train_losses = train_city('washington-dc', batch_size = 20, epochs = 30)"
   ]
  },
  {
   "cell_type": "code",
   "execution_count": 180,
   "id": "b9241cf9-e013-449a-8a5d-7bf79e60ed43",
   "metadata": {},
   "outputs": [
    {
     "name": "stdout",
     "output_type": "stream",
     "text": [
      "epoch 0 trian loss: 1266.9287511312796\n",
      "epoch 1 trian loss: 34.57949449129673\n",
      "epoch 2 trian loss: 38.7185149775659\n",
      "epoch 3 trian loss: 38.14457366731358\n",
      "epoch 4 trian loss: 38.72149365371644\n",
      "epoch 5 trian loss: 35.67104416405832\n",
      "epoch 6 trian loss: 34.99462669973288\n",
      "epoch 7 trian loss: 32.88418388300227\n",
      "epoch 8 trian loss: 32.52615688628239\n",
      "epoch 9 trian loss: 30.351243875241686\n",
      "epoch 10 trian loss: 30.449641024339893\n",
      "epoch 11 trian loss: 29.229552982293363\n",
      "epoch 12 trian loss: 28.6802183566784\n",
      "epoch 13 trian loss: 24.022090575871243\n",
      "epoch 14 trian loss: 20.447224517983216\n",
      "epoch 15 trian loss: 21.138352190234265\n",
      "epoch 16 trian loss: 19.065866601286828\n",
      "epoch 17 trian loss: 18.444375770380777\n",
      "epoch 18 trian loss: 15.051327804005647\n",
      "epoch 19 trian loss: 19.440579252774153\n",
      "epoch 20 trian loss: 13.263646914838695\n",
      "epoch 21 trian loss: 18.381532200350893\n",
      "epoch 22 trian loss: 14.565159900722271\n",
      "epoch 23 trian loss: 16.237433625526116\n",
      "epoch 24 trian loss: 14.49181270158434\n",
      "epoch 25 trian loss: 14.127053615475855\n",
      "epoch 26 trian loss: 15.836851848927477\n",
      "epoch 27 trian loss: 10.836008675775714\n",
      "epoch 28 trian loss: 13.62019596625869\n",
      "epoch 29 trian loss: 15.798981952283913\n"
     ]
    }
   ],
   "source": [
    "model_palo_alto, train_losses = train_city('palo-alto', batch_size = 20, epochs = 30)"
   ]
  },
  {
   "cell_type": "markdown",
   "id": "5562e425-6a2c-4489-af90-058619948e08",
   "metadata": {},
   "source": [
    "## Make Prediction"
   ]
  },
  {
   "cell_type": "code",
   "execution_count": 181,
   "id": "93ed9e61-c999-481e-b16e-0c9205e5d61f",
   "metadata": {},
   "outputs": [],
   "source": [
    "cities = [\"austin\", \"miami\", \"pittsburgh\", \"dearborn\", \"washington-dc\", \"palo-alto\"]\n",
    "models = [model_austin, model_miami, model_pittsburgh, model_dearborn, model_washington_dc, model_palo_alto]"
   ]
  },
  {
   "cell_type": "code",
   "execution_count": 182,
   "id": "148fa5fd-dd7b-47a2-b580-c3192d712c6f",
   "metadata": {},
   "outputs": [],
   "source": [
    "def predict_test(city, model):\n",
    "    test_dataset = get_city_trajectories(city = city, split = 'test')[0]\n",
    "    test_dataset = torch.from_numpy(test_dataset)\n",
    "    pred = model(test_dataset).reshape(-1, 120)\n",
    "    return pd.DataFrame(pred.detach().numpy())"
   ]
  },
  {
   "cell_type": "code",
   "execution_count": 183,
   "id": "d7eb81e3-2e8e-4ff3-b23e-f559134edfd4",
   "metadata": {},
   "outputs": [],
   "source": [
    "columns =['ID'] + ['v'+str(i) for i in range(120)]"
   ]
  },
  {
   "cell_type": "code",
   "execution_count": 184,
   "id": "945eb530-a029-4202-af4c-544c4cb7c980",
   "metadata": {},
   "outputs": [],
   "source": [
    "def predict_all(cities, models):\n",
    "    out = predict_test(cities[0], models[0]).reset_index()\n",
    "    out.columns = columns\n",
    "    out['ID'] = out['ID'].astype(str) + '_' + cities[0]\n",
    "    \n",
    "    for city, model in zip(cities[1:], models[1:]):\n",
    "        temp = predict_test(city, model).reset_index()\n",
    "        temp.columns = columns\n",
    "        temp['ID'] = temp['ID'].astype(str) + '_' + city\n",
    "        out = pd.concat([out, temp])\n",
    "    \n",
    "    return out        "
   ]
  },
  {
   "cell_type": "code",
   "execution_count": 185,
   "id": "220d0018-7cd1-4f9d-9206-be16d1fcbcaa",
   "metadata": {},
   "outputs": [],
   "source": [
    "test_output = predict_all(cities, models)"
   ]
  },
  {
   "cell_type": "code",
   "execution_count": 186,
   "id": "c204a7f3-c10c-4e23-8b7a-0dc89e69947c",
   "metadata": {},
   "outputs": [],
   "source": [
    "test_output.to_csv('test_output.csv', index=False)"
   ]
  },
  {
   "cell_type": "code",
   "execution_count": 187,
   "id": "a122ca27-b9ac-489f-ba37-2ffdbd16fb76",
   "metadata": {},
   "outputs": [
    {
     "data": {
      "text/html": [
       "<div>\n",
       "<style scoped>\n",
       "    .dataframe tbody tr th:only-of-type {\n",
       "        vertical-align: middle;\n",
       "    }\n",
       "\n",
       "    .dataframe tbody tr th {\n",
       "        vertical-align: top;\n",
       "    }\n",
       "\n",
       "    .dataframe thead th {\n",
       "        text-align: right;\n",
       "    }\n",
       "</style>\n",
       "<table border=\"1\" class=\"dataframe\">\n",
       "  <thead>\n",
       "    <tr style=\"text-align: right;\">\n",
       "      <th></th>\n",
       "      <th>ID</th>\n",
       "      <th>v0</th>\n",
       "      <th>v1</th>\n",
       "      <th>v2</th>\n",
       "      <th>v3</th>\n",
       "      <th>v4</th>\n",
       "      <th>v5</th>\n",
       "      <th>v6</th>\n",
       "      <th>v7</th>\n",
       "      <th>v8</th>\n",
       "      <th>...</th>\n",
       "      <th>v110</th>\n",
       "      <th>v111</th>\n",
       "      <th>v112</th>\n",
       "      <th>v113</th>\n",
       "      <th>v114</th>\n",
       "      <th>v115</th>\n",
       "      <th>v116</th>\n",
       "      <th>v117</th>\n",
       "      <th>v118</th>\n",
       "      <th>v119</th>\n",
       "    </tr>\n",
       "  </thead>\n",
       "  <tbody>\n",
       "    <tr>\n",
       "      <th>0</th>\n",
       "      <td>0_austin</td>\n",
       "      <td>-10.073917</td>\n",
       "      <td>-566.061401</td>\n",
       "      <td>-8.819520</td>\n",
       "      <td>-565.608826</td>\n",
       "      <td>-11.741660</td>\n",
       "      <td>-566.576843</td>\n",
       "      <td>-11.576724</td>\n",
       "      <td>-565.285645</td>\n",
       "      <td>-12.256501</td>\n",
       "      <td>...</td>\n",
       "      <td>-44.576900</td>\n",
       "      <td>-565.590393</td>\n",
       "      <td>-44.054443</td>\n",
       "      <td>-566.266052</td>\n",
       "      <td>-46.557812</td>\n",
       "      <td>-563.764038</td>\n",
       "      <td>-44.217758</td>\n",
       "      <td>-564.622009</td>\n",
       "      <td>-44.551910</td>\n",
       "      <td>-564.912109</td>\n",
       "    </tr>\n",
       "    <tr>\n",
       "      <th>1</th>\n",
       "      <td>1_austin</td>\n",
       "      <td>-342.686127</td>\n",
       "      <td>11.392192</td>\n",
       "      <td>-340.669342</td>\n",
       "      <td>10.488313</td>\n",
       "      <td>-341.599976</td>\n",
       "      <td>11.720736</td>\n",
       "      <td>-341.712524</td>\n",
       "      <td>10.373302</td>\n",
       "      <td>-340.428955</td>\n",
       "      <td>...</td>\n",
       "      <td>-341.368591</td>\n",
       "      <td>-8.623022</td>\n",
       "      <td>-342.578735</td>\n",
       "      <td>-8.707554</td>\n",
       "      <td>-343.319519</td>\n",
       "      <td>-5.805896</td>\n",
       "      <td>-342.187042</td>\n",
       "      <td>-6.541385</td>\n",
       "      <td>-339.858948</td>\n",
       "      <td>-6.626207</td>\n",
       "    </tr>\n",
       "    <tr>\n",
       "      <th>2</th>\n",
       "      <td>2_austin</td>\n",
       "      <td>51.151989</td>\n",
       "      <td>-248.709198</td>\n",
       "      <td>51.560665</td>\n",
       "      <td>-248.674286</td>\n",
       "      <td>50.831722</td>\n",
       "      <td>-248.799622</td>\n",
       "      <td>51.387207</td>\n",
       "      <td>-248.906815</td>\n",
       "      <td>51.333149</td>\n",
       "      <td>...</td>\n",
       "      <td>54.076885</td>\n",
       "      <td>-253.501297</td>\n",
       "      <td>54.503571</td>\n",
       "      <td>-253.615631</td>\n",
       "      <td>53.823456</td>\n",
       "      <td>-252.988678</td>\n",
       "      <td>54.417667</td>\n",
       "      <td>-253.362228</td>\n",
       "      <td>54.666046</td>\n",
       "      <td>-253.219437</td>\n",
       "    </tr>\n",
       "    <tr>\n",
       "      <th>3</th>\n",
       "      <td>3_austin</td>\n",
       "      <td>-9.816870</td>\n",
       "      <td>1731.381470</td>\n",
       "      <td>-7.283967</td>\n",
       "      <td>1741.485962</td>\n",
       "      <td>-8.684427</td>\n",
       "      <td>1731.078491</td>\n",
       "      <td>-8.787012</td>\n",
       "      <td>1722.190063</td>\n",
       "      <td>-1.411106</td>\n",
       "      <td>...</td>\n",
       "      <td>-18.215618</td>\n",
       "      <td>1685.937256</td>\n",
       "      <td>-25.361523</td>\n",
       "      <td>1678.974365</td>\n",
       "      <td>-15.586805</td>\n",
       "      <td>1677.517578</td>\n",
       "      <td>-18.559374</td>\n",
       "      <td>1676.607666</td>\n",
       "      <td>-25.935057</td>\n",
       "      <td>1675.115967</td>\n",
       "    </tr>\n",
       "    <tr>\n",
       "      <th>4</th>\n",
       "      <td>4_austin</td>\n",
       "      <td>1197.461548</td>\n",
       "      <td>-656.045288</td>\n",
       "      <td>1199.759399</td>\n",
       "      <td>-653.736450</td>\n",
       "      <td>1199.970581</td>\n",
       "      <td>-652.724304</td>\n",
       "      <td>1199.894653</td>\n",
       "      <td>-653.054993</td>\n",
       "      <td>1201.510010</td>\n",
       "      <td>...</td>\n",
       "      <td>1233.677002</td>\n",
       "      <td>-664.652954</td>\n",
       "      <td>1233.292358</td>\n",
       "      <td>-664.064331</td>\n",
       "      <td>1232.656738</td>\n",
       "      <td>-666.428833</td>\n",
       "      <td>1233.421143</td>\n",
       "      <td>-666.002869</td>\n",
       "      <td>1233.596680</td>\n",
       "      <td>-665.521423</td>\n",
       "    </tr>\n",
       "    <tr>\n",
       "      <th>...</th>\n",
       "      <td>...</td>\n",
       "      <td>...</td>\n",
       "      <td>...</td>\n",
       "      <td>...</td>\n",
       "      <td>...</td>\n",
       "      <td>...</td>\n",
       "      <td>...</td>\n",
       "      <td>...</td>\n",
       "      <td>...</td>\n",
       "      <td>...</td>\n",
       "      <td>...</td>\n",
       "      <td>...</td>\n",
       "      <td>...</td>\n",
       "      <td>...</td>\n",
       "      <td>...</td>\n",
       "      <td>...</td>\n",
       "      <td>...</td>\n",
       "      <td>...</td>\n",
       "      <td>...</td>\n",
       "      <td>...</td>\n",
       "      <td>...</td>\n",
       "    </tr>\n",
       "    <tr>\n",
       "      <th>1681</th>\n",
       "      <td>1681_palo-alto</td>\n",
       "      <td>-1416.252808</td>\n",
       "      <td>-492.051514</td>\n",
       "      <td>-1417.608154</td>\n",
       "      <td>-501.115509</td>\n",
       "      <td>-1413.636108</td>\n",
       "      <td>-496.180420</td>\n",
       "      <td>-1413.381348</td>\n",
       "      <td>-496.862274</td>\n",
       "      <td>-1413.135132</td>\n",
       "      <td>...</td>\n",
       "      <td>-1401.196045</td>\n",
       "      <td>-518.820984</td>\n",
       "      <td>-1406.902588</td>\n",
       "      <td>-515.420776</td>\n",
       "      <td>-1401.225098</td>\n",
       "      <td>-511.087738</td>\n",
       "      <td>-1399.512817</td>\n",
       "      <td>-521.496216</td>\n",
       "      <td>-1407.614502</td>\n",
       "      <td>-520.385132</td>\n",
       "    </tr>\n",
       "    <tr>\n",
       "      <th>1682</th>\n",
       "      <td>1682_palo-alto</td>\n",
       "      <td>122.822327</td>\n",
       "      <td>-13.106235</td>\n",
       "      <td>121.504395</td>\n",
       "      <td>-13.403252</td>\n",
       "      <td>122.575562</td>\n",
       "      <td>-12.750586</td>\n",
       "      <td>122.367661</td>\n",
       "      <td>-13.090666</td>\n",
       "      <td>122.222778</td>\n",
       "      <td>...</td>\n",
       "      <td>122.844223</td>\n",
       "      <td>-13.603163</td>\n",
       "      <td>123.076660</td>\n",
       "      <td>-13.461958</td>\n",
       "      <td>123.013084</td>\n",
       "      <td>-13.371545</td>\n",
       "      <td>122.435204</td>\n",
       "      <td>-12.216287</td>\n",
       "      <td>122.744949</td>\n",
       "      <td>-12.926801</td>\n",
       "    </tr>\n",
       "    <tr>\n",
       "      <th>1683</th>\n",
       "      <td>1683_palo-alto</td>\n",
       "      <td>-1432.258057</td>\n",
       "      <td>2131.601807</td>\n",
       "      <td>-1430.165283</td>\n",
       "      <td>2131.758301</td>\n",
       "      <td>-1435.506470</td>\n",
       "      <td>2128.292480</td>\n",
       "      <td>-1430.843872</td>\n",
       "      <td>2134.353760</td>\n",
       "      <td>-1430.633057</td>\n",
       "      <td>...</td>\n",
       "      <td>-1437.211670</td>\n",
       "      <td>2144.713623</td>\n",
       "      <td>-1436.333862</td>\n",
       "      <td>2147.031982</td>\n",
       "      <td>-1427.991333</td>\n",
       "      <td>2145.734131</td>\n",
       "      <td>-1435.092651</td>\n",
       "      <td>2144.250000</td>\n",
       "      <td>-1436.711670</td>\n",
       "      <td>2148.986328</td>\n",
       "    </tr>\n",
       "    <tr>\n",
       "      <th>1684</th>\n",
       "      <td>1684_palo-alto</td>\n",
       "      <td>1096.846069</td>\n",
       "      <td>1392.472046</td>\n",
       "      <td>1097.199585</td>\n",
       "      <td>1392.791870</td>\n",
       "      <td>1097.040039</td>\n",
       "      <td>1391.931519</td>\n",
       "      <td>1098.415039</td>\n",
       "      <td>1395.730347</td>\n",
       "      <td>1092.682129</td>\n",
       "      <td>...</td>\n",
       "      <td>1095.282349</td>\n",
       "      <td>1404.072266</td>\n",
       "      <td>1099.136353</td>\n",
       "      <td>1408.127930</td>\n",
       "      <td>1101.610352</td>\n",
       "      <td>1405.456055</td>\n",
       "      <td>1099.150635</td>\n",
       "      <td>1403.403687</td>\n",
       "      <td>1105.637817</td>\n",
       "      <td>1405.982422</td>\n",
       "    </tr>\n",
       "    <tr>\n",
       "      <th>1685</th>\n",
       "      <td>1685_palo-alto</td>\n",
       "      <td>-2.673399</td>\n",
       "      <td>400.574310</td>\n",
       "      <td>-1.619954</td>\n",
       "      <td>400.124451</td>\n",
       "      <td>-1.822299</td>\n",
       "      <td>401.042297</td>\n",
       "      <td>-1.801567</td>\n",
       "      <td>400.021362</td>\n",
       "      <td>-2.662336</td>\n",
       "      <td>...</td>\n",
       "      <td>-2.355271</td>\n",
       "      <td>403.305878</td>\n",
       "      <td>-1.707611</td>\n",
       "      <td>403.896301</td>\n",
       "      <td>-1.643753</td>\n",
       "      <td>403.834229</td>\n",
       "      <td>-1.430485</td>\n",
       "      <td>403.356201</td>\n",
       "      <td>-1.942445</td>\n",
       "      <td>403.570465</td>\n",
       "    </tr>\n",
       "  </tbody>\n",
       "</table>\n",
       "<p>29843 rows × 121 columns</p>\n",
       "</div>"
      ],
      "text/plain": [
       "                  ID           v0           v1           v2           v3  \\\n",
       "0           0_austin   -10.073917  -566.061401    -8.819520  -565.608826   \n",
       "1           1_austin  -342.686127    11.392192  -340.669342    10.488313   \n",
       "2           2_austin    51.151989  -248.709198    51.560665  -248.674286   \n",
       "3           3_austin    -9.816870  1731.381470    -7.283967  1741.485962   \n",
       "4           4_austin  1197.461548  -656.045288  1199.759399  -653.736450   \n",
       "...              ...          ...          ...          ...          ...   \n",
       "1681  1681_palo-alto -1416.252808  -492.051514 -1417.608154  -501.115509   \n",
       "1682  1682_palo-alto   122.822327   -13.106235   121.504395   -13.403252   \n",
       "1683  1683_palo-alto -1432.258057  2131.601807 -1430.165283  2131.758301   \n",
       "1684  1684_palo-alto  1096.846069  1392.472046  1097.199585  1392.791870   \n",
       "1685  1685_palo-alto    -2.673399   400.574310    -1.619954   400.124451   \n",
       "\n",
       "               v4           v5           v6           v7           v8  ...  \\\n",
       "0      -11.741660  -566.576843   -11.576724  -565.285645   -12.256501  ...   \n",
       "1     -341.599976    11.720736  -341.712524    10.373302  -340.428955  ...   \n",
       "2       50.831722  -248.799622    51.387207  -248.906815    51.333149  ...   \n",
       "3       -8.684427  1731.078491    -8.787012  1722.190063    -1.411106  ...   \n",
       "4     1199.970581  -652.724304  1199.894653  -653.054993  1201.510010  ...   \n",
       "...           ...          ...          ...          ...          ...  ...   \n",
       "1681 -1413.636108  -496.180420 -1413.381348  -496.862274 -1413.135132  ...   \n",
       "1682   122.575562   -12.750586   122.367661   -13.090666   122.222778  ...   \n",
       "1683 -1435.506470  2128.292480 -1430.843872  2134.353760 -1430.633057  ...   \n",
       "1684  1097.040039  1391.931519  1098.415039  1395.730347  1092.682129  ...   \n",
       "1685    -1.822299   401.042297    -1.801567   400.021362    -2.662336  ...   \n",
       "\n",
       "             v110         v111         v112         v113         v114  \\\n",
       "0      -44.576900  -565.590393   -44.054443  -566.266052   -46.557812   \n",
       "1     -341.368591    -8.623022  -342.578735    -8.707554  -343.319519   \n",
       "2       54.076885  -253.501297    54.503571  -253.615631    53.823456   \n",
       "3      -18.215618  1685.937256   -25.361523  1678.974365   -15.586805   \n",
       "4     1233.677002  -664.652954  1233.292358  -664.064331  1232.656738   \n",
       "...           ...          ...          ...          ...          ...   \n",
       "1681 -1401.196045  -518.820984 -1406.902588  -515.420776 -1401.225098   \n",
       "1682   122.844223   -13.603163   123.076660   -13.461958   123.013084   \n",
       "1683 -1437.211670  2144.713623 -1436.333862  2147.031982 -1427.991333   \n",
       "1684  1095.282349  1404.072266  1099.136353  1408.127930  1101.610352   \n",
       "1685    -2.355271   403.305878    -1.707611   403.896301    -1.643753   \n",
       "\n",
       "             v115         v116         v117         v118         v119  \n",
       "0     -563.764038   -44.217758  -564.622009   -44.551910  -564.912109  \n",
       "1       -5.805896  -342.187042    -6.541385  -339.858948    -6.626207  \n",
       "2     -252.988678    54.417667  -253.362228    54.666046  -253.219437  \n",
       "3     1677.517578   -18.559374  1676.607666   -25.935057  1675.115967  \n",
       "4     -666.428833  1233.421143  -666.002869  1233.596680  -665.521423  \n",
       "...           ...          ...          ...          ...          ...  \n",
       "1681  -511.087738 -1399.512817  -521.496216 -1407.614502  -520.385132  \n",
       "1682   -13.371545   122.435204   -12.216287   122.744949   -12.926801  \n",
       "1683  2145.734131 -1435.092651  2144.250000 -1436.711670  2148.986328  \n",
       "1684  1405.456055  1099.150635  1403.403687  1105.637817  1405.982422  \n",
       "1685   403.834229    -1.430485   403.356201    -1.942445   403.570465  \n",
       "\n",
       "[29843 rows x 121 columns]"
      ]
     },
     "execution_count": 187,
     "metadata": {},
     "output_type": "execute_result"
    }
   ],
   "source": [
    "test_output"
   ]
  },
  {
   "cell_type": "markdown",
   "id": "2e7e5a87",
   "metadata": {},
   "source": [
    "## Sample a batch of data and visualize "
   ]
  },
  {
   "cell_type": "code",
   "execution_count": 52,
   "id": "c4973396-03db-4aff-b9a0-c4e962a6345a",
   "metadata": {},
   "outputs": [],
   "source": [
    "train_dataset, val_dataset, train_loader, val_loader = get_data_loader(city = 'austin', batch_size = 4)"
   ]
  },
  {
   "cell_type": "code",
   "execution_count": 61,
   "id": "293f02a9",
   "metadata": {},
   "outputs": [
    {
     "data": {
      "image/png": "[encoded data removed]",
      "text/plain": [
       "<Figure size 1080x216 with 4 Axes>"
      ]
     },
     "metadata": {},
     "output_type": "display_data"
    },
    {
     "data": {
      "image/png": "[encoded data removed]",
      "text/plain": [
       "<Figure size 1080x216 with 4 Axes>"
      ]
     },
     "metadata": {},
     "output_type": "display_data"
    }
   ],
   "source": [
    "import matplotlib.pyplot as plt\n",
    "import random\n",
    "\n",
    "\n",
    "def show_sample_batch(sample_batch):\n",
    "    \"\"\"visualize the trajectory for a batch of samples\"\"\"\n",
    "    inp, out = sample_batch\n",
    "    batch_sz = inp.size(0)\n",
    "    agent_sz = inp.size(1)\n",
    "    \n",
    "    fig, axs = plt.subplots(1,batch_sz, figsize=(15, 3), facecolor='w', edgecolor='k')\n",
    "    fig.subplots_adjust(hspace = .5, wspace=.001)\n",
    "    axs = axs.ravel()   \n",
    "    for i in range(batch_sz):\n",
    "        axs[i].xaxis.set_ticks([])\n",
    "        axs[i].yaxis.set_ticks([])\n",
    "        \n",
    "        # first two feature dimensions are (x,y) positions\n",
    "        axs[i].scatter(inp[i,:,0], inp[i,:,1])\n",
    "        axs[i].scatter(out[i,:,0], out[i,:,1])\n",
    "\n",
    "        \n",
    "for i_batch, sample_batch in enumerate(train_loader):\n",
    "    if i_batch < 5: continue\n",
    "    inp, out = sample_batch\n",
    "    pred = model_austin(inp).detach()\n",
    "    show_sample_batch(sample_batch)\n",
    "    show_sample_batch([inp, pred])\n",
    "    #print(sample_batch)\n",
    "    break"
   ]
  },
  {
   "cell_type": "code",
   "execution_count": null,
   "id": "ec5242b6",
   "metadata": {},
   "outputs": [],
   "source": []
  }
 ],
 "metadata": {
  "kernelspec": {
   "display_name": "Python 3 (ipykernel)",
   "language": "python",
   "name": "python3"
  },
  "language_info": {
   "codemirror_mode": {
    "name": "ipython",
    "version": 3
   },
   "file_extension": ".py",
   "mimetype": "text/x-python",
   "name": "python",
   "nbconvert_exporter": "python",
   "pygments_lexer": "ipython3",
   "version": "3.10.4"
  }
 },
 "nbformat": 4,
 "nbformat_minor": 5
}
