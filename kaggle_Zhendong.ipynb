{
 "cells": [
  {
   "cell_type": "markdown",
   "id": "b703767b",
   "metadata": {},
   "source": [
    "## Install the package dependencies before running this notebook"
   ]
  },
  {
   "cell_type": "code",
   "execution_count": 97,
   "id": "530fb747",
   "metadata": {},
   "outputs": [
    {
     "data": {
      "text/plain": [
       "'\\n    number of trajectories in each city\\n    # austin --  train: 43041 test: 6325 \\n    # miami -- train: 55029 test:7971\\n    # pittsburgh -- train: 43544 test: 6361\\n    # dearborn -- train: 24465 test: 3671\\n    # washington-dc -- train: 25744 test: 3829\\n    # palo-alto -- train:  11993 test:1686\\n\\n    trajectories sampled at 10HZ rate, input 5 seconds, output 6 seconds\\n    \\n'"
      ]
     },
     "execution_count": 97,
     "metadata": {},
     "output_type": "execute_result"
    }
   ],
   "source": [
    "import torch\n",
    "from torch.utils.data import Dataset, DataLoader\n",
    "import os, os.path \n",
    "import numpy \n",
    "import pickle\n",
    "import pandas as pd\n",
    "from glob import glob\n",
    "\n",
    "\n",
    "\"\"\"\n",
    "    number of trajectories in each city\n",
    "    # austin --  train: 43041 test: 6325 \n",
    "    # miami -- train: 55029 test:7971\n",
    "    # pittsburgh -- train: 43544 test: 6361\n",
    "    # dearborn -- train: 24465 test: 3671\n",
    "    # washington-dc -- train: 25744 test: 3829\n",
    "    # palo-alto -- train:  11993 test:1686\n",
    "\n",
    "    trajectories sampled at 10HZ rate, input 5 seconds, output 6 seconds\n",
    "    \n",
    "\"\"\""
   ]
  },
  {
   "cell_type": "markdown",
   "id": "e693331a",
   "metadata": {},
   "source": [
    "## Create a Torch.Dataset class for the training dataset"
   ]
  },
  {
   "cell_type": "code",
   "execution_count": 3,
   "id": "a5977e7e",
   "metadata": {},
   "outputs": [],
   "source": [
    "from glob import glob\n",
    "import pickle\n",
    "import numpy as np\n",
    "\n",
    "ROOT_PATH = \"./\"\n",
    "\n",
    "cities = [\"austin\", \"miami\", \"pittsburgh\", \"dearborn\", \"washington-dc\", \"palo-alto\"]\n",
    "splits = [\"train\", \"test\"]\n",
    "\n",
    "def get_city_trajectories(city=\"palo-alto\", split=\"train\", normalized=False):\n",
    "\n",
    "    \n",
    "    outputs = None\n",
    "    \n",
    "    if split==\"train\":\n",
    "        f_in = ROOT_PATH + split + \"/\" + city + \"_inputs\"\n",
    "        inputs = pickle.load(open(f_in, \"rb\"))\n",
    "        n = len(inputs)\n",
    "        inputs = np.asarray(inputs)[:int(n * 0.8)]\n",
    "        \n",
    "        f_out = ROOT_PATH + split + \"/\" + city + \"_outputs\"\n",
    "        outputs = pickle.load(open(f_out, \"rb\"))\n",
    "        outputs = np.asarray(outputs)[:int(n * 0.8)]\n",
    "        \n",
    "    elif split == 'val':\n",
    "        f_in = ROOT_PATH + 'train' + \"/\" + city + \"_inputs\"\n",
    "        inputs = pickle.load(open(f_in, \"rb\"))\n",
    "        n = len(inputs)\n",
    "        inputs = np.asarray(inputs)[int(n * 0.8):]\n",
    "        \n",
    "        f_out = ROOT_PATH + 'train' + \"/\" + city + \"_outputs\"\n",
    "        outputs = pickle.load(open(f_out, \"rb\"))\n",
    "        outputs = np.asarray(outputs)[int(n * 0.8):]\n",
    "    \n",
    "    else:\n",
    "        f_in = ROOT_PATH + split + \"/\" + city + \"_inputs\"\n",
    "        inputs = pickle.load(open(f_in, \"rb\"))\n",
    "        n = len(inputs)\n",
    "        inputs = np.asarray(inputs)\n",
    "\n",
    "    return inputs, outputs\n",
    "\n",
    "class ArgoverseDataset(Dataset):\n",
    "    \"\"\"Dataset class for Argoverse\"\"\"\n",
    "    def __init__(self, city: str, split:str, transform=None):\n",
    "        super(ArgoverseDataset, self).__init__()\n",
    "        self.transform = transform\n",
    "\n",
    "        self.inputs, self.outputs = get_city_trajectories(city=city, split=split, normalized=False)\n",
    "\n",
    "    def __len__(self):\n",
    "        return len(self.inputs)\n",
    "\n",
    "    def __getitem__(self, idx):\n",
    "\n",
    "        data = (self.inputs[idx], self.outputs[idx])\n",
    "            \n",
    "        if self.transform:\n",
    "            data = self.transform(data)\n",
    "\n",
    "        return data"
   ]
  },
  {
   "cell_type": "code",
   "execution_count": 19,
   "id": "3b14fb85-ac97-4bec-a307-6255b705825c",
   "metadata": {},
   "outputs": [],
   "source": [
    "# intialize a dataset\n",
    "def get_data_loader(city = 'austin', batch_size = 20):\n",
    "    train_dataset  = ArgoverseDataset(city = city, split = 'train')\n",
    "    val_dataset = ArgoverseDataset(city = city, split = 'val')\n",
    "\n",
    "    train_loader = DataLoader(train_dataset,batch_size=batch_size)\n",
    "    val_loader = DataLoader(val_dataset,batch_size=batch_size)\n",
    "    return train_dataset, val_dataset, train_loader, val_loader"
   ]
  },
  {
   "cell_type": "code",
   "execution_count": 20,
   "id": "b43d7b9d-c7f5-4ee3-ac7a-762c2e486113",
   "metadata": {},
   "outputs": [],
   "source": [
    "train_dataset, val_dataset, train_loader, val_loader = get_data_loader(city = 'austin', batch_size = 20)"
   ]
  },
  {
   "cell_type": "code",
   "execution_count": 21,
   "id": "f01aed22",
   "metadata": {},
   "outputs": [
    {
     "data": {
      "text/plain": [
       "8609"
      ]
     },
     "execution_count": 21,
     "metadata": {},
     "output_type": "execute_result"
    }
   ],
   "source": [
    "len(val_dataset)"
   ]
  },
  {
   "cell_type": "code",
   "execution_count": 22,
   "id": "075abd9d-1282-4d60-8918-d8bf80ce0b6b",
   "metadata": {},
   "outputs": [
    {
     "data": {
      "text/plain": [
       "34432"
      ]
     },
     "execution_count": 22,
     "metadata": {},
     "output_type": "execute_result"
    }
   ],
   "source": [
    "len(train_dataset)"
   ]
  },
  {
   "cell_type": "markdown",
   "id": "ac92ceab",
   "metadata": {},
   "source": [
    "## Create a DataLoader class for training"
   ]
  },
  {
   "cell_type": "code",
   "execution_count": 23,
   "id": "7eb4131c",
   "metadata": {},
   "outputs": [],
   "source": [
    "from torch import nn, optim\n",
    "\n",
    "# model\n",
    "class EncoderDecoder(nn.Module):\n",
    "\n",
    "    def __init__(self):\n",
    "        super().__init__()\n",
    "        \n",
    "        self.encoder = nn.Sequential(\n",
    "            nn.Linear(100, 64),\n",
    "            nn.ReLU(),\n",
    "            nn.Linear(64, 32),\n",
    "            nn.ReLU(),\n",
    "            nn.Linear(32, 32)\n",
    "        )\n",
    "        \n",
    "        self.decoder = nn.Sequential(\n",
    "            nn.Linear(32, 64),\n",
    "            nn.ReLU(),\n",
    "            nn.Linear(64, 120),\n",
    "            nn.ReLU(),\n",
    "            nn.Linear(120, 120)\n",
    "        )\n",
    "        \n",
    "    def forward(self, x):\n",
    "        x = x.reshape(-1, 100).float()\n",
    "        x = self.encoder(x)\n",
    "        x = self.decoder(x)\n",
    "        x = x.reshape(-1, 60, 2)\n",
    "        return x.float()"
   ]
  },
  {
   "cell_type": "code",
   "execution_count": 24,
   "id": "3b6c7dda",
   "metadata": {},
   "outputs": [],
   "source": [
    "# model, optimizer, loss\n",
    "model_encdoc = EncoderDecoder()\n",
    "opt = optim.Adam(model_encdoc.parameters(), lr=1e-3)\n",
    "loss_func = nn.MSELoss()"
   ]
  },
  {
   "cell_type": "code",
   "execution_count": 37,
   "id": "7bf9f9ee-95a2-48c4-93a0-8de88b81949c",
   "metadata": {},
   "outputs": [],
   "source": [
    "def train_epochs(model, train_loader, loss_func, opt, epochs = 10):\n",
    "    for epoch in range(epochs):\n",
    "\n",
    "        total_loss = 0\n",
    "        for i_batch, sample_batch in enumerate(train_loader):\n",
    "            inp, out = sample_batch\n",
    "            out = out.float()\n",
    "            preds = model(inp)\n",
    "            loss = loss_func(preds, out) # MSE\n",
    "            #loss = torch.sqrt(loss_func(preds, out)) # RMSE\n",
    "\n",
    "            opt.zero_grad()\n",
    "            loss.backward()\n",
    "            opt.step()\n",
    "\n",
    "            total_loss += loss.item()\n",
    "\n",
    "        print('epoch {} trian loss: {}'.format(epoch, total_loss / len(train_dataset)))"
   ]
  },
  {
   "cell_type": "code",
   "execution_count": 29,
   "id": "307da46d-c11e-4ad1-9beb-5cf3624e31c6",
   "metadata": {},
   "outputs": [
    {
     "name": "stdout",
     "output_type": "stream",
     "text": [
      "epoch 0 loss: 1577.4951438496105\n",
      "epoch 1 loss: 104.47886275536065\n",
      "epoch 2 loss: 94.63518537464638\n",
      "epoch 3 loss: 85.23028913040586\n",
      "epoch 4 loss: 79.36879324115343\n",
      "epoch 5 loss: 70.28743940037866\n",
      "epoch 6 loss: 61.36069848280414\n",
      "epoch 7 loss: 51.35414551181864\n",
      "epoch 8 loss: 46.51442320683632\n",
      "epoch 9 loss: 44.449591387160204\n"
     ]
    }
   ],
   "source": [
    "train_epochs(model_encdoc, train_loader, loss_func, opt, epochs = 10)"
   ]
  },
  {
   "cell_type": "code",
   "execution_count": 31,
   "id": "48fe1276",
   "metadata": {},
   "outputs": [],
   "source": [
    "def val_loss(model, val_loader, loss_func, opt):\n",
    "    val_loss = 0\n",
    "    for i_batch, sample_batch in enumerate(val_loader):\n",
    "        inp, out = sample_batch\n",
    "        out = out.float()\n",
    "        preds = model(inp)\n",
    "        loss = loss_func(preds, out) # MSE\n",
    "        #loss = torch.sqrt(loss_func(preds, out)) # RMSE\n",
    "\n",
    "        val_loss += loss.item()\n",
    "    print('val loss: {}'.format(val_loss / len(val_dataset)))"
   ]
  },
  {
   "cell_type": "code",
   "execution_count": 32,
   "id": "68c24fa3-0dc4-43f0-87ea-264768af31d8",
   "metadata": {},
   "outputs": [
    {
     "name": "stdout",
     "output_type": "stream",
     "text": [
      "val loss: 33.87206649824584\n"
     ]
    }
   ],
   "source": [
    "val_loss(model_encdoc, val_loader, loss_func, opt)"
   ]
  },
  {
   "cell_type": "markdown",
   "id": "42932f90-99ba-47c0-b471-e1238986194f",
   "metadata": {},
   "source": [
    "## Train One City"
   ]
  },
  {
   "cell_type": "code",
   "execution_count": 40,
   "id": "dcebc7ad-3284-4d38-85e6-104c655fe42b",
   "metadata": {},
   "outputs": [],
   "source": [
    "def train_city(city, batch_size, epochs):\n",
    "    # data loader\n",
    "    train_dataset, val_dataset, train_loader, val_loader = get_data_loader(city = city, batch_size = batch_size)\n",
    "    \n",
    "    # model, optimizer, loss\n",
    "    model_encdoc = EncoderDecoder()\n",
    "    opt = optim.Adam(model_encdoc.parameters(), lr=1e-3)\n",
    "    loss_func = nn.MSELoss()\n",
    "    \n",
    "    # train\n",
    "    train_epochs(model_encdoc, train_loader, loss_func, opt, epochs = epochs)\n",
    "    \n",
    "    # evaluate\n",
    "    val_loss(model_encdoc, val_loader, loss_func, opt)\n",
    "    return model_encdoc"
   ]
  },
  {
   "cell_type": "code",
   "execution_count": 47,
   "id": "f4220c59-f939-499f-881b-87d4847a2838",
   "metadata": {},
   "outputs": [
    {
     "name": "stdout",
     "output_type": "stream",
     "text": [
      "epoch 0 trian loss: 1419.9582264272697\n",
      "epoch 1 trian loss: 108.36184304708885\n",
      "epoch 2 trian loss: 93.0241262593677\n",
      "epoch 3 trian loss: 86.77068308738085\n",
      "epoch 4 trian loss: 77.04915108999798\n",
      "epoch 5 trian loss: 68.87862812542117\n",
      "epoch 6 trian loss: 60.82795408312716\n",
      "epoch 7 trian loss: 47.9808281908248\n",
      "epoch 8 trian loss: 54.221560459597846\n",
      "epoch 9 trian loss: 43.66346011950624\n",
      "val loss: 81.09657288838352\n"
     ]
    }
   ],
   "source": [
    "model_austin = train_city('austin', batch_size = 20, epochs = 10)"
   ]
  },
  {
   "cell_type": "code",
   "execution_count": 102,
   "id": "6ff6b57a-9089-4614-a20a-930462febdf2",
   "metadata": {},
   "outputs": [
    {
     "name": "stdout",
     "output_type": "stream",
     "text": [
      "epoch 0 trian loss: 8094.124991832613\n",
      "epoch 1 trian loss: 320.8347391701099\n",
      "epoch 2 trian loss: 308.84381753184095\n",
      "epoch 3 trian loss: 367.1413703523161\n",
      "epoch 4 trian loss: 293.7242112523118\n",
      "epoch 5 trian loss: 227.21703706443532\n",
      "epoch 6 trian loss: 233.7530184572071\n",
      "epoch 7 trian loss: 226.3822229227612\n",
      "epoch 8 trian loss: 204.6684912793255\n",
      "epoch 9 trian loss: 185.38811065361844\n",
      "val loss: 771.712787172218\n"
     ]
    }
   ],
   "source": [
    "model_miami = train_city('miami', batch_size = 20, epochs = 10)"
   ]
  },
  {
   "cell_type": "code",
   "execution_count": 43,
   "id": "efe0c8aa-5599-4aaa-8458-1afae20f0a7a",
   "metadata": {},
   "outputs": [
    {
     "name": "stdout",
     "output_type": "stream",
     "text": [
      "epoch 0 trian loss: 5045.750116832194\n",
      "epoch 1 trian loss: 88.43685108489707\n",
      "epoch 2 trian loss: 108.13351118697553\n",
      "epoch 3 trian loss: 91.35974981173264\n",
      "epoch 4 trian loss: 85.48789503140077\n",
      "epoch 5 trian loss: 81.22023427973893\n",
      "epoch 6 trian loss: 76.83747576869554\n",
      "epoch 7 trian loss: 71.98684428438378\n",
      "epoch 8 trian loss: 68.27108403608258\n",
      "epoch 9 trian loss: 68.16439541742261\n",
      "val loss: 82.7789422627982\n"
     ]
    }
   ],
   "source": [
    "model_pittsburgh = train_city('pittsburgh', batch_size = 20, epochs = 10)"
   ]
  },
  {
   "cell_type": "code",
   "execution_count": 44,
   "id": "ec3827fe-5a0a-4d7d-a6a9-9308c87fcd24",
   "metadata": {},
   "outputs": [
    {
     "name": "stdout",
     "output_type": "stream",
     "text": [
      "epoch 0 trian loss: 21632.358976619395\n",
      "epoch 1 trian loss: 99.1427164769084\n",
      "epoch 2 trian loss: 120.78400676755658\n",
      "epoch 3 trian loss: 142.67611968738882\n",
      "epoch 4 trian loss: 158.61833270686267\n",
      "epoch 5 trian loss: 152.53529154766892\n",
      "epoch 6 trian loss: 137.80558234431044\n",
      "epoch 7 trian loss: 140.81699421857812\n",
      "epoch 8 trian loss: 128.49511352524883\n",
      "epoch 9 trian loss: 123.01828291690926\n",
      "val loss: 97.97044548560191\n"
     ]
    }
   ],
   "source": [
    "model_dearborn = train_city('dearborn', batch_size = 20, epochs = 10)"
   ]
  },
  {
   "cell_type": "code",
   "execution_count": 45,
   "id": "22d80510-d4e0-407a-9bd1-d19b3280df9c",
   "metadata": {},
   "outputs": [
    {
     "name": "stdout",
     "output_type": "stream",
     "text": [
      "epoch 0 trian loss: 6022.460507663209\n",
      "epoch 1 trian loss: 62.3682036195989\n",
      "epoch 2 trian loss: 67.8226058935144\n",
      "epoch 3 trian loss: 77.34792097970899\n",
      "epoch 4 trian loss: 71.77336365760037\n",
      "epoch 5 trian loss: 71.1224920297644\n",
      "epoch 6 trian loss: 69.99568596648461\n",
      "epoch 7 trian loss: 65.09404799486181\n",
      "epoch 8 trian loss: 60.329751778712506\n",
      "epoch 9 trian loss: 67.02109944598826\n",
      "val loss: 25.569555072782208\n"
     ]
    }
   ],
   "source": [
    "model_washington_dc = train_city('washington-dc', batch_size = 20, epochs = 10)"
   ]
  },
  {
   "cell_type": "code",
   "execution_count": 46,
   "id": "b9241cf9-e013-449a-8a5d-7bf79e60ed43",
   "metadata": {},
   "outputs": [
    {
     "name": "stdout",
     "output_type": "stream",
     "text": [
      "epoch 0 trian loss: 1706.648500871481\n",
      "epoch 1 trian loss: 37.13787258247461\n",
      "epoch 2 trian loss: 41.81229658374999\n",
      "epoch 3 trian loss: 41.58599702310385\n",
      "epoch 4 trian loss: 40.477038920590424\n",
      "epoch 5 trian loss: 39.974332967212206\n",
      "epoch 6 trian loss: 36.87423752674826\n",
      "epoch 7 trian loss: 34.91997149797177\n",
      "epoch 8 trian loss: 34.71355988988203\n",
      "epoch 9 trian loss: 32.787065855189326\n",
      "val loss: 35.806601844386144\n"
     ]
    }
   ],
   "source": [
    "model_palo_alto = train_city('palo-alto', batch_size = 20, epochs = 10)"
   ]
  },
  {
   "cell_type": "markdown",
   "id": "5562e425-6a2c-4489-af90-058619948e08",
   "metadata": {},
   "source": [
    "## Make Prediction"
   ]
  },
  {
   "cell_type": "code",
   "execution_count": 103,
   "id": "93ed9e61-c999-481e-b16e-0c9205e5d61f",
   "metadata": {},
   "outputs": [],
   "source": [
    "cities = [\"austin\", \"miami\", \"pittsburgh\", \"dearborn\", \"washington-dc\", \"palo-alto\"]\n",
    "models = [model_austin, model_miami, model_pittsburgh, model_dearborn, model_washington_dc, model_palo_alto]"
   ]
  },
  {
   "cell_type": "code",
   "execution_count": 104,
   "id": "148fa5fd-dd7b-47a2-b580-c3192d712c6f",
   "metadata": {},
   "outputs": [],
   "source": [
    "def predict_test(city, model):\n",
    "    test_dataset = get_city_trajectories(city = city, split = 'test')[0]\n",
    "    test_dataset = torch.from_numpy(test_dataset)\n",
    "    pred = model(test_dataset).reshape(-1, 120)\n",
    "    return pd.DataFrame(pred.detach().numpy())"
   ]
  },
  {
   "cell_type": "code",
   "execution_count": 107,
   "id": "d7eb81e3-2e8e-4ff3-b23e-f559134edfd4",
   "metadata": {},
   "outputs": [],
   "source": [
    "columns =['ID'] + ['v'+str(i) for i in range(120)]"
   ]
  },
  {
   "cell_type": "code",
   "execution_count": 132,
   "id": "945eb530-a029-4202-af4c-544c4cb7c980",
   "metadata": {},
   "outputs": [],
   "source": [
    "def predict_all(cities, models):\n",
    "    out = predict_test(cities[0], models[0]).reset_index()\n",
    "    out.columns = columns\n",
    "    out['ID'] = out['ID'].astype(str) + '_' + cities[0]\n",
    "    \n",
    "    for city, model in zip(cities[1:], models[1:]):\n",
    "        temp = predict_test(city, model).reset_index()\n",
    "        temp.columns = columns\n",
    "        temp['ID'] = temp['ID'].astype(str) + '_' + city\n",
    "        out = pd.concat([out, temp])\n",
    "    \n",
    "    return out        "
   ]
  },
  {
   "cell_type": "code",
   "execution_count": 135,
   "id": "220d0018-7cd1-4f9d-9206-be16d1fcbcaa",
   "metadata": {},
   "outputs": [],
   "source": [
    "test_output = predict_all(cities, models)"
   ]
  },
  {
   "cell_type": "code",
   "execution_count": 138,
   "id": "c204a7f3-c10c-4e23-8b7a-0dc89e69947c",
   "metadata": {},
   "outputs": [],
   "source": [
    "test_output.to_csv('test_output.csv', index=False)"
   ]
  },
  {
   "cell_type": "code",
   "execution_count": 137,
   "id": "a122ca27-b9ac-489f-ba37-2ffdbd16fb76",
   "metadata": {},
   "outputs": [
    {
     "data": {
      "text/html": [
       "<div>\n",
       "<style scoped>\n",
       "    .dataframe tbody tr th:only-of-type {\n",
       "        vertical-align: middle;\n",
       "    }\n",
       "\n",
       "    .dataframe tbody tr th {\n",
       "        vertical-align: top;\n",
       "    }\n",
       "\n",
       "    .dataframe thead th {\n",
       "        text-align: right;\n",
       "    }\n",
       "</style>\n",
       "<table border=\"1\" class=\"dataframe\">\n",
       "  <thead>\n",
       "    <tr style=\"text-align: right;\">\n",
       "      <th></th>\n",
       "      <th>ID</th>\n",
       "      <th>v0</th>\n",
       "      <th>v1</th>\n",
       "      <th>v2</th>\n",
       "      <th>v3</th>\n",
       "      <th>v4</th>\n",
       "      <th>v5</th>\n",
       "      <th>v6</th>\n",
       "      <th>v7</th>\n",
       "      <th>v8</th>\n",
       "      <th>...</th>\n",
       "      <th>v110</th>\n",
       "      <th>v111</th>\n",
       "      <th>v112</th>\n",
       "      <th>v113</th>\n",
       "      <th>v114</th>\n",
       "      <th>v115</th>\n",
       "      <th>v116</th>\n",
       "      <th>v117</th>\n",
       "      <th>v118</th>\n",
       "      <th>v119</th>\n",
       "    </tr>\n",
       "  </thead>\n",
       "  <tbody>\n",
       "    <tr>\n",
       "      <th>0</th>\n",
       "      <td>0_austin</td>\n",
       "      <td>-37.092140</td>\n",
       "      <td>-558.233093</td>\n",
       "      <td>-36.212402</td>\n",
       "      <td>-559.129822</td>\n",
       "      <td>-39.184959</td>\n",
       "      <td>-559.299316</td>\n",
       "      <td>-37.873959</td>\n",
       "      <td>-558.724426</td>\n",
       "      <td>-36.783634</td>\n",
       "      <td>...</td>\n",
       "      <td>-36.389957</td>\n",
       "      <td>-562.540588</td>\n",
       "      <td>-36.678539</td>\n",
       "      <td>-562.922119</td>\n",
       "      <td>-36.588951</td>\n",
       "      <td>-562.212585</td>\n",
       "      <td>-37.313049</td>\n",
       "      <td>-563.563232</td>\n",
       "      <td>-36.154697</td>\n",
       "      <td>-562.256775</td>\n",
       "    </tr>\n",
       "    <tr>\n",
       "      <th>1</th>\n",
       "      <td>1_austin</td>\n",
       "      <td>-355.932068</td>\n",
       "      <td>1.240178</td>\n",
       "      <td>-355.515411</td>\n",
       "      <td>1.933314</td>\n",
       "      <td>-356.613861</td>\n",
       "      <td>0.808810</td>\n",
       "      <td>-358.056946</td>\n",
       "      <td>2.498858</td>\n",
       "      <td>-353.676208</td>\n",
       "      <td>...</td>\n",
       "      <td>-357.212036</td>\n",
       "      <td>-8.838811</td>\n",
       "      <td>-356.911804</td>\n",
       "      <td>-6.350550</td>\n",
       "      <td>-359.835480</td>\n",
       "      <td>-7.254091</td>\n",
       "      <td>-357.790405</td>\n",
       "      <td>-8.638774</td>\n",
       "      <td>-354.693695</td>\n",
       "      <td>-6.785054</td>\n",
       "    </tr>\n",
       "    <tr>\n",
       "      <th>2</th>\n",
       "      <td>2_austin</td>\n",
       "      <td>47.580032</td>\n",
       "      <td>-244.318924</td>\n",
       "      <td>47.089760</td>\n",
       "      <td>-244.017761</td>\n",
       "      <td>46.274807</td>\n",
       "      <td>-244.131592</td>\n",
       "      <td>47.400848</td>\n",
       "      <td>-244.522568</td>\n",
       "      <td>47.110691</td>\n",
       "      <td>...</td>\n",
       "      <td>47.509930</td>\n",
       "      <td>-245.574371</td>\n",
       "      <td>47.502926</td>\n",
       "      <td>-245.898819</td>\n",
       "      <td>47.491585</td>\n",
       "      <td>-245.613831</td>\n",
       "      <td>47.236183</td>\n",
       "      <td>-246.294342</td>\n",
       "      <td>47.658653</td>\n",
       "      <td>-245.597809</td>\n",
       "    </tr>\n",
       "    <tr>\n",
       "      <th>3</th>\n",
       "      <td>3_austin</td>\n",
       "      <td>-125.622185</td>\n",
       "      <td>1844.922119</td>\n",
       "      <td>-128.412018</td>\n",
       "      <td>1848.106079</td>\n",
       "      <td>-127.492073</td>\n",
       "      <td>1848.432373</td>\n",
       "      <td>-123.330025</td>\n",
       "      <td>1844.409546</td>\n",
       "      <td>-124.582161</td>\n",
       "      <td>...</td>\n",
       "      <td>-114.900162</td>\n",
       "      <td>1804.237305</td>\n",
       "      <td>-118.245995</td>\n",
       "      <td>1803.821533</td>\n",
       "      <td>-116.672668</td>\n",
       "      <td>1803.788086</td>\n",
       "      <td>-117.224403</td>\n",
       "      <td>1794.578979</td>\n",
       "      <td>-119.037430</td>\n",
       "      <td>1803.603394</td>\n",
       "    </tr>\n",
       "    <tr>\n",
       "      <th>4</th>\n",
       "      <td>4_austin</td>\n",
       "      <td>1220.163330</td>\n",
       "      <td>-631.054932</td>\n",
       "      <td>1220.815918</td>\n",
       "      <td>-632.809875</td>\n",
       "      <td>1222.928589</td>\n",
       "      <td>-634.556335</td>\n",
       "      <td>1221.447998</td>\n",
       "      <td>-629.966431</td>\n",
       "      <td>1222.253052</td>\n",
       "      <td>...</td>\n",
       "      <td>1210.961426</td>\n",
       "      <td>-635.399231</td>\n",
       "      <td>1213.137939</td>\n",
       "      <td>-630.322144</td>\n",
       "      <td>1211.410889</td>\n",
       "      <td>-631.666687</td>\n",
       "      <td>1211.640747</td>\n",
       "      <td>-634.069946</td>\n",
       "      <td>1208.859375</td>\n",
       "      <td>-631.380981</td>\n",
       "    </tr>\n",
       "    <tr>\n",
       "      <th>...</th>\n",
       "      <td>...</td>\n",
       "      <td>...</td>\n",
       "      <td>...</td>\n",
       "      <td>...</td>\n",
       "      <td>...</td>\n",
       "      <td>...</td>\n",
       "      <td>...</td>\n",
       "      <td>...</td>\n",
       "      <td>...</td>\n",
       "      <td>...</td>\n",
       "      <td>...</td>\n",
       "      <td>...</td>\n",
       "      <td>...</td>\n",
       "      <td>...</td>\n",
       "      <td>...</td>\n",
       "      <td>...</td>\n",
       "      <td>...</td>\n",
       "      <td>...</td>\n",
       "      <td>...</td>\n",
       "      <td>...</td>\n",
       "      <td>...</td>\n",
       "    </tr>\n",
       "    <tr>\n",
       "      <th>1681</th>\n",
       "      <td>1681_palo-alto</td>\n",
       "      <td>-1356.685669</td>\n",
       "      <td>-499.824921</td>\n",
       "      <td>-1347.526245</td>\n",
       "      <td>-503.715088</td>\n",
       "      <td>-1337.406494</td>\n",
       "      <td>-491.999847</td>\n",
       "      <td>-1356.929810</td>\n",
       "      <td>-498.521606</td>\n",
       "      <td>-1347.829834</td>\n",
       "      <td>...</td>\n",
       "      <td>-1345.711060</td>\n",
       "      <td>-502.014801</td>\n",
       "      <td>-1341.127930</td>\n",
       "      <td>-485.718719</td>\n",
       "      <td>-1363.687134</td>\n",
       "      <td>-483.366730</td>\n",
       "      <td>-1342.359009</td>\n",
       "      <td>-491.394043</td>\n",
       "      <td>-1354.453247</td>\n",
       "      <td>-493.610565</td>\n",
       "    </tr>\n",
       "    <tr>\n",
       "      <th>1682</th>\n",
       "      <td>1682_palo-alto</td>\n",
       "      <td>132.719818</td>\n",
       "      <td>-33.590569</td>\n",
       "      <td>131.826401</td>\n",
       "      <td>-35.181828</td>\n",
       "      <td>132.523865</td>\n",
       "      <td>-35.435230</td>\n",
       "      <td>133.308319</td>\n",
       "      <td>-35.049389</td>\n",
       "      <td>132.180237</td>\n",
       "      <td>...</td>\n",
       "      <td>132.092789</td>\n",
       "      <td>-33.535801</td>\n",
       "      <td>130.835831</td>\n",
       "      <td>-35.273243</td>\n",
       "      <td>131.078506</td>\n",
       "      <td>-33.510445</td>\n",
       "      <td>131.654358</td>\n",
       "      <td>-33.532181</td>\n",
       "      <td>132.085007</td>\n",
       "      <td>-34.368294</td>\n",
       "    </tr>\n",
       "    <tr>\n",
       "      <th>1683</th>\n",
       "      <td>1683_palo-alto</td>\n",
       "      <td>-1440.119385</td>\n",
       "      <td>2197.866455</td>\n",
       "      <td>-1441.860352</td>\n",
       "      <td>2192.417969</td>\n",
       "      <td>-1429.445435</td>\n",
       "      <td>2198.081787</td>\n",
       "      <td>-1439.794312</td>\n",
       "      <td>2192.210449</td>\n",
       "      <td>-1432.607666</td>\n",
       "      <td>...</td>\n",
       "      <td>-1432.318726</td>\n",
       "      <td>2195.731201</td>\n",
       "      <td>-1431.524780</td>\n",
       "      <td>2199.824951</td>\n",
       "      <td>-1431.475708</td>\n",
       "      <td>2206.967773</td>\n",
       "      <td>-1429.082886</td>\n",
       "      <td>2208.507568</td>\n",
       "      <td>-1431.573608</td>\n",
       "      <td>2207.785645</td>\n",
       "    </tr>\n",
       "    <tr>\n",
       "      <th>1684</th>\n",
       "      <td>1684_palo-alto</td>\n",
       "      <td>1070.881104</td>\n",
       "      <td>1448.572876</td>\n",
       "      <td>1078.947754</td>\n",
       "      <td>1451.064697</td>\n",
       "      <td>1078.194458</td>\n",
       "      <td>1443.860596</td>\n",
       "      <td>1065.563965</td>\n",
       "      <td>1437.965332</td>\n",
       "      <td>1075.657715</td>\n",
       "      <td>...</td>\n",
       "      <td>1062.080444</td>\n",
       "      <td>1449.426636</td>\n",
       "      <td>1072.670776</td>\n",
       "      <td>1454.047363</td>\n",
       "      <td>1063.268433</td>\n",
       "      <td>1463.544312</td>\n",
       "      <td>1066.539307</td>\n",
       "      <td>1457.791870</td>\n",
       "      <td>1071.422974</td>\n",
       "      <td>1459.067383</td>\n",
       "    </tr>\n",
       "    <tr>\n",
       "      <th>1685</th>\n",
       "      <td>1685_palo-alto</td>\n",
       "      <td>-57.083382</td>\n",
       "      <td>437.397552</td>\n",
       "      <td>-56.282364</td>\n",
       "      <td>438.921021</td>\n",
       "      <td>-56.759529</td>\n",
       "      <td>438.345612</td>\n",
       "      <td>-54.462620</td>\n",
       "      <td>439.095947</td>\n",
       "      <td>-55.216625</td>\n",
       "      <td>...</td>\n",
       "      <td>-54.417419</td>\n",
       "      <td>441.347290</td>\n",
       "      <td>-55.288189</td>\n",
       "      <td>439.716980</td>\n",
       "      <td>-55.214649</td>\n",
       "      <td>440.487244</td>\n",
       "      <td>-57.115292</td>\n",
       "      <td>439.945801</td>\n",
       "      <td>-56.359310</td>\n",
       "      <td>441.627899</td>\n",
       "    </tr>\n",
       "  </tbody>\n",
       "</table>\n",
       "<p>29843 rows × 121 columns</p>\n",
       "</div>"
      ],
      "text/plain": [
       "                  ID           v0           v1           v2           v3  \\\n",
       "0           0_austin   -37.092140  -558.233093   -36.212402  -559.129822   \n",
       "1           1_austin  -355.932068     1.240178  -355.515411     1.933314   \n",
       "2           2_austin    47.580032  -244.318924    47.089760  -244.017761   \n",
       "3           3_austin  -125.622185  1844.922119  -128.412018  1848.106079   \n",
       "4           4_austin  1220.163330  -631.054932  1220.815918  -632.809875   \n",
       "...              ...          ...          ...          ...          ...   \n",
       "1681  1681_palo-alto -1356.685669  -499.824921 -1347.526245  -503.715088   \n",
       "1682  1682_palo-alto   132.719818   -33.590569   131.826401   -35.181828   \n",
       "1683  1683_palo-alto -1440.119385  2197.866455 -1441.860352  2192.417969   \n",
       "1684  1684_palo-alto  1070.881104  1448.572876  1078.947754  1451.064697   \n",
       "1685  1685_palo-alto   -57.083382   437.397552   -56.282364   438.921021   \n",
       "\n",
       "               v4           v5           v6           v7           v8  ...  \\\n",
       "0      -39.184959  -559.299316   -37.873959  -558.724426   -36.783634  ...   \n",
       "1     -356.613861     0.808810  -358.056946     2.498858  -353.676208  ...   \n",
       "2       46.274807  -244.131592    47.400848  -244.522568    47.110691  ...   \n",
       "3     -127.492073  1848.432373  -123.330025  1844.409546  -124.582161  ...   \n",
       "4     1222.928589  -634.556335  1221.447998  -629.966431  1222.253052  ...   \n",
       "...           ...          ...          ...          ...          ...  ...   \n",
       "1681 -1337.406494  -491.999847 -1356.929810  -498.521606 -1347.829834  ...   \n",
       "1682   132.523865   -35.435230   133.308319   -35.049389   132.180237  ...   \n",
       "1683 -1429.445435  2198.081787 -1439.794312  2192.210449 -1432.607666  ...   \n",
       "1684  1078.194458  1443.860596  1065.563965  1437.965332  1075.657715  ...   \n",
       "1685   -56.759529   438.345612   -54.462620   439.095947   -55.216625  ...   \n",
       "\n",
       "             v110         v111         v112         v113         v114  \\\n",
       "0      -36.389957  -562.540588   -36.678539  -562.922119   -36.588951   \n",
       "1     -357.212036    -8.838811  -356.911804    -6.350550  -359.835480   \n",
       "2       47.509930  -245.574371    47.502926  -245.898819    47.491585   \n",
       "3     -114.900162  1804.237305  -118.245995  1803.821533  -116.672668   \n",
       "4     1210.961426  -635.399231  1213.137939  -630.322144  1211.410889   \n",
       "...           ...          ...          ...          ...          ...   \n",
       "1681 -1345.711060  -502.014801 -1341.127930  -485.718719 -1363.687134   \n",
       "1682   132.092789   -33.535801   130.835831   -35.273243   131.078506   \n",
       "1683 -1432.318726  2195.731201 -1431.524780  2199.824951 -1431.475708   \n",
       "1684  1062.080444  1449.426636  1072.670776  1454.047363  1063.268433   \n",
       "1685   -54.417419   441.347290   -55.288189   439.716980   -55.214649   \n",
       "\n",
       "             v115         v116         v117         v118         v119  \n",
       "0     -562.212585   -37.313049  -563.563232   -36.154697  -562.256775  \n",
       "1       -7.254091  -357.790405    -8.638774  -354.693695    -6.785054  \n",
       "2     -245.613831    47.236183  -246.294342    47.658653  -245.597809  \n",
       "3     1803.788086  -117.224403  1794.578979  -119.037430  1803.603394  \n",
       "4     -631.666687  1211.640747  -634.069946  1208.859375  -631.380981  \n",
       "...           ...          ...          ...          ...          ...  \n",
       "1681  -483.366730 -1342.359009  -491.394043 -1354.453247  -493.610565  \n",
       "1682   -33.510445   131.654358   -33.532181   132.085007   -34.368294  \n",
       "1683  2206.967773 -1429.082886  2208.507568 -1431.573608  2207.785645  \n",
       "1684  1463.544312  1066.539307  1457.791870  1071.422974  1459.067383  \n",
       "1685   440.487244   -57.115292   439.945801   -56.359310   441.627899  \n",
       "\n",
       "[29843 rows x 121 columns]"
      ]
     },
     "execution_count": 137,
     "metadata": {},
     "output_type": "execute_result"
    }
   ],
   "source": [
    "test_output"
   ]
  },
  {
   "cell_type": "markdown",
   "id": "2e7e5a87",
   "metadata": {},
   "source": [
    "## Sample a batch of data and visualize "
   ]
  },
  {
   "cell_type": "code",
   "execution_count": 139,
   "id": "293f02a9",
   "metadata": {},
   "outputs": [
    {
     "name": "stdout",
     "output_type": "stream",
     "text": [
      "torch.Size([20, 50, 2]) torch.Size([20, 60, 2])\n"
     ]
    }
   ],
   "source": [
    "import matplotlib.pyplot as plt\n",
    "import random\n",
    "\n",
    "\n",
    "def show_sample_batch(sample_batch):\n",
    "    \"\"\"visualize the trajectory for a batch of samples\"\"\"\n",
    "    inp, out = sample_batch\n",
    "    batch_sz = inp.size(0)\n",
    "    agent_sz = inp.size(1)\n",
    "    \n",
    "    fig, axs = plt.subplots(1,batch_sz, figsize=(15, 3), facecolor='w', edgecolor='k')\n",
    "    fig.subplots_adjust(hspace = .5, wspace=.001)\n",
    "    axs = axs.ravel()   \n",
    "    for i in range(batch_sz):\n",
    "        axs[i].xaxis.set_ticks([])\n",
    "        axs[i].yaxis.set_ticks([])\n",
    "        \n",
    "        # first two feature dimensions are (x,y) positions\n",
    "        axs[i].scatter(inp[i,:,0], inp[i,:,1])\n",
    "        axs[i].scatter(out[i,:,0], out[i,:,1])\n",
    "\n",
    "        \n",
    "for i_batch, sample_batch in enumerate(train_loader):\n",
    "    inp, out = sample_batch\n",
    "    print(inp.shape, out.shape)\n",
    "    break\n",
    "    \"\"\"\n",
    "    TODO:\n",
    "      implement your Deep learning model\n",
    "      implement training routine\n",
    "    \"\"\"\n",
    "    show_sample_batch(sample_batch)\n",
    "    break"
   ]
  },
  {
   "cell_type": "code",
   "execution_count": null,
   "id": "ec5242b6",
   "metadata": {},
   "outputs": [],
   "source": []
  }
 ],
 "metadata": {
  "kernelspec": {
   "display_name": "Python 3 (ipykernel)",
   "language": "python",
   "name": "python3"
  },
  "language_info": {
   "codemirror_mode": {
    "name": "ipython",
    "version": 3
   },
   "file_extension": ".py",
   "mimetype": "text/x-python",
   "name": "python",
   "nbconvert_exporter": "python",
   "pygments_lexer": "ipython3",
   "version": "3.10.4"
  }
 },
 "nbformat": 4,
 "nbformat_minor": 5
}
