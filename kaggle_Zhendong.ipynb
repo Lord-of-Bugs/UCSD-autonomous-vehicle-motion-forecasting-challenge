{
 "cells": [
  {
   "cell_type": "markdown",
   "id": "b703767b",
   "metadata": {},
   "source": [
    "## Install the package dependencies before running this notebook"
   ]
  },
  {
   "cell_type": "code",
   "execution_count": 1,
   "id": "530fb747",
   "metadata": {},
   "outputs": [
    {
     "name": "stderr",
     "output_type": "stream",
     "text": [
      "C:\\Users\\14388\\anaconda3\\envs\\torchenv\\lib\\site-packages\\tqdm\\auto.py:22: TqdmWarning: IProgress not found. Please update jupyter and ipywidgets. See https://ipywidgets.readthedocs.io/en/stable/user_install.html\n",
      "  from .autonotebook import tqdm as notebook_tqdm\n"
     ]
    },
    {
     "data": {
      "text/plain": [
       "'\\n    number of trajectories in each city\\n    # austin --  train: 43041 test: 6325 \\n    # miami -- train: 55029 test:7971\\n    # pittsburgh -- train: 43544 test: 6361\\n    # dearborn -- train: 24465 test: 3671\\n    # washington-dc -- train: 25744 test: 3829\\n    # palo-alto -- train:  11993 test:1686\\n\\n    trajectories sampled at 10HZ rate, input 5 seconds, output 6 seconds\\n    \\n'"
      ]
     },
     "execution_count": 1,
     "metadata": {},
     "output_type": "execute_result"
    }
   ],
   "source": [
    "import torch\n",
    "from torch.utils.data import Dataset, DataLoader\n",
    "import os, os.path \n",
    "import numpy \n",
    "import pickle\n",
    "import pandas as pd\n",
    "from glob import glob\n",
    "import matplotlib.pyplot as plt\n",
    "import random\n",
    "\n",
    "\"\"\"\n",
    "    number of trajectories in each city\n",
    "    # austin --  train: 43041 test: 6325 \n",
    "    # miami -- train: 55029 test:7971\n",
    "    # pittsburgh -- train: 43544 test: 6361\n",
    "    # dearborn -- train: 24465 test: 3671\n",
    "    # washington-dc -- train: 25744 test: 3829\n",
    "    # palo-alto -- train:  11993 test:1686\n",
    "\n",
    "    trajectories sampled at 10HZ rate, input 5 seconds, output 6 seconds\n",
    "    \n",
    "\"\"\""
   ]
  },
  {
   "cell_type": "markdown",
   "id": "e693331a",
   "metadata": {},
   "source": [
    "## Create a Torch.Dataset class for the training dataset"
   ]
  },
  {
   "cell_type": "code",
   "execution_count": 2,
   "id": "a5977e7e",
   "metadata": {},
   "outputs": [],
   "source": [
    "from glob import glob\n",
    "import pickle\n",
    "import numpy as np\n",
    "\n",
    "ROOT_PATH = \"./\"\n",
    "\n",
    "cities = [\"austin\", \"miami\", \"pittsburgh\", \"dearborn\", \"washington-dc\", \"palo-alto\"]\n",
    "splits = [\"train\", \"test\"]\n",
    "\n",
    "def get_city_trajectories(city=\"palo-alto\", split=\"train\", normalized=False):\n",
    "\n",
    "    \n",
    "    outputs = None\n",
    "    \n",
    "    if split==\"train\":\n",
    "        f_in = ROOT_PATH + split + \"/\" + city + \"_inputs\"\n",
    "        inputs = pickle.load(open(f_in, \"rb\"))\n",
    "        n = len(inputs)\n",
    "        inputs = np.asarray(inputs)[:int(n * 0.95)]\n",
    "        \n",
    "        f_out = ROOT_PATH + split + \"/\" + city + \"_outputs\"\n",
    "        outputs = pickle.load(open(f_out, \"rb\"))\n",
    "        outputs = np.asarray(outputs)[:int(n * 0.95)]\n",
    "        \n",
    "    elif split == 'val':\n",
    "        f_in = ROOT_PATH + 'train' + \"/\" + city + \"_inputs\"\n",
    "        inputs = pickle.load(open(f_in, \"rb\"))\n",
    "        n = len(inputs)\n",
    "        inputs = np.asarray(inputs)[int(n * 0.95):]\n",
    "        \n",
    "        f_out = ROOT_PATH + 'train' + \"/\" + city + \"_outputs\"\n",
    "        outputs = pickle.load(open(f_out, \"rb\"))\n",
    "        outputs = np.asarray(outputs)[int(n * 0.95):]\n",
    "    \n",
    "    else:\n",
    "        f_in = ROOT_PATH + split + \"/\" + city + \"_inputs\"\n",
    "        inputs = pickle.load(open(f_in, \"rb\"))\n",
    "        n = len(inputs)\n",
    "        inputs = np.asarray(inputs)\n",
    "\n",
    "    return inputs, outputs\n",
    "\n",
    "class ArgoverseDataset(Dataset):\n",
    "    \"\"\"Dataset class for Argoverse\"\"\"\n",
    "    def __init__(self, city: str, split:str, transform=None):\n",
    "        super(ArgoverseDataset, self).__init__()\n",
    "        self.transform = transform\n",
    "\n",
    "        self.inputs, self.outputs = get_city_trajectories(city=city, split=split, normalized=False)\n",
    "\n",
    "    def __len__(self):\n",
    "        return len(self.inputs)\n",
    "\n",
    "    def __getitem__(self, idx):\n",
    "\n",
    "        data = (self.inputs[idx], self.outputs[idx])\n",
    "            \n",
    "        if self.transform:\n",
    "            data = self.transform(data)\n",
    "\n",
    "        return data"
   ]
  },
  {
   "cell_type": "code",
   "execution_count": 3,
   "id": "3b14fb85-ac97-4bec-a307-6255b705825c",
   "metadata": {},
   "outputs": [],
   "source": [
    "# intialize a dataset\n",
    "def get_data_loader(city = 'austin', batch_size = 20):\n",
    "    train_dataset  = ArgoverseDataset(city = city, split = 'train')\n",
    "    val_dataset = ArgoverseDataset(city = city, split = 'val')\n",
    "\n",
    "    train_loader = DataLoader(train_dataset,batch_size=batch_size)\n",
    "    val_loader = DataLoader(val_dataset,batch_size=batch_size)\n",
    "    return train_dataset, val_dataset, train_loader, val_loader"
   ]
  },
  {
   "cell_type": "code",
   "execution_count": 4,
   "id": "b43d7b9d-c7f5-4ee3-ac7a-762c2e486113",
   "metadata": {},
   "outputs": [],
   "source": [
    "train_dataset, val_dataset, train_loader, val_loader = get_data_loader(city = 'austin', batch_size = 20)"
   ]
  },
  {
   "cell_type": "code",
   "execution_count": 5,
   "id": "f01aed22",
   "metadata": {},
   "outputs": [
    {
     "data": {
      "text/plain": [
       "2153"
      ]
     },
     "execution_count": 5,
     "metadata": {},
     "output_type": "execute_result"
    }
   ],
   "source": [
    "len(val_dataset)"
   ]
  },
  {
   "cell_type": "code",
   "execution_count": 6,
   "id": "075abd9d-1282-4d60-8918-d8bf80ce0b6b",
   "metadata": {},
   "outputs": [
    {
     "data": {
      "text/plain": [
       "40888"
      ]
     },
     "execution_count": 6,
     "metadata": {},
     "output_type": "execute_result"
    }
   ],
   "source": [
    "len(train_dataset)"
   ]
  },
  {
   "cell_type": "markdown",
   "id": "ac92ceab",
   "metadata": {},
   "source": [
    "## models"
   ]
  },
  {
   "cell_type": "code",
   "execution_count": 8,
   "id": "7eb4131c",
   "metadata": {},
   "outputs": [],
   "source": [
    "from torch import nn, optim\n",
    "\n",
    "# model1: EncoderDecoder\n",
    "class EncoderDecoder(nn.Module):\n",
    "\n",
    "    def __init__(self):\n",
    "        super().__init__()\n",
    "        \n",
    "        self.encoder = nn.Sequential(\n",
    "            nn.Linear(100, 64),\n",
    "            nn.LogSigmoid(),\n",
    "            nn.Linear(64, 32),\n",
    "            nn.LogSigmoid(),\n",
    "            nn.Linear(32, 32)\n",
    "        )\n",
    "        \n",
    "        self.decoder = nn.Sequential(\n",
    "            nn.Linear(32, 64),\n",
    "            nn.LogSigmoid(),\n",
    "            nn.Linear(64, 120),\n",
    "            nn.LogSigmoid(),\n",
    "            nn.Linear(120, 120)\n",
    "        )\n",
    "        \n",
    "    def forward(self, x):\n",
    "        x = x.reshape(-1, 100).float()\n",
    "        x = self.encoder(x)\n",
    "        x = self.decoder(x)\n",
    "        x = x.reshape(-1, 60, 2)\n",
    "        return x.float()"
   ]
  },
  {
   "cell_type": "code",
   "execution_count": 9,
   "id": "d4604e8e-73e2-45b7-8985-cf0e06836c25",
   "metadata": {},
   "outputs": [],
   "source": [
    "# model2: MLP\n",
    "class MLP(nn.Module):\n",
    "    def __init__(self):\n",
    "        super(MLP, self).__init__()\n",
    "\n",
    "        self.mlp = nn.Sequential(\n",
    "            nn.Linear(100, 256),\n",
    "            nn.ReLU(),\n",
    "            nn.Linear(256, 512),\n",
    "            nn.ReLU(),\n",
    "            nn.Linear(512, 256),\n",
    "            nn.ReLU(),\n",
    "            nn.Linear(256, 120)\n",
    "        )\n",
    "    \n",
    "    def forward(self, x):\n",
    "        x = x.reshape(-1, 100).float()\n",
    "        x = self.mlp(x)\n",
    "        x = x.reshape(-1, 60, 2)\n",
    "        return x.float()"
   ]
  },
  {
   "cell_type": "code",
   "execution_count": 10,
   "id": "3b6c7dda",
   "metadata": {},
   "outputs": [],
   "source": [
    "# model, optimizer, loss\n",
    "model_encdoc = EncoderDecoder()\n",
    "opt = optim.Adam(model_encdoc.parameters(), lr=1e-3)\n",
    "loss_func = nn.MSELoss()"
   ]
  },
  {
   "cell_type": "code",
   "execution_count": 11,
   "id": "7bf9f9ee-95a2-48c4-93a0-8de88b81949c",
   "metadata": {},
   "outputs": [],
   "source": [
    "def train_epochs(model, train_loader, loss_func, opt, epochs = 10):\n",
    "    train_losses = []\n",
    "    for epoch in range(epochs):\n",
    "\n",
    "        total_loss = 0\n",
    "        for i_batch, sample_batch in enumerate(train_loader):\n",
    "            inp, out = sample_batch\n",
    "            out = out.float()\n",
    "            preds = model(inp)\n",
    "            loss = loss_func(preds, out) # MSE\n",
    "            #loss = torch.sqrt(loss_func(preds, out)) # RMSE\n",
    "\n",
    "            opt.zero_grad()\n",
    "            loss.backward()\n",
    "            opt.step()\n",
    "\n",
    "            total_loss += loss.item()\n",
    "\n",
    "        print('epoch {} trian loss: {}'.format(epoch, total_loss / len(train_dataset)))\n",
    "        train_losses.append(total_loss / len(train_dataset))\n",
    "    return train_losses"
   ]
  },
  {
   "cell_type": "code",
   "execution_count": 12,
   "id": "48fe1276",
   "metadata": {},
   "outputs": [],
   "source": [
    "def val_loss(model, val_loader, loss_func, opt):\n",
    "    val_loss = 0\n",
    "    for i_batch, sample_batch in enumerate(val_loader):\n",
    "        inp, out = sample_batch\n",
    "        out = out.float()\n",
    "        preds = model(inp)\n",
    "        loss = loss_func(preds, out) # MSE\n",
    "        #loss = torch.sqrt(loss_func(preds, out)) # RMSE\n",
    "\n",
    "        val_loss += loss.item()\n",
    "    print('val loss: {}'.format(val_loss / len(val_dataset)))"
   ]
  },
  {
   "cell_type": "code",
   "execution_count": 13,
   "id": "dcebc7ad-3284-4d38-85e6-104c655fe42b",
   "metadata": {},
   "outputs": [],
   "source": [
    "def train_city(city, batch_size, epochs, model):\n",
    "    # data loader\n",
    "    train_dataset, val_dataset, train_loader, val_loader = get_data_loader(city = city, batch_size = batch_size)\n",
    "    \n",
    "    # model, optimizer, loss\n",
    "    model_encdoc = model\n",
    "    opt = optim.Adam(model_encdoc.parameters(), lr=1e-3)\n",
    "    loss_func = nn.MSELoss()\n",
    "    \n",
    "    # train\n",
    "    train_losses = train_epochs(model_encdoc, train_loader, loss_func, opt, epochs = epochs)\n",
    "    \n",
    "    # evaluate\n",
    "    # val_loss(model_encdoc, val_loader, loss_func, opt)\n",
    "    return model_encdoc, train_losses"
   ]
  },
  {
   "cell_type": "markdown",
   "id": "839c2aa1-83c8-49bf-8839-d00f910e62b9",
   "metadata": {},
   "source": [
    "## Training"
   ]
  },
  {
   "cell_type": "code",
   "execution_count": 93,
   "id": "55148b68-bf8e-4b29-b669-04422274f437",
   "metadata": {},
   "outputs": [],
   "source": [
    "# model, optimizer, loss\n",
    "mlp = MLP()\n",
    "opt = optim.Adam(model_encdoc.parameters(), lr=1e-3)\n",
    "loss_func = nn.MSELoss()"
   ]
  },
  {
   "cell_type": "code",
   "execution_count": 79,
   "id": "af043bb2-8473-4fac-b105-cd174b287d77",
   "metadata": {},
   "outputs": [
    {
     "name": "stdout",
     "output_type": "stream",
     "text": [
      "torch.Size([20, 50, 2])\n",
      "torch.Size([20, 60, 2])\n",
      "torch.Size([20, 60, 2])\n",
      "tensor(3108324.7500, grad_fn=<MseLossBackward0>)\n"
     ]
    }
   ],
   "source": [
    "for i_batch, sample_batch in enumerate(train_loader):\n",
    "    inp, out = sample_batch\n",
    "    out = out.float()\n",
    "    preds = mlp(inp)\n",
    "    print(inp.shape)\n",
    "    print(preds.shape)\n",
    "    print(out.shape)\n",
    "    loss = loss_func(preds, out)\n",
    "    print(loss)\n",
    "    break"
   ]
  },
  {
   "cell_type": "code",
   "execution_count": 15,
   "id": "f4220c59-f939-499f-881b-87d4847a2838",
   "metadata": {},
   "outputs": [
    {
     "name": "stdout",
     "output_type": "stream",
     "text": [
      "epoch 0 trian loss: 393.38518951839956\n",
      "epoch 1 trian loss: 22.280564000848642\n",
      "epoch 2 trian loss: 24.31566081441701\n",
      "epoch 3 trian loss: 22.824640997653603\n",
      "epoch 4 trian loss: 21.277399614304624\n",
      "epoch 5 trian loss: 18.76080187545833\n",
      "epoch 6 trian loss: 21.227698706572966\n",
      "epoch 7 trian loss: 17.582340625605454\n",
      "epoch 8 trian loss: 8.642059239592951\n",
      "epoch 9 trian loss: 14.439032911577936\n",
      "val loss: 38.41288165541178\n"
     ]
    },
    {
     "data": {
      "text/plain": [
       "Text(0, 0.5, 'MSE')"
      ]
     },
     "execution_count": 15,
     "metadata": {},
     "output_type": "execute_result"
    },
    {
     "data": {
      "image/png": "[encoded data removed]",
      "text/plain": [
       "<Figure size 432x288 with 1 Axes>"
      ]
     },
     "metadata": {
      "needs_background": "light"
     },
     "output_type": "display_data"
    }
   ],
   "source": [
    "# austin\n",
    "model_austin = MLP()\n",
    "model_austin, train_losses = train_city('austin', batch_size = 64, epochs = 10, model = model_austin)\n",
    "val_loss(model_austin, val_loader, loss_func, opt)\n",
    "plt.plot(train_losses)\n",
    "plt.xlabel('Training Step')\n",
    "plt.ylabel('MSE')"
   ]
  },
  {
   "cell_type": "code",
   "execution_count": 16,
   "id": "6ff6b57a-9089-4614-a20a-930462febdf2",
   "metadata": {},
   "outputs": [
    {
     "name": "stdout",
     "output_type": "stream",
     "text": [
      "epoch 0 trian loss: 2103.8864886306824\n",
      "epoch 1 trian loss: 60.92564847823389\n",
      "epoch 2 trian loss: 92.2322881762423\n",
      "epoch 3 trian loss: 78.8894745302956\n",
      "epoch 4 trian loss: 51.10733285096732\n",
      "epoch 5 trian loss: 103.62380479735373\n",
      "epoch 6 trian loss: 55.32301306533291\n",
      "epoch 7 trian loss: 64.08888214624831\n",
      "epoch 8 trian loss: 60.64913455736985\n",
      "epoch 9 trian loss: 56.16205512733288\n",
      "val loss: 405.1633360880893\n"
     ]
    },
    {
     "data": {
      "text/plain": [
       "Text(0, 0.5, 'MSE')"
      ]
     },
     "execution_count": 16,
     "metadata": {},
     "output_type": "execute_result"
    },
    {
     "data": {
      "image/png": "[encoded data removed]",
      "text/plain": [
       "<Figure size 432x288 with 1 Axes>"
      ]
     },
     "metadata": {
      "needs_background": "light"
     },
     "output_type": "display_data"
    }
   ],
   "source": [
    "# miami\n",
    "model = MLP()\n",
    "model_miami, train_losses = train_city('miami', batch_size = 64, epochs = 10, model = model)\n",
    "val_loss(model_miami, val_loader, loss_func, opt)\n",
    "plt.plot(train_losses)\n",
    "plt.xlabel('Training Step')\n",
    "plt.ylabel('MSE')"
   ]
  },
  {
   "cell_type": "code",
   "execution_count": 17,
   "id": "efe0c8aa-5599-4aaa-8458-1afae20f0a7a",
   "metadata": {},
   "outputs": [
    {
     "name": "stdout",
     "output_type": "stream",
     "text": [
      "epoch 0 trian loss: 1602.5606804274692\n",
      "epoch 1 trian loss: 22.532425167088967\n",
      "epoch 2 trian loss: 30.095512564787306\n",
      "epoch 3 trian loss: 30.924761208459792\n",
      "epoch 4 trian loss: 31.69064628856333\n",
      "epoch 5 trian loss: 27.292811459231764\n",
      "epoch 6 trian loss: 27.77358005742368\n",
      "epoch 7 trian loss: 25.882186400029692\n",
      "epoch 8 trian loss: 23.82995995223184\n",
      "epoch 9 trian loss: 22.84970122329691\n",
      "val loss: 18844.290227299116\n"
     ]
    },
    {
     "data": {
      "text/plain": [
       "Text(0, 0.5, 'MSE')"
      ]
     },
     "execution_count": 17,
     "metadata": {},
     "output_type": "execute_result"
    },
    {
     "data": {
      "image/png": "[encoded data removed]",
      "text/plain": [
       "<Figure size 432x288 with 1 Axes>"
      ]
     },
     "metadata": {
      "needs_background": "light"
     },
     "output_type": "display_data"
    }
   ],
   "source": [
    "# pittsburgh\n",
    "mlp = MLP()\n",
    "model_pittsburgh, train_losses = train_city('pittsburgh', batch_size = 64, epochs = 10, model = mlp)\n",
    "val_loss(model_pittsburgh, val_loader, loss_func, opt)\n",
    "plt.plot(train_losses)\n",
    "plt.xlabel('Training Step')\n",
    "plt.ylabel('MSE')"
   ]
  },
  {
   "cell_type": "code",
   "execution_count": 18,
   "id": "ec3827fe-5a0a-4d7d-a6a9-9308c87fcd24",
   "metadata": {},
   "outputs": [
    {
     "name": "stdout",
     "output_type": "stream",
     "text": [
      "epoch 0 trian loss: 6248.036561548349\n",
      "epoch 1 trian loss: 24.413187497563847\n",
      "epoch 2 trian loss: 29.554629057733262\n",
      "epoch 3 trian loss: 33.26314932342332\n",
      "epoch 4 trian loss: 34.376461192507776\n",
      "epoch 5 trian loss: 53.55130006674101\n",
      "epoch 6 trian loss: 59.24429132009621\n",
      "epoch 7 trian loss: 57.90695196699196\n",
      "epoch 8 trian loss: 57.08381811659575\n",
      "epoch 9 trian loss: 55.79578171119697\n",
      "val loss: 54492.379673711104\n"
     ]
    },
    {
     "data": {
      "text/plain": [
       "Text(0, 0.5, 'MSE')"
      ]
     },
     "execution_count": 18,
     "metadata": {},
     "output_type": "execute_result"
    },
    {
     "data": {
      "image/png": "[encoded data removed]",
      "text/plain": [
       "<Figure size 432x288 with 1 Axes>"
      ]
     },
     "metadata": {
      "needs_background": "light"
     },
     "output_type": "display_data"
    }
   ],
   "source": [
    "# dearborn\n",
    "mlp = MLP()\n",
    "model_dearborn, train_losses = train_city('dearborn', batch_size = 64, epochs = 10, model = mlp)\n",
    "val_loss(model_dearborn, val_loader, loss_func, opt)\n",
    "plt.plot(train_losses)\n",
    "plt.xlabel('Training Step')\n",
    "plt.ylabel('MSE')"
   ]
  },
  {
   "cell_type": "code",
   "execution_count": 19,
   "id": "22d80510-d4e0-407a-9bd1-d19b3280df9c",
   "metadata": {},
   "outputs": [
    {
     "name": "stdout",
     "output_type": "stream",
     "text": [
      "epoch 0 trian loss: 1856.8010788740091\n",
      "epoch 1 trian loss: 13.370718300494167\n",
      "epoch 2 trian loss: 14.291630029351808\n",
      "epoch 3 trian loss: 15.78370055226845\n",
      "epoch 4 trian loss: 22.334707065702442\n",
      "epoch 5 trian loss: 21.26473578070736\n",
      "epoch 6 trian loss: 34.59853002540381\n",
      "epoch 7 trian loss: 27.782538933288418\n",
      "epoch 8 trian loss: 15.543214801332297\n",
      "epoch 9 trian loss: 19.193987536444354\n",
      "val loss: 34312.580962610315\n"
     ]
    },
    {
     "data": {
      "text/plain": [
       "Text(0, 0.5, 'MSE')"
      ]
     },
     "execution_count": 19,
     "metadata": {},
     "output_type": "execute_result"
    },
    {
     "data": {
      "image/png": "[encoded data removed]",
      "text/plain": [
       "<Figure size 432x288 with 1 Axes>"
      ]
     },
     "metadata": {
      "needs_background": "light"
     },
     "output_type": "display_data"
    }
   ],
   "source": [
    "# washington_dc\n",
    "mlp = MLP()\n",
    "model_washington_dc, train_losses = train_city('washington-dc', batch_size = 64, epochs = 10, model = mlp)\n",
    "val_loss(model_washington_dc, val_loader, loss_func, opt)\n",
    "plt.plot(train_losses)\n",
    "plt.xlabel('Training Step')\n",
    "plt.ylabel('MSE')"
   ]
  },
  {
   "cell_type": "code",
   "execution_count": 20,
   "id": "b9241cf9-e013-449a-8a5d-7bf79e60ed43",
   "metadata": {},
   "outputs": [
    {
     "name": "stdout",
     "output_type": "stream",
     "text": [
      "epoch 0 trian loss: 404.92356977871407\n",
      "epoch 1 trian loss: 7.543140307631518\n",
      "epoch 2 trian loss: 7.483508304662374\n",
      "epoch 3 trian loss: 8.483040451560322\n",
      "epoch 4 trian loss: 8.224717536706837\n",
      "epoch 5 trian loss: 7.339384880207728\n",
      "epoch 6 trian loss: 8.894531509736773\n",
      "epoch 7 trian loss: 10.818123884057373\n",
      "epoch 8 trian loss: 7.384501538382097\n",
      "epoch 9 trian loss: 13.783410442339607\n",
      "val loss: 82.84196433188248\n"
     ]
    },
    {
     "data": {
      "text/plain": [
       "Text(0, 0.5, 'MSE')"
      ]
     },
     "execution_count": 20,
     "metadata": {},
     "output_type": "execute_result"
    },
    {
     "data": {
      "image/png": "[encoded data removed]",
      "text/plain": [
       "<Figure size 432x288 with 1 Axes>"
      ]
     },
     "metadata": {
      "needs_background": "light"
     },
     "output_type": "display_data"
    }
   ],
   "source": [
    "# palo_alto\n",
    "mlp = MLP()\n",
    "model_palo_alto, train_losses = train_city('palo-alto', batch_size = 64, epochs = 10, model = mlp)\n",
    "val_loss(model_palo_alto, val_loader, loss_func, opt)\n",
    "plt.plot(train_losses)\n",
    "plt.xlabel('Training Step')\n",
    "plt.ylabel('MSE')"
   ]
  },
  {
   "cell_type": "markdown",
   "id": "5562e425-6a2c-4489-af90-058619948e08",
   "metadata": {},
   "source": [
    "## Make Prediction"
   ]
  },
  {
   "cell_type": "code",
   "execution_count": 21,
   "id": "93ed9e61-c999-481e-b16e-0c9205e5d61f",
   "metadata": {},
   "outputs": [],
   "source": [
    "cities = [\"austin\", \"miami\", \"pittsburgh\", \"dearborn\", \"washington-dc\", \"palo-alto\"]\n",
    "models = [model_austin, model_miami, model_pittsburgh, model_dearborn, model_washington_dc, model_palo_alto]"
   ]
  },
  {
   "cell_type": "code",
   "execution_count": 22,
   "id": "148fa5fd-dd7b-47a2-b580-c3192d712c6f",
   "metadata": {},
   "outputs": [],
   "source": [
    "def predict_test(city, model):\n",
    "    test_dataset = get_city_trajectories(city = city, split = 'test')[0]\n",
    "    test_dataset = torch.from_numpy(test_dataset)\n",
    "    pred = model(test_dataset).reshape(-1, 120)\n",
    "    return pd.DataFrame(pred.detach().numpy())"
   ]
  },
  {
   "cell_type": "code",
   "execution_count": 23,
   "id": "d7eb81e3-2e8e-4ff3-b23e-f559134edfd4",
   "metadata": {},
   "outputs": [],
   "source": [
    "columns =['ID'] + ['v'+str(i) for i in range(120)]"
   ]
  },
  {
   "cell_type": "code",
   "execution_count": 24,
   "id": "945eb530-a029-4202-af4c-544c4cb7c980",
   "metadata": {},
   "outputs": [],
   "source": [
    "def predict_all(cities, models):\n",
    "    out = predict_test(cities[0], models[0]).reset_index()\n",
    "    out.columns = columns\n",
    "    out['ID'] = out['ID'].astype(str) + '_' + cities[0]\n",
    "    \n",
    "    for city, model in zip(cities[1:], models[1:]):\n",
    "        temp = predict_test(city, model).reset_index()\n",
    "        temp.columns = columns\n",
    "        temp['ID'] = temp['ID'].astype(str) + '_' + city\n",
    "        out = pd.concat([out, temp])\n",
    "    \n",
    "    return out        "
   ]
  },
  {
   "cell_type": "code",
   "execution_count": 25,
   "id": "220d0018-7cd1-4f9d-9206-be16d1fcbcaa",
   "metadata": {},
   "outputs": [],
   "source": [
    "test_output = predict_all(cities, models)"
   ]
  },
  {
   "cell_type": "code",
   "execution_count": 26,
   "id": "c204a7f3-c10c-4e23-8b7a-0dc89e69947c",
   "metadata": {},
   "outputs": [],
   "source": [
    "test_output.to_csv('test_output.csv', index=False)"
   ]
  },
  {
   "cell_type": "code",
   "execution_count": 27,
   "id": "a122ca27-b9ac-489f-ba37-2ffdbd16fb76",
   "metadata": {},
   "outputs": [
    {
     "data": {
      "text/html": [
       "<div>\n",
       "<style scoped>\n",
       "    .dataframe tbody tr th:only-of-type {\n",
       "        vertical-align: middle;\n",
       "    }\n",
       "\n",
       "    .dataframe tbody tr th {\n",
       "        vertical-align: top;\n",
       "    }\n",
       "\n",
       "    .dataframe thead th {\n",
       "        text-align: right;\n",
       "    }\n",
       "</style>\n",
       "<table border=\"1\" class=\"dataframe\">\n",
       "  <thead>\n",
       "    <tr style=\"text-align: right;\">\n",
       "      <th></th>\n",
       "      <th>ID</th>\n",
       "      <th>v0</th>\n",
       "      <th>v1</th>\n",
       "      <th>v2</th>\n",
       "      <th>v3</th>\n",
       "      <th>v4</th>\n",
       "      <th>v5</th>\n",
       "      <th>v6</th>\n",
       "      <th>v7</th>\n",
       "      <th>v8</th>\n",
       "      <th>...</th>\n",
       "      <th>v110</th>\n",
       "      <th>v111</th>\n",
       "      <th>v112</th>\n",
       "      <th>v113</th>\n",
       "      <th>v114</th>\n",
       "      <th>v115</th>\n",
       "      <th>v116</th>\n",
       "      <th>v117</th>\n",
       "      <th>v118</th>\n",
       "      <th>v119</th>\n",
       "    </tr>\n",
       "  </thead>\n",
       "  <tbody>\n",
       "    <tr>\n",
       "      <th>0</th>\n",
       "      <td>0_austin</td>\n",
       "      <td>-12.274271</td>\n",
       "      <td>-569.611877</td>\n",
       "      <td>-9.483233</td>\n",
       "      <td>-571.871765</td>\n",
       "      <td>-10.320328</td>\n",
       "      <td>-574.173218</td>\n",
       "      <td>-13.976591</td>\n",
       "      <td>-569.374512</td>\n",
       "      <td>-14.947170</td>\n",
       "      <td>...</td>\n",
       "      <td>-43.458305</td>\n",
       "      <td>-567.218750</td>\n",
       "      <td>-42.077290</td>\n",
       "      <td>-567.922791</td>\n",
       "      <td>-40.767471</td>\n",
       "      <td>-569.543518</td>\n",
       "      <td>-46.848164</td>\n",
       "      <td>-568.430298</td>\n",
       "      <td>-44.021938</td>\n",
       "      <td>-571.277832</td>\n",
       "    </tr>\n",
       "    <tr>\n",
       "      <th>1</th>\n",
       "      <td>1_austin</td>\n",
       "      <td>-349.606873</td>\n",
       "      <td>6.513977</td>\n",
       "      <td>-355.098389</td>\n",
       "      <td>5.693699</td>\n",
       "      <td>-354.600372</td>\n",
       "      <td>5.708442</td>\n",
       "      <td>-352.738342</td>\n",
       "      <td>7.262376</td>\n",
       "      <td>-345.688843</td>\n",
       "      <td>...</td>\n",
       "      <td>-351.474823</td>\n",
       "      <td>-17.969404</td>\n",
       "      <td>-348.948486</td>\n",
       "      <td>-18.305851</td>\n",
       "      <td>-345.062317</td>\n",
       "      <td>-16.589478</td>\n",
       "      <td>-352.807648</td>\n",
       "      <td>-19.938955</td>\n",
       "      <td>-348.813934</td>\n",
       "      <td>-20.222277</td>\n",
       "    </tr>\n",
       "    <tr>\n",
       "      <th>2</th>\n",
       "      <td>2_austin</td>\n",
       "      <td>52.238003</td>\n",
       "      <td>-249.850082</td>\n",
       "      <td>51.633129</td>\n",
       "      <td>-249.196198</td>\n",
       "      <td>53.036709</td>\n",
       "      <td>-249.447632</td>\n",
       "      <td>51.939991</td>\n",
       "      <td>-249.660233</td>\n",
       "      <td>51.465332</td>\n",
       "      <td>...</td>\n",
       "      <td>55.204639</td>\n",
       "      <td>-250.913895</td>\n",
       "      <td>55.172924</td>\n",
       "      <td>-251.189423</td>\n",
       "      <td>55.601936</td>\n",
       "      <td>-251.106400</td>\n",
       "      <td>54.794281</td>\n",
       "      <td>-252.216370</td>\n",
       "      <td>54.491856</td>\n",
       "      <td>-251.440231</td>\n",
       "    </tr>\n",
       "    <tr>\n",
       "      <th>3</th>\n",
       "      <td>3_austin</td>\n",
       "      <td>-103.546249</td>\n",
       "      <td>1795.338257</td>\n",
       "      <td>-108.782494</td>\n",
       "      <td>1792.521240</td>\n",
       "      <td>-116.528603</td>\n",
       "      <td>1801.284058</td>\n",
       "      <td>-111.055649</td>\n",
       "      <td>1799.593628</td>\n",
       "      <td>-108.453461</td>\n",
       "      <td>...</td>\n",
       "      <td>-99.383545</td>\n",
       "      <td>1819.583374</td>\n",
       "      <td>-101.993034</td>\n",
       "      <td>1814.299072</td>\n",
       "      <td>-101.187271</td>\n",
       "      <td>1815.249634</td>\n",
       "      <td>-91.823990</td>\n",
       "      <td>1811.967407</td>\n",
       "      <td>-101.854477</td>\n",
       "      <td>1821.565430</td>\n",
       "    </tr>\n",
       "    <tr>\n",
       "      <th>4</th>\n",
       "      <td>4_austin</td>\n",
       "      <td>1206.343750</td>\n",
       "      <td>-638.701965</td>\n",
       "      <td>1208.980347</td>\n",
       "      <td>-636.604797</td>\n",
       "      <td>1212.035278</td>\n",
       "      <td>-641.642883</td>\n",
       "      <td>1206.955688</td>\n",
       "      <td>-644.042725</td>\n",
       "      <td>1210.059937</td>\n",
       "      <td>...</td>\n",
       "      <td>1246.103882</td>\n",
       "      <td>-647.595886</td>\n",
       "      <td>1239.788208</td>\n",
       "      <td>-649.550720</td>\n",
       "      <td>1237.999878</td>\n",
       "      <td>-647.307922</td>\n",
       "      <td>1242.427124</td>\n",
       "      <td>-651.629700</td>\n",
       "      <td>1240.551514</td>\n",
       "      <td>-648.237976</td>\n",
       "    </tr>\n",
       "    <tr>\n",
       "      <th>...</th>\n",
       "      <td>...</td>\n",
       "      <td>...</td>\n",
       "      <td>...</td>\n",
       "      <td>...</td>\n",
       "      <td>...</td>\n",
       "      <td>...</td>\n",
       "      <td>...</td>\n",
       "      <td>...</td>\n",
       "      <td>...</td>\n",
       "      <td>...</td>\n",
       "      <td>...</td>\n",
       "      <td>...</td>\n",
       "      <td>...</td>\n",
       "      <td>...</td>\n",
       "      <td>...</td>\n",
       "      <td>...</td>\n",
       "      <td>...</td>\n",
       "      <td>...</td>\n",
       "      <td>...</td>\n",
       "      <td>...</td>\n",
       "      <td>...</td>\n",
       "    </tr>\n",
       "    <tr>\n",
       "      <th>1681</th>\n",
       "      <td>1681_palo-alto</td>\n",
       "      <td>-1397.602051</td>\n",
       "      <td>-455.680054</td>\n",
       "      <td>-1390.574829</td>\n",
       "      <td>-459.671051</td>\n",
       "      <td>-1402.632202</td>\n",
       "      <td>-460.098877</td>\n",
       "      <td>-1409.098877</td>\n",
       "      <td>-456.608734</td>\n",
       "      <td>-1394.320801</td>\n",
       "      <td>...</td>\n",
       "      <td>-1396.992554</td>\n",
       "      <td>-453.406830</td>\n",
       "      <td>-1404.474854</td>\n",
       "      <td>-451.226959</td>\n",
       "      <td>-1400.284668</td>\n",
       "      <td>-457.384674</td>\n",
       "      <td>-1398.872681</td>\n",
       "      <td>-453.254486</td>\n",
       "      <td>-1403.990601</td>\n",
       "      <td>-452.808777</td>\n",
       "    </tr>\n",
       "    <tr>\n",
       "      <th>1682</th>\n",
       "      <td>1682_palo-alto</td>\n",
       "      <td>126.885231</td>\n",
       "      <td>-26.117283</td>\n",
       "      <td>126.336540</td>\n",
       "      <td>-27.090616</td>\n",
       "      <td>125.994774</td>\n",
       "      <td>-28.276144</td>\n",
       "      <td>127.263100</td>\n",
       "      <td>-28.084583</td>\n",
       "      <td>127.223450</td>\n",
       "      <td>...</td>\n",
       "      <td>127.767677</td>\n",
       "      <td>-25.629829</td>\n",
       "      <td>126.694595</td>\n",
       "      <td>-26.520344</td>\n",
       "      <td>127.102882</td>\n",
       "      <td>-26.676155</td>\n",
       "      <td>125.338959</td>\n",
       "      <td>-26.133646</td>\n",
       "      <td>127.912430</td>\n",
       "      <td>-25.604546</td>\n",
       "    </tr>\n",
       "    <tr>\n",
       "      <th>1683</th>\n",
       "      <td>1683_palo-alto</td>\n",
       "      <td>-1423.200684</td>\n",
       "      <td>2120.553223</td>\n",
       "      <td>-1429.093384</td>\n",
       "      <td>2129.411621</td>\n",
       "      <td>-1436.959229</td>\n",
       "      <td>2111.875000</td>\n",
       "      <td>-1431.079834</td>\n",
       "      <td>2120.131836</td>\n",
       "      <td>-1422.234253</td>\n",
       "      <td>...</td>\n",
       "      <td>-1435.731201</td>\n",
       "      <td>2137.077393</td>\n",
       "      <td>-1444.496948</td>\n",
       "      <td>2137.065918</td>\n",
       "      <td>-1438.054565</td>\n",
       "      <td>2132.393311</td>\n",
       "      <td>-1436.953003</td>\n",
       "      <td>2116.832520</td>\n",
       "      <td>-1442.351440</td>\n",
       "      <td>2130.452881</td>\n",
       "    </tr>\n",
       "    <tr>\n",
       "      <th>1684</th>\n",
       "      <td>1684_palo-alto</td>\n",
       "      <td>1072.889404</td>\n",
       "      <td>1352.051636</td>\n",
       "      <td>1066.386108</td>\n",
       "      <td>1363.117432</td>\n",
       "      <td>1063.916626</td>\n",
       "      <td>1357.631592</td>\n",
       "      <td>1061.698608</td>\n",
       "      <td>1354.566650</td>\n",
       "      <td>1068.734497</td>\n",
       "      <td>...</td>\n",
       "      <td>1066.769409</td>\n",
       "      <td>1349.325317</td>\n",
       "      <td>1063.336914</td>\n",
       "      <td>1350.332520</td>\n",
       "      <td>1076.366455</td>\n",
       "      <td>1355.467041</td>\n",
       "      <td>1065.059692</td>\n",
       "      <td>1338.056519</td>\n",
       "      <td>1072.017090</td>\n",
       "      <td>1354.048950</td>\n",
       "    </tr>\n",
       "    <tr>\n",
       "      <th>1685</th>\n",
       "      <td>1685_palo-alto</td>\n",
       "      <td>-48.178833</td>\n",
       "      <td>423.227173</td>\n",
       "      <td>-49.372078</td>\n",
       "      <td>420.175507</td>\n",
       "      <td>-49.295219</td>\n",
       "      <td>418.682678</td>\n",
       "      <td>-49.852406</td>\n",
       "      <td>420.860535</td>\n",
       "      <td>-49.377037</td>\n",
       "      <td>...</td>\n",
       "      <td>-49.419621</td>\n",
       "      <td>418.502991</td>\n",
       "      <td>-49.976116</td>\n",
       "      <td>418.378967</td>\n",
       "      <td>-47.544220</td>\n",
       "      <td>423.880219</td>\n",
       "      <td>-54.436764</td>\n",
       "      <td>418.860535</td>\n",
       "      <td>-49.682320</td>\n",
       "      <td>419.750824</td>\n",
       "    </tr>\n",
       "  </tbody>\n",
       "</table>\n",
       "<p>29843 rows × 121 columns</p>\n",
       "</div>"
      ],
      "text/plain": [
       "                  ID           v0           v1           v2           v3  \\\n",
       "0           0_austin   -12.274271  -569.611877    -9.483233  -571.871765   \n",
       "1           1_austin  -349.606873     6.513977  -355.098389     5.693699   \n",
       "2           2_austin    52.238003  -249.850082    51.633129  -249.196198   \n",
       "3           3_austin  -103.546249  1795.338257  -108.782494  1792.521240   \n",
       "4           4_austin  1206.343750  -638.701965  1208.980347  -636.604797   \n",
       "...              ...          ...          ...          ...          ...   \n",
       "1681  1681_palo-alto -1397.602051  -455.680054 -1390.574829  -459.671051   \n",
       "1682  1682_palo-alto   126.885231   -26.117283   126.336540   -27.090616   \n",
       "1683  1683_palo-alto -1423.200684  2120.553223 -1429.093384  2129.411621   \n",
       "1684  1684_palo-alto  1072.889404  1352.051636  1066.386108  1363.117432   \n",
       "1685  1685_palo-alto   -48.178833   423.227173   -49.372078   420.175507   \n",
       "\n",
       "               v4           v5           v6           v7           v8  ...  \\\n",
       "0      -10.320328  -574.173218   -13.976591  -569.374512   -14.947170  ...   \n",
       "1     -354.600372     5.708442  -352.738342     7.262376  -345.688843  ...   \n",
       "2       53.036709  -249.447632    51.939991  -249.660233    51.465332  ...   \n",
       "3     -116.528603  1801.284058  -111.055649  1799.593628  -108.453461  ...   \n",
       "4     1212.035278  -641.642883  1206.955688  -644.042725  1210.059937  ...   \n",
       "...           ...          ...          ...          ...          ...  ...   \n",
       "1681 -1402.632202  -460.098877 -1409.098877  -456.608734 -1394.320801  ...   \n",
       "1682   125.994774   -28.276144   127.263100   -28.084583   127.223450  ...   \n",
       "1683 -1436.959229  2111.875000 -1431.079834  2120.131836 -1422.234253  ...   \n",
       "1684  1063.916626  1357.631592  1061.698608  1354.566650  1068.734497  ...   \n",
       "1685   -49.295219   418.682678   -49.852406   420.860535   -49.377037  ...   \n",
       "\n",
       "             v110         v111         v112         v113         v114  \\\n",
       "0      -43.458305  -567.218750   -42.077290  -567.922791   -40.767471   \n",
       "1     -351.474823   -17.969404  -348.948486   -18.305851  -345.062317   \n",
       "2       55.204639  -250.913895    55.172924  -251.189423    55.601936   \n",
       "3      -99.383545  1819.583374  -101.993034  1814.299072  -101.187271   \n",
       "4     1246.103882  -647.595886  1239.788208  -649.550720  1237.999878   \n",
       "...           ...          ...          ...          ...          ...   \n",
       "1681 -1396.992554  -453.406830 -1404.474854  -451.226959 -1400.284668   \n",
       "1682   127.767677   -25.629829   126.694595   -26.520344   127.102882   \n",
       "1683 -1435.731201  2137.077393 -1444.496948  2137.065918 -1438.054565   \n",
       "1684  1066.769409  1349.325317  1063.336914  1350.332520  1076.366455   \n",
       "1685   -49.419621   418.502991   -49.976116   418.378967   -47.544220   \n",
       "\n",
       "             v115         v116         v117         v118         v119  \n",
       "0     -569.543518   -46.848164  -568.430298   -44.021938  -571.277832  \n",
       "1      -16.589478  -352.807648   -19.938955  -348.813934   -20.222277  \n",
       "2     -251.106400    54.794281  -252.216370    54.491856  -251.440231  \n",
       "3     1815.249634   -91.823990  1811.967407  -101.854477  1821.565430  \n",
       "4     -647.307922  1242.427124  -651.629700  1240.551514  -648.237976  \n",
       "...           ...          ...          ...          ...          ...  \n",
       "1681  -457.384674 -1398.872681  -453.254486 -1403.990601  -452.808777  \n",
       "1682   -26.676155   125.338959   -26.133646   127.912430   -25.604546  \n",
       "1683  2132.393311 -1436.953003  2116.832520 -1442.351440  2130.452881  \n",
       "1684  1355.467041  1065.059692  1338.056519  1072.017090  1354.048950  \n",
       "1685   423.880219   -54.436764   418.860535   -49.682320   419.750824  \n",
       "\n",
       "[29843 rows x 121 columns]"
      ]
     },
     "execution_count": 27,
     "metadata": {},
     "output_type": "execute_result"
    }
   ],
   "source": [
    "test_output"
   ]
  },
  {
   "cell_type": "markdown",
   "id": "2e7e5a87",
   "metadata": {},
   "source": [
    "## Sample a batch of data and visualize "
   ]
  },
  {
   "cell_type": "code",
   "execution_count": 112,
   "id": "c4973396-03db-4aff-b9a0-c4e962a6345a",
   "metadata": {},
   "outputs": [],
   "source": [
    "train_dataset, val_dataset, train_loader, val_loader = get_data_loader(city = 'austin', batch_size = 10)"
   ]
  },
  {
   "cell_type": "code",
   "execution_count": 123,
   "id": "293f02a9",
   "metadata": {},
   "outputs": [
    {
     "data": {
      "image/png": "[encoded data removed]",
      "text/plain": [
       "<Figure size 1080x216 with 10 Axes>"
      ]
     },
     "metadata": {},
     "output_type": "display_data"
    },
    {
     "data": {
      "image/png": "[encoded data removed]",
      "text/plain": [
       "<Figure size 1080x216 with 10 Axes>"
      ]
     },
     "metadata": {},
     "output_type": "display_data"
    }
   ],
   "source": [
    "import matplotlib.pyplot as plt\n",
    "import random\n",
    "\n",
    "\n",
    "def show_sample_batch(sample_batch):\n",
    "    \"\"\"visualize the trajectory for a batch of samples\"\"\"\n",
    "    inp, out = sample_batch\n",
    "    batch_sz = inp.size(0)\n",
    "    agent_sz = inp.size(1)\n",
    "    \n",
    "    fig, axs = plt.subplots(1,batch_sz, figsize=(15, 3), facecolor='w', edgecolor='k')\n",
    "    fig.subplots_adjust(hspace = .5, wspace=.001)\n",
    "    axs = axs.ravel()   \n",
    "    for i in range(batch_sz):\n",
    "        axs[i].xaxis.set_ticks([])\n",
    "        axs[i].yaxis.set_ticks([])\n",
    "        \n",
    "        # first two feature dimensions are (x,y) positions\n",
    "        axs[i].scatter(inp[i,:,0], inp[i,:,1])\n",
    "        axs[i].scatter(out[i,:,0], out[i,:,1])\n",
    "\n",
    "        \n",
    "for i_batch, sample_batch in enumerate(train_loader):\n",
    "    if i_batch < 5: continue\n",
    "    inp, out = sample_batch\n",
    "    pred = model_austin(inp).detach()\n",
    "    show_sample_batch(sample_batch)\n",
    "    show_sample_batch([inp, pred])\n",
    "    #print(sample_batch)\n",
    "    break"
   ]
  },
  {
   "cell_type": "code",
   "execution_count": null,
   "id": "ec5242b6",
   "metadata": {},
   "outputs": [],
   "source": []
  }
 ],
 "metadata": {
  "kernelspec": {
   "display_name": "Python 3 (ipykernel)",
   "language": "python",
   "name": "python3"
  },
  "language_info": {
   "codemirror_mode": {
    "name": "ipython",
    "version": 3
   },
   "file_extension": ".py",
   "mimetype": "text/x-python",
   "name": "python",
   "nbconvert_exporter": "python",
   "pygments_lexer": "ipython3",
   "version": "3.10.4"
  }
 },
 "nbformat": 4,
 "nbformat_minor": 5
}
