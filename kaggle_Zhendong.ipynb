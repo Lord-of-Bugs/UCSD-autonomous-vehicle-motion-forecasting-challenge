{
 "cells": [
  {
   "cell_type": "markdown",
   "id": "b703767b",
   "metadata": {},
   "source": [
    "## Install the package dependencies before running this notebook"
   ]
  },
  {
   "cell_type": "code",
   "execution_count": 54,
   "id": "530fb747",
   "metadata": {},
   "outputs": [
    {
     "data": {
      "text/plain": [
       "'\\n    number of trajectories in each city\\n    # austin --  train: 43041 test: 6325 \\n    # miami -- train: 55029 test:7971\\n    # pittsburgh -- train: 43544 test: 6361\\n    # dearborn -- train: 24465 test: 3671\\n    # washington-dc -- train: 25744 test: 3829\\n    # palo-alto -- train:  11993 test:1686\\n\\n    trajectories sampled at 10HZ rate, input 5 seconds, output 6 seconds\\n    \\n'"
      ]
     },
     "execution_count": 54,
     "metadata": {},
     "output_type": "execute_result"
    }
   ],
   "source": [
    "import torch\n",
    "from torch.utils.data import Dataset, DataLoader\n",
    "import os, os.path \n",
    "import numpy \n",
    "import pickle\n",
    "import pandas as pd\n",
    "from glob import glob\n",
    "import matplotlib.pyplot as plt\n",
    "import random\n",
    "\n",
    "\"\"\"\n",
    "    number of trajectories in each city\n",
    "    # austin --  train: 43041 test: 6325 \n",
    "    # miami -- train: 55029 test:7971\n",
    "    # pittsburgh -- train: 43544 test: 6361\n",
    "    # dearborn -- train: 24465 test: 3671\n",
    "    # washington-dc -- train: 25744 test: 3829\n",
    "    # palo-alto -- train:  11993 test:1686\n",
    "\n",
    "    trajectories sampled at 10HZ rate, input 5 seconds, output 6 seconds\n",
    "    \n",
    "\"\"\""
   ]
  },
  {
   "cell_type": "markdown",
   "id": "e693331a",
   "metadata": {},
   "source": [
    "## Create a Torch.Dataset class for the training dataset"
   ]
  },
  {
   "cell_type": "code",
   "execution_count": 67,
   "id": "a5977e7e",
   "metadata": {},
   "outputs": [],
   "source": [
    "from glob import glob\n",
    "import pickle\n",
    "import numpy as np\n",
    "\n",
    "ROOT_PATH = \"./\"\n",
    "\n",
    "cities = [\"austin\", \"miami\", \"pittsburgh\", \"dearborn\", \"washington-dc\", \"palo-alto\"]\n",
    "splits = [\"train\", \"test\"]\n",
    "\n",
    "def get_city_trajectories(city=\"palo-alto\", split=\"train\", normalized=False):\n",
    "\n",
    "    \n",
    "    outputs = None\n",
    "    \n",
    "    if split==\"train\":\n",
    "        f_in = ROOT_PATH + split + \"/\" + city + \"_inputs\"\n",
    "        inputs = pickle.load(open(f_in, \"rb\"))\n",
    "        n = len(inputs)\n",
    "        inputs = np.asarray(inputs)[:int(n * 0.95)]\n",
    "        \n",
    "        f_out = ROOT_PATH + split + \"/\" + city + \"_outputs\"\n",
    "        outputs = pickle.load(open(f_out, \"rb\"))\n",
    "        outputs = np.asarray(outputs)[:int(n * 0.95)]\n",
    "        \n",
    "    elif split == 'val':\n",
    "        f_in = ROOT_PATH + 'train' + \"/\" + city + \"_inputs\"\n",
    "        inputs = pickle.load(open(f_in, \"rb\"))\n",
    "        n = len(inputs)\n",
    "        inputs = np.asarray(inputs)[int(n * 0.95):]\n",
    "        \n",
    "        f_out = ROOT_PATH + 'train' + \"/\" + city + \"_outputs\"\n",
    "        outputs = pickle.load(open(f_out, \"rb\"))\n",
    "        outputs = np.asarray(outputs)[int(n * 0.95):]\n",
    "    \n",
    "    else:\n",
    "        f_in = ROOT_PATH + split + \"/\" + city + \"_inputs\"\n",
    "        inputs = pickle.load(open(f_in, \"rb\"))\n",
    "        n = len(inputs)\n",
    "        inputs = np.asarray(inputs)\n",
    "\n",
    "    return inputs, outputs\n",
    "\n",
    "class ArgoverseDataset(Dataset):\n",
    "    \"\"\"Dataset class for Argoverse\"\"\"\n",
    "    def __init__(self, city: str, split:str, transform=None):\n",
    "        super(ArgoverseDataset, self).__init__()\n",
    "        self.transform = transform\n",
    "\n",
    "        self.inputs, self.outputs = get_city_trajectories(city=city, split=split, normalized=False)\n",
    "\n",
    "    def __len__(self):\n",
    "        return len(self.inputs)\n",
    "\n",
    "    def __getitem__(self, idx):\n",
    "\n",
    "        data = (self.inputs[idx], self.outputs[idx])\n",
    "            \n",
    "        if self.transform:\n",
    "            data = self.transform(data)\n",
    "\n",
    "        return data"
   ]
  },
  {
   "cell_type": "code",
   "execution_count": 68,
   "id": "3b14fb85-ac97-4bec-a307-6255b705825c",
   "metadata": {},
   "outputs": [],
   "source": [
    "# intialize a dataset\n",
    "def get_data_loader(city = 'austin', batch_size = 20):\n",
    "    train_dataset  = ArgoverseDataset(city = city, split = 'train')\n",
    "    val_dataset = ArgoverseDataset(city = city, split = 'val')\n",
    "\n",
    "    train_loader = DataLoader(train_dataset,batch_size=batch_size)\n",
    "    val_loader = DataLoader(val_dataset,batch_size=batch_size)\n",
    "    return train_dataset, val_dataset, train_loader, val_loader"
   ]
  },
  {
   "cell_type": "code",
   "execution_count": 69,
   "id": "b43d7b9d-c7f5-4ee3-ac7a-762c2e486113",
   "metadata": {},
   "outputs": [],
   "source": [
    "train_dataset, val_dataset, train_loader, val_loader = get_data_loader(city = 'austin', batch_size = 20)"
   ]
  },
  {
   "cell_type": "code",
   "execution_count": 70,
   "id": "f01aed22",
   "metadata": {},
   "outputs": [
    {
     "data": {
      "text/plain": [
       "2153"
      ]
     },
     "execution_count": 70,
     "metadata": {},
     "output_type": "execute_result"
    }
   ],
   "source": [
    "len(val_dataset)"
   ]
  },
  {
   "cell_type": "code",
   "execution_count": 71,
   "id": "075abd9d-1282-4d60-8918-d8bf80ce0b6b",
   "metadata": {},
   "outputs": [
    {
     "data": {
      "text/plain": [
       "40888"
      ]
     },
     "execution_count": 71,
     "metadata": {},
     "output_type": "execute_result"
    }
   ],
   "source": [
    "len(train_dataset)"
   ]
  },
  {
   "cell_type": "markdown",
   "id": "ac92ceab",
   "metadata": {},
   "source": [
    "## models"
   ]
  },
  {
   "cell_type": "code",
   "execution_count": 114,
   "id": "7eb4131c",
   "metadata": {},
   "outputs": [],
   "source": [
    "from torch import nn, optim\n",
    "\n",
    "# model1: EncoderDecoder\n",
    "class EncoderDecoder(nn.Module):\n",
    "\n",
    "    def __init__(self):\n",
    "        super().__init__()\n",
    "        \n",
    "        self.encoder = nn.Sequential(\n",
    "            nn.Linear(100, 64),\n",
    "            nn.LogSigmoid(),\n",
    "            nn.Linear(64, 32),\n",
    "            nn.LogSigmoid(),\n",
    "            nn.Linear(32, 32)\n",
    "        )\n",
    "        \n",
    "        self.decoder = nn.Sequential(\n",
    "            nn.Linear(32, 64),\n",
    "            nn.LogSigmoid(),\n",
    "            nn.Linear(64, 120),\n",
    "            nn.LogSigmoid(),\n",
    "            nn.Linear(120, 120)\n",
    "        )\n",
    "        \n",
    "    def forward(self, x):\n",
    "        x = x.reshape(-1, 100).float()\n",
    "        x = self.encoder(x)\n",
    "        x = self.decoder(x)\n",
    "        x = x.reshape(-1, 60, 2)\n",
    "        return x.float()"
   ]
  },
  {
   "cell_type": "code",
   "execution_count": 91,
   "id": "d4604e8e-73e2-45b7-8985-cf0e06836c25",
   "metadata": {},
   "outputs": [],
   "source": [
    "# model2: MLP\n",
    "class MLP(nn.Module):\n",
    "    def __init__(self):\n",
    "        super(MLP, self).__init__()\n",
    "\n",
    "        self.mlp = nn.Sequential(\n",
    "            nn.Linear(100, 256),\n",
    "            nn.ReLU(),\n",
    "            nn.Linear(256, 512),\n",
    "            nn.ReLU(),\n",
    "            nn.Linear(512, 256),\n",
    "            nn.ReLU(),\n",
    "            nn.Linear(256, 120)\n",
    "        )\n",
    "    \n",
    "    def forward(self, x):\n",
    "        x = x.reshape(-1, 100).float()\n",
    "        x = self.mlp(x)\n",
    "        x = x.reshape(-1, 60, 2)\n",
    "        return x.float()"
   ]
  },
  {
   "cell_type": "code",
   "execution_count": 83,
   "id": "3b6c7dda",
   "metadata": {},
   "outputs": [],
   "source": [
    "# model, optimizer, loss\n",
    "model_encdoc = EncoderDecoder()\n",
    "opt = optim.Adam(model_encdoc.parameters(), lr=1e-3)\n",
    "loss_func = nn.MSELoss()"
   ]
  },
  {
   "cell_type": "code",
   "execution_count": 75,
   "id": "7bf9f9ee-95a2-48c4-93a0-8de88b81949c",
   "metadata": {},
   "outputs": [],
   "source": [
    "def train_epochs(model, train_loader, loss_func, opt, epochs = 10):\n",
    "    train_losses = []\n",
    "    for epoch in range(epochs):\n",
    "\n",
    "        total_loss = 0\n",
    "        for i_batch, sample_batch in enumerate(train_loader):\n",
    "            inp, out = sample_batch\n",
    "            out = out.float()\n",
    "            preds = model(inp)\n",
    "            loss = loss_func(preds, out) # MSE\n",
    "            #loss = torch.sqrt(loss_func(preds, out)) # RMSE\n",
    "\n",
    "            opt.zero_grad()\n",
    "            loss.backward()\n",
    "            opt.step()\n",
    "\n",
    "            total_loss += loss.item()\n",
    "\n",
    "        print('epoch {} trian loss: {}'.format(epoch, total_loss / len(train_dataset)))\n",
    "        train_losses.append(total_loss / len(train_dataset))\n",
    "    return train_losses"
   ]
  },
  {
   "cell_type": "code",
   "execution_count": 76,
   "id": "48fe1276",
   "metadata": {},
   "outputs": [],
   "source": [
    "def val_loss(model, val_loader, loss_func, opt):\n",
    "    val_loss = 0\n",
    "    for i_batch, sample_batch in enumerate(val_loader):\n",
    "        inp, out = sample_batch\n",
    "        out = out.float()\n",
    "        preds = model(inp)\n",
    "        loss = loss_func(preds, out) # MSE\n",
    "        #loss = torch.sqrt(loss_func(preds, out)) # RMSE\n",
    "\n",
    "        val_loss += loss.item()\n",
    "    print('val loss: {}'.format(val_loss / len(val_dataset)))"
   ]
  },
  {
   "cell_type": "code",
   "execution_count": 77,
   "id": "dcebc7ad-3284-4d38-85e6-104c655fe42b",
   "metadata": {},
   "outputs": [],
   "source": [
    "def train_city(city, batch_size, epochs, model):\n",
    "    # data loader\n",
    "    train_dataset, val_dataset, train_loader, val_loader = get_data_loader(city = city, batch_size = batch_size)\n",
    "    \n",
    "    # model, optimizer, loss\n",
    "    model_encdoc = model\n",
    "    opt = optim.Adam(model_encdoc.parameters(), lr=1e-3)\n",
    "    loss_func = nn.MSELoss()\n",
    "    \n",
    "    # train\n",
    "    train_losses = train_epochs(model_encdoc, train_loader, loss_func, opt, epochs = epochs)\n",
    "    \n",
    "    # evaluate\n",
    "    # val_loss(model_encdoc, val_loader, loss_func, opt)\n",
    "    return model_encdoc, train_losses"
   ]
  },
  {
   "cell_type": "markdown",
   "id": "839c2aa1-83c8-49bf-8839-d00f910e62b9",
   "metadata": {},
   "source": [
    "## Training"
   ]
  },
  {
   "cell_type": "code",
   "execution_count": 93,
   "id": "55148b68-bf8e-4b29-b669-04422274f437",
   "metadata": {},
   "outputs": [],
   "source": [
    "# model, optimizer, loss\n",
    "mlp = MLP()\n",
    "opt = optim.Adam(model_encdoc.parameters(), lr=1e-3)\n",
    "loss_func = nn.MSELoss()"
   ]
  },
  {
   "cell_type": "code",
   "execution_count": 79,
   "id": "af043bb2-8473-4fac-b105-cd174b287d77",
   "metadata": {},
   "outputs": [
    {
     "name": "stdout",
     "output_type": "stream",
     "text": [
      "torch.Size([20, 50, 2])\n",
      "torch.Size([20, 60, 2])\n",
      "torch.Size([20, 60, 2])\n",
      "tensor(3108324.7500, grad_fn=<MseLossBackward0>)\n"
     ]
    }
   ],
   "source": [
    "for i_batch, sample_batch in enumerate(train_loader):\n",
    "    inp, out = sample_batch\n",
    "    out = out.float()\n",
    "    preds = mlp(inp)\n",
    "    print(inp.shape)\n",
    "    print(preds.shape)\n",
    "    print(out.shape)\n",
    "    loss = loss_func(preds, out)\n",
    "    print(loss)\n",
    "    break"
   ]
  },
  {
   "cell_type": "code",
   "execution_count": 119,
   "id": "f4220c59-f939-499f-881b-87d4847a2838",
   "metadata": {},
   "outputs": [
    {
     "name": "stdout",
     "output_type": "stream",
     "text": [
      "epoch 0 trian loss: 18.656084424524337\n",
      "epoch 1 trian loss: 8.285668845000368\n",
      "epoch 2 trian loss: 7.988027494636167\n",
      "epoch 3 trian loss: 8.32254065079037\n",
      "epoch 4 trian loss: 12.108478139370908\n",
      "epoch 5 trian loss: 6.219287333435285\n",
      "epoch 6 trian loss: 9.247874609809687\n",
      "epoch 7 trian loss: 6.519506212270696\n",
      "epoch 8 trian loss: 8.94369125963307\n",
      "epoch 9 trian loss: 10.906961446637814\n",
      "val loss: 70.59846575250197\n"
     ]
    },
    {
     "data": {
      "text/plain": [
       "Text(0, 0.5, 'MSE')"
      ]
     },
     "execution_count": 119,
     "metadata": {},
     "output_type": "execute_result"
    },
    {
     "data": {
      "image/png": "[encoded data removed]",
      "text/plain": [
       "<Figure size 432x288 with 1 Axes>"
      ]
     },
     "metadata": {
      "needs_background": "light"
     },
     "output_type": "display_data"
    }
   ],
   "source": [
    "# austin\n",
    "model = MLP()\n",
    "model_austin, train_losses = train_city('austin', batch_size = 64, epochs = 10, model = model_austin)\n",
    "val_loss(model_austin, val_loader, loss_func, opt)\n",
    "plt.plot(train_losses)\n",
    "plt.xlabel('Training Step')\n",
    "plt.ylabel('MSE')"
   ]
  },
  {
   "cell_type": "code",
   "execution_count": 122,
   "id": "6ff6b57a-9089-4614-a20a-930462febdf2",
   "metadata": {},
   "outputs": [
    {
     "name": "stdout",
     "output_type": "stream",
     "text": [
      "epoch 0 trian loss: 2053.5413304812005\n",
      "epoch 1 trian loss: 53.64883247156055\n",
      "epoch 2 trian loss: 129.87901059103862\n",
      "epoch 3 trian loss: 82.36375668323616\n",
      "epoch 4 trian loss: 68.01532508612752\n",
      "epoch 5 trian loss: 74.09488373011717\n",
      "epoch 6 trian loss: 53.40699047968593\n",
      "epoch 7 trian loss: 71.00274232175107\n",
      "epoch 8 trian loss: 69.47282880627463\n",
      "epoch 9 trian loss: 32.04107931126263\n",
      "val loss: 486.3681930917615\n"
     ]
    },
    {
     "data": {
      "text/plain": [
       "Text(0, 0.5, 'MSE')"
      ]
     },
     "execution_count": 122,
     "metadata": {},
     "output_type": "execute_result"
    },
    {
     "data": {
      "image/png": "[encoded data removed]",
      "text/plain": [
       "<Figure size 432x288 with 1 Axes>"
      ]
     },
     "metadata": {
      "needs_background": "light"
     },
     "output_type": "display_data"
    }
   ],
   "source": [
    "# miami\n",
    "model = MLP()\n",
    "model_miami, train_losses = train_city('miami', batch_size = 64, epochs = 10, model = model)\n",
    "val_loss(model_miami, val_loader, loss_func, opt)\n",
    "plt.plot(train_losses)\n",
    "plt.xlabel('Training Step')\n",
    "plt.ylabel('MSE')"
   ]
  },
  {
   "cell_type": "code",
   "execution_count": 99,
   "id": "efe0c8aa-5599-4aaa-8458-1afae20f0a7a",
   "metadata": {},
   "outputs": [
    {
     "name": "stdout",
     "output_type": "stream",
     "text": [
      "epoch 0 trian loss: 1506.0277791031651\n",
      "epoch 1 trian loss: 22.190623282453267\n",
      "epoch 2 trian loss: 29.47919206315117\n",
      "epoch 3 trian loss: 29.98137062922123\n",
      "epoch 4 trian loss: 29.877603529017865\n",
      "epoch 5 trian loss: 31.87653624747882\n",
      "epoch 6 trian loss: 25.28169364981445\n",
      "epoch 7 trian loss: 27.055522172331134\n",
      "epoch 8 trian loss: 23.78008643597965\n",
      "epoch 9 trian loss: 22.077162139361164\n",
      "val loss: 21357.81563516024\n"
     ]
    },
    {
     "data": {
      "text/plain": [
       "Text(0, 0.5, 'MSE')"
      ]
     },
     "execution_count": 99,
     "metadata": {},
     "output_type": "execute_result"
    },
    {
     "data": {
      "image/png": "[encoded data removed]",
      "text/plain": [
       "<Figure size 432x288 with 1 Axes>"
      ]
     },
     "metadata": {
      "needs_background": "light"
     },
     "output_type": "display_data"
    }
   ],
   "source": [
    "# pittsburgh\n",
    "mlp = MLP()\n",
    "model_pittsburgh, train_losses = train_city('pittsburgh', batch_size = 64, epochs = 10, model = mlp)\n",
    "val_loss(model_pittsburgh, val_loader, loss_func, opt)\n",
    "plt.plot(train_losses)\n",
    "plt.xlabel('Training Step')\n",
    "plt.ylabel('MSE')"
   ]
  },
  {
   "cell_type": "code",
   "execution_count": 100,
   "id": "ec3827fe-5a0a-4d7d-a6a9-9308c87fcd24",
   "metadata": {},
   "outputs": [
    {
     "name": "stdout",
     "output_type": "stream",
     "text": [
      "epoch 0 trian loss: 6127.583980601353\n",
      "epoch 1 trian loss: 21.35731053748865\n",
      "epoch 2 trian loss: 25.69160373951213\n",
      "epoch 3 trian loss: 32.25526330000359\n",
      "epoch 4 trian loss: 32.684072624002035\n",
      "epoch 5 trian loss: 51.915927147310185\n",
      "epoch 6 trian loss: 58.391755843157874\n",
      "epoch 7 trian loss: 55.77607322219672\n",
      "epoch 8 trian loss: 56.21581387580479\n",
      "epoch 9 trian loss: 54.06083179131293\n",
      "val loss: 48649.81832762424\n"
     ]
    },
    {
     "data": {
      "text/plain": [
       "Text(0, 0.5, 'MSE')"
      ]
     },
     "execution_count": 100,
     "metadata": {},
     "output_type": "execute_result"
    },
    {
     "data": {
      "image/png": "[encoded data removed]",
      "text/plain": [
       "<Figure size 432x288 with 1 Axes>"
      ]
     },
     "metadata": {
      "needs_background": "light"
     },
     "output_type": "display_data"
    }
   ],
   "source": [
    "# dearborn\n",
    "mlp = MLP()\n",
    "model_dearborn, train_losses = train_city('dearborn', batch_size = 64, epochs = 10, model = mlp)\n",
    "val_loss(model_dearborn, val_loader, loss_func, opt)\n",
    "plt.plot(train_losses)\n",
    "plt.xlabel('Training Step')\n",
    "plt.ylabel('MSE')"
   ]
  },
  {
   "cell_type": "code",
   "execution_count": 101,
   "id": "22d80510-d4e0-407a-9bd1-d19b3280df9c",
   "metadata": {},
   "outputs": [
    {
     "name": "stdout",
     "output_type": "stream",
     "text": [
      "epoch 0 trian loss: 1795.107936109029\n",
      "epoch 1 trian loss: 13.297185624282529\n",
      "epoch 2 trian loss: 14.8218557305169\n",
      "epoch 3 trian loss: 16.90432826881655\n",
      "epoch 4 trian loss: 20.94930050886673\n",
      "epoch 5 trian loss: 20.68043613601771\n",
      "epoch 6 trian loss: 21.320269262783683\n",
      "epoch 7 trian loss: 21.853007285801592\n",
      "epoch 8 trian loss: 29.786378247330646\n",
      "epoch 9 trian loss: 17.68941570946998\n",
      "val loss: 21659.731624477474\n"
     ]
    },
    {
     "data": {
      "text/plain": [
       "Text(0, 0.5, 'MSE')"
      ]
     },
     "execution_count": 101,
     "metadata": {},
     "output_type": "execute_result"
    },
    {
     "data": {
      "image/png": "[encoded data removed]",
      "text/plain": [
       "<Figure size 432x288 with 1 Axes>"
      ]
     },
     "metadata": {
      "needs_background": "light"
     },
     "output_type": "display_data"
    }
   ],
   "source": [
    "# washington_dc\n",
    "mlp = MLP()\n",
    "model_washington_dc, train_losses = train_city('washington-dc', batch_size = 64, epochs = 10, model = mlp)\n",
    "val_loss(model_washington_dc, val_loader, loss_func, opt)\n",
    "plt.plot(train_losses)\n",
    "plt.xlabel('Training Step')\n",
    "plt.ylabel('MSE')"
   ]
  },
  {
   "cell_type": "code",
   "execution_count": 102,
   "id": "b9241cf9-e013-449a-8a5d-7bf79e60ed43",
   "metadata": {},
   "outputs": [
    {
     "name": "stdout",
     "output_type": "stream",
     "text": [
      "epoch 0 trian loss: 441.52832137682367\n",
      "epoch 1 trian loss: 8.367219446316971\n",
      "epoch 2 trian loss: 8.363886632230786\n",
      "epoch 3 trian loss: 8.360479539584983\n",
      "epoch 4 trian loss: 8.604956847631028\n",
      "epoch 5 trian loss: 8.97338849125345\n",
      "epoch 6 trian loss: 9.671518517249579\n",
      "epoch 7 trian loss: 8.576246228383212\n",
      "epoch 8 trian loss: 9.624766068224384\n",
      "epoch 9 trian loss: 8.679318476740196\n",
      "val loss: 153.00120012183217\n"
     ]
    },
    {
     "data": {
      "text/plain": [
       "Text(0, 0.5, 'MSE')"
      ]
     },
     "execution_count": 102,
     "metadata": {},
     "output_type": "execute_result"
    },
    {
     "data": {
      "image/png": "[encoded data removed]",
      "text/plain": [
       "<Figure size 432x288 with 1 Axes>"
      ]
     },
     "metadata": {
      "needs_background": "light"
     },
     "output_type": "display_data"
    }
   ],
   "source": [
    "# palo_alto\n",
    "mlp = MLP()\n",
    "model_palo_alto, train_losses = train_city('palo-alto', batch_size = 64, epochs = 10, model = mlp)\n",
    "val_loss(model_palo_alto, val_loader, loss_func, opt)\n",
    "plt.plot(train_losses)\n",
    "plt.xlabel('Training Step')\n",
    "plt.ylabel('MSE')"
   ]
  },
  {
   "cell_type": "markdown",
   "id": "5562e425-6a2c-4489-af90-058619948e08",
   "metadata": {},
   "source": [
    "## Make Prediction"
   ]
  },
  {
   "cell_type": "code",
   "execution_count": 103,
   "id": "93ed9e61-c999-481e-b16e-0c9205e5d61f",
   "metadata": {},
   "outputs": [],
   "source": [
    "cities = [\"austin\", \"miami\", \"pittsburgh\", \"dearborn\", \"washington-dc\", \"palo-alto\"]\n",
    "models = [model_austin, model_miami, model_pittsburgh, model_dearborn, model_washington_dc, model_palo_alto]"
   ]
  },
  {
   "cell_type": "code",
   "execution_count": 104,
   "id": "148fa5fd-dd7b-47a2-b580-c3192d712c6f",
   "metadata": {},
   "outputs": [],
   "source": [
    "def predict_test(city, model):\n",
    "    test_dataset = get_city_trajectories(city = city, split = 'test')[0]\n",
    "    test_dataset = torch.from_numpy(test_dataset)\n",
    "    pred = model(test_dataset).reshape(-1, 120)\n",
    "    return pd.DataFrame(pred.detach().numpy())"
   ]
  },
  {
   "cell_type": "code",
   "execution_count": 105,
   "id": "d7eb81e3-2e8e-4ff3-b23e-f559134edfd4",
   "metadata": {},
   "outputs": [],
   "source": [
    "columns =['ID'] + ['v'+str(i) for i in range(120)]"
   ]
  },
  {
   "cell_type": "code",
   "execution_count": 106,
   "id": "945eb530-a029-4202-af4c-544c4cb7c980",
   "metadata": {},
   "outputs": [],
   "source": [
    "def predict_all(cities, models):\n",
    "    out = predict_test(cities[0], models[0]).reset_index()\n",
    "    out.columns = columns\n",
    "    out['ID'] = out['ID'].astype(str) + '_' + cities[0]\n",
    "    \n",
    "    for city, model in zip(cities[1:], models[1:]):\n",
    "        temp = predict_test(city, model).reset_index()\n",
    "        temp.columns = columns\n",
    "        temp['ID'] = temp['ID'].astype(str) + '_' + city\n",
    "        out = pd.concat([out, temp])\n",
    "    \n",
    "    return out        "
   ]
  },
  {
   "cell_type": "code",
   "execution_count": 107,
   "id": "220d0018-7cd1-4f9d-9206-be16d1fcbcaa",
   "metadata": {},
   "outputs": [],
   "source": [
    "test_output = predict_all(cities, models)"
   ]
  },
  {
   "cell_type": "code",
   "execution_count": 108,
   "id": "c204a7f3-c10c-4e23-8b7a-0dc89e69947c",
   "metadata": {},
   "outputs": [],
   "source": [
    "test_output.to_csv('test_output.csv', index=False)"
   ]
  },
  {
   "cell_type": "code",
   "execution_count": 109,
   "id": "a122ca27-b9ac-489f-ba37-2ffdbd16fb76",
   "metadata": {},
   "outputs": [
    {
     "data": {
      "text/html": [
       "<div>\n",
       "<style scoped>\n",
       "    .dataframe tbody tr th:only-of-type {\n",
       "        vertical-align: middle;\n",
       "    }\n",
       "\n",
       "    .dataframe tbody tr th {\n",
       "        vertical-align: top;\n",
       "    }\n",
       "\n",
       "    .dataframe thead th {\n",
       "        text-align: right;\n",
       "    }\n",
       "</style>\n",
       "<table border=\"1\" class=\"dataframe\">\n",
       "  <thead>\n",
       "    <tr style=\"text-align: right;\">\n",
       "      <th></th>\n",
       "      <th>ID</th>\n",
       "      <th>v0</th>\n",
       "      <th>v1</th>\n",
       "      <th>v2</th>\n",
       "      <th>v3</th>\n",
       "      <th>v4</th>\n",
       "      <th>v5</th>\n",
       "      <th>v6</th>\n",
       "      <th>v7</th>\n",
       "      <th>v8</th>\n",
       "      <th>...</th>\n",
       "      <th>v110</th>\n",
       "      <th>v111</th>\n",
       "      <th>v112</th>\n",
       "      <th>v113</th>\n",
       "      <th>v114</th>\n",
       "      <th>v115</th>\n",
       "      <th>v116</th>\n",
       "      <th>v117</th>\n",
       "      <th>v118</th>\n",
       "      <th>v119</th>\n",
       "    </tr>\n",
       "  </thead>\n",
       "  <tbody>\n",
       "    <tr>\n",
       "      <th>0</th>\n",
       "      <td>0_austin</td>\n",
       "      <td>69.085648</td>\n",
       "      <td>-629.160278</td>\n",
       "      <td>76.258377</td>\n",
       "      <td>-563.680786</td>\n",
       "      <td>87.988968</td>\n",
       "      <td>-552.345886</td>\n",
       "      <td>52.856350</td>\n",
       "      <td>-443.385132</td>\n",
       "      <td>44.978546</td>\n",
       "      <td>...</td>\n",
       "      <td>119.205254</td>\n",
       "      <td>-398.936127</td>\n",
       "      <td>125.793633</td>\n",
       "      <td>-519.026550</td>\n",
       "      <td>52.329597</td>\n",
       "      <td>-513.782043</td>\n",
       "      <td>76.967407</td>\n",
       "      <td>-591.699463</td>\n",
       "      <td>111.579712</td>\n",
       "      <td>-561.786133</td>\n",
       "    </tr>\n",
       "    <tr>\n",
       "      <th>1</th>\n",
       "      <td>1_austin</td>\n",
       "      <td>-251.472137</td>\n",
       "      <td>2.546588</td>\n",
       "      <td>-276.141327</td>\n",
       "      <td>-31.713495</td>\n",
       "      <td>-282.310364</td>\n",
       "      <td>-36.886852</td>\n",
       "      <td>-262.475433</td>\n",
       "      <td>24.536810</td>\n",
       "      <td>-285.295624</td>\n",
       "      <td>...</td>\n",
       "      <td>-267.657135</td>\n",
       "      <td>26.985666</td>\n",
       "      <td>-203.814606</td>\n",
       "      <td>28.532471</td>\n",
       "      <td>-280.044800</td>\n",
       "      <td>21.573021</td>\n",
       "      <td>-294.952332</td>\n",
       "      <td>19.869318</td>\n",
       "      <td>-286.462280</td>\n",
       "      <td>-3.841913</td>\n",
       "    </tr>\n",
       "    <tr>\n",
       "      <th>2</th>\n",
       "      <td>2_austin</td>\n",
       "      <td>78.691437</td>\n",
       "      <td>-268.151947</td>\n",
       "      <td>78.966698</td>\n",
       "      <td>-250.849716</td>\n",
       "      <td>86.075188</td>\n",
       "      <td>-240.839020</td>\n",
       "      <td>74.534592</td>\n",
       "      <td>-204.701340</td>\n",
       "      <td>70.090942</td>\n",
       "      <td>...</td>\n",
       "      <td>95.223717</td>\n",
       "      <td>-184.509842</td>\n",
       "      <td>101.249489</td>\n",
       "      <td>-230.785736</td>\n",
       "      <td>71.295097</td>\n",
       "      <td>-225.198212</td>\n",
       "      <td>85.460396</td>\n",
       "      <td>-253.429108</td>\n",
       "      <td>98.580582</td>\n",
       "      <td>-246.382950</td>\n",
       "    </tr>\n",
       "    <tr>\n",
       "      <th>3</th>\n",
       "      <td>3_austin</td>\n",
       "      <td>138.982193</td>\n",
       "      <td>1813.416382</td>\n",
       "      <td>51.898087</td>\n",
       "      <td>1521.123901</td>\n",
       "      <td>15.762643</td>\n",
       "      <td>1622.900146</td>\n",
       "      <td>230.726837</td>\n",
       "      <td>1538.589600</td>\n",
       "      <td>41.103802</td>\n",
       "      <td>...</td>\n",
       "      <td>37.563118</td>\n",
       "      <td>1709.648193</td>\n",
       "      <td>220.708282</td>\n",
       "      <td>1771.309082</td>\n",
       "      <td>89.288483</td>\n",
       "      <td>1799.593628</td>\n",
       "      <td>80.052818</td>\n",
       "      <td>1925.011475</td>\n",
       "      <td>52.987892</td>\n",
       "      <td>1766.839111</td>\n",
       "    </tr>\n",
       "    <tr>\n",
       "      <th>4</th>\n",
       "      <td>4_austin</td>\n",
       "      <td>1194.463257</td>\n",
       "      <td>-667.003845</td>\n",
       "      <td>1178.762085</td>\n",
       "      <td>-657.838379</td>\n",
       "      <td>1178.070190</td>\n",
       "      <td>-665.425659</td>\n",
       "      <td>1184.647339</td>\n",
       "      <td>-663.434021</td>\n",
       "      <td>1173.251343</td>\n",
       "      <td>...</td>\n",
       "      <td>1176.754028</td>\n",
       "      <td>-652.037842</td>\n",
       "      <td>1166.912476</td>\n",
       "      <td>-652.397827</td>\n",
       "      <td>1167.130981</td>\n",
       "      <td>-654.848999</td>\n",
       "      <td>1162.720215</td>\n",
       "      <td>-657.779053</td>\n",
       "      <td>1174.063232</td>\n",
       "      <td>-653.466003</td>\n",
       "    </tr>\n",
       "    <tr>\n",
       "      <th>...</th>\n",
       "      <td>...</td>\n",
       "      <td>...</td>\n",
       "      <td>...</td>\n",
       "      <td>...</td>\n",
       "      <td>...</td>\n",
       "      <td>...</td>\n",
       "      <td>...</td>\n",
       "      <td>...</td>\n",
       "      <td>...</td>\n",
       "      <td>...</td>\n",
       "      <td>...</td>\n",
       "      <td>...</td>\n",
       "      <td>...</td>\n",
       "      <td>...</td>\n",
       "      <td>...</td>\n",
       "      <td>...</td>\n",
       "      <td>...</td>\n",
       "      <td>...</td>\n",
       "      <td>...</td>\n",
       "      <td>...</td>\n",
       "      <td>...</td>\n",
       "    </tr>\n",
       "    <tr>\n",
       "      <th>1681</th>\n",
       "      <td>1681_palo-alto</td>\n",
       "      <td>-1338.544678</td>\n",
       "      <td>-501.175415</td>\n",
       "      <td>-1323.735718</td>\n",
       "      <td>-505.680573</td>\n",
       "      <td>-1313.554810</td>\n",
       "      <td>-504.681030</td>\n",
       "      <td>-1323.497803</td>\n",
       "      <td>-507.976624</td>\n",
       "      <td>-1326.206909</td>\n",
       "      <td>...</td>\n",
       "      <td>-1323.004028</td>\n",
       "      <td>-490.357758</td>\n",
       "      <td>-1321.727295</td>\n",
       "      <td>-492.872986</td>\n",
       "      <td>-1320.199585</td>\n",
       "      <td>-495.530304</td>\n",
       "      <td>-1323.165283</td>\n",
       "      <td>-507.110443</td>\n",
       "      <td>-1320.185303</td>\n",
       "      <td>-496.080322</td>\n",
       "    </tr>\n",
       "    <tr>\n",
       "      <th>1682</th>\n",
       "      <td>1682_palo-alto</td>\n",
       "      <td>126.552444</td>\n",
       "      <td>-28.388226</td>\n",
       "      <td>125.578110</td>\n",
       "      <td>-25.878479</td>\n",
       "      <td>126.486931</td>\n",
       "      <td>-27.268154</td>\n",
       "      <td>125.553574</td>\n",
       "      <td>-25.470182</td>\n",
       "      <td>125.891624</td>\n",
       "      <td>...</td>\n",
       "      <td>124.873177</td>\n",
       "      <td>-24.017971</td>\n",
       "      <td>125.261520</td>\n",
       "      <td>-25.358572</td>\n",
       "      <td>125.051788</td>\n",
       "      <td>-23.887232</td>\n",
       "      <td>121.834251</td>\n",
       "      <td>-25.420095</td>\n",
       "      <td>124.605766</td>\n",
       "      <td>-25.607801</td>\n",
       "    </tr>\n",
       "    <tr>\n",
       "      <th>1683</th>\n",
       "      <td>1683_palo-alto</td>\n",
       "      <td>-1176.131592</td>\n",
       "      <td>1968.313721</td>\n",
       "      <td>-1184.079468</td>\n",
       "      <td>1977.764038</td>\n",
       "      <td>-1189.784302</td>\n",
       "      <td>1966.822510</td>\n",
       "      <td>-1180.850952</td>\n",
       "      <td>1974.016602</td>\n",
       "      <td>-1211.623169</td>\n",
       "      <td>...</td>\n",
       "      <td>-1194.041138</td>\n",
       "      <td>1986.674072</td>\n",
       "      <td>-1205.423828</td>\n",
       "      <td>1984.660278</td>\n",
       "      <td>-1204.878784</td>\n",
       "      <td>1982.246216</td>\n",
       "      <td>-1188.630371</td>\n",
       "      <td>2000.565552</td>\n",
       "      <td>-1187.829834</td>\n",
       "      <td>2004.296509</td>\n",
       "    </tr>\n",
       "    <tr>\n",
       "      <th>1684</th>\n",
       "      <td>1684_palo-alto</td>\n",
       "      <td>1114.455933</td>\n",
       "      <td>1322.050781</td>\n",
       "      <td>1105.301514</td>\n",
       "      <td>1330.802734</td>\n",
       "      <td>1107.502563</td>\n",
       "      <td>1326.461792</td>\n",
       "      <td>1108.387695</td>\n",
       "      <td>1318.855225</td>\n",
       "      <td>1108.405273</td>\n",
       "      <td>...</td>\n",
       "      <td>1112.606323</td>\n",
       "      <td>1318.913330</td>\n",
       "      <td>1106.946533</td>\n",
       "      <td>1321.823242</td>\n",
       "      <td>1101.218994</td>\n",
       "      <td>1333.464111</td>\n",
       "      <td>1097.656982</td>\n",
       "      <td>1318.924561</td>\n",
       "      <td>1107.011475</td>\n",
       "      <td>1327.405762</td>\n",
       "    </tr>\n",
       "    <tr>\n",
       "      <th>1685</th>\n",
       "      <td>1685_palo-alto</td>\n",
       "      <td>-11.975198</td>\n",
       "      <td>397.682007</td>\n",
       "      <td>-15.356361</td>\n",
       "      <td>396.099243</td>\n",
       "      <td>-13.598892</td>\n",
       "      <td>397.448334</td>\n",
       "      <td>-10.150232</td>\n",
       "      <td>393.896393</td>\n",
       "      <td>-14.824164</td>\n",
       "      <td>...</td>\n",
       "      <td>-9.590222</td>\n",
       "      <td>395.872223</td>\n",
       "      <td>-13.451852</td>\n",
       "      <td>394.086884</td>\n",
       "      <td>-13.882191</td>\n",
       "      <td>397.410919</td>\n",
       "      <td>-11.563387</td>\n",
       "      <td>394.687103</td>\n",
       "      <td>-9.728521</td>\n",
       "      <td>396.502136</td>\n",
       "    </tr>\n",
       "  </tbody>\n",
       "</table>\n",
       "<p>29843 rows × 121 columns</p>\n",
       "</div>"
      ],
      "text/plain": [
       "                  ID           v0           v1           v2           v3  \\\n",
       "0           0_austin    69.085648  -629.160278    76.258377  -563.680786   \n",
       "1           1_austin  -251.472137     2.546588  -276.141327   -31.713495   \n",
       "2           2_austin    78.691437  -268.151947    78.966698  -250.849716   \n",
       "3           3_austin   138.982193  1813.416382    51.898087  1521.123901   \n",
       "4           4_austin  1194.463257  -667.003845  1178.762085  -657.838379   \n",
       "...              ...          ...          ...          ...          ...   \n",
       "1681  1681_palo-alto -1338.544678  -501.175415 -1323.735718  -505.680573   \n",
       "1682  1682_palo-alto   126.552444   -28.388226   125.578110   -25.878479   \n",
       "1683  1683_palo-alto -1176.131592  1968.313721 -1184.079468  1977.764038   \n",
       "1684  1684_palo-alto  1114.455933  1322.050781  1105.301514  1330.802734   \n",
       "1685  1685_palo-alto   -11.975198   397.682007   -15.356361   396.099243   \n",
       "\n",
       "               v4           v5           v6           v7           v8  ...  \\\n",
       "0       87.988968  -552.345886    52.856350  -443.385132    44.978546  ...   \n",
       "1     -282.310364   -36.886852  -262.475433    24.536810  -285.295624  ...   \n",
       "2       86.075188  -240.839020    74.534592  -204.701340    70.090942  ...   \n",
       "3       15.762643  1622.900146   230.726837  1538.589600    41.103802  ...   \n",
       "4     1178.070190  -665.425659  1184.647339  -663.434021  1173.251343  ...   \n",
       "...           ...          ...          ...          ...          ...  ...   \n",
       "1681 -1313.554810  -504.681030 -1323.497803  -507.976624 -1326.206909  ...   \n",
       "1682   126.486931   -27.268154   125.553574   -25.470182   125.891624  ...   \n",
       "1683 -1189.784302  1966.822510 -1180.850952  1974.016602 -1211.623169  ...   \n",
       "1684  1107.502563  1326.461792  1108.387695  1318.855225  1108.405273  ...   \n",
       "1685   -13.598892   397.448334   -10.150232   393.896393   -14.824164  ...   \n",
       "\n",
       "             v110         v111         v112         v113         v114  \\\n",
       "0      119.205254  -398.936127   125.793633  -519.026550    52.329597   \n",
       "1     -267.657135    26.985666  -203.814606    28.532471  -280.044800   \n",
       "2       95.223717  -184.509842   101.249489  -230.785736    71.295097   \n",
       "3       37.563118  1709.648193   220.708282  1771.309082    89.288483   \n",
       "4     1176.754028  -652.037842  1166.912476  -652.397827  1167.130981   \n",
       "...           ...          ...          ...          ...          ...   \n",
       "1681 -1323.004028  -490.357758 -1321.727295  -492.872986 -1320.199585   \n",
       "1682   124.873177   -24.017971   125.261520   -25.358572   125.051788   \n",
       "1683 -1194.041138  1986.674072 -1205.423828  1984.660278 -1204.878784   \n",
       "1684  1112.606323  1318.913330  1106.946533  1321.823242  1101.218994   \n",
       "1685    -9.590222   395.872223   -13.451852   394.086884   -13.882191   \n",
       "\n",
       "             v115         v116         v117         v118         v119  \n",
       "0     -513.782043    76.967407  -591.699463   111.579712  -561.786133  \n",
       "1       21.573021  -294.952332    19.869318  -286.462280    -3.841913  \n",
       "2     -225.198212    85.460396  -253.429108    98.580582  -246.382950  \n",
       "3     1799.593628    80.052818  1925.011475    52.987892  1766.839111  \n",
       "4     -654.848999  1162.720215  -657.779053  1174.063232  -653.466003  \n",
       "...           ...          ...          ...          ...          ...  \n",
       "1681  -495.530304 -1323.165283  -507.110443 -1320.185303  -496.080322  \n",
       "1682   -23.887232   121.834251   -25.420095   124.605766   -25.607801  \n",
       "1683  1982.246216 -1188.630371  2000.565552 -1187.829834  2004.296509  \n",
       "1684  1333.464111  1097.656982  1318.924561  1107.011475  1327.405762  \n",
       "1685   397.410919   -11.563387   394.687103    -9.728521   396.502136  \n",
       "\n",
       "[29843 rows x 121 columns]"
      ]
     },
     "execution_count": 109,
     "metadata": {},
     "output_type": "execute_result"
    }
   ],
   "source": [
    "test_output"
   ]
  },
  {
   "cell_type": "markdown",
   "id": "2e7e5a87",
   "metadata": {},
   "source": [
    "## Sample a batch of data and visualize "
   ]
  },
  {
   "cell_type": "code",
   "execution_count": 112,
   "id": "c4973396-03db-4aff-b9a0-c4e962a6345a",
   "metadata": {},
   "outputs": [],
   "source": [
    "train_dataset, val_dataset, train_loader, val_loader = get_data_loader(city = 'austin', batch_size = 10)"
   ]
  },
  {
   "cell_type": "code",
   "execution_count": 123,
   "id": "293f02a9",
   "metadata": {},
   "outputs": [
    {
     "data": {
      "image/png": "[encoded data removed]",
      "text/plain": [
       "<Figure size 1080x216 with 10 Axes>"
      ]
     },
     "metadata": {},
     "output_type": "display_data"
    },
    {
     "data": {
      "image/png": "[encoded data removed]",
      "text/plain": [
       "<Figure size 1080x216 with 10 Axes>"
      ]
     },
     "metadata": {},
     "output_type": "display_data"
    }
   ],
   "source": [
    "import matplotlib.pyplot as plt\n",
    "import random\n",
    "\n",
    "\n",
    "def show_sample_batch(sample_batch):\n",
    "    \"\"\"visualize the trajectory for a batch of samples\"\"\"\n",
    "    inp, out = sample_batch\n",
    "    batch_sz = inp.size(0)\n",
    "    agent_sz = inp.size(1)\n",
    "    \n",
    "    fig, axs = plt.subplots(1,batch_sz, figsize=(15, 3), facecolor='w', edgecolor='k')\n",
    "    fig.subplots_adjust(hspace = .5, wspace=.001)\n",
    "    axs = axs.ravel()   \n",
    "    for i in range(batch_sz):\n",
    "        axs[i].xaxis.set_ticks([])\n",
    "        axs[i].yaxis.set_ticks([])\n",
    "        \n",
    "        # first two feature dimensions are (x,y) positions\n",
    "        axs[i].scatter(inp[i,:,0], inp[i,:,1])\n",
    "        axs[i].scatter(out[i,:,0], out[i,:,1])\n",
    "\n",
    "        \n",
    "for i_batch, sample_batch in enumerate(train_loader):\n",
    "    if i_batch < 5: continue\n",
    "    inp, out = sample_batch\n",
    "    pred = model_austin(inp).detach()\n",
    "    show_sample_batch(sample_batch)\n",
    "    show_sample_batch([inp, pred])\n",
    "    #print(sample_batch)\n",
    "    break"
   ]
  },
  {
   "cell_type": "code",
   "execution_count": null,
   "id": "ec5242b6",
   "metadata": {},
   "outputs": [],
   "source": []
  }
 ],
 "metadata": {
  "kernelspec": {
   "display_name": "Python 3 (ipykernel)",
   "language": "python",
   "name": "python3"
  },
  "language_info": {
   "codemirror_mode": {
    "name": "ipython",
    "version": 3
   },
   "file_extension": ".py",
   "mimetype": "text/x-python",
   "name": "python",
   "nbconvert_exporter": "python",
   "pygments_lexer": "ipython3",
   "version": "3.10.4"
  }
 },
 "nbformat": 4,
 "nbformat_minor": 5
}
