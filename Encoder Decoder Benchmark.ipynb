{
 "cells": [
  {
   "cell_type": "markdown",
   "id": "b703767b",
   "metadata": {},
   "source": [
    "## Install the package dependencies before running this notebook"
   ]
  },
  {
   "cell_type": "code",
   "execution_count": 43,
   "id": "530fb747",
   "metadata": {},
   "outputs": [
    {
     "data": {
      "text/plain": [
       "'\\n    number of trajectories in each city\\n    # austin --  train: 43041 test: 6325 \\n    # miami -- train: 55029 test:7971\\n    # pittsburgh -- train: 43544 test: 6361\\n    # dearborn -- train: 24465 test: 3671\\n    # washington-dc -- train: 25744 test: 3829\\n    # palo-alto -- train:  11993 test:1686\\n\\n    trajectories sampled at 10HZ rate, input 5 seconds, output 6 seconds\\n    \\n'"
      ]
     },
     "execution_count": 43,
     "metadata": {},
     "output_type": "execute_result"
    }
   ],
   "source": [
    "import torch\n",
    "from torch.utils.data import Dataset, DataLoader\n",
    "import os, os.path \n",
    "import numpy \n",
    "import pickle\n",
    "import pandas as pd\n",
    "from glob import glob\n",
    "import matplotlib.pyplot as plt\n",
    "import torch.nn.functional as F\n",
    "%matplotlib inline\n",
    "\n",
    "\n",
    "\"\"\"\n",
    "    number of trajectories in each city\n",
    "    # austin --  train: 43041 test: 6325 \n",
    "    # miami -- train: 55029 test:7971\n",
    "    # pittsburgh -- train: 43544 test: 6361\n",
    "    # dearborn -- train: 24465 test: 3671\n",
    "    # washington-dc -- train: 25744 test: 3829\n",
    "    # palo-alto -- train:  11993 test:1686\n",
    "\n",
    "    trajectories sampled at 10HZ rate, input 5 seconds, output 6 seconds\n",
    "    \n",
    "\"\"\""
   ]
  },
  {
   "cell_type": "markdown",
   "id": "e693331a",
   "metadata": {},
   "source": [
    "## Create a Torch.Dataset class for the training dataset"
   ]
  },
  {
   "cell_type": "code",
   "execution_count": 44,
   "id": "a5977e7e",
   "metadata": {},
   "outputs": [],
   "source": [
    "from glob import glob\n",
    "import pickle\n",
    "import numpy as np\n",
    "\n",
    "ROOT_PATH = \"./data/\"\n",
    "\n",
    "cities = [\"austin\", \"miami\", \"pittsburgh\", \"dearborn\", \"washington-dc\", \"palo-alto\"]\n",
    "splits = [\"train\", \"test\"]\n",
    "\n",
    "def get_city_trajectories(city=\"palo-alto\", split=\"train\", standardized=False):\n",
    "\n",
    "    \n",
    "    outputs = None\n",
    "    global_mean = 0\n",
    "    global_std = 0\n",
    "    \n",
    "    if split==\"train\":\n",
    "        f_in = ROOT_PATH + split + \"/\" + city + \"_inputs\"\n",
    "        inputs = pickle.load(open(f_in, \"rb\"))\n",
    "        n = len(inputs)\n",
    "        if standardized:\n",
    "            inputs = np.asarray(inputs)\n",
    "            global_mean = np.mean(inputs, axis = (0,1), keepdims = True)\n",
    "            global_std = np.std(np.sqrt(inputs[:, :, 0]**2 + inputs[:, :, 0]**2))\n",
    "        inputs = np.asarray(inputs)[:int(n * 0.6)]\n",
    "        \n",
    "        f_out = ROOT_PATH + split + \"/\" + city + \"_outputs\"\n",
    "        outputs = pickle.load(open(f_out, \"rb\"))\n",
    "        outputs = np.asarray(outputs)[:int(n * 0.6)]\n",
    "        \n",
    "    elif split == 'val':\n",
    "        f_in = ROOT_PATH + 'train' + \"/\" + city + \"_inputs\"\n",
    "        inputs = pickle.load(open(f_in, \"rb\"))\n",
    "        n = len(inputs)\n",
    "        if standardized:\n",
    "            inputs = np.asarray(inputs)\n",
    "            global_mean = np.mean(inputs, axis = (0,1), keepdims = True)\n",
    "            global_std = np.std(np.sqrt(inputs[:, :, 0]**2 + inputs[:, :, 0]**2))\n",
    "        inputs = np.asarray(inputs)[int(n * 0.6):]\n",
    "        \n",
    "        f_out = ROOT_PATH + 'train' + \"/\" + city + \"_outputs\"\n",
    "        outputs = pickle.load(open(f_out, \"rb\"))\n",
    "        outputs = np.asarray(outputs)[int(n * 0.6):]\n",
    "    \n",
    "    else:\n",
    "        f_in = ROOT_PATH + split + \"/\" + city + \"_inputs\"\n",
    "        inputs = pickle.load(open(f_in, \"rb\"))\n",
    "        n = len(inputs)\n",
    "        if standardized:\n",
    "            inputs = np.asarray(inputs)\n",
    "            global_mean = np.mean(inputs, axis = (0,1), keepdims = True)\n",
    "            global_std = np.std(np.sqrt(inputs[:, :, 0]**2 + inputs[:, :, 0]**2))\n",
    "        else:\n",
    "            inputs = np.asarray(inputs)\n",
    "\n",
    "    if standardized:\n",
    "        standard_inputs = (inputs - global_mean)/global_std\n",
    "        standard_targets = (outputs - global_mean)/global_std\n",
    "        return standard_inputs, standard_targets\n",
    "    return inputs, outputs\n",
    "\n",
    "class ArgoverseDataset(Dataset):\n",
    "    \"\"\"Dataset class for Argoverse\"\"\"\n",
    "    def __init__(self, city: str, split:str, standardized:bool, transform=None):\n",
    "        super(ArgoverseDataset, self).__init__()\n",
    "        self.transform = transform\n",
    "        self.standardized = standardized\n",
    "\n",
    "        self.inputs, self.outputs = get_city_trajectories(city=city, split=split, standardized=self.standardized)\n",
    "\n",
    "    def __len__(self):\n",
    "        return len(self.inputs)\n",
    "\n",
    "    def __getitem__(self, idx):\n",
    "\n",
    "        data = (self.inputs[idx], self.outputs[idx])\n",
    "            \n",
    "        if self.transform:\n",
    "            data = self.transform(data)\n",
    "\n",
    "        return data"
   ]
  },
  {
   "cell_type": "code",
   "execution_count": 45,
   "id": "3b14fb85-ac97-4bec-a307-6255b705825c",
   "metadata": {},
   "outputs": [],
   "source": [
    "# intialize a dataset\n",
    "def get_data_loader(city = 'austin', batch_size = 20, standardized=False):\n",
    "    train_dataset  = ArgoverseDataset(city = city, split = 'train', standardized=standardized)\n",
    "    val_dataset = ArgoverseDataset(city = city, split = 'val', standardized=standardized)\n",
    "\n",
    "    train_loader = DataLoader(train_dataset,batch_size=batch_size)\n",
    "    val_loader = DataLoader(val_dataset,batch_size=batch_size)\n",
    "    return train_dataset, val_dataset, train_loader, val_loader"
   ]
  },
  {
   "cell_type": "code",
   "execution_count": 46,
   "id": "b43d7b9d-c7f5-4ee3-ac7a-762c2e486113",
   "metadata": {},
   "outputs": [],
   "source": [
    "train_dataset, val_dataset, train_loader, val_loader = get_data_loader(city = 'austin', batch_size = 150, standardized=False)"
   ]
  },
  {
   "cell_type": "code",
   "execution_count": 47,
   "id": "f01aed22",
   "metadata": {},
   "outputs": [
    {
     "data": {
      "text/plain": [
       "17217"
      ]
     },
     "execution_count": 47,
     "metadata": {},
     "output_type": "execute_result"
    }
   ],
   "source": [
    "len(val_dataset)"
   ]
  },
  {
   "cell_type": "code",
   "execution_count": 48,
   "id": "075abd9d-1282-4d60-8918-d8bf80ce0b6b",
   "metadata": {},
   "outputs": [
    {
     "data": {
      "text/plain": [
       "25824"
      ]
     },
     "execution_count": 48,
     "metadata": {},
     "output_type": "execute_result"
    }
   ],
   "source": [
    "len(train_dataset)"
   ]
  },
  {
   "cell_type": "markdown",
   "id": "ac92ceab",
   "metadata": {},
   "source": [
    "## Create a DataLoader class for training"
   ]
  },
  {
   "cell_type": "code",
   "execution_count": 49,
   "id": "7eb4131c",
   "metadata": {},
   "outputs": [],
   "source": [
    "from torch import nn, optim\n",
    "\n",
    "# model\n",
    "class EncoderDecoder(nn.Module):\n",
    "\n",
    "    def __init__(self):\n",
    "        super().__init__()\n",
    "        \n",
    "        self.encoder = nn.Sequential(\n",
    "            nn.Linear(100, 64),\n",
    "            nn.LogSigmoid(),\n",
    "            nn.Linear(64, 32),\n",
    "            nn.LogSigmoid(),\n",
    "            nn.Linear(32, 32)\n",
    "        )\n",
    "        \n",
    "        self.decoder = nn.Sequential(\n",
    "            nn.Linear(32, 64),\n",
    "            nn.LogSigmoid(),\n",
    "            nn.Linear(64, 120),\n",
    "            nn.LogSigmoid(),\n",
    "            nn.Linear(120, 120)\n",
    "        )\n",
    "        \n",
    "    def forward(self, x):\n",
    "        x = x.reshape(-1, 100).float()\n",
    "        x = self.encoder(x)\n",
    "        x = self.decoder(x)\n",
    "        x = x.reshape(-1, 60, 2)\n",
    "        return x.float()"
   ]
  },
  {
   "cell_type": "code",
   "execution_count": 50,
   "id": "3b6c7dda",
   "metadata": {},
   "outputs": [],
   "source": [
    "# model, optimizer, loss\n",
    "model_encdoc = EncoderDecoder()\n",
    "opt = optim.Adam(model_encdoc.parameters(), lr=1e-3)\n",
    "loss_func = nn.MSELoss()"
   ]
  },
  {
   "cell_type": "code",
   "execution_count": 51,
   "id": "7bf9f9ee-95a2-48c4-93a0-8de88b81949c",
   "metadata": {},
   "outputs": [],
   "source": [
    "def train_epochs(model, train_loader, loss_func, opt, cuda, epochs = 10):\n",
    "\n",
    "    if cuda:\n",
    "        model.cuda()\n",
    "\n",
    "    train_losses = []\n",
    "    for epoch in range(epochs):\n",
    "\n",
    "        total_loss = 0\n",
    "        for i_batch, sample_batch in enumerate(train_loader):\n",
    "            inp, out = sample_batch\n",
    "            if cuda:\n",
    "                inp, out = inp.cuda(), out.cuda()\n",
    "            out = out.float()\n",
    "            preds = model(inp.float())\n",
    "            #loss = loss_func(preds, out) # MSE\n",
    "            loss = torch.sqrt(loss_func(preds, out)) # RMSE\n",
    "\n",
    "            opt.zero_grad()\n",
    "            loss.backward()\n",
    "            opt.step()\n",
    "\n",
    "            total_loss += loss.item()\n",
    "\n",
    "        print('epoch {} trian loss: {}'.format(epoch, total_loss / len(train_dataset)))\n",
    "        train_losses.append(total_loss / len(train_dataset))\n",
    "    return train_losses"
   ]
  },
  {
   "cell_type": "code",
   "execution_count": 52,
   "id": "48fe1276",
   "metadata": {},
   "outputs": [],
   "source": [
    "def val_loss(model, val_loader, loss_func, opt):\n",
    "    val_loss = 0\n",
    "    for i_batch, sample_batch in enumerate(val_loader):\n",
    "        inp, out = sample_batch\n",
    "        out = out.float()\n",
    "        preds = model(inp.float())\n",
    "        #loss = loss_func(preds, out) # MSE\n",
    "        loss = torch.sqrt(loss_func(preds, out)) # RMSE\n",
    "\n",
    "        val_loss += loss.item()\n",
    "    print('val loss: {}'.format(val_loss / len(val_dataset)))"
   ]
  },
  {
   "cell_type": "code",
   "execution_count": 53,
   "id": "dcebc7ad-3284-4d38-85e6-104c655fe42b",
   "metadata": {},
   "outputs": [],
   "source": [
    "def train_city(city, batch_size, standardized, epochs, cuda=False):\n",
    "    # data loader\n",
    "    train_dataset, val_dataset, train_loader, val_loader = get_data_loader(city = city, batch_size = batch_size, standardized=standardized)\n",
    "    \n",
    "    # model, optimizer, loss\n",
    "    model_encdoc = EncoderDecoder()\n",
    "    opt = optim.Adam(model_encdoc.parameters(), lr=1e-3)\n",
    "    loss_func = nn.MSELoss()\n",
    "    \n",
    "    # train\n",
    "    train_losses = train_epochs(model_encdoc, train_loader, loss_func, opt, epochs = epochs, cuda = cuda)\n",
    "    \n",
    "    # evaluate\n",
    "    # val_loss(model_encdoc, val_loader, loss_func, opt)\n",
    "    return model_encdoc, train_losses"
   ]
  },
  {
   "cell_type": "code",
   "execution_count": 54,
   "id": "f4220c59-f939-499f-881b-87d4847a2838",
   "metadata": {},
   "outputs": [
    {
     "name": "stdout",
     "output_type": "stream",
     "text": [
      "epoch 0 trian loss: 2.3362590036132227\n",
      "epoch 1 trian loss: 0.8065985549781403\n",
      "epoch 2 trian loss: 0.7548214597477494\n",
      "epoch 3 trian loss: 0.7390577447458714\n",
      "epoch 4 trian loss: 0.7070366890161601\n",
      "epoch 5 trian loss: 0.7057912537304146\n",
      "epoch 6 trian loss: 0.6643003741604688\n",
      "epoch 7 trian loss: 0.6312198422507578\n",
      "epoch 8 trian loss: 0.6269646749325106\n",
      "epoch 9 trian loss: 0.658796870797097\n",
      "epoch 10 trian loss: 0.5846778481570909\n",
      "epoch 11 trian loss: 0.5679347066040228\n",
      "epoch 12 trian loss: 0.5239692158636994\n",
      "epoch 13 trian loss: 0.5124665482484423\n",
      "epoch 14 trian loss: 0.5108827129468008\n",
      "epoch 15 trian loss: 0.5386877960284255\n",
      "epoch 16 trian loss: 0.49087399580369356\n",
      "epoch 17 trian loss: 0.5018126094503769\n",
      "epoch 18 trian loss: 0.47312354882705904\n",
      "epoch 19 trian loss: 0.5016177665197569\n",
      "epoch 20 trian loss: 0.4503959880442424\n",
      "epoch 21 trian loss: 0.49337802441442175\n",
      "epoch 22 trian loss: 0.4763341605884878\n",
      "epoch 23 trian loss: 0.4513776455596182\n",
      "epoch 24 trian loss: 0.43643724183463106\n",
      "epoch 25 trian loss: 0.43860878122340347\n",
      "epoch 26 trian loss: 0.43907779215141446\n",
      "epoch 27 trian loss: 0.4335916958186115\n",
      "epoch 28 trian loss: 0.4416103564304342\n",
      "epoch 29 trian loss: 0.41103578788197176\n"
     ]
    }
   ],
   "source": [
    "model_austin, train_losses = train_city('austin', batch_size = 50, standardized = False, epochs = 30)"
   ]
  },
  {
   "cell_type": "code",
   "execution_count": 55,
   "id": "d4763521-3177-4a75-b53b-290d52866670",
   "metadata": {},
   "outputs": [
    {
     "data": {
      "text/plain": [
       "Text(0.5, 1.0, 'City--Austin')"
      ]
     },
     "execution_count": 55,
     "metadata": {},
     "output_type": "execute_result"
    },
    {
     "data": {
      "image/png": "[encoded data removed]",
      "text/plain": [
       "<Figure size 432x288 with 1 Axes>"
      ]
     },
     "metadata": {
      "needs_background": "light"
     },
     "output_type": "display_data"
    }
   ],
   "source": [
    "plt.plot(train_losses)\n",
    "plt.xlabel('Training Epoch')\n",
    "plt.ylabel('RMSE')\n",
    "plt.title('City--Austin')"
   ]
  },
  {
   "cell_type": "code",
   "execution_count": 56,
   "id": "17b973ca-c5ee-47e5-bbbb-ac361a3c63ee",
   "metadata": {},
   "outputs": [
    {
     "name": "stdout",
     "output_type": "stream",
     "text": [
      "val loss: 0.22347534196526495\n"
     ]
    }
   ],
   "source": [
    "val_loss(model_austin, val_loader, loss_func, opt)"
   ]
  },
  {
   "cell_type": "code",
   "execution_count": 57,
   "id": "6ff6b57a-9089-4614-a20a-930462febdf2",
   "metadata": {},
   "outputs": [
    {
     "name": "stdout",
     "output_type": "stream",
     "text": [
      "epoch 0 trian loss: 5.989578288062354\n",
      "epoch 1 trian loss: 1.368939937490513\n",
      "epoch 2 trian loss: 1.3223189246255669\n",
      "epoch 3 trian loss: 1.2822109417253562\n",
      "epoch 4 trian loss: 1.2952383684993825\n",
      "epoch 5 trian loss: 1.158723148714654\n",
      "epoch 6 trian loss: 1.1665534672536224\n",
      "epoch 7 trian loss: 1.327964003201311\n",
      "epoch 8 trian loss: 1.162346998924364\n",
      "epoch 9 trian loss: 1.161314204944554\n",
      "epoch 10 trian loss: 1.1432388255735018\n",
      "epoch 11 trian loss: 1.1471935724089433\n",
      "epoch 12 trian loss: 1.1119238432898397\n",
      "epoch 13 trian loss: 1.1210496628742384\n",
      "epoch 14 trian loss: 1.1133410527360483\n",
      "epoch 15 trian loss: 1.0775437731725133\n",
      "epoch 16 trian loss: 1.064795990932682\n",
      "epoch 17 trian loss: 1.0767373872512336\n",
      "epoch 18 trian loss: 1.0255515497856424\n",
      "epoch 19 trian loss: 1.0455101623558791\n",
      "epoch 20 trian loss: 1.0265212304234652\n",
      "epoch 21 trian loss: 1.0466757984704984\n",
      "epoch 22 trian loss: 0.9687749730905488\n",
      "epoch 23 trian loss: 0.9694400356604708\n",
      "epoch 24 trian loss: 1.0084113670695374\n",
      "epoch 25 trian loss: 0.9643710922574465\n",
      "epoch 26 trian loss: 0.9210146696594125\n",
      "epoch 27 trian loss: 0.9985572627042749\n",
      "epoch 28 trian loss: 0.9805323124079603\n",
      "epoch 29 trian loss: 0.9797523066752314\n",
      "epoch 30 trian loss: 0.9429905648716025\n",
      "epoch 31 trian loss: 0.9467993496075882\n",
      "epoch 32 trian loss: 0.9074346694213602\n",
      "epoch 33 trian loss: 0.928211915079398\n",
      "epoch 34 trian loss: 0.8762061356611854\n",
      "epoch 35 trian loss: 0.9055094719671701\n",
      "epoch 36 trian loss: 0.9055514856342046\n",
      "epoch 37 trian loss: 0.9062040794590001\n",
      "epoch 38 trian loss: 0.8661844541296787\n",
      "epoch 39 trian loss: 0.8798513222656581\n"
     ]
    }
   ],
   "source": [
    "model_miami, train_losses = train_city('miami', batch_size = 50, epochs = 40, standardized=False)"
   ]
  },
  {
   "cell_type": "code",
   "execution_count": 58,
   "id": "f4abbaf8",
   "metadata": {},
   "outputs": [],
   "source": [
    "train_dataset, val_dataset, train_loader, val_loader = get_data_loader(city = 'miami', batch_size = 50, standardized=False)"
   ]
  },
  {
   "cell_type": "code",
   "execution_count": 59,
   "id": "cb78075a",
   "metadata": {},
   "outputs": [
    {
     "name": "stdout",
     "output_type": "stream",
     "text": [
      "val loss: 0.6682508029483696\n"
     ]
    }
   ],
   "source": [
    "val_loss(model_miami, val_loader, loss_func, opt)"
   ]
  },
  {
   "cell_type": "code",
   "execution_count": 60,
   "id": "efe0c8aa-5599-4aaa-8458-1afae20f0a7a",
   "metadata": {},
   "outputs": [
    {
     "name": "stdout",
     "output_type": "stream",
     "text": [
      "epoch 0 trian loss: 3.470706796084318\n",
      "epoch 1 trian loss: 0.6670284564705148\n",
      "epoch 2 trian loss: 0.6820946160879798\n",
      "epoch 3 trian loss: 0.6461130693267388\n",
      "epoch 4 trian loss: 0.624582048598629\n",
      "epoch 5 trian loss: 0.6094535968938919\n",
      "epoch 6 trian loss: 0.6549423513086949\n",
      "epoch 7 trian loss: 0.6173941213090932\n",
      "epoch 8 trian loss: 0.5866110293592319\n",
      "epoch 9 trian loss: 0.609202762033814\n",
      "epoch 10 trian loss: 0.5979114628020106\n",
      "epoch 11 trian loss: 0.5881699145185048\n",
      "epoch 12 trian loss: 0.6010319837186664\n",
      "epoch 13 trian loss: 0.5582933865811848\n",
      "epoch 14 trian loss: 0.5965676003670524\n",
      "epoch 15 trian loss: 0.5580697766575615\n",
      "epoch 16 trian loss: 0.5623181493248307\n",
      "epoch 17 trian loss: 0.5666443516601023\n",
      "epoch 18 trian loss: 0.5517705230546517\n",
      "epoch 19 trian loss: 0.5561204270143535\n",
      "epoch 20 trian loss: 0.5312604602333432\n",
      "epoch 21 trian loss: 0.5403056349359918\n",
      "epoch 22 trian loss: 0.5210717392996056\n",
      "epoch 23 trian loss: 0.5398121217496067\n",
      "epoch 24 trian loss: 0.5236193167071832\n",
      "epoch 25 trian loss: 0.5308924420603394\n",
      "epoch 26 trian loss: 0.5078671264140073\n",
      "epoch 27 trian loss: 0.5054126347483665\n",
      "epoch 28 trian loss: 0.4922798632867773\n",
      "epoch 29 trian loss: 0.48723773417317007\n",
      "epoch 30 trian loss: 0.4891820994765717\n",
      "epoch 31 trian loss: 0.496549510253921\n",
      "epoch 32 trian loss: 0.4634804634228031\n",
      "epoch 33 trian loss: 0.490704393720455\n",
      "epoch 34 trian loss: 0.4883936821275272\n",
      "epoch 35 trian loss: 0.4746130207238655\n",
      "epoch 36 trian loss: 0.4825344164836456\n",
      "epoch 37 trian loss: 0.45237973481791294\n",
      "epoch 38 trian loss: 0.4544512602014689\n",
      "epoch 39 trian loss: 0.48294140899239496\n"
     ]
    }
   ],
   "source": [
    "model_pittsburgh, train_losses = train_city('pittsburgh', batch_size = 50, epochs = 40, standardized=False)"
   ]
  },
  {
   "cell_type": "code",
   "execution_count": 61,
   "id": "b692f1ac",
   "metadata": {},
   "outputs": [
    {
     "name": "stdout",
     "output_type": "stream",
     "text": [
      "val loss: 0.6649036095383001\n"
     ]
    }
   ],
   "source": [
    "train_dataset, val_dataset, train_loader, val_loader = get_data_loader(city = 'pittsburgh', batch_size = 50, standardized=False)\n",
    "val_loss(model_pittsburgh, val_loader, loss_func, opt)"
   ]
  },
  {
   "cell_type": "code",
   "execution_count": 62,
   "id": "ec3827fe-5a0a-4d7d-a6a9-9308c87fcd24",
   "metadata": {},
   "outputs": [
    {
     "name": "stdout",
     "output_type": "stream",
     "text": [
      "epoch 0 trian loss: 7.603116695360542\n",
      "epoch 1 trian loss: 1.1198250111253778\n",
      "epoch 2 trian loss: 0.8851169684593413\n",
      "epoch 3 trian loss: 0.8846074942196254\n",
      "epoch 4 trian loss: 0.8995159522667419\n",
      "epoch 5 trian loss: 0.8908748587285871\n",
      "epoch 6 trian loss: 0.8263819120036673\n",
      "epoch 7 trian loss: 0.8105446656995206\n",
      "epoch 8 trian loss: 0.8643553264471616\n",
      "epoch 9 trian loss: 0.8325387643269317\n",
      "epoch 10 trian loss: 0.8270798374863155\n",
      "epoch 11 trian loss: 0.8533699282696042\n",
      "epoch 12 trian loss: 0.7795518565431613\n",
      "epoch 13 trian loss: 0.8710878844247664\n",
      "epoch 14 trian loss: 0.7636601621009741\n",
      "epoch 15 trian loss: 0.795267515686965\n",
      "epoch 16 trian loss: 0.8559014550268691\n",
      "epoch 17 trian loss: 0.6856900798976033\n",
      "epoch 18 trian loss: 0.8209548083762886\n",
      "epoch 19 trian loss: 0.7826099591407405\n",
      "epoch 20 trian loss: 0.7872246090526065\n",
      "epoch 21 trian loss: 0.7909359627146729\n",
      "epoch 22 trian loss: 0.7157021462438228\n",
      "epoch 23 trian loss: 0.7607691218091365\n",
      "epoch 24 trian loss: 0.824866663612962\n",
      "epoch 25 trian loss: 0.7240300529320536\n",
      "epoch 26 trian loss: 0.681315000449809\n",
      "epoch 27 trian loss: 0.8082354181367497\n",
      "epoch 28 trian loss: 0.7370219789510991\n",
      "epoch 29 trian loss: 0.7681720085059356\n",
      "epoch 30 trian loss: 0.6793378475002022\n",
      "epoch 31 trian loss: 0.848017397549619\n",
      "epoch 32 trian loss: 0.6986050225048858\n",
      "epoch 33 trian loss: 0.7502827513302796\n",
      "epoch 34 trian loss: 0.6789736621806753\n",
      "epoch 35 trian loss: 0.7135535915257655\n",
      "epoch 36 trian loss: 0.7285375042439127\n",
      "epoch 37 trian loss: 0.7279857351359607\n",
      "epoch 38 trian loss: 0.706916339435941\n",
      "epoch 39 trian loss: 0.6775071531691613\n"
     ]
    }
   ],
   "source": [
    "model_dearborn, train_losses = train_city('dearborn', batch_size = 50, epochs = 40, standardized=False)"
   ]
  },
  {
   "cell_type": "code",
   "execution_count": 63,
   "id": "4a8b83ff",
   "metadata": {},
   "outputs": [
    {
     "name": "stdout",
     "output_type": "stream",
     "text": [
      "val loss: 1.2910161773631745\n"
     ]
    }
   ],
   "source": [
    "train_dataset, val_dataset, train_loader, val_loader = get_data_loader(city = 'dearborn', batch_size = 50, standardized=False)\n",
    "val_loss(model_dearborn, val_loader, loss_func, opt)"
   ]
  },
  {
   "cell_type": "code",
   "execution_count": 64,
   "id": "22d80510-d4e0-407a-9bd1-d19b3280df9c",
   "metadata": {},
   "outputs": [
    {
     "name": "stdout",
     "output_type": "stream",
     "text": [
      "epoch 0 trian loss: 8.956621841689499\n",
      "epoch 1 trian loss: 1.1382072351797294\n",
      "epoch 2 trian loss: 1.0113867525752602\n",
      "epoch 3 trian loss: 1.044848386009721\n",
      "epoch 4 trian loss: 0.9409510441425427\n",
      "epoch 5 trian loss: 0.9884725512596768\n",
      "epoch 6 trian loss: 0.9364585251466756\n",
      "epoch 7 trian loss: 0.8803112072388835\n",
      "epoch 8 trian loss: 0.9525065035819682\n",
      "epoch 9 trian loss: 0.9197975164928394\n",
      "epoch 10 trian loss: 0.9389693413973585\n",
      "epoch 11 trian loss: 0.9553013879602015\n",
      "epoch 12 trian loss: 0.9087448906237443\n",
      "epoch 13 trian loss: 0.9150483064945797\n",
      "epoch 14 trian loss: 0.8845803356761869\n",
      "epoch 15 trian loss: 0.8908147847622387\n",
      "epoch 16 trian loss: 0.8771291960568054\n",
      "epoch 17 trian loss: 0.9230593633193704\n",
      "epoch 18 trian loss: 0.883744676461198\n",
      "epoch 19 trian loss: 0.897702350612557\n",
      "epoch 20 trian loss: 0.855932206351959\n",
      "epoch 21 trian loss: 0.8805228622564382\n",
      "epoch 22 trian loss: 0.8466919664385143\n",
      "epoch 23 trian loss: 0.8984881729218492\n",
      "epoch 24 trian loss: 0.8108983021989588\n",
      "epoch 25 trian loss: 0.8553874480138806\n",
      "epoch 26 trian loss: 0.8478152904436433\n",
      "epoch 27 trian loss: 0.76660904688458\n",
      "epoch 28 trian loss: 0.8863124278287032\n",
      "epoch 29 trian loss: 0.8096037602926505\n",
      "epoch 30 trian loss: 0.83907741177869\n",
      "epoch 31 trian loss: 0.8175876486714785\n",
      "epoch 32 trian loss: 0.8201196184437041\n",
      "epoch 33 trian loss: 0.8114434916687739\n",
      "epoch 34 trian loss: 0.7845442813686442\n",
      "epoch 35 trian loss: 0.805465437847974\n",
      "epoch 36 trian loss: 0.8039151870048747\n",
      "epoch 37 trian loss: 0.8595956396574188\n",
      "epoch 38 trian loss: 0.86966286391635\n",
      "epoch 39 trian loss: 0.8019425771372691\n"
     ]
    }
   ],
   "source": [
    "model_washington_dc, train_losses = train_city('washington-dc', batch_size = 50, epochs = 40, standardized=False)"
   ]
  },
  {
   "cell_type": "code",
   "execution_count": 65,
   "id": "40af5c46",
   "metadata": {},
   "outputs": [
    {
     "name": "stdout",
     "output_type": "stream",
     "text": [
      "val loss: 0.5450241042933758\n"
     ]
    }
   ],
   "source": [
    "train_dataset, val_dataset, train_loader, val_loader = get_data_loader(city = 'washington-dc', batch_size = 50, standardized=False)\n",
    "val_loss(model_washington_dc, val_loader, loss_func, opt)"
   ]
  },
  {
   "cell_type": "code",
   "execution_count": 66,
   "id": "b9241cf9-e013-449a-8a5d-7bf79e60ed43",
   "metadata": {},
   "outputs": [
    {
     "name": "stdout",
     "output_type": "stream",
     "text": [
      "epoch 0 trian loss: 3.506883606891565\n",
      "epoch 1 trian loss: 0.4808635620291054\n",
      "epoch 2 trian loss: 0.4355807943416972\n",
      "epoch 3 trian loss: 0.4262355370764193\n",
      "epoch 4 trian loss: 0.4163259083660066\n",
      "epoch 5 trian loss: 0.4110952520808855\n",
      "epoch 6 trian loss: 0.40553235285303435\n",
      "epoch 7 trian loss: 0.40389149327607227\n",
      "epoch 8 trian loss: 0.40195549131751784\n",
      "epoch 9 trian loss: 0.3940271378551356\n",
      "epoch 10 trian loss: 0.3912963207777834\n",
      "epoch 11 trian loss: 0.3893995096102197\n",
      "epoch 12 trian loss: 0.38753039154937874\n",
      "epoch 13 trian loss: 0.3834700510938072\n",
      "epoch 14 trian loss: 0.37973846611883394\n",
      "epoch 15 trian loss: 0.38189974069502725\n",
      "epoch 16 trian loss: 0.3614388727299\n",
      "epoch 17 trian loss: 0.3537062594700119\n",
      "epoch 18 trian loss: 0.3579418643465873\n",
      "epoch 19 trian loss: 0.37667635236397073\n",
      "epoch 20 trian loss: 0.36377306452505054\n",
      "epoch 21 trian loss: 0.33016273306392563\n",
      "epoch 22 trian loss: 0.34764689539714627\n",
      "epoch 23 trian loss: 0.34150232830983623\n",
      "epoch 24 trian loss: 0.33243659257919667\n",
      "epoch 25 trian loss: 0.3267346918930218\n",
      "epoch 26 trian loss: 0.3294196041788321\n",
      "epoch 27 trian loss: 0.29379171697213274\n",
      "epoch 28 trian loss: 0.28766308734720425\n",
      "epoch 29 trian loss: 0.31667350688530777\n",
      "epoch 30 trian loss: 0.28249373603296235\n",
      "epoch 31 trian loss: 0.2882817708101511\n",
      "epoch 32 trian loss: 0.3088259897623503\n",
      "epoch 33 trian loss: 0.3037468481601002\n",
      "epoch 34 trian loss: 0.2884997712752369\n",
      "epoch 35 trian loss: 0.26630293994188836\n",
      "epoch 36 trian loss: 0.254520837713921\n",
      "epoch 37 trian loss: 0.26069363778418214\n",
      "epoch 38 trian loss: 0.27178896336331354\n",
      "epoch 39 trian loss: 0.27078724611334953\n"
     ]
    }
   ],
   "source": [
    "model_palo_alto, train_losses = train_city('palo-alto', batch_size = 50, epochs = 40, standardized=False)"
   ]
  },
  {
   "cell_type": "code",
   "execution_count": 67,
   "id": "cc084496",
   "metadata": {},
   "outputs": [
    {
     "name": "stdout",
     "output_type": "stream",
     "text": [
      "val loss: 0.5048596702947772\n"
     ]
    }
   ],
   "source": [
    "train_dataset, val_dataset, train_loader, val_loader = get_data_loader(city = 'palo-alto', batch_size = 50, standardized=False)\n",
    "val_loss(model_palo_alto, val_loader, loss_func, opt)"
   ]
  },
  {
   "cell_type": "markdown",
   "id": "5562e425-6a2c-4489-af90-058619948e08",
   "metadata": {},
   "source": [
    "## Make Prediction"
   ]
  },
  {
   "cell_type": "code",
   "execution_count": 68,
   "id": "93ed9e61-c999-481e-b16e-0c9205e5d61f",
   "metadata": {},
   "outputs": [],
   "source": [
    "cities = [\"austin\", \"miami\", \"pittsburgh\", \"dearborn\", \"washington-dc\", \"palo-alto\"]\n",
    "models = [model_austin, model_miami, model_pittsburgh, model_dearborn, model_washington_dc, model_palo_alto]"
   ]
  },
  {
   "cell_type": "code",
   "execution_count": 69,
   "id": "148fa5fd-dd7b-47a2-b580-c3192d712c6f",
   "metadata": {},
   "outputs": [],
   "source": [
    "def predict_test(city, model):\n",
    "    test_dataset = get_city_trajectories(city = city, split = 'test', standardized=False)[0]\n",
    "    test_dataset = torch.from_numpy(test_dataset)\n",
    "    pred = model(test_dataset).reshape(-1, 120)\n",
    "    pred = pred.detach().numpy()\n",
    "    return pd.DataFrame(pred)"
   ]
  },
  {
   "cell_type": "code",
   "execution_count": 70,
   "id": "d7eb81e3-2e8e-4ff3-b23e-f559134edfd4",
   "metadata": {},
   "outputs": [],
   "source": [
    "columns =['ID'] + ['v'+str(i) for i in range(120)]"
   ]
  },
  {
   "cell_type": "code",
   "execution_count": 71,
   "id": "945eb530-a029-4202-af4c-544c4cb7c980",
   "metadata": {},
   "outputs": [],
   "source": [
    "def predict_all(cities, models):\n",
    "    out = predict_test(cities[0], models[0]).reset_index()\n",
    "    out.columns = columns\n",
    "\n",
    "    out['ID'] = out['ID'].astype(str) + '_' + cities[0]\n",
    "    \n",
    "    for city, model in zip(cities[1:], models[1:]):\n",
    "        temp = predict_test(city, model).reset_index()\n",
    "        temp.columns = columns\n",
    "        temp['ID'] = temp['ID'].astype(str) + '_' + city\n",
    "        out = pd.concat([out, temp])\n",
    "    return out        "
   ]
  },
  {
   "cell_type": "code",
   "execution_count": 72,
   "id": "220d0018-7cd1-4f9d-9206-be16d1fcbcaa",
   "metadata": {},
   "outputs": [],
   "source": [
    "test_output = predict_all(cities, models)"
   ]
  },
  {
   "cell_type": "code",
   "execution_count": 73,
   "id": "c204a7f3-c10c-4e23-8b7a-0dc89e69947c",
   "metadata": {},
   "outputs": [],
   "source": [
    "test_output.to_csv('test_output.csv', index=False)"
   ]
  },
  {
   "cell_type": "code",
   "execution_count": 74,
   "id": "a122ca27-b9ac-489f-ba37-2ffdbd16fb76",
   "metadata": {},
   "outputs": [
    {
     "data": {
      "text/html": [
       "<div>\n",
       "<style scoped>\n",
       "    .dataframe tbody tr th:only-of-type {\n",
       "        vertical-align: middle;\n",
       "    }\n",
       "\n",
       "    .dataframe tbody tr th {\n",
       "        vertical-align: top;\n",
       "    }\n",
       "\n",
       "    .dataframe thead th {\n",
       "        text-align: right;\n",
       "    }\n",
       "</style>\n",
       "<table border=\"1\" class=\"dataframe\">\n",
       "  <thead>\n",
       "    <tr style=\"text-align: right;\">\n",
       "      <th></th>\n",
       "      <th>ID</th>\n",
       "      <th>v0</th>\n",
       "      <th>v1</th>\n",
       "      <th>v2</th>\n",
       "      <th>v3</th>\n",
       "      <th>v4</th>\n",
       "      <th>v5</th>\n",
       "      <th>v6</th>\n",
       "      <th>v7</th>\n",
       "      <th>v8</th>\n",
       "      <th>...</th>\n",
       "      <th>v110</th>\n",
       "      <th>v111</th>\n",
       "      <th>v112</th>\n",
       "      <th>v113</th>\n",
       "      <th>v114</th>\n",
       "      <th>v115</th>\n",
       "      <th>v116</th>\n",
       "      <th>v117</th>\n",
       "      <th>v118</th>\n",
       "      <th>v119</th>\n",
       "    </tr>\n",
       "  </thead>\n",
       "  <tbody>\n",
       "    <tr>\n",
       "      <th>0</th>\n",
       "      <td>0_austin</td>\n",
       "      <td>-11.135794</td>\n",
       "      <td>-574.674805</td>\n",
       "      <td>-11.830410</td>\n",
       "      <td>-573.645569</td>\n",
       "      <td>-10.369962</td>\n",
       "      <td>-573.047363</td>\n",
       "      <td>-10.871705</td>\n",
       "      <td>-572.084595</td>\n",
       "      <td>-12.758583</td>\n",
       "      <td>...</td>\n",
       "      <td>-43.502983</td>\n",
       "      <td>-567.559448</td>\n",
       "      <td>-42.851494</td>\n",
       "      <td>-566.703857</td>\n",
       "      <td>-48.141739</td>\n",
       "      <td>-568.320740</td>\n",
       "      <td>-46.012909</td>\n",
       "      <td>-565.978149</td>\n",
       "      <td>-46.082886</td>\n",
       "      <td>-565.714844</td>\n",
       "    </tr>\n",
       "    <tr>\n",
       "      <th>1</th>\n",
       "      <td>1_austin</td>\n",
       "      <td>-340.915741</td>\n",
       "      <td>-12.704637</td>\n",
       "      <td>-345.077209</td>\n",
       "      <td>-17.245779</td>\n",
       "      <td>-341.792999</td>\n",
       "      <td>-15.793076</td>\n",
       "      <td>-340.936646</td>\n",
       "      <td>-12.157109</td>\n",
       "      <td>-346.860596</td>\n",
       "      <td>...</td>\n",
       "      <td>-335.443451</td>\n",
       "      <td>-27.586176</td>\n",
       "      <td>-341.613037</td>\n",
       "      <td>-24.649319</td>\n",
       "      <td>-342.612274</td>\n",
       "      <td>-35.538269</td>\n",
       "      <td>-339.013794</td>\n",
       "      <td>-28.149658</td>\n",
       "      <td>-338.829315</td>\n",
       "      <td>-27.302250</td>\n",
       "    </tr>\n",
       "    <tr>\n",
       "      <th>2</th>\n",
       "      <td>2_austin</td>\n",
       "      <td>52.975826</td>\n",
       "      <td>-250.983490</td>\n",
       "      <td>52.530811</td>\n",
       "      <td>-251.332123</td>\n",
       "      <td>53.171619</td>\n",
       "      <td>-250.740417</td>\n",
       "      <td>53.236786</td>\n",
       "      <td>-250.735489</td>\n",
       "      <td>52.957321</td>\n",
       "      <td>...</td>\n",
       "      <td>54.146084</td>\n",
       "      <td>-253.051270</td>\n",
       "      <td>53.710121</td>\n",
       "      <td>-253.031616</td>\n",
       "      <td>53.359547</td>\n",
       "      <td>-253.424164</td>\n",
       "      <td>53.844696</td>\n",
       "      <td>-253.158249</td>\n",
       "      <td>53.574944</td>\n",
       "      <td>-252.684204</td>\n",
       "    </tr>\n",
       "    <tr>\n",
       "      <th>3</th>\n",
       "      <td>3_austin</td>\n",
       "      <td>-109.058540</td>\n",
       "      <td>1834.362061</td>\n",
       "      <td>-113.189934</td>\n",
       "      <td>1825.817017</td>\n",
       "      <td>-111.755074</td>\n",
       "      <td>1836.504639</td>\n",
       "      <td>-115.403831</td>\n",
       "      <td>1834.945312</td>\n",
       "      <td>-117.187187</td>\n",
       "      <td>...</td>\n",
       "      <td>-153.663513</td>\n",
       "      <td>1819.274170</td>\n",
       "      <td>-165.886902</td>\n",
       "      <td>1825.918335</td>\n",
       "      <td>-159.291000</td>\n",
       "      <td>1821.685059</td>\n",
       "      <td>-164.091873</td>\n",
       "      <td>1834.348267</td>\n",
       "      <td>-159.513870</td>\n",
       "      <td>1822.441040</td>\n",
       "    </tr>\n",
       "    <tr>\n",
       "      <th>4</th>\n",
       "      <td>4_austin</td>\n",
       "      <td>1223.089478</td>\n",
       "      <td>-654.427307</td>\n",
       "      <td>1222.992310</td>\n",
       "      <td>-650.083130</td>\n",
       "      <td>1222.173950</td>\n",
       "      <td>-652.126160</td>\n",
       "      <td>1222.448486</td>\n",
       "      <td>-652.280518</td>\n",
       "      <td>1222.613525</td>\n",
       "      <td>...</td>\n",
       "      <td>1263.069946</td>\n",
       "      <td>-677.941223</td>\n",
       "      <td>1269.853149</td>\n",
       "      <td>-677.278076</td>\n",
       "      <td>1267.780273</td>\n",
       "      <td>-680.339661</td>\n",
       "      <td>1267.064941</td>\n",
       "      <td>-682.795837</td>\n",
       "      <td>1269.634521</td>\n",
       "      <td>-680.085693</td>\n",
       "    </tr>\n",
       "    <tr>\n",
       "      <th>...</th>\n",
       "      <td>...</td>\n",
       "      <td>...</td>\n",
       "      <td>...</td>\n",
       "      <td>...</td>\n",
       "      <td>...</td>\n",
       "      <td>...</td>\n",
       "      <td>...</td>\n",
       "      <td>...</td>\n",
       "      <td>...</td>\n",
       "      <td>...</td>\n",
       "      <td>...</td>\n",
       "      <td>...</td>\n",
       "      <td>...</td>\n",
       "      <td>...</td>\n",
       "      <td>...</td>\n",
       "      <td>...</td>\n",
       "      <td>...</td>\n",
       "      <td>...</td>\n",
       "      <td>...</td>\n",
       "      <td>...</td>\n",
       "      <td>...</td>\n",
       "    </tr>\n",
       "    <tr>\n",
       "      <th>1681</th>\n",
       "      <td>1681_palo-alto</td>\n",
       "      <td>-1407.804077</td>\n",
       "      <td>-491.250275</td>\n",
       "      <td>-1409.993530</td>\n",
       "      <td>-489.111267</td>\n",
       "      <td>-1409.609253</td>\n",
       "      <td>-491.096161</td>\n",
       "      <td>-1409.091431</td>\n",
       "      <td>-491.247528</td>\n",
       "      <td>-1409.375610</td>\n",
       "      <td>...</td>\n",
       "      <td>-1424.221802</td>\n",
       "      <td>-489.936890</td>\n",
       "      <td>-1422.272461</td>\n",
       "      <td>-490.678711</td>\n",
       "      <td>-1418.699097</td>\n",
       "      <td>-485.656677</td>\n",
       "      <td>-1424.343018</td>\n",
       "      <td>-491.329559</td>\n",
       "      <td>-1420.411987</td>\n",
       "      <td>-492.389008</td>\n",
       "    </tr>\n",
       "    <tr>\n",
       "      <th>1682</th>\n",
       "      <td>1682_palo-alto</td>\n",
       "      <td>122.908112</td>\n",
       "      <td>-23.078310</td>\n",
       "      <td>122.716385</td>\n",
       "      <td>-21.907106</td>\n",
       "      <td>122.893593</td>\n",
       "      <td>-22.249773</td>\n",
       "      <td>123.274139</td>\n",
       "      <td>-22.744703</td>\n",
       "      <td>123.480087</td>\n",
       "      <td>...</td>\n",
       "      <td>123.828476</td>\n",
       "      <td>-21.365889</td>\n",
       "      <td>122.891388</td>\n",
       "      <td>-20.867384</td>\n",
       "      <td>123.703781</td>\n",
       "      <td>-20.974857</td>\n",
       "      <td>123.624672</td>\n",
       "      <td>-20.527946</td>\n",
       "      <td>123.632347</td>\n",
       "      <td>-21.334909</td>\n",
       "    </tr>\n",
       "    <tr>\n",
       "      <th>1683</th>\n",
       "      <td>1683_palo-alto</td>\n",
       "      <td>-1437.933228</td>\n",
       "      <td>2153.345703</td>\n",
       "      <td>-1437.813965</td>\n",
       "      <td>2151.666992</td>\n",
       "      <td>-1440.338013</td>\n",
       "      <td>2152.989502</td>\n",
       "      <td>-1435.713623</td>\n",
       "      <td>2153.047607</td>\n",
       "      <td>-1439.136597</td>\n",
       "      <td>...</td>\n",
       "      <td>-1446.079224</td>\n",
       "      <td>2152.134277</td>\n",
       "      <td>-1448.326660</td>\n",
       "      <td>2149.573730</td>\n",
       "      <td>-1448.872559</td>\n",
       "      <td>2151.284668</td>\n",
       "      <td>-1445.403320</td>\n",
       "      <td>2153.050293</td>\n",
       "      <td>-1447.910889</td>\n",
       "      <td>2153.594482</td>\n",
       "    </tr>\n",
       "    <tr>\n",
       "      <th>1684</th>\n",
       "      <td>1684_palo-alto</td>\n",
       "      <td>1076.202271</td>\n",
       "      <td>1360.736206</td>\n",
       "      <td>1075.431030</td>\n",
       "      <td>1365.616943</td>\n",
       "      <td>1073.676636</td>\n",
       "      <td>1361.167114</td>\n",
       "      <td>1077.330933</td>\n",
       "      <td>1357.670166</td>\n",
       "      <td>1074.478394</td>\n",
       "      <td>...</td>\n",
       "      <td>1077.409912</td>\n",
       "      <td>1360.169312</td>\n",
       "      <td>1074.965942</td>\n",
       "      <td>1354.676147</td>\n",
       "      <td>1078.713623</td>\n",
       "      <td>1357.906006</td>\n",
       "      <td>1081.995361</td>\n",
       "      <td>1360.871460</td>\n",
       "      <td>1073.157593</td>\n",
       "      <td>1358.858276</td>\n",
       "    </tr>\n",
       "    <tr>\n",
       "      <th>1685</th>\n",
       "      <td>1685_palo-alto</td>\n",
       "      <td>-0.716786</td>\n",
       "      <td>392.417603</td>\n",
       "      <td>0.999786</td>\n",
       "      <td>392.778839</td>\n",
       "      <td>1.631702</td>\n",
       "      <td>391.729156</td>\n",
       "      <td>-0.207950</td>\n",
       "      <td>393.552734</td>\n",
       "      <td>0.044375</td>\n",
       "      <td>...</td>\n",
       "      <td>0.830364</td>\n",
       "      <td>391.143707</td>\n",
       "      <td>2.545430</td>\n",
       "      <td>390.103516</td>\n",
       "      <td>1.039670</td>\n",
       "      <td>392.194824</td>\n",
       "      <td>-0.404173</td>\n",
       "      <td>390.773499</td>\n",
       "      <td>0.589344</td>\n",
       "      <td>394.281250</td>\n",
       "    </tr>\n",
       "  </tbody>\n",
       "</table>\n",
       "<p>29843 rows × 121 columns</p>\n",
       "</div>"
      ],
      "text/plain": [
       "                  ID           v0           v1           v2           v3  \\\n",
       "0           0_austin   -11.135794  -574.674805   -11.830410  -573.645569   \n",
       "1           1_austin  -340.915741   -12.704637  -345.077209   -17.245779   \n",
       "2           2_austin    52.975826  -250.983490    52.530811  -251.332123   \n",
       "3           3_austin  -109.058540  1834.362061  -113.189934  1825.817017   \n",
       "4           4_austin  1223.089478  -654.427307  1222.992310  -650.083130   \n",
       "...              ...          ...          ...          ...          ...   \n",
       "1681  1681_palo-alto -1407.804077  -491.250275 -1409.993530  -489.111267   \n",
       "1682  1682_palo-alto   122.908112   -23.078310   122.716385   -21.907106   \n",
       "1683  1683_palo-alto -1437.933228  2153.345703 -1437.813965  2151.666992   \n",
       "1684  1684_palo-alto  1076.202271  1360.736206  1075.431030  1365.616943   \n",
       "1685  1685_palo-alto    -0.716786   392.417603     0.999786   392.778839   \n",
       "\n",
       "               v4           v5           v6           v7           v8  ...  \\\n",
       "0      -10.369962  -573.047363   -10.871705  -572.084595   -12.758583  ...   \n",
       "1     -341.792999   -15.793076  -340.936646   -12.157109  -346.860596  ...   \n",
       "2       53.171619  -250.740417    53.236786  -250.735489    52.957321  ...   \n",
       "3     -111.755074  1836.504639  -115.403831  1834.945312  -117.187187  ...   \n",
       "4     1222.173950  -652.126160  1222.448486  -652.280518  1222.613525  ...   \n",
       "...           ...          ...          ...          ...          ...  ...   \n",
       "1681 -1409.609253  -491.096161 -1409.091431  -491.247528 -1409.375610  ...   \n",
       "1682   122.893593   -22.249773   123.274139   -22.744703   123.480087  ...   \n",
       "1683 -1440.338013  2152.989502 -1435.713623  2153.047607 -1439.136597  ...   \n",
       "1684  1073.676636  1361.167114  1077.330933  1357.670166  1074.478394  ...   \n",
       "1685     1.631702   391.729156    -0.207950   393.552734     0.044375  ...   \n",
       "\n",
       "             v110         v111         v112         v113         v114  \\\n",
       "0      -43.502983  -567.559448   -42.851494  -566.703857   -48.141739   \n",
       "1     -335.443451   -27.586176  -341.613037   -24.649319  -342.612274   \n",
       "2       54.146084  -253.051270    53.710121  -253.031616    53.359547   \n",
       "3     -153.663513  1819.274170  -165.886902  1825.918335  -159.291000   \n",
       "4     1263.069946  -677.941223  1269.853149  -677.278076  1267.780273   \n",
       "...           ...          ...          ...          ...          ...   \n",
       "1681 -1424.221802  -489.936890 -1422.272461  -490.678711 -1418.699097   \n",
       "1682   123.828476   -21.365889   122.891388   -20.867384   123.703781   \n",
       "1683 -1446.079224  2152.134277 -1448.326660  2149.573730 -1448.872559   \n",
       "1684  1077.409912  1360.169312  1074.965942  1354.676147  1078.713623   \n",
       "1685     0.830364   391.143707     2.545430   390.103516     1.039670   \n",
       "\n",
       "             v115         v116         v117         v118         v119  \n",
       "0     -568.320740   -46.012909  -565.978149   -46.082886  -565.714844  \n",
       "1      -35.538269  -339.013794   -28.149658  -338.829315   -27.302250  \n",
       "2     -253.424164    53.844696  -253.158249    53.574944  -252.684204  \n",
       "3     1821.685059  -164.091873  1834.348267  -159.513870  1822.441040  \n",
       "4     -680.339661  1267.064941  -682.795837  1269.634521  -680.085693  \n",
       "...           ...          ...          ...          ...          ...  \n",
       "1681  -485.656677 -1424.343018  -491.329559 -1420.411987  -492.389008  \n",
       "1682   -20.974857   123.624672   -20.527946   123.632347   -21.334909  \n",
       "1683  2151.284668 -1445.403320  2153.050293 -1447.910889  2153.594482  \n",
       "1684  1357.906006  1081.995361  1360.871460  1073.157593  1358.858276  \n",
       "1685   392.194824    -0.404173   390.773499     0.589344   394.281250  \n",
       "\n",
       "[29843 rows x 121 columns]"
      ]
     },
     "execution_count": 74,
     "metadata": {},
     "output_type": "execute_result"
    }
   ],
   "source": [
    "test_output"
   ]
  },
  {
   "cell_type": "markdown",
   "id": "2e7e5a87",
   "metadata": {},
   "source": [
    "## Sample a batch of data and visualize "
   ]
  },
  {
   "cell_type": "code",
   "execution_count": 79,
   "id": "c4973396-03db-4aff-b9a0-c4e962a6345a",
   "metadata": {},
   "outputs": [],
   "source": [
    "train_dataset, val_dataset, train_loader, val_loader = get_data_loader(city = 'austin', batch_size = 5, standardized=False)"
   ]
  },
  {
   "cell_type": "code",
   "execution_count": 80,
   "id": "293f02a9",
   "metadata": {},
   "outputs": [
    {
     "data": {
      "image/png": "[encoded data removed]",
      "text/plain": [
       "<Figure size 1080x216 with 5 Axes>"
      ]
     },
     "metadata": {},
     "output_type": "display_data"
    },
    {
     "data": {
      "image/png": "[encoded data removed]",
      "text/plain": [
       "<Figure size 1080x216 with 5 Axes>"
      ]
     },
     "metadata": {},
     "output_type": "display_data"
    }
   ],
   "source": [
    "import matplotlib.pyplot as plt\n",
    "import random\n",
    "\n",
    "\n",
    "def show_sample_batch(sample_batch):\n",
    "    \"\"\"visualize the trajectory for a batch of samples\"\"\"\n",
    "    inp, out = sample_batch\n",
    "    batch_sz = inp.size(0)\n",
    "    agent_sz = inp.size(1)\n",
    "    \n",
    "    fig, axs = plt.subplots(1,batch_sz, figsize=(15, 3), facecolor='w', edgecolor='k')\n",
    "    fig.subplots_adjust(hspace = .5, wspace=.001)\n",
    "    axs = axs.ravel()   \n",
    "    for i in range(batch_sz):\n",
    "        axs[i].xaxis.set_ticks([])\n",
    "        axs[i].yaxis.set_ticks([])\n",
    "        \n",
    "        # first two feature dimensions are (x,y) positions\n",
    "        axs[i].scatter(inp[i,:,0], inp[i,:,1])\n",
    "        axs[i].scatter(out[i,:,0], out[i,:,1])\n",
    "\n",
    "        \n",
    "for i_batch, sample_batch in enumerate(train_loader):\n",
    "    if i_batch < 5: continue\n",
    "    inp, out = sample_batch\n",
    "    pred = model_austin(inp).detach()\n",
    "    show_sample_batch(sample_batch)\n",
    "    show_sample_batch([inp, pred])\n",
    "    #print(sample_batch)\n",
    "    break"
   ]
  },
  {
   "cell_type": "code",
   "execution_count": null,
   "id": "ec5242b6",
   "metadata": {},
   "outputs": [],
   "source": []
  }
 ],
 "metadata": {
  "interpreter": {
   "hash": "dced8fb45b0ff99d8d3988377242cc50fbcc39f0e70c1ca7bcd7ba6512e6ce47"
  },
  "kernelspec": {
   "display_name": "Python 3.8.3 ('base')",
   "language": "python",
   "name": "python3"
  },
  "language_info": {
   "codemirror_mode": {
    "name": "ipython",
    "version": 3
   },
   "file_extension": ".py",
   "mimetype": "text/x-python",
   "name": "python",
   "nbconvert_exporter": "python",
   "pygments_lexer": "ipython3",
   "version": "3.8.3"
  }
 },
 "nbformat": 4,
 "nbformat_minor": 5
}
