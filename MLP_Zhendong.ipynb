{
 "cells": [
  {
   "cell_type": "code",
   "execution_count": 1,
   "id": "324eea40",
   "metadata": {},
   "outputs": [
    {
     "data": {
      "text/plain": [
       "'\\n    number of trajectories in each city\\n    # austin --  train: 43041 test: 6325 \\n    # miami -- train: 55029 test:7971\\n    # pittsburgh -- train: 43544 test: 6361\\n    # dearborn -- train: 24465 test: 3671\\n    # washington-dc -- train: 25744 test: 3829\\n    # palo-alto -- train:  11993 test:1686\\n\\n    trajectories sampled at 10HZ rate, input 5 seconds, output 6 seconds\\n    \\n'"
      ]
     },
     "execution_count": 1,
     "metadata": {},
     "output_type": "execute_result"
    }
   ],
   "source": [
    "import torch\n",
    "from torch.utils.data import Dataset, DataLoader\n",
    "import os, os.path \n",
    "import numpy \n",
    "import pickle\n",
    "import pandas as pd\n",
    "from glob import glob\n",
    "import matplotlib.pyplot as plt\n",
    "import random\n",
    "from torch import nn, optim\n",
    "import torch.nn.functional as F\n",
    "\n",
    "\"\"\"\n",
    "    number of trajectories in each city\n",
    "    # austin --  train: 43041 test: 6325 \n",
    "    # miami -- train: 55029 test:7971\n",
    "    # pittsburgh -- train: 43544 test: 6361\n",
    "    # dearborn -- train: 24465 test: 3671\n",
    "    # washington-dc -- train: 25744 test: 3829\n",
    "    # palo-alto -- train:  11993 test:1686\n",
    "\n",
    "    trajectories sampled at 10HZ rate, input 5 seconds, output 6 seconds\n",
    "    \n",
    "\"\"\""
   ]
  },
  {
   "cell_type": "markdown",
   "id": "0a477b13",
   "metadata": {},
   "source": [
    "# Load Data"
   ]
  },
  {
   "cell_type": "code",
   "execution_count": 89,
   "id": "a5da6b45",
   "metadata": {},
   "outputs": [],
   "source": [
    "from glob import glob\n",
    "import pickle\n",
    "import numpy as np\n",
    "\n",
    "ROOT_PATH = \"./\"\n",
    "\n",
    "cities = [\"austin\", \"miami\", \"pittsburgh\", \"dearborn\", \"washington-dc\", \"palo-alto\"]\n",
    "splits = [\"train\", \"test\"]\n",
    "\n",
    "def get_city_trajectories(city=\"palo-alto\", split=\"train\", normalized=False):\n",
    "\n",
    "    \n",
    "    outputs = None\n",
    "    \n",
    "    if split==\"train\":\n",
    "        f_in = ROOT_PATH + split + \"/\" + city + \"_inputs\"\n",
    "        inputs = pickle.load(open(f_in, \"rb\"))\n",
    "        n = len(inputs)\n",
    "        inputs = np.asarray(inputs)[:int(n * 0.8)]\n",
    "        \n",
    "        f_out = ROOT_PATH + split + \"/\" + city + \"_outputs\"\n",
    "        outputs = pickle.load(open(f_out, \"rb\"))\n",
    "        outputs = np.asarray(outputs)[:int(n * 0.8)]\n",
    "        \n",
    "    elif split == 'val':\n",
    "        f_in = ROOT_PATH + 'train' + \"/\" + city + \"_inputs\"\n",
    "        inputs = pickle.load(open(f_in, \"rb\"))\n",
    "        n = len(inputs)\n",
    "        inputs = np.asarray(inputs)[int(n * 0.8):]\n",
    "        \n",
    "        f_out = ROOT_PATH + 'train' + \"/\" + city + \"_outputs\"\n",
    "        outputs = pickle.load(open(f_out, \"rb\"))\n",
    "        outputs = np.asarray(outputs)[int(n * 0.8):]\n",
    "    \n",
    "    else:\n",
    "        f_in = ROOT_PATH + split + \"/\" + city + \"_inputs\"\n",
    "        inputs = pickle.load(open(f_in, \"rb\"))\n",
    "        n = len(inputs)\n",
    "        inputs = np.asarray(inputs)\n",
    "        \n",
    "    traj_min = np.min(inputs, axis = (1), keepdims = True)\n",
    "    traj_max = np.max(inputs, axis = (1), keepdims = True)\n",
    "    normal_inputs = (inputs - traj_min)/(traj_max - traj_min)\n",
    "    \n",
    "    normal_targets = None\n",
    "    if split==\"train\" or split == 'val':\n",
    "        normal_targets = (outputs - traj_min)/(traj_max - traj_min)\n",
    "    \n",
    "    return normal_inputs, normal_targets, traj_min, traj_max\n",
    "\n",
    "class ArgoverseDataset(Dataset):\n",
    "    \"\"\"Dataset class for Argoverse\"\"\"\n",
    "    def __init__(self, city: str, split:str, transform=None):\n",
    "        super(ArgoverseDataset, self).__init__()\n",
    "        self.transform = transform\n",
    "\n",
    "        self.inputs, self.outputs, self.traj_min, self.traj_max = get_city_trajectories(city=city, split=split, normalized=False)\n",
    "\n",
    "    def __len__(self):\n",
    "        return len(self.inputs)\n",
    "\n",
    "    def __getitem__(self, idx):\n",
    "\n",
    "        data = (self.inputs[idx], self.outputs[idx], self.traj_min[idx], self.traj_max[idx])\n",
    "            \n",
    "        if self.transform:\n",
    "            data = self.transform(data)\n",
    "\n",
    "        return data"
   ]
  },
  {
   "cell_type": "code",
   "execution_count": 90,
   "id": "e210c0bb",
   "metadata": {},
   "outputs": [],
   "source": [
    "# intialize a dataset\n",
    "def get_data_loader(city = 'austin', batch_size = 20):\n",
    "    train_dataset  = ArgoverseDataset(city = city, split = 'train')\n",
    "    val_dataset = ArgoverseDataset(city = city, split = 'val')\n",
    "\n",
    "    train_loader = DataLoader(train_dataset,batch_size=batch_size)\n",
    "    val_loader = DataLoader(val_dataset,batch_size=batch_size)\n",
    "    return train_dataset, val_dataset, train_loader, val_loader"
   ]
  },
  {
   "cell_type": "code",
   "execution_count": 91,
   "id": "99c570e8",
   "metadata": {},
   "outputs": [
    {
     "data": {
      "text/plain": [
       "8609"
      ]
     },
     "execution_count": 91,
     "metadata": {},
     "output_type": "execute_result"
    }
   ],
   "source": [
    "train_dataset, val_dataset, train_loader, val_loader = get_data_loader(city = 'austin', batch_size = 64)\n",
    "len(val_dataset)"
   ]
  },
  {
   "cell_type": "code",
   "execution_count": 92,
   "id": "15d96570",
   "metadata": {},
   "outputs": [
    {
     "data": {
      "text/plain": [
       "34432"
      ]
     },
     "execution_count": 92,
     "metadata": {},
     "output_type": "execute_result"
    }
   ],
   "source": [
    "len(train_dataset)"
   ]
  },
  {
   "cell_type": "code",
   "execution_count": 93,
   "id": "99279f04",
   "metadata": {},
   "outputs": [
    {
     "data": {
      "text/plain": [
       "device(type='cuda')"
      ]
     },
     "execution_count": 93,
     "metadata": {},
     "output_type": "execute_result"
    }
   ],
   "source": [
    "device = torch.device('cuda' if torch.cuda.is_available() else 'cpu')\n",
    "device"
   ]
  },
  {
   "cell_type": "markdown",
   "id": "57e32177",
   "metadata": {},
   "source": [
    "# Model"
   ]
  },
  {
   "cell_type": "code",
   "execution_count": 13,
   "id": "4ad285f5",
   "metadata": {},
   "outputs": [],
   "source": [
    "class MLP(nn.Module):\n",
    "    def __init__(self, input_dim, out_dim, hidden_dim):\n",
    "        super(MLP, self).__init__()\n",
    "        \n",
    "        self.model = nn.Sequential(\n",
    "            nn.Linear(input_dim, hidden_dim),\n",
    "            nn.LeakyReLU(), \n",
    "            nn.Linear(hidden_dim, hidden_dim),\n",
    "            nn.LeakyReLU(), \n",
    "            nn.Linear(hidden_dim, hidden_dim),\n",
    "            nn.LeakyReLU(), \n",
    "            nn.Linear(hidden_dim, hidden_dim),\n",
    "            nn.LeakyReLU(), \n",
    "            nn.Linear(hidden_dim, out_dim) #out_dim = 60*2\n",
    "        )\n",
    "        \n",
    "    def forward(self, x, output_steps=60): \n",
    "        x = x.reshape(x.shape[0], -1)\n",
    "        outputs = []\n",
    "        \n",
    "        for i in range(output_steps):\n",
    "            out = self.model(x)    \n",
    "            outputs.append(out)\n",
    "            x = torch.cat([x[:,2:],  out], dim = 1)\n",
    "            \n",
    "        outputs = torch.cat(outputs, dim = 1)\n",
    "        return outputs.reshape(outputs.shape[0], output_steps, 2)\n",
    "     # def forward(self, x, output_steps): \n",
    "     #    x = x.reshape(x.shape[0], -1)\n",
    "     #    outputs = self.model(x)\n",
    "     #    return outputs.reshape(outputs.shape[0], output_steps, 2)"
   ]
  },
  {
   "cell_type": "code",
   "execution_count": 79,
   "id": "ada3f9f6",
   "metadata": {},
   "outputs": [],
   "source": [
    "def train_epochs(model, train_dataset, train_loader, loss_func, opt, batch_size, epochs = 10):\n",
    "    train_losses = []\n",
    "    for epoch in range(epochs):\n",
    "\n",
    "        total_loss = 0\n",
    "        for i_batch, sample_batch in enumerate(train_loader):\n",
    "            inp, out, traj_min, traj_max = sample_batch\n",
    "            \n",
    "            inp = inp.float().cuda() \n",
    "            out = out.float()\n",
    "            out = (out*(traj_max - traj_min) + traj_min).cuda()\n",
    "                \n",
    "            # prediction\n",
    "            preds = model(inp).cpu()\n",
    "            preds = (preds*(traj_max - traj_min) + traj_min).cuda()\n",
    "            loss = loss_func(preds, out)\n",
    "\n",
    "            opt.zero_grad()\n",
    "            loss.backward()\n",
    "            opt.step()\n",
    "\n",
    "            total_loss += loss.item()\n",
    "\n",
    "        print('epoch {} trian loss: {}'.format(epoch, total_loss / len(train_dataset)))\n",
    "        train_losses.append(total_loss / (len(train_dataset)))\n",
    "    return train_losses"
   ]
  },
  {
   "cell_type": "code",
   "execution_count": 96,
   "id": "f549279b",
   "metadata": {},
   "outputs": [],
   "source": [
    "def val_loss(model, city, batch_size):\n",
    "    train_dataset, val_dataset, train_loader, val_loader = get_data_loader(city = city, batch_size = batch_size)\n",
    "    \n",
    "    # model, optimizer, loss\n",
    "    model = model\n",
    "    opt = optim.Adam(model.parameters(), lr=1e-3)\n",
    "    loss_func = nn.MSELoss()\n",
    "    \n",
    "    val_loss = 0\n",
    "    for i_batch, sample_batch in enumerate(val_loader):\n",
    "        inp, out, traj_min, traj_max = sample_batch\n",
    "            \n",
    "        inp = inp.float().cuda() \n",
    "        out = out.float()\n",
    "        out = (out*(traj_max - traj_min) + traj_min).cuda()\n",
    "                \n",
    "        # prediction\n",
    "        preds = model(inp).cpu()\n",
    "        preds = (preds*(traj_max - traj_min) + traj_min).cuda()\n",
    "        loss = loss_func(preds, out)\n",
    "\n",
    "        val_loss += loss.item()\n",
    "    print('val loss: {}'.format(val_loss / len(val_dataset)))"
   ]
  },
  {
   "cell_type": "code",
   "execution_count": 95,
   "id": "6eeb8f15",
   "metadata": {},
   "outputs": [
    {
     "name": "stdout",
     "output_type": "stream",
     "text": [
      "torch.Size([64, 1, 2])\n"
     ]
    }
   ],
   "source": [
    "for i_batch, sample_batch in enumerate(train_loader):\n",
    "    inp, out, traj_min, traj_max = sample_batch\n",
    "    print(traj_min.shape)\n",
    "    break"
   ]
  },
  {
   "cell_type": "code",
   "execution_count": 97,
   "id": "a9e1911b",
   "metadata": {},
   "outputs": [],
   "source": [
    "def train_city(city, batch_size, epochs, model):\n",
    "    # data loader\n",
    "    train_dataset, val_dataset, train_loader, val_loader = get_data_loader(city = city, batch_size = batch_size)\n",
    "    \n",
    "    # model, optimizer, loss\n",
    "    model_encdoc = model.to(device)\n",
    "    opt = optim.Adam(model_encdoc.parameters(), lr=1e-3)\n",
    "    loss_func = nn.MSELoss()\n",
    "    \n",
    "    # train\n",
    "    train_losses = train_epochs(model_encdoc, train_dataset, train_loader, loss_func, opt, batch_size, epochs = epochs)\n",
    "    \n",
    "    # evaluate\n",
    "    # val_loss(model_encdoc, val_loader, loss_func, opt)\n",
    "    return model_encdoc, train_losses"
   ]
  },
  {
   "cell_type": "markdown",
   "id": "0b177002",
   "metadata": {},
   "source": [
    "# Training"
   ]
  },
  {
   "cell_type": "code",
   "execution_count": 168,
   "id": "c6c9902d",
   "metadata": {},
   "outputs": [
    {
     "name": "stdout",
     "output_type": "stream",
     "text": [
      "epoch 0 trian loss: 2.861480635955217\n",
      "epoch 1 trian loss: 1.217171505435084\n",
      "epoch 2 trian loss: 1.0883317584783738\n",
      "epoch 3 trian loss: 1.2801191672813055\n",
      "epoch 4 trian loss: 1.059384309981937\n",
      "epoch 5 trian loss: 0.9668860247940806\n",
      "epoch 6 trian loss: 0.9272698403816791\n",
      "epoch 7 trian loss: 0.8801337147605923\n",
      "epoch 8 trian loss: 0.8178731526407421\n",
      "epoch 9 trian loss: 0.7854164473630593\n",
      "val loss: 0.6055323207782245\n"
     ]
    },
    {
     "data": {
      "text/plain": [
       "Text(0, 0.5, 'MSE')"
      ]
     },
     "execution_count": 168,
     "metadata": {},
     "output_type": "execute_result"
    },
    {
     "data": {
      "image/png": "[encoded data removed]",
      "text/plain": [
       "<Figure size 432x288 with 1 Axes>"
      ]
     },
     "metadata": {
      "needs_background": "light"
     },
     "output_type": "display_data"
    }
   ],
   "source": [
    "model = MLP(input_dim = 50 * 2, out_dim = 2, hidden_dim = 128).to(device)\n",
    "model_austin, train_losses = train_city('austin', batch_size = 64, epochs = 10, model = model)\n",
    "val_loss(model_austin, 'palo-alto', batch_size = 128)\n",
    "plt.plot(train_losses)\n",
    "plt.xlabel('Training Step')\n",
    "plt.ylabel('MSE')"
   ]
  },
  {
   "cell_type": "code",
   "execution_count": 169,
   "id": "e16dce92",
   "metadata": {},
   "outputs": [
    {
     "name": "stdout",
     "output_type": "stream",
     "text": [
      "epoch 0 trian loss: 2.0470557536972533\n",
      "epoch 1 trian loss: 1.0883665667318962\n",
      "epoch 2 trian loss: 0.9253622187563186\n",
      "epoch 3 trian loss: 0.8363222526129451\n",
      "epoch 4 trian loss: 0.7691966565061764\n",
      "epoch 5 trian loss: 0.7263603187079241\n",
      "epoch 6 trian loss: 0.7110083936048801\n",
      "epoch 7 trian loss: 0.7341257890311914\n",
      "epoch 8 trian loss: 0.6703467151714003\n",
      "epoch 9 trian loss: 0.6352218737235427\n",
      "val loss: 0.2811772050331042\n"
     ]
    },
    {
     "data": {
      "text/plain": [
       "Text(0, 0.5, 'MSE')"
      ]
     },
     "execution_count": 169,
     "metadata": {},
     "output_type": "execute_result"
    },
    {
     "data": {
      "image/png": "[encoded data removed]",
      "text/plain": [
       "<Figure size 432x288 with 1 Axes>"
      ]
     },
     "metadata": {
      "needs_background": "light"
     },
     "output_type": "display_data"
    }
   ],
   "source": [
    "# miami\n",
    "model = MLP(input_dim = 50 * 2, out_dim = 2, hidden_dim = 128).to(device)\n",
    "model_miami, train_losses = train_city('miami', batch_size = 64, epochs = 10, model = model)\n",
    "val_loss(model_miami, 'miami', batch_size = 128)\n",
    "plt.plot(train_losses)\n",
    "plt.xlabel('Training Step')\n",
    "plt.ylabel('MSE')"
   ]
  },
  {
   "cell_type": "code",
   "execution_count": 170,
   "id": "d581e725",
   "metadata": {},
   "outputs": [
    {
     "name": "stdout",
     "output_type": "stream",
     "text": [
      "epoch 0 trian loss: 2.1690129801514995\n",
      "epoch 1 trian loss: 0.9402477156798402\n",
      "epoch 2 trian loss: 0.8350628692839062\n",
      "epoch 3 trian loss: 0.799889273510274\n",
      "epoch 4 trian loss: 0.7355813686373609\n",
      "epoch 5 trian loss: 0.7410316633299726\n",
      "epoch 6 trian loss: 0.7915054155019638\n",
      "epoch 7 trian loss: 0.7270612660266002\n",
      "epoch 8 trian loss: 0.7186419346435897\n",
      "epoch 9 trian loss: 0.8702286804696618\n",
      "val loss: 0.536024764280295\n"
     ]
    },
    {
     "data": {
      "text/plain": [
       "Text(0, 0.5, 'MSE')"
      ]
     },
     "execution_count": 170,
     "metadata": {},
     "output_type": "execute_result"
    },
    {
     "data": {
      "image/png": "[encoded data removed]",
      "text/plain": [
       "<Figure size 432x288 with 1 Axes>"
      ]
     },
     "metadata": {
      "needs_background": "light"
     },
     "output_type": "display_data"
    }
   ],
   "source": [
    "# pittsburgh\n",
    "model = MLP(input_dim = 50 * 2, out_dim = 2, hidden_dim = 128).to(device)\n",
    "model_pittsburgh, train_losses = train_city('pittsburgh', batch_size = 64, epochs = 10, model = model)\n",
    "val_loss(model_pittsburgh, 'pittsburgh', batch_size = 128)\n",
    "plt.plot(train_losses)\n",
    "plt.xlabel('Training Step')\n",
    "plt.ylabel('MSE')"
   ]
  },
  {
   "cell_type": "code",
   "execution_count": 171,
   "id": "0cbf93ac",
   "metadata": {},
   "outputs": [
    {
     "name": "stdout",
     "output_type": "stream",
     "text": [
      "epoch 0 trian loss: 5.81522767674004\n",
      "epoch 1 trian loss: 1.7299841945847922\n",
      "epoch 2 trian loss: 1.6025978237077825\n",
      "epoch 3 trian loss: 1.5423355945774886\n",
      "epoch 4 trian loss: 1.4180174933101253\n",
      "epoch 5 trian loss: 1.3960420627321872\n",
      "epoch 6 trian loss: 1.2940065180813978\n",
      "epoch 7 trian loss: 1.2968182778429767\n",
      "epoch 8 trian loss: 2.0649808114803094\n",
      "epoch 9 trian loss: 1.328247612595172\n",
      "val loss: 0.8122014847198781\n"
     ]
    },
    {
     "data": {
      "text/plain": [
       "Text(0, 0.5, 'MSE')"
      ]
     },
     "execution_count": 171,
     "metadata": {},
     "output_type": "execute_result"
    },
    {
     "data": {
      "image/png": "[encoded data removed]",
      "text/plain": [
       "<Figure size 432x288 with 1 Axes>"
      ]
     },
     "metadata": {
      "needs_background": "light"
     },
     "output_type": "display_data"
    }
   ],
   "source": [
    "# dearborn\n",
    "model = MLP(input_dim = 50 * 2, out_dim = 2, hidden_dim = 128).to(device)\n",
    "model_dearborn, train_losses = train_city('dearborn', batch_size = 64, epochs = 10, model = model)\n",
    "val_loss(model_dearborn, 'dearborn', batch_size = 128)\n",
    "plt.plot(train_losses)\n",
    "plt.xlabel('Training Step')\n",
    "plt.ylabel('MSE')"
   ]
  },
  {
   "cell_type": "code",
   "execution_count": 172,
   "id": "752b9020",
   "metadata": {},
   "outputs": [
    {
     "name": "stdout",
     "output_type": "stream",
     "text": [
      "epoch 0 trian loss: 3.777295188877205\n",
      "epoch 1 trian loss: 1.1950847908103845\n",
      "epoch 2 trian loss: 1.0445449941595981\n",
      "epoch 3 trian loss: 0.9880757041942856\n",
      "epoch 4 trian loss: 0.9256237491851452\n",
      "epoch 5 trian loss: 1.1144526234000756\n",
      "epoch 6 trian loss: 0.9073921217057862\n",
      "epoch 7 trian loss: 1.0580835924441163\n",
      "epoch 8 trian loss: 0.833569513577739\n",
      "epoch 9 trian loss: 0.8213981314185745\n",
      "val loss: 0.3880238363987624\n"
     ]
    },
    {
     "data": {
      "text/plain": [
       "Text(0, 0.5, 'MSE')"
      ]
     },
     "execution_count": 172,
     "metadata": {},
     "output_type": "execute_result"
    },
    {
     "data": {
      "image/png": "[encoded data removed]",
      "text/plain": [
       "<Figure size 432x288 with 1 Axes>"
      ]
     },
     "metadata": {
      "needs_background": "light"
     },
     "output_type": "display_data"
    }
   ],
   "source": [
    "# washington_dc\n",
    "model = MLP(input_dim = 50 * 2, out_dim = 2, hidden_dim = 128).to(device)\n",
    "model_washington_dc, train_losses = train_city('washington-dc', batch_size = 64, epochs = 10, model = model)\n",
    "val_loss(model_washington_dc, 'washington-dc', batch_size = 128)\n",
    "plt.plot(train_losses)\n",
    "plt.xlabel('Training Step')\n",
    "plt.ylabel('MSE')"
   ]
  },
  {
   "cell_type": "code",
   "execution_count": 173,
   "id": "efecd9f8",
   "metadata": {},
   "outputs": [
    {
     "name": "stdout",
     "output_type": "stream",
     "text": [
      "epoch 0 trian loss: 8.771202246329805\n",
      "epoch 1 trian loss: 1.828631283255688\n",
      "epoch 2 trian loss: 1.661601063533481\n",
      "epoch 3 trian loss: 1.5865839748146697\n",
      "epoch 4 trian loss: 1.4473817887705576\n",
      "epoch 5 trian loss: 1.3333242607784102\n",
      "epoch 6 trian loss: 1.3047087102299093\n",
      "epoch 7 trian loss: 1.2391914750757769\n",
      "epoch 8 trian loss: 6.52669028750086\n",
      "epoch 9 trian loss: 2.019445602115295\n",
      "val loss: 0.8152432068590643\n"
     ]
    },
    {
     "data": {
      "text/plain": [
       "Text(0, 0.5, 'MSE')"
      ]
     },
     "execution_count": 173,
     "metadata": {},
     "output_type": "execute_result"
    },
    {
     "data": {
      "image/png": "[encoded data removed]",
      "text/plain": [
       "<Figure size 432x288 with 1 Axes>"
      ]
     },
     "metadata": {
      "needs_background": "light"
     },
     "output_type": "display_data"
    }
   ],
   "source": [
    "# palo_alto\n",
    "model = MLP(input_dim = 50 * 2, out_dim = 2, hidden_dim = 128).to(device)\n",
    "model_palo_alto, train_losses = train_city('palo-alto', batch_size = 64, epochs = 10, model = model)\n",
    "val_loss(model_palo_alto, 'palo-alto', batch_size = 128)\n",
    "plt.plot(train_losses)\n",
    "plt.xlabel('Training Step')\n",
    "plt.ylabel('MSE')"
   ]
  },
  {
   "cell_type": "markdown",
   "id": "5c36a632",
   "metadata": {},
   "source": [
    "# Predictions"
   ]
  },
  {
   "cell_type": "code",
   "execution_count": 174,
   "id": "d9bc50e1",
   "metadata": {},
   "outputs": [],
   "source": [
    "def predict_test(city, model):\n",
    "    inp, out, traj_min, traj_max = get_city_trajectories(city = city, split = 'test')\n",
    "    inp = torch.from_numpy(inp).float().cuda()\n",
    "    preds = model(inp).detach().cpu()\n",
    "    preds = (preds*(traj_max - traj_min) + traj_min)\n",
    "    preds = preds.reshape(-1, 120)\n",
    "    return pd.DataFrame(preds.numpy())"
   ]
  },
  {
   "cell_type": "code",
   "execution_count": 175,
   "id": "bb689292",
   "metadata": {},
   "outputs": [],
   "source": [
    "columns =['ID'] + ['v'+str(i) for i in range(120)]"
   ]
  },
  {
   "cell_type": "code",
   "execution_count": 176,
   "id": "8f6287d1",
   "metadata": {},
   "outputs": [],
   "source": [
    "def predict_all(cities, models):\n",
    "    out = predict_test(cities[0], models[0]).reset_index()\n",
    "    out.columns = columns\n",
    "    out['ID'] = out['ID'].astype(str) + '_' + cities[0]\n",
    "    \n",
    "    for city, model in zip(cities[1:], models[1:]):\n",
    "        temp = predict_test(city, model).reset_index()\n",
    "        temp.columns = columns\n",
    "        temp['ID'] = temp['ID'].astype(str) + '_' + city\n",
    "        out = pd.concat([out, temp])\n",
    "    \n",
    "    return out      "
   ]
  },
  {
   "cell_type": "code",
   "execution_count": 177,
   "id": "a38aaf45",
   "metadata": {},
   "outputs": [],
   "source": [
    "cities = [\"austin\", \"miami\", \"pittsburgh\", \"dearborn\", \"washington-dc\", \"palo-alto\"]\n",
    "models = [model_austin, model_miami, model_pittsburgh, model_dearborn, model_washington_dc, model_palo_alto]"
   ]
  },
  {
   "cell_type": "code",
   "execution_count": 178,
   "id": "e720f7e5",
   "metadata": {},
   "outputs": [],
   "source": [
    "test_output = predict_all(cities, models)"
   ]
  },
  {
   "cell_type": "code",
   "execution_count": 179,
   "id": "d1a21115",
   "metadata": {},
   "outputs": [
    {
     "data": {
      "text/html": [
       "<div>\n",
       "<style scoped>\n",
       "    .dataframe tbody tr th:only-of-type {\n",
       "        vertical-align: middle;\n",
       "    }\n",
       "\n",
       "    .dataframe tbody tr th {\n",
       "        vertical-align: top;\n",
       "    }\n",
       "\n",
       "    .dataframe thead th {\n",
       "        text-align: right;\n",
       "    }\n",
       "</style>\n",
       "<table border=\"1\" class=\"dataframe\">\n",
       "  <thead>\n",
       "    <tr style=\"text-align: right;\">\n",
       "      <th></th>\n",
       "      <th>ID</th>\n",
       "      <th>v0</th>\n",
       "      <th>v1</th>\n",
       "      <th>v2</th>\n",
       "      <th>v3</th>\n",
       "      <th>v4</th>\n",
       "      <th>v5</th>\n",
       "      <th>v6</th>\n",
       "      <th>v7</th>\n",
       "      <th>v8</th>\n",
       "      <th>...</th>\n",
       "      <th>v110</th>\n",
       "      <th>v111</th>\n",
       "      <th>v112</th>\n",
       "      <th>v113</th>\n",
       "      <th>v114</th>\n",
       "      <th>v115</th>\n",
       "      <th>v116</th>\n",
       "      <th>v117</th>\n",
       "      <th>v118</th>\n",
       "      <th>v119</th>\n",
       "    </tr>\n",
       "  </thead>\n",
       "  <tbody>\n",
       "    <tr>\n",
       "      <th>0</th>\n",
       "      <td>0_austin</td>\n",
       "      <td>-18.483174</td>\n",
       "      <td>-565.190501</td>\n",
       "      <td>-18.280520</td>\n",
       "      <td>-565.605836</td>\n",
       "      <td>-18.315863</td>\n",
       "      <td>-565.823740</td>\n",
       "      <td>-18.295244</td>\n",
       "      <td>-565.989605</td>\n",
       "      <td>-18.200595</td>\n",
       "      <td>...</td>\n",
       "      <td>-52.086716</td>\n",
       "      <td>-557.409780</td>\n",
       "      <td>-52.595441</td>\n",
       "      <td>-557.250715</td>\n",
       "      <td>-52.920118</td>\n",
       "      <td>-557.103020</td>\n",
       "      <td>-53.347528</td>\n",
       "      <td>-557.009327</td>\n",
       "      <td>-53.913032</td>\n",
       "      <td>-556.924410</td>\n",
       "    </tr>\n",
       "    <tr>\n",
       "      <th>1</th>\n",
       "      <td>1_austin</td>\n",
       "      <td>-350.297148</td>\n",
       "      <td>14.313851</td>\n",
       "      <td>-349.812283</td>\n",
       "      <td>9.440074</td>\n",
       "      <td>-349.636170</td>\n",
       "      <td>7.225254</td>\n",
       "      <td>-349.122350</td>\n",
       "      <td>3.430935</td>\n",
       "      <td>-348.876695</td>\n",
       "      <td>...</td>\n",
       "      <td>-326.148724</td>\n",
       "      <td>-5.033401</td>\n",
       "      <td>-326.049463</td>\n",
       "      <td>-5.010304</td>\n",
       "      <td>-325.530108</td>\n",
       "      <td>-5.386739</td>\n",
       "      <td>-325.075928</td>\n",
       "      <td>-5.338213</td>\n",
       "      <td>-324.762148</td>\n",
       "      <td>-6.230987</td>\n",
       "    </tr>\n",
       "    <tr>\n",
       "      <th>2</th>\n",
       "      <td>2_austin</td>\n",
       "      <td>50.968272</td>\n",
       "      <td>-247.673349</td>\n",
       "      <td>50.968521</td>\n",
       "      <td>-247.675134</td>\n",
       "      <td>50.968613</td>\n",
       "      <td>-247.676415</td>\n",
       "      <td>50.968876</td>\n",
       "      <td>-247.678033</td>\n",
       "      <td>50.968722</td>\n",
       "      <td>...</td>\n",
       "      <td>51.062965</td>\n",
       "      <td>-247.716614</td>\n",
       "      <td>51.073058</td>\n",
       "      <td>-247.717261</td>\n",
       "      <td>51.084101</td>\n",
       "      <td>-247.717991</td>\n",
       "      <td>51.096484</td>\n",
       "      <td>-247.718318</td>\n",
       "      <td>51.111375</td>\n",
       "      <td>-247.718331</td>\n",
       "    </tr>\n",
       "    <tr>\n",
       "      <th>3</th>\n",
       "      <td>3_austin</td>\n",
       "      <td>-113.308020</td>\n",
       "      <td>1798.896407</td>\n",
       "      <td>-113.325300</td>\n",
       "      <td>1798.669847</td>\n",
       "      <td>-113.318641</td>\n",
       "      <td>1798.628981</td>\n",
       "      <td>-113.317562</td>\n",
       "      <td>1798.614262</td>\n",
       "      <td>-113.296754</td>\n",
       "      <td>...</td>\n",
       "      <td>-112.454245</td>\n",
       "      <td>1808.251298</td>\n",
       "      <td>-112.456072</td>\n",
       "      <td>1808.399844</td>\n",
       "      <td>-112.435381</td>\n",
       "      <td>1808.603560</td>\n",
       "      <td>-112.415828</td>\n",
       "      <td>1808.856309</td>\n",
       "      <td>-112.407931</td>\n",
       "      <td>1809.017774</td>\n",
       "    </tr>\n",
       "    <tr>\n",
       "      <th>4</th>\n",
       "      <td>4_austin</td>\n",
       "      <td>1201.277812</td>\n",
       "      <td>-645.152581</td>\n",
       "      <td>1201.043429</td>\n",
       "      <td>-645.180924</td>\n",
       "      <td>1201.437704</td>\n",
       "      <td>-645.094582</td>\n",
       "      <td>1201.555666</td>\n",
       "      <td>-645.453874</td>\n",
       "      <td>1202.452272</td>\n",
       "      <td>...</td>\n",
       "      <td>1269.354479</td>\n",
       "      <td>-666.739885</td>\n",
       "      <td>1271.257700</td>\n",
       "      <td>-667.683206</td>\n",
       "      <td>1272.681785</td>\n",
       "      <td>-668.666478</td>\n",
       "      <td>1274.650305</td>\n",
       "      <td>-669.726294</td>\n",
       "      <td>1276.496042</td>\n",
       "      <td>-670.733152</td>\n",
       "    </tr>\n",
       "    <tr>\n",
       "      <th>...</th>\n",
       "      <td>...</td>\n",
       "      <td>...</td>\n",
       "      <td>...</td>\n",
       "      <td>...</td>\n",
       "      <td>...</td>\n",
       "      <td>...</td>\n",
       "      <td>...</td>\n",
       "      <td>...</td>\n",
       "      <td>...</td>\n",
       "      <td>...</td>\n",
       "      <td>...</td>\n",
       "      <td>...</td>\n",
       "      <td>...</td>\n",
       "      <td>...</td>\n",
       "      <td>...</td>\n",
       "      <td>...</td>\n",
       "      <td>...</td>\n",
       "      <td>...</td>\n",
       "      <td>...</td>\n",
       "      <td>...</td>\n",
       "      <td>...</td>\n",
       "    </tr>\n",
       "    <tr>\n",
       "      <th>1681</th>\n",
       "      <td>1681_palo-alto</td>\n",
       "      <td>-1389.259796</td>\n",
       "      <td>-487.104760</td>\n",
       "      <td>-1390.407849</td>\n",
       "      <td>-487.807955</td>\n",
       "      <td>-1391.051657</td>\n",
       "      <td>-488.849020</td>\n",
       "      <td>-1391.554947</td>\n",
       "      <td>-489.834306</td>\n",
       "      <td>-1392.118177</td>\n",
       "      <td>...</td>\n",
       "      <td>-1423.735170</td>\n",
       "      <td>-527.627720</td>\n",
       "      <td>-1424.511544</td>\n",
       "      <td>-528.863793</td>\n",
       "      <td>-1425.321396</td>\n",
       "      <td>-530.068223</td>\n",
       "      <td>-1426.120670</td>\n",
       "      <td>-531.244658</td>\n",
       "      <td>-1426.890190</td>\n",
       "      <td>-532.357409</td>\n",
       "    </tr>\n",
       "    <tr>\n",
       "      <th>1682</th>\n",
       "      <td>1682_palo-alto</td>\n",
       "      <td>125.340963</td>\n",
       "      <td>-17.943387</td>\n",
       "      <td>125.349983</td>\n",
       "      <td>-18.079028</td>\n",
       "      <td>125.260680</td>\n",
       "      <td>-17.960211</td>\n",
       "      <td>125.077652</td>\n",
       "      <td>-16.793256</td>\n",
       "      <td>125.026790</td>\n",
       "      <td>...</td>\n",
       "      <td>120.520832</td>\n",
       "      <td>10.822428</td>\n",
       "      <td>120.446742</td>\n",
       "      <td>11.375818</td>\n",
       "      <td>120.368213</td>\n",
       "      <td>11.989814</td>\n",
       "      <td>120.296325</td>\n",
       "      <td>12.556826</td>\n",
       "      <td>120.231870</td>\n",
       "      <td>13.055999</td>\n",
       "    </tr>\n",
       "    <tr>\n",
       "      <th>1683</th>\n",
       "      <td>1683_palo-alto</td>\n",
       "      <td>-1442.649665</td>\n",
       "      <td>2164.772200</td>\n",
       "      <td>-1441.342628</td>\n",
       "      <td>2163.765948</td>\n",
       "      <td>-1440.695924</td>\n",
       "      <td>2163.300471</td>\n",
       "      <td>-1440.507265</td>\n",
       "      <td>2163.394747</td>\n",
       "      <td>-1439.577717</td>\n",
       "      <td>...</td>\n",
       "      <td>-1433.737409</td>\n",
       "      <td>2158.946643</td>\n",
       "      <td>-1433.724380</td>\n",
       "      <td>2158.913944</td>\n",
       "      <td>-1433.552952</td>\n",
       "      <td>2158.869367</td>\n",
       "      <td>-1433.560072</td>\n",
       "      <td>2158.836366</td>\n",
       "      <td>-1433.402067</td>\n",
       "      <td>2158.775847</td>\n",
       "    </tr>\n",
       "    <tr>\n",
       "      <th>1684</th>\n",
       "      <td>1684_palo-alto</td>\n",
       "      <td>1070.654198</td>\n",
       "      <td>1397.186773</td>\n",
       "      <td>1071.309030</td>\n",
       "      <td>1397.755529</td>\n",
       "      <td>1071.890315</td>\n",
       "      <td>1398.267055</td>\n",
       "      <td>1072.463372</td>\n",
       "      <td>1398.805713</td>\n",
       "      <td>1073.103058</td>\n",
       "      <td>...</td>\n",
       "      <td>1099.221528</td>\n",
       "      <td>1422.977806</td>\n",
       "      <td>1099.676534</td>\n",
       "      <td>1423.393705</td>\n",
       "      <td>1100.152285</td>\n",
       "      <td>1423.824715</td>\n",
       "      <td>1100.617888</td>\n",
       "      <td>1424.248744</td>\n",
       "      <td>1101.103917</td>\n",
       "      <td>1424.685968</td>\n",
       "    </tr>\n",
       "    <tr>\n",
       "      <th>1685</th>\n",
       "      <td>1685_palo-alto</td>\n",
       "      <td>-25.932888</td>\n",
       "      <td>413.690171</td>\n",
       "      <td>-26.248704</td>\n",
       "      <td>413.684912</td>\n",
       "      <td>-25.674116</td>\n",
       "      <td>413.368755</td>\n",
       "      <td>-25.081152</td>\n",
       "      <td>412.896979</td>\n",
       "      <td>-24.971281</td>\n",
       "      <td>...</td>\n",
       "      <td>39.813522</td>\n",
       "      <td>378.138333</td>\n",
       "      <td>41.072624</td>\n",
       "      <td>377.492011</td>\n",
       "      <td>42.115565</td>\n",
       "      <td>376.850479</td>\n",
       "      <td>43.340977</td>\n",
       "      <td>376.216727</td>\n",
       "      <td>44.353166</td>\n",
       "      <td>375.621157</td>\n",
       "    </tr>\n",
       "  </tbody>\n",
       "</table>\n",
       "<p>29843 rows × 121 columns</p>\n",
       "</div>"
      ],
      "text/plain": [
       "                  ID           v0           v1           v2           v3  \\\n",
       "0           0_austin   -18.483174  -565.190501   -18.280520  -565.605836   \n",
       "1           1_austin  -350.297148    14.313851  -349.812283     9.440074   \n",
       "2           2_austin    50.968272  -247.673349    50.968521  -247.675134   \n",
       "3           3_austin  -113.308020  1798.896407  -113.325300  1798.669847   \n",
       "4           4_austin  1201.277812  -645.152581  1201.043429  -645.180924   \n",
       "...              ...          ...          ...          ...          ...   \n",
       "1681  1681_palo-alto -1389.259796  -487.104760 -1390.407849  -487.807955   \n",
       "1682  1682_palo-alto   125.340963   -17.943387   125.349983   -18.079028   \n",
       "1683  1683_palo-alto -1442.649665  2164.772200 -1441.342628  2163.765948   \n",
       "1684  1684_palo-alto  1070.654198  1397.186773  1071.309030  1397.755529   \n",
       "1685  1685_palo-alto   -25.932888   413.690171   -26.248704   413.684912   \n",
       "\n",
       "               v4           v5           v6           v7           v8  ...  \\\n",
       "0      -18.315863  -565.823740   -18.295244  -565.989605   -18.200595  ...   \n",
       "1     -349.636170     7.225254  -349.122350     3.430935  -348.876695  ...   \n",
       "2       50.968613  -247.676415    50.968876  -247.678033    50.968722  ...   \n",
       "3     -113.318641  1798.628981  -113.317562  1798.614262  -113.296754  ...   \n",
       "4     1201.437704  -645.094582  1201.555666  -645.453874  1202.452272  ...   \n",
       "...           ...          ...          ...          ...          ...  ...   \n",
       "1681 -1391.051657  -488.849020 -1391.554947  -489.834306 -1392.118177  ...   \n",
       "1682   125.260680   -17.960211   125.077652   -16.793256   125.026790  ...   \n",
       "1683 -1440.695924  2163.300471 -1440.507265  2163.394747 -1439.577717  ...   \n",
       "1684  1071.890315  1398.267055  1072.463372  1398.805713  1073.103058  ...   \n",
       "1685   -25.674116   413.368755   -25.081152   412.896979   -24.971281  ...   \n",
       "\n",
       "             v110         v111         v112         v113         v114  \\\n",
       "0      -52.086716  -557.409780   -52.595441  -557.250715   -52.920118   \n",
       "1     -326.148724    -5.033401  -326.049463    -5.010304  -325.530108   \n",
       "2       51.062965  -247.716614    51.073058  -247.717261    51.084101   \n",
       "3     -112.454245  1808.251298  -112.456072  1808.399844  -112.435381   \n",
       "4     1269.354479  -666.739885  1271.257700  -667.683206  1272.681785   \n",
       "...           ...          ...          ...          ...          ...   \n",
       "1681 -1423.735170  -527.627720 -1424.511544  -528.863793 -1425.321396   \n",
       "1682   120.520832    10.822428   120.446742    11.375818   120.368213   \n",
       "1683 -1433.737409  2158.946643 -1433.724380  2158.913944 -1433.552952   \n",
       "1684  1099.221528  1422.977806  1099.676534  1423.393705  1100.152285   \n",
       "1685    39.813522   378.138333    41.072624   377.492011    42.115565   \n",
       "\n",
       "             v115         v116         v117         v118         v119  \n",
       "0     -557.103020   -53.347528  -557.009327   -53.913032  -556.924410  \n",
       "1       -5.386739  -325.075928    -5.338213  -324.762148    -6.230987  \n",
       "2     -247.717991    51.096484  -247.718318    51.111375  -247.718331  \n",
       "3     1808.603560  -112.415828  1808.856309  -112.407931  1809.017774  \n",
       "4     -668.666478  1274.650305  -669.726294  1276.496042  -670.733152  \n",
       "...           ...          ...          ...          ...          ...  \n",
       "1681  -530.068223 -1426.120670  -531.244658 -1426.890190  -532.357409  \n",
       "1682    11.989814   120.296325    12.556826   120.231870    13.055999  \n",
       "1683  2158.869367 -1433.560072  2158.836366 -1433.402067  2158.775847  \n",
       "1684  1423.824715  1100.617888  1424.248744  1101.103917  1424.685968  \n",
       "1685   376.850479    43.340977   376.216727    44.353166   375.621157  \n",
       "\n",
       "[29843 rows x 121 columns]"
      ]
     },
     "execution_count": 179,
     "metadata": {},
     "output_type": "execute_result"
    }
   ],
   "source": [
    "test_output"
   ]
  },
  {
   "cell_type": "code",
   "execution_count": 182,
   "id": "785c441e",
   "metadata": {},
   "outputs": [],
   "source": [
    "test_output.to_csv('test_output.csv', index=False)"
   ]
  },
  {
   "cell_type": "markdown",
   "id": "970e3196",
   "metadata": {},
   "source": [
    "# Visualization"
   ]
  },
  {
   "cell_type": "code",
   "execution_count": 113,
   "id": "4b4e4e75",
   "metadata": {},
   "outputs": [],
   "source": [
    "# intialize a dataset\n",
    "def get_test_loader(city = 'palo-alto', batch_size = 1686):\n",
    "    test_dataset  = ArgoverseDataset(city = city, split = 'test')\n",
    "    val_dataset = None\n",
    "\n",
    "    test_loader = DataLoader(train_dataset,batch_size=batch_size)\n",
    "    val_loader = None\n",
    "    return test_dataset, val_dataset, test_loader, val_loader"
   ]
  },
  {
   "cell_type": "code",
   "execution_count": 152,
   "id": "1a9552e0",
   "metadata": {},
   "outputs": [
    {
     "name": "stdout",
     "output_type": "stream",
     "text": [
      "tensor([[-1280.5506,  1175.2170, -1279.8432,  ...,  1248.6432, -1229.5693,\n",
      "          1250.7270],\n",
      "        [ -935.9139,  1024.8155,  -937.4941,  ...,  1069.2373,  -994.5708,\n",
      "          1070.0721],\n",
      "        [ -419.8502,  1411.4379,  -421.3496,  ...,  1459.8170,  -474.7168,\n",
      "          1460.7670],\n",
      "        ...,\n",
      "        [ -708.8498,  2903.3897,  -708.8708,  ...,  2903.9451,  -709.4511,\n",
      "          2903.9571],\n",
      "        [-1459.6506,  1585.7798, -1461.9802,  ...,  1691.2205, -1544.0991,\n",
      "          1693.2135],\n",
      "        [-1507.1626,  -368.3078, -1505.9671,  ...,  -415.3984, -1448.5120,\n",
      "          -415.8406]], dtype=torch.float64)\n"
     ]
    }
   ],
   "source": [
    "test_dataset, val_dataset, test_loader, val_loader = get_test_loader(city = 'palo-alto', batch_size = 1686)\n",
    "for i_batch, sample_batch in enumerate(test_loader):\n",
    "    inp, out, traj_min, traj_max = sample_batch\n",
    "    inp = inp.float().cuda()\n",
    "    preds = model_palo_alto(inp).detach().cpu()\n",
    "    preds = (preds*(traj_max - traj_min) + traj_min).reshape(-1, 120)\n",
    "    print(preds)\n",
    "    break"
   ]
  },
  {
   "cell_type": "code",
   "execution_count": 156,
   "id": "35cc935c",
   "metadata": {},
   "outputs": [
    {
     "name": "stdout",
     "output_type": "stream",
     "text": [
      "tensor([[[-1280.5506,  1175.2170],\n",
      "         [-1279.8432,  1176.2554],\n",
      "         [-1279.1180,  1177.2061],\n",
      "         ...,\n",
      "         [-1232.2311,  1246.6378],\n",
      "         [-1230.9198,  1248.6432],\n",
      "         [-1229.5693,  1250.7270]],\n",
      "\n",
      "        [[ -935.9139,  1024.8155],\n",
      "         [ -937.4941,  1025.6074],\n",
      "         [ -939.5451,  1026.4471],\n",
      "         ...,\n",
      "         [ -993.1452,  1068.3906],\n",
      "         [ -993.8514,  1069.2373],\n",
      "         [ -994.5708,  1070.0721]],\n",
      "\n",
      "        [[ -419.8502,  1411.4379],\n",
      "         [ -421.3496,  1412.0213],\n",
      "         [ -422.9484,  1412.6715],\n",
      "         ...,\n",
      "         [ -473.3061,  1458.8540],\n",
      "         [ -474.0028,  1459.8170],\n",
      "         [ -474.7168,  1460.7670]],\n",
      "\n",
      "        ...,\n",
      "\n",
      "        [[-2909.9004,  -311.2428],\n",
      "         [-2911.6721,  -310.4449],\n",
      "         [-2913.8706,  -309.6805],\n",
      "         ...,\n",
      "         [-2970.7725,  -277.7753],\n",
      "         [-2971.5296,  -277.1419],\n",
      "         [-2972.2933,  -276.5172]],\n",
      "\n",
      "        [[  201.3107,   275.3993],\n",
      "         [  201.3498,   275.3398],\n",
      "         [  201.3877,   275.3155],\n",
      "         ...,\n",
      "         [  203.5592,   274.3200],\n",
      "         [  203.5984,   274.3090],\n",
      "         [  203.6351,   274.2968]],\n",
      "\n",
      "        [[-1465.1077,  2104.7971],\n",
      "         [-1464.0955,  2105.6234],\n",
      "         [-1462.9986,  2106.4586],\n",
      "         ...,\n",
      "         [-1392.3365,  2182.2082],\n",
      "         [-1390.3899,  2184.4915],\n",
      "         [-1388.3873,  2186.8199]]], dtype=torch.float64)\n",
      "torch.Size([10, 60, 2])\n"
     ]
    },
    {
     "data": {
      "image/png": "[encoded data removed]",
      "text/plain": [
       "<Figure size 1080x216 with 10 Axes>"
      ]
     },
     "metadata": {},
     "output_type": "display_data"
    },
    {
     "data": {
      "image/png": "[encoded data removed]",
      "text/plain": [
       "<Figure size 1080x216 with 10 Axes>"
      ]
     },
     "metadata": {},
     "output_type": "display_data"
    }
   ],
   "source": [
    "test_dataset, val_dataset, test_loader, val_loader = get_test_loader(city = 'palo-alto', batch_size = 1686)\n",
    "\n",
    "import matplotlib.pyplot as plt\n",
    "import random\n",
    "\n",
    "\n",
    "def show_sample_batch(sample_batch):\n",
    "    \"\"\"visualize the trajectory for a batch of samples\"\"\"\n",
    "    inp, out = sample_batch\n",
    "    batch_sz = inp.size(0)\n",
    "    agent_sz = inp.size(1)\n",
    "    \n",
    "    fig, axs = plt.subplots(1,batch_sz, figsize=(15, 3), facecolor='w', edgecolor='k')\n",
    "    fig.subplots_adjust(hspace = .5, wspace=.001)\n",
    "    axs = axs.ravel()   \n",
    "    for i in range(batch_sz):\n",
    "        axs[i].xaxis.set_ticks([])\n",
    "        axs[i].yaxis.set_ticks([])\n",
    "        \n",
    "        # first two feature dimensions are (x,y) positions\n",
    "        axs[i].scatter(inp[i,:,0], inp[i,:,1])\n",
    "        axs[i].scatter(out[i,:,0], out[i,:,1])\n",
    "\n",
    "        \n",
    "for i_batch, sample_batch in enumerate(test_loader):\n",
    "    inp, out, traj_min, traj_max = sample_batch\n",
    "    inp = inp.float().cuda()\n",
    "    preds = model_palo_alto(inp).detach().cpu()\n",
    "    inp = inp.cpu()\n",
    "    preds = (preds*(traj_max - traj_min) + traj_min)[:10,:,:]\n",
    "    print(preds)\n",
    "    #inp = inp.cpu()\n",
    "    inp = (inp*(traj_max - traj_min) + traj_min)[:10,:,:]\n",
    "    \n",
    "    #print(global_std[0])\n",
    "    #inverse_preds = pred*global_std[0] + global_mean[0]\n",
    "    #inp = inp.cpu()*global_std[0] + global_mean[0]\n",
    "    #out = out.cpu()*global_std[0] + global_mean[0]\n",
    "    \n",
    "    show_sample_batch([inp.cpu(), inp.cpu()])\n",
    "    show_sample_batch([inp.cpu(), preds.cpu()])\n",
    "    print(pred.shape)\n",
    "    break"
   ]
  },
  {
   "cell_type": "code",
   "execution_count": 181,
   "id": "d9476933",
   "metadata": {},
   "outputs": [
    {
     "name": "stdout",
     "output_type": "stream",
     "text": [
      "torch.Size([10, 60, 2])\n"
     ]
    },
    {
     "data": {
      "image/png": "[encoded data removed]",
      "text/plain": [
       "<Figure size 1080x216 with 10 Axes>"
      ]
     },
     "metadata": {},
     "output_type": "display_data"
    },
    {
     "data": {
      "image/png": "[encoded data removed]",
      "text/plain": [
       "<Figure size 1080x216 with 10 Axes>"
      ]
     },
     "metadata": {},
     "output_type": "display_data"
    }
   ],
   "source": [
    "train_dataset, val_dataset, train_loader, val_loader = get_data_loader(city = 'austin', batch_size = 10)\n",
    "\n",
    "import matplotlib.pyplot as plt\n",
    "import random\n",
    "\n",
    "\n",
    "def show_sample_batch(sample_batch):\n",
    "    \"\"\"visualize the trajectory for a batch of samples\"\"\"\n",
    "    inp, out = sample_batch\n",
    "    batch_sz = inp.size(0)\n",
    "    agent_sz = inp.size(1)\n",
    "    \n",
    "    fig, axs = plt.subplots(1,batch_sz, figsize=(15, 3), facecolor='w', edgecolor='k')\n",
    "    fig.subplots_adjust(hspace = .5, wspace=.001)\n",
    "    axs = axs.ravel()   \n",
    "    for i in range(batch_sz):\n",
    "        axs[i].xaxis.set_ticks([])\n",
    "        axs[i].yaxis.set_ticks([])\n",
    "        \n",
    "        # first two feature dimensions are (x,y) positions\n",
    "        axs[i].scatter(inp[i,:,0], inp[i,:,1])\n",
    "        axs[i].scatter(out[i,:,0], out[i,:,1])\n",
    "\n",
    "        \n",
    "for i_batch, sample_batch in enumerate(val_loader):\n",
    "    if i_batch < 3: continue\n",
    "    inp, out, global_mean, global_std = sample_batch\n",
    "    inp = inp.float().cuda()\n",
    "    out = out.float().cuda()\n",
    "    \n",
    "    pred = model_austin(inp).detach()\n",
    "    #print(global_std[0])\n",
    "    #inverse_preds = pred*global_std[0] + global_mean[0]\n",
    "    #inp = inp.cpu()*global_std[0] + global_mean[0]\n",
    "    #out = out.cpu()*global_std[0] + global_mean[0]\n",
    "    \n",
    "    show_sample_batch([inp.cpu(), out.cpu()])\n",
    "    show_sample_batch([inp.cpu(), pred.cpu()])\n",
    "    print(pred.shape)\n",
    "    break"
   ]
  },
  {
   "cell_type": "code",
   "execution_count": null,
   "id": "189ae84c",
   "metadata": {},
   "outputs": [],
   "source": []
  }
 ],
 "metadata": {
  "kernelspec": {
   "display_name": "Python 3 (clean)",
   "language": "python",
   "name": "python3_clean"
  },
  "language_info": {
   "codemirror_mode": {
    "name": "ipython",
    "version": 3
   },
   "file_extension": ".py",
   "mimetype": "text/x-python",
   "name": "python",
   "nbconvert_exporter": "python",
   "pygments_lexer": "ipython3",
   "version": "3.9.5"
  }
 },
 "nbformat": 4,
 "nbformat_minor": 5
}
